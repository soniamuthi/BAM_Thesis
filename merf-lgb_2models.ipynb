{
 "cells": [
  {
   "cell_type": "code",
   "execution_count": 1,
   "metadata": {},
   "outputs": [],
   "source": [
    "import pandas as pd\n",
    "from sklearn.model_selection import train_test_split\n",
    "\n",
    "from sklearn.model_selection import GridSearchCV\n",
    "from sklearn.utils import resample\n",
    "from sklearn.compose import ColumnTransformer\n",
    "from sklearn.decomposition import PCA\n",
    "import seaborn as sns\n",
    "import numpy as np\n",
    "import pickle\n",
    "from sklearn.ensemble import RandomForestRegressor\n",
    "\n",
    "from sklearn.linear_model import LinearRegression\n",
    "\n",
    "import matplotlib.pyplot as plt\n",
    "from imblearn.over_sampling import SMOTE\n",
    "from imblearn.pipeline import Pipeline\n",
    "from sklearn.preprocessing import StandardScaler\n",
    "from sklearn.linear_model import LogisticRegression\n",
    "from sklearn.ensemble import RandomForestClassifier\n",
    "from sklearn.decomposition import FactorAnalysis\n",
    "from factor_analyzer import FactorAnalyzer\n",
    "\n",
    "from sklearn.ensemble import GradientBoostingClassifier\n",
    "from sklearn.metrics import roc_auc_score\n",
    "\n",
    "%matplotlib inline\n",
    "\n",
    "from sklearn.preprocessing import OneHotEncoder\n",
    "import lightgbm as lgb\n",
    "from lightgbm import LGBMClassifier \n",
    "\n",
    "from sklearn.utils import class_weight\n",
    "from imblearn.over_sampling import SMOTE\n",
    "from imblearn.under_sampling import RandomUnderSampler\n",
    "from sklearn.decomposition import TruncatedSVD\n",
    "\n",
    "import plotly.express as px\n",
    "import plotly.graph_objs as go\n",
    "import statsmodels.formula.api as smf\n",
    "from plotly.graph_objects import Layout"
   ]
  },
  {
   "attachments": {},
   "cell_type": "markdown",
   "metadata": {},
   "source": [
    "Import the dataset and do the required pre-processing"
   ]
  },
  {
   "cell_type": "code",
   "execution_count": 2,
   "metadata": {},
   "outputs": [],
   "source": [
    "df = pd.read_csv(\"mergedData.csv\")"
   ]
  },
  {
   "cell_type": "code",
   "execution_count": 3,
   "metadata": {},
   "outputs": [],
   "source": [
    "df = df.drop(\"Unnamed: 0\", axis = 1)"
   ]
  },
  {
   "cell_type": "code",
   "execution_count": 5,
   "metadata": {},
   "outputs": [],
   "source": [
    "df = df.drop([\"DriverNumber\", \"Driver\", \"Points\"], axis = 1)\n",
    "# df = df.drop([\"DriverNumber\", \"Driver\", \"Position\"], axis = 1)\n",
    "aux = df"
   ]
  },
  {
   "cell_type": "code",
   "execution_count": 6,
   "metadata": {},
   "outputs": [],
   "source": [
    "# create new columns based on Status values\n",
    "df['carIssue'] = (df['Status'] == 'carIssue').astype(int)\n",
    "df['driverIssue'] = (df['Status'] == 'driverIssue').astype(int)\n",
    "df = df.drop('Status', axis=1)"
   ]
  },
  {
   "cell_type": "code",
   "execution_count": 8,
   "metadata": {},
   "outputs": [],
   "source": [
    "df = df.drop([\"AverageRPM\"], axis = 1)\n",
    "df = df.drop([\"AvgLapTime\"], axis = 1)\n",
    "df = df.drop([\"AvgSplitTime\"], axis = 1)"
   ]
  },
  {
   "cell_type": "code",
   "execution_count": 9,
   "metadata": {},
   "outputs": [],
   "source": [
    "df[\"RaceCountry\"] = df[\"RaceCountry\"].str.replace(\" \", \"\")\n",
    "df[\"TeamName\"] = df[\"TeamName\"].str.replace(\" \", \"\")\n",
    "df[\"Engine\"] = df[\"Engine\"].str.replace(\" \", \"\")"
   ]
  },
  {
   "cell_type": "code",
   "execution_count": 10,
   "metadata": {},
   "outputs": [],
   "source": [
    "#df.to_csv(r'df_points.csv', index=True, header=True)\n",
    "#df.to_csv(r'df_position.csv', index=True, header=True)\n",
    "#df.to_csv(r'plotdata_points.csv', index=True, header=True)\n",
    "#df.to_csv(r'plotdata_position.csv', index=True, header=True)"
   ]
  },
  {
   "cell_type": "code",
   "execution_count": 11,
   "metadata": {},
   "outputs": [],
   "source": [
    "# get a list of all categorical variables except \"Abbreviation\" and \"raceCountry\"\n",
    "cat_vars = df.select_dtypes(include=['object']).columns.tolist()\n",
    "cat_vars.remove(\"Abbreviation\")\n",
    "cat_vars.remove(\"RaceCountry\")\n",
    "\n",
    "# create dummy variables\n",
    "dummies = pd.get_dummies(df[cat_vars], drop_first=True)\n",
    "\n",
    "# drop the original categorical variables from the DataFrame\n",
    "df = df.drop(cat_vars, axis=1)\n",
    "\n",
    "# concatenate the dummy variables with the remaining variables in the DataFrame\n",
    "df = pd.concat([df, dummies], axis=1)\n"
   ]
  },
  {
   "attachments": {},
   "cell_type": "markdown",
   "metadata": {},
   "source": [
    "## MERF"
   ]
  },
  {
   "cell_type": "code",
   "execution_count": 19,
   "metadata": {},
   "outputs": [],
   "source": [
    "from merf import MERF"
   ]
  },
  {
   "cell_type": "code",
   "execution_count": 21,
   "metadata": {},
   "outputs": [],
   "source": [
    "# Split the data into two datasets based on the Year column\n",
    "df_before = df[df['Year'].isin([2019, 2020])]\n",
    "df_after = df[df['Year'].isin([2021, 2022])]"
   ]
  },
  {
   "attachments": {},
   "cell_type": "markdown",
   "metadata": {},
   "source": [
    "## Before model"
   ]
  },
  {
   "attachments": {},
   "cell_type": "markdown",
   "metadata": {},
   "source": [
    "## Train"
   ]
  },
  {
   "cell_type": "code",
   "execution_count": 23,
   "metadata": {},
   "outputs": [],
   "source": [
    "# Split the data into train and test sets based on the raceID column\n",
    "train_df = df_before[(df_before['raceID'] >= 1) & (df_before['raceID'] <= 29)]\n",
    "test_df = df_before[(df_before['raceID'] >= 30) & (df_before['raceID'] <= 37)]"
   ]
  },
  {
   "cell_type": "code",
   "execution_count": 24,
   "metadata": {},
   "outputs": [],
   "source": [
    "X_train = train_df.drop('Position', axis=1)\n",
    "Y_train = train_df['Position']\n",
    "X_test = test_df.drop('Position', axis=1)\n",
    "Y_test = test_df['Position']"
   ]
  },
  {
   "cell_type": "code",
   "execution_count": 25,
   "metadata": {},
   "outputs": [],
   "source": [
    "X_train = X_train.drop('RaceCountry', axis=1)\n",
    "X_train = X_train.drop('Year', axis=1)\n",
    "X_test = X_test.drop('RaceCountry', axis=1)\n",
    "X_test = X_test.drop('Year', axis=1)"
   ]
  },
  {
   "cell_type": "code",
   "execution_count": 26,
   "metadata": {},
   "outputs": [],
   "source": [
    "x_train = X_train.drop(['Abbreviation', 'raceID'], axis = 1)\n",
    "Z_train = X_train[['raceID']]\n",
    "clusters_train = X_train['raceID']"
   ]
  },
  {
   "cell_type": "code",
   "execution_count": 27,
   "metadata": {},
   "outputs": [],
   "source": [
    "from lightgbm import LGBMRegressor\n",
    "lgbm = LGBMRegressor(max_depth = 10, learning_rate = 0.05, n_estimators = 1000)"
   ]
  },
  {
   "cell_type": "code",
   "execution_count": 28,
   "metadata": {},
   "outputs": [
    {
     "name": "stderr",
     "output_type": "stream",
     "text": [
      "INFO     [merf.py:307] Training GLL is -1814.2977514988797 at iteration 1.\n",
      "INFO     [merf.py:307] Training GLL is -3111.3117441397603 at iteration 2.\n",
      "INFO     [merf.py:307] Training GLL is -3262.0117527020284 at iteration 3.\n",
      "INFO     [merf.py:307] Training GLL is -3370.730770892507 at iteration 4.\n",
      "INFO     [merf.py:307] Training GLL is -3300.4949597791015 at iteration 5.\n",
      "INFO     [merf.py:307] Training GLL is -3264.4628998285457 at iteration 6.\n",
      "INFO     [merf.py:307] Training GLL is -3361.562173619673 at iteration 7.\n",
      "INFO     [merf.py:307] Training GLL is -3376.0196199996117 at iteration 8.\n",
      "INFO     [merf.py:307] Training GLL is -3377.2413756351207 at iteration 9.\n",
      "INFO     [merf.py:307] Training GLL is -3259.731444384213 at iteration 10.\n",
      "INFO     [merf.py:307] Training GLL is -3333.4668419882823 at iteration 11.\n",
      "INFO     [merf.py:307] Training GLL is -3391.2086924245114 at iteration 12.\n",
      "INFO     [merf.py:307] Training GLL is -3410.028867853237 at iteration 13.\n",
      "INFO     [merf.py:307] Training GLL is -3291.836947024637 at iteration 14.\n",
      "INFO     [merf.py:307] Training GLL is -3315.8959177886222 at iteration 15.\n",
      "INFO     [merf.py:307] Training GLL is -3349.273702437573 at iteration 16.\n",
      "INFO     [merf.py:307] Training GLL is -3363.1960781584808 at iteration 17.\n",
      "INFO     [merf.py:307] Training GLL is -3329.8259474697993 at iteration 18.\n",
      "INFO     [merf.py:307] Training GLL is -3421.137640647209 at iteration 19.\n",
      "INFO     [merf.py:307] Training GLL is -3412.509396833383 at iteration 20.\n",
      "INFO     [merf.py:307] Training GLL is -3377.904387954251 at iteration 21.\n",
      "INFO     [merf.py:307] Training GLL is -3330.0712385006454 at iteration 22.\n",
      "INFO     [merf.py:307] Training GLL is -3344.478656165213 at iteration 23.\n",
      "INFO     [merf.py:307] Training GLL is -3372.5457299764057 at iteration 24.\n",
      "INFO     [merf.py:307] Training GLL is -3446.4881922172076 at iteration 25.\n",
      "INFO     [merf.py:307] Training GLL is -3458.8931519531916 at iteration 26.\n",
      "INFO     [merf.py:307] Training GLL is -3425.1908013413663 at iteration 27.\n",
      "INFO     [merf.py:307] Training GLL is -3334.41308919086 at iteration 28.\n",
      "INFO     [merf.py:307] Training GLL is -3439.1215688161838 at iteration 29.\n",
      "INFO     [merf.py:307] Training GLL is -3508.5165628759487 at iteration 30.\n"
     ]
    },
    {
     "data": {
      "text/plain": [
       "<merf.merf.MERF at 0x7fd1d1055a60>"
      ]
     },
     "execution_count": 28,
     "metadata": {},
     "output_type": "execute_result"
    }
   ],
   "source": [
    "mrf = MERF(lgbm, max_iterations=30)\n",
    "#mrf = MERF(fixed_effects_model = LinearRegression(), max_iterations=30)\n",
    "mrf.fit(x_train, Z_train, clusters_train, Y_train)\n"
   ]
  },
  {
   "cell_type": "code",
   "execution_count": 29,
   "metadata": {},
   "outputs": [],
   "source": [
    "train_preds = mrf.predict(x_train, Z_train, clusters_train)"
   ]
  },
  {
   "cell_type": "code",
   "execution_count": 30,
   "metadata": {},
   "outputs": [
    {
     "name": "stdout",
     "output_type": "stream",
     "text": [
      "Test MSE: 0.0017845513954319317\n",
      "Test RMSE: 0.04224395099220635\n",
      "Test MAE: 0.02954712143906553\n",
      "Test R-squared: 0.9999452055224932\n"
     ]
    }
   ],
   "source": [
    "from sklearn.metrics import mean_squared_error, mean_absolute_error, r2_score\n",
    "\n",
    "mse = mean_squared_error(Y_train, train_preds)\n",
    "rmse = np.sqrt(mse)\n",
    "mae = mean_absolute_error(Y_train, train_preds)\n",
    "r2 = r2_score(Y_train, train_preds)\n",
    "\n",
    "# Print the performance metrics\n",
    "print(\"Test MSE:\", mse)\n",
    "print(\"Test RMSE:\", rmse)\n",
    "print(\"Test MAE:\", mae)\n",
    "print(\"Test R-squared:\", r2)\n"
   ]
  },
  {
   "attachments": {},
   "cell_type": "markdown",
   "metadata": {},
   "source": [
    "## Test"
   ]
  },
  {
   "cell_type": "code",
   "execution_count": 31,
   "metadata": {},
   "outputs": [],
   "source": [
    "x_test = X_test.drop(['Abbreviation', 'raceID'], axis = 1)\n",
    "Z_test = X_test[['raceID']]\n",
    "clusters_test = X_test['raceID']"
   ]
  },
  {
   "cell_type": "code",
   "execution_count": 32,
   "metadata": {},
   "outputs": [
    {
     "data": {
      "text/html": [
       "<div>\n",
       "<style scoped>\n",
       "    .dataframe tbody tr th:only-of-type {\n",
       "        vertical-align: middle;\n",
       "    }\n",
       "\n",
       "    .dataframe tbody tr th {\n",
       "        vertical-align: top;\n",
       "    }\n",
       "\n",
       "    .dataframe thead th {\n",
       "        text-align: right;\n",
       "    }\n",
       "</style>\n",
       "<table border=\"1\" class=\"dataframe\">\n",
       "  <thead>\n",
       "    <tr style=\"text-align: right;\">\n",
       "      <th></th>\n",
       "      <th>GridPosition</th>\n",
       "      <th>AgeAtGP</th>\n",
       "      <th>BestQualiTime</th>\n",
       "      <th>FLap</th>\n",
       "      <th>SDLapTime</th>\n",
       "      <th>AvgPitTime</th>\n",
       "      <th>PitstopNo</th>\n",
       "      <th>HARD</th>\n",
       "      <th>INTERMEDIATE</th>\n",
       "      <th>MEDIUM</th>\n",
       "      <th>...</th>\n",
       "      <th>TeamName_RacingPoint</th>\n",
       "      <th>TeamName_RedBullRacing</th>\n",
       "      <th>TeamName_Renault</th>\n",
       "      <th>TeamName_ToroRosso</th>\n",
       "      <th>TeamName_Williams</th>\n",
       "      <th>Engine_Honda</th>\n",
       "      <th>Engine_Mercedes</th>\n",
       "      <th>Engine_RedBull</th>\n",
       "      <th>Engine_Renault</th>\n",
       "      <th>CircuitType_street</th>\n",
       "    </tr>\n",
       "  </thead>\n",
       "  <tbody>\n",
       "    <tr>\n",
       "      <th>568</th>\n",
       "      <td>9.0</td>\n",
       "      <td>24.0</td>\n",
       "      <td>93.000</td>\n",
       "      <td>0.0</td>\n",
       "      <td>4.414441</td>\n",
       "      <td>29.5895</td>\n",
       "      <td>2.0</td>\n",
       "      <td>24.0</td>\n",
       "      <td>0.0</td>\n",
       "      <td>11.0</td>\n",
       "      <td>...</td>\n",
       "      <td>0</td>\n",
       "      <td>0</td>\n",
       "      <td>0</td>\n",
       "      <td>0</td>\n",
       "      <td>0</td>\n",
       "      <td>0</td>\n",
       "      <td>0</td>\n",
       "      <td>0</td>\n",
       "      <td>0</td>\n",
       "      <td>1</td>\n",
       "    </tr>\n",
       "    <tr>\n",
       "      <th>569</th>\n",
       "      <td>4.0</td>\n",
       "      <td>30.0</td>\n",
       "      <td>92.317</td>\n",
       "      <td>0.0</td>\n",
       "      <td>3.598099</td>\n",
       "      <td>29.6020</td>\n",
       "      <td>1.0</td>\n",
       "      <td>33.0</td>\n",
       "      <td>0.0</td>\n",
       "      <td>0.0</td>\n",
       "      <td>...</td>\n",
       "      <td>1</td>\n",
       "      <td>0</td>\n",
       "      <td>0</td>\n",
       "      <td>0</td>\n",
       "      <td>0</td>\n",
       "      <td>0</td>\n",
       "      <td>1</td>\n",
       "      <td>0</td>\n",
       "      <td>0</td>\n",
       "      <td>1</td>\n",
       "    </tr>\n",
       "    <tr>\n",
       "      <th>570</th>\n",
       "      <td>10.0</td>\n",
       "      <td>22.0</td>\n",
       "      <td>93.239</td>\n",
       "      <td>0.0</td>\n",
       "      <td>3.308658</td>\n",
       "      <td>30.2610</td>\n",
       "      <td>1.0</td>\n",
       "      <td>25.0</td>\n",
       "      <td>0.0</td>\n",
       "      <td>28.0</td>\n",
       "      <td>...</td>\n",
       "      <td>0</td>\n",
       "      <td>0</td>\n",
       "      <td>0</td>\n",
       "      <td>0</td>\n",
       "      <td>0</td>\n",
       "      <td>0</td>\n",
       "      <td>0</td>\n",
       "      <td>0</td>\n",
       "      <td>0</td>\n",
       "      <td>1</td>\n",
       "    </tr>\n",
       "    <tr>\n",
       "      <th>571</th>\n",
       "      <td>18.0</td>\n",
       "      <td>28.0</td>\n",
       "      <td>94.681</td>\n",
       "      <td>0.0</td>\n",
       "      <td>3.643243</td>\n",
       "      <td>30.1880</td>\n",
       "      <td>1.0</td>\n",
       "      <td>33.0</td>\n",
       "      <td>0.0</td>\n",
       "      <td>19.0</td>\n",
       "      <td>...</td>\n",
       "      <td>0</td>\n",
       "      <td>0</td>\n",
       "      <td>0</td>\n",
       "      <td>0</td>\n",
       "      <td>0</td>\n",
       "      <td>0</td>\n",
       "      <td>0</td>\n",
       "      <td>0</td>\n",
       "      <td>0</td>\n",
       "      <td>1</td>\n",
       "    </tr>\n",
       "    <tr>\n",
       "      <th>572</th>\n",
       "      <td>15.0</td>\n",
       "      <td>24.0</td>\n",
       "      <td>93.008</td>\n",
       "      <td>0.0</td>\n",
       "      <td>3.737778</td>\n",
       "      <td>30.1610</td>\n",
       "      <td>2.0</td>\n",
       "      <td>26.0</td>\n",
       "      <td>0.0</td>\n",
       "      <td>26.0</td>\n",
       "      <td>...</td>\n",
       "      <td>0</td>\n",
       "      <td>1</td>\n",
       "      <td>0</td>\n",
       "      <td>0</td>\n",
       "      <td>0</td>\n",
       "      <td>1</td>\n",
       "      <td>0</td>\n",
       "      <td>0</td>\n",
       "      <td>0</td>\n",
       "      <td>1</td>\n",
       "    </tr>\n",
       "    <tr>\n",
       "      <th>...</th>\n",
       "      <td>...</td>\n",
       "      <td>...</td>\n",
       "      <td>...</td>\n",
       "      <td>...</td>\n",
       "      <td>...</td>\n",
       "      <td>...</td>\n",
       "      <td>...</td>\n",
       "      <td>...</td>\n",
       "      <td>...</td>\n",
       "      <td>...</td>\n",
       "      <td>...</td>\n",
       "      <td>...</td>\n",
       "      <td>...</td>\n",
       "      <td>...</td>\n",
       "      <td>...</td>\n",
       "      <td>...</td>\n",
       "      <td>...</td>\n",
       "      <td>...</td>\n",
       "      <td>...</td>\n",
       "      <td>...</td>\n",
       "      <td>...</td>\n",
       "    </tr>\n",
       "    <tr>\n",
       "      <th>717</th>\n",
       "      <td>18.0</td>\n",
       "      <td>25.0</td>\n",
       "      <td>98.443</td>\n",
       "      <td>0.0</td>\n",
       "      <td>7.947119</td>\n",
       "      <td>21.8705</td>\n",
       "      <td>2.0</td>\n",
       "      <td>24.0</td>\n",
       "      <td>0.0</td>\n",
       "      <td>30.0</td>\n",
       "      <td>...</td>\n",
       "      <td>0</td>\n",
       "      <td>0</td>\n",
       "      <td>0</td>\n",
       "      <td>0</td>\n",
       "      <td>1</td>\n",
       "      <td>0</td>\n",
       "      <td>1</td>\n",
       "      <td>0</td>\n",
       "      <td>0</td>\n",
       "      <td>0</td>\n",
       "    </tr>\n",
       "    <tr>\n",
       "      <th>718</th>\n",
       "      <td>16.0</td>\n",
       "      <td>21.0</td>\n",
       "      <td>98.045</td>\n",
       "      <td>0.0</td>\n",
       "      <td>8.040811</td>\n",
       "      <td>22.0850</td>\n",
       "      <td>1.0</td>\n",
       "      <td>44.0</td>\n",
       "      <td>0.0</td>\n",
       "      <td>10.0</td>\n",
       "      <td>...</td>\n",
       "      <td>0</td>\n",
       "      <td>0</td>\n",
       "      <td>0</td>\n",
       "      <td>0</td>\n",
       "      <td>1</td>\n",
       "      <td>0</td>\n",
       "      <td>1</td>\n",
       "      <td>0</td>\n",
       "      <td>0</td>\n",
       "      <td>0</td>\n",
       "    </tr>\n",
       "    <tr>\n",
       "      <th>719</th>\n",
       "      <td>15.0</td>\n",
       "      <td>41.0</td>\n",
       "      <td>97.555</td>\n",
       "      <td>0.0</td>\n",
       "      <td>8.160983</td>\n",
       "      <td>22.0120</td>\n",
       "      <td>1.0</td>\n",
       "      <td>44.0</td>\n",
       "      <td>0.0</td>\n",
       "      <td>10.0</td>\n",
       "      <td>...</td>\n",
       "      <td>0</td>\n",
       "      <td>0</td>\n",
       "      <td>0</td>\n",
       "      <td>0</td>\n",
       "      <td>0</td>\n",
       "      <td>0</td>\n",
       "      <td>0</td>\n",
       "      <td>0</td>\n",
       "      <td>0</td>\n",
       "      <td>0</td>\n",
       "    </tr>\n",
       "    <tr>\n",
       "      <th>720</th>\n",
       "      <td>2.0</td>\n",
       "      <td>31.0</td>\n",
       "      <td>95.271</td>\n",
       "      <td>0.0</td>\n",
       "      <td>3.679513</td>\n",
       "      <td>21.5870</td>\n",
       "      <td>1.0</td>\n",
       "      <td>45.0</td>\n",
       "      <td>0.0</td>\n",
       "      <td>10.0</td>\n",
       "      <td>...</td>\n",
       "      <td>0</td>\n",
       "      <td>0</td>\n",
       "      <td>0</td>\n",
       "      <td>0</td>\n",
       "      <td>0</td>\n",
       "      <td>0</td>\n",
       "      <td>1</td>\n",
       "      <td>0</td>\n",
       "      <td>0</td>\n",
       "      <td>0</td>\n",
       "    </tr>\n",
       "    <tr>\n",
       "      <th>721</th>\n",
       "      <td>14.0</td>\n",
       "      <td>26.0</td>\n",
       "      <td>97.066</td>\n",
       "      <td>0.0</td>\n",
       "      <td>10.390898</td>\n",
       "      <td>21.4800</td>\n",
       "      <td>1.0</td>\n",
       "      <td>27.0</td>\n",
       "      <td>0.0</td>\n",
       "      <td>27.0</td>\n",
       "      <td>...</td>\n",
       "      <td>0</td>\n",
       "      <td>0</td>\n",
       "      <td>0</td>\n",
       "      <td>0</td>\n",
       "      <td>0</td>\n",
       "      <td>0</td>\n",
       "      <td>0</td>\n",
       "      <td>0</td>\n",
       "      <td>0</td>\n",
       "      <td>0</td>\n",
       "    </tr>\n",
       "  </tbody>\n",
       "</table>\n",
       "<p>154 rows × 39 columns</p>\n",
       "</div>"
      ],
      "text/plain": [
       "     GridPosition  AgeAtGP  BestQualiTime  FLap  SDLapTime  AvgPitTime  \\\n",
       "568           9.0     24.0         93.000   0.0   4.414441     29.5895   \n",
       "569           4.0     30.0         92.317   0.0   3.598099     29.6020   \n",
       "570          10.0     22.0         93.239   0.0   3.308658     30.2610   \n",
       "571          18.0     28.0         94.681   0.0   3.643243     30.1880   \n",
       "572          15.0     24.0         93.008   0.0   3.737778     30.1610   \n",
       "..            ...      ...            ...   ...        ...         ...   \n",
       "717          18.0     25.0         98.443   0.0   7.947119     21.8705   \n",
       "718          16.0     21.0         98.045   0.0   8.040811     22.0850   \n",
       "719          15.0     41.0         97.555   0.0   8.160983     22.0120   \n",
       "720           2.0     31.0         95.271   0.0   3.679513     21.5870   \n",
       "721          14.0     26.0         97.066   0.0  10.390898     21.4800   \n",
       "\n",
       "     PitstopNo  HARD  INTERMEDIATE  MEDIUM  ...  TeamName_RacingPoint  \\\n",
       "568        2.0  24.0           0.0    11.0  ...                     0   \n",
       "569        1.0  33.0           0.0     0.0  ...                     1   \n",
       "570        1.0  25.0           0.0    28.0  ...                     0   \n",
       "571        1.0  33.0           0.0    19.0  ...                     0   \n",
       "572        2.0  26.0           0.0    26.0  ...                     0   \n",
       "..         ...   ...           ...     ...  ...                   ...   \n",
       "717        2.0  24.0           0.0    30.0  ...                     0   \n",
       "718        1.0  44.0           0.0    10.0  ...                     0   \n",
       "719        1.0  44.0           0.0    10.0  ...                     0   \n",
       "720        1.0  45.0           0.0    10.0  ...                     0   \n",
       "721        1.0  27.0           0.0    27.0  ...                     0   \n",
       "\n",
       "     TeamName_RedBullRacing  TeamName_Renault  TeamName_ToroRosso  \\\n",
       "568                       0                 0                   0   \n",
       "569                       0                 0                   0   \n",
       "570                       0                 0                   0   \n",
       "571                       0                 0                   0   \n",
       "572                       1                 0                   0   \n",
       "..                      ...               ...                 ...   \n",
       "717                       0                 0                   0   \n",
       "718                       0                 0                   0   \n",
       "719                       0                 0                   0   \n",
       "720                       0                 0                   0   \n",
       "721                       0                 0                   0   \n",
       "\n",
       "     TeamName_Williams  Engine_Honda  Engine_Mercedes  Engine_RedBull  \\\n",
       "568                  0             0                0               0   \n",
       "569                  0             0                1               0   \n",
       "570                  0             0                0               0   \n",
       "571                  0             0                0               0   \n",
       "572                  0             1                0               0   \n",
       "..                 ...           ...              ...             ...   \n",
       "717                  1             0                1               0   \n",
       "718                  1             0                1               0   \n",
       "719                  0             0                0               0   \n",
       "720                  0             0                1               0   \n",
       "721                  0             0                0               0   \n",
       "\n",
       "     Engine_Renault  CircuitType_street  \n",
       "568               0                   1  \n",
       "569               0                   1  \n",
       "570               0                   1  \n",
       "571               0                   1  \n",
       "572               0                   1  \n",
       "..              ...                 ...  \n",
       "717               0                   0  \n",
       "718               0                   0  \n",
       "719               0                   0  \n",
       "720               0                   0  \n",
       "721               0                   0  \n",
       "\n",
       "[154 rows x 39 columns]"
      ]
     },
     "execution_count": 32,
     "metadata": {},
     "output_type": "execute_result"
    }
   ],
   "source": [
    "x_test"
   ]
  },
  {
   "cell_type": "code",
   "execution_count": 33,
   "metadata": {},
   "outputs": [],
   "source": [
    "y_pred = mrf.predict(x_test, Z_test, clusters_test)"
   ]
  },
  {
   "cell_type": "code",
   "execution_count": 34,
   "metadata": {},
   "outputs": [
    {
     "name": "stdout",
     "output_type": "stream",
     "text": [
      "Test MSE: 10.651847412729614\n",
      "Test RMSE: 3.263716809517887\n",
      "Test MAE: 2.482383290847572\n",
      "Test R-squared: 0.6592162931861992\n"
     ]
    }
   ],
   "source": [
    "mse = mean_squared_error(Y_test, y_pred)\n",
    "rmse = np.sqrt(mse)\n",
    "mae = mean_absolute_error(Y_test, y_pred)\n",
    "r2 = r2_score(Y_test, y_pred)\n",
    "\n",
    "# Print the performance metrics\n",
    "print(\"Test MSE:\", mse)\n",
    "print(\"Test RMSE:\", rmse)\n",
    "print(\"Test MAE:\", mae)\n",
    "print(\"Test R-squared:\", r2)\n"
   ]
  },
  {
   "attachments": {},
   "cell_type": "markdown",
   "metadata": {},
   "source": [
    "## After model"
   ]
  },
  {
   "attachments": {},
   "cell_type": "markdown",
   "metadata": {},
   "source": [
    "## Train"
   ]
  },
  {
   "cell_type": "code",
   "execution_count": 37,
   "metadata": {},
   "outputs": [],
   "source": [
    "# Split the data into train and test sets based on the raceID column\n",
    "train_df = df_after[(df_after['raceID'] >= 38) & (df_after['raceID'] <= 72)]\n",
    "test_df = df_after[(df_after['raceID'] >= 73) & (df_after['raceID'] <= 80)]"
   ]
  },
  {
   "cell_type": "code",
   "execution_count": 38,
   "metadata": {},
   "outputs": [],
   "source": [
    "X_train = train_df.drop('Position', axis=1)\n",
    "Y_train = train_df['Position']\n",
    "X_test = test_df.drop('Position', axis=1)\n",
    "Y_test = test_df['Position']"
   ]
  },
  {
   "cell_type": "code",
   "execution_count": 39,
   "metadata": {},
   "outputs": [],
   "source": [
    "X_train = X_train.drop('RaceCountry', axis=1)\n",
    "X_train = X_train.drop('Year', axis=1)\n",
    "X_test = X_test.drop('RaceCountry', axis=1)\n",
    "X_test = X_test.drop('Year', axis=1)"
   ]
  },
  {
   "cell_type": "code",
   "execution_count": 40,
   "metadata": {},
   "outputs": [],
   "source": [
    "x_train = X_train.drop(['Abbreviation', 'raceID'], axis = 1)\n",
    "Z_train = X_train[['raceID']]\n",
    "clusters_train = X_train['raceID']"
   ]
  },
  {
   "cell_type": "code",
   "execution_count": 41,
   "metadata": {},
   "outputs": [
    {
     "name": "stderr",
     "output_type": "stream",
     "text": [
      "INFO     [merf.py:307] Training GLL is -2298.994457420132 at iteration 1.\n",
      "INFO     [merf.py:307] Training GLL is -3694.9260565979284 at iteration 2.\n",
      "INFO     [merf.py:307] Training GLL is -3740.356689626113 at iteration 3.\n",
      "INFO     [merf.py:307] Training GLL is -3663.7045493709566 at iteration 4.\n",
      "INFO     [merf.py:307] Training GLL is -3804.452324511743 at iteration 5.\n",
      "INFO     [merf.py:307] Training GLL is -3635.948743023698 at iteration 6.\n",
      "INFO     [merf.py:307] Training GLL is -3793.622996571447 at iteration 7.\n",
      "INFO     [merf.py:307] Training GLL is -3617.753548993378 at iteration 8.\n",
      "INFO     [merf.py:307] Training GLL is -3791.6654470411268 at iteration 9.\n",
      "INFO     [merf.py:307] Training GLL is -3738.580460283372 at iteration 10.\n",
      "INFO     [merf.py:307] Training GLL is -3820.277162151804 at iteration 11.\n",
      "INFO     [merf.py:307] Training GLL is -3918.1384085007917 at iteration 12.\n",
      "INFO     [merf.py:307] Training GLL is -3825.8194505949473 at iteration 13.\n",
      "INFO     [merf.py:307] Training GLL is -3782.435061256645 at iteration 14.\n",
      "INFO     [merf.py:307] Training GLL is -3946.181998710132 at iteration 15.\n",
      "INFO     [merf.py:307] Training GLL is -3808.998653614763 at iteration 16.\n",
      "INFO     [merf.py:307] Training GLL is -4084.6499478242345 at iteration 17.\n",
      "INFO     [merf.py:307] Training GLL is -3889.815548026355 at iteration 18.\n",
      "INFO     [merf.py:307] Training GLL is -3878.6965895448825 at iteration 19.\n",
      "INFO     [merf.py:307] Training GLL is -3853.42066954511 at iteration 20.\n",
      "INFO     [merf.py:307] Training GLL is -3920.085803203168 at iteration 21.\n",
      "INFO     [merf.py:307] Training GLL is -3869.7284676923364 at iteration 22.\n",
      "INFO     [merf.py:307] Training GLL is -3849.6502484849448 at iteration 23.\n",
      "INFO     [merf.py:307] Training GLL is -3939.498026989192 at iteration 24.\n",
      "INFO     [merf.py:307] Training GLL is -3914.548755739001 at iteration 25.\n",
      "INFO     [merf.py:307] Training GLL is -3865.0937153804075 at iteration 26.\n",
      "INFO     [merf.py:307] Training GLL is -3936.631978648997 at iteration 27.\n",
      "INFO     [merf.py:307] Training GLL is -3928.754765662714 at iteration 28.\n",
      "INFO     [merf.py:307] Training GLL is -3749.070843705539 at iteration 29.\n",
      "INFO     [merf.py:307] Training GLL is -3949.7005523240114 at iteration 30.\n"
     ]
    },
    {
     "data": {
      "text/plain": [
       "<merf.merf.MERF at 0x7fd1d1055a60>"
      ]
     },
     "execution_count": 41,
     "metadata": {},
     "output_type": "execute_result"
    }
   ],
   "source": [
    "\n",
    "#mrf = MERF(fixed_effects_model = LinearRegression(), max_iterations=30)\n",
    "mrf.fit(x_train, Z_train, clusters_train, Y_train)\n"
   ]
  },
  {
   "cell_type": "code",
   "execution_count": 42,
   "metadata": {},
   "outputs": [],
   "source": [
    "train_preds = mrf.predict(x_train, Z_train, clusters_train)"
   ]
  },
  {
   "cell_type": "code",
   "execution_count": 43,
   "metadata": {},
   "outputs": [
    {
     "name": "stdout",
     "output_type": "stream",
     "text": [
      "Test MSE: 0.002784377358501824\n",
      "Test RMSE: 0.052767199646199\n",
      "Test MAE: 0.037812576651521206\n",
      "Test R-squared: 0.9999118976241722\n"
     ]
    }
   ],
   "source": [
    "from sklearn.metrics import mean_squared_error, mean_absolute_error, r2_score\n",
    "\n",
    "mse = mean_squared_error(Y_train, train_preds)\n",
    "rmse = np.sqrt(mse)\n",
    "mae = mean_absolute_error(Y_train, train_preds)\n",
    "r2 = r2_score(Y_train, train_preds)\n",
    "\n",
    "# Print the performance metrics\n",
    "print(\"Test MSE:\", mse)\n",
    "print(\"Test RMSE:\", rmse)\n",
    "print(\"Test MAE:\", mae)\n",
    "print(\"Test R-squared:\", r2)"
   ]
  },
  {
   "attachments": {},
   "cell_type": "markdown",
   "metadata": {},
   "source": [
    "## Test"
   ]
  },
  {
   "cell_type": "code",
   "execution_count": 44,
   "metadata": {},
   "outputs": [],
   "source": [
    "x_test = X_test.drop(['Abbreviation', 'raceID'], axis = 1)\n",
    "Z_test = X_test[['raceID']]\n",
    "clusters_test = X_test['raceID']"
   ]
  },
  {
   "cell_type": "code",
   "execution_count": 45,
   "metadata": {},
   "outputs": [],
   "source": [
    "y_pred = mrf.predict(x_test, Z_test, clusters_test)"
   ]
  },
  {
   "cell_type": "code",
   "execution_count": 46,
   "metadata": {},
   "outputs": [
    {
     "name": "stdout",
     "output_type": "stream",
     "text": [
      "Test MSE: 10.28143895532415\n",
      "Test RMSE: 3.2064682994416382\n",
      "Test MAE: 2.4254420680307494\n",
      "Test R-squared: 0.6741985648239796\n"
     ]
    }
   ],
   "source": [
    "from sklearn.metrics import mean_squared_error, mean_absolute_error, r2_score\n",
    "\n",
    "mse = mean_squared_error(Y_test, y_pred)\n",
    "rmse = np.sqrt(mse)\n",
    "mae = mean_absolute_error(Y_test, y_pred)\n",
    "r2 = r2_score(Y_test, y_pred)\n",
    "\n",
    "# Print the performance metrics\n",
    "print(\"Test MSE:\", mse)\n",
    "print(\"Test RMSE:\", rmse)\n",
    "print(\"Test MAE:\", mae)\n",
    "print(\"Test R-squared:\", r2)\n"
   ]
  }
 ],
 "metadata": {
  "kernelspec": {
   "display_name": "base",
   "language": "python",
   "name": "python3"
  },
  "language_info": {
   "codemirror_mode": {
    "name": "ipython",
    "version": 3
   },
   "file_extension": ".py",
   "mimetype": "text/x-python",
   "name": "python",
   "nbconvert_exporter": "python",
   "pygments_lexer": "ipython3",
   "version": "3.9.13"
  },
  "orig_nbformat": 4,
  "vscode": {
   "interpreter": {
    "hash": "5735bfa344102866903967fdbfb95794eb353dada4cd8a6f59858b1fed696402"
   }
  }
 },
 "nbformat": 4,
 "nbformat_minor": 2
}
