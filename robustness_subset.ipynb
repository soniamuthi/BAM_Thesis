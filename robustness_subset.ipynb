{
 "cells": [
  {
   "cell_type": "code",
   "execution_count": 1,
   "metadata": {},
   "outputs": [],
   "source": [
    "import pandas as pd\n",
    "from sklearn.model_selection import train_test_split\n",
    "\n",
    "from sklearn.model_selection import GridSearchCV\n",
    "from sklearn.utils import resample\n",
    "from sklearn.compose import ColumnTransformer\n",
    "from sklearn.decomposition import PCA\n",
    "import seaborn as sns\n",
    "import numpy as np\n",
    "import pickle\n",
    "from sklearn.ensemble import RandomForestRegressor\n",
    "\n",
    "from sklearn.linear_model import LinearRegression\n",
    "\n",
    "import matplotlib.pyplot as plt\n",
    "from imblearn.over_sampling import SMOTE\n",
    "from imblearn.pipeline import Pipeline\n",
    "from sklearn.preprocessing import StandardScaler\n",
    "from sklearn.linear_model import LogisticRegression\n",
    "from sklearn.ensemble import RandomForestClassifier\n",
    "from sklearn.decomposition import FactorAnalysis\n",
    "from factor_analyzer import FactorAnalyzer\n",
    "\n",
    "from sklearn.ensemble import GradientBoostingClassifier\n",
    "from sklearn.metrics import roc_auc_score\n",
    "\n",
    "%matplotlib inline\n",
    "\n",
    "from sklearn.preprocessing import OneHotEncoder\n",
    "import lightgbm as lgb\n",
    "from lightgbm import LGBMClassifier \n",
    "\n",
    "from sklearn.utils import class_weight\n",
    "from imblearn.over_sampling import SMOTE\n",
    "from imblearn.under_sampling import RandomUnderSampler\n",
    "from sklearn.decomposition import TruncatedSVD\n",
    "\n",
    "import plotly.express as px\n",
    "import plotly.graph_objs as go\n",
    "import statsmodels.formula.api as smf\n",
    "from plotly.graph_objects import Layout"
   ]
  },
  {
   "cell_type": "code",
   "execution_count": 2,
   "metadata": {},
   "outputs": [],
   "source": [
    "df = pd.read_csv(\"mergedData.csv\")"
   ]
  },
  {
   "cell_type": "code",
   "execution_count": 3,
   "metadata": {},
   "outputs": [],
   "source": [
    "df = df.drop(\"Unnamed: 0\", axis = 1)"
   ]
  },
  {
   "cell_type": "code",
   "execution_count": 4,
   "metadata": {},
   "outputs": [],
   "source": [
    "df = df.drop([\"DriverNumber\", \"Driver\", \"Position\"], axis = 1)\n",
    "aux = df"
   ]
  },
  {
   "cell_type": "code",
   "execution_count": 5,
   "metadata": {},
   "outputs": [],
   "source": [
    "# create new columns based on Status values\n",
    "df['carIssue'] = (df['Status'] == 'carIssue').astype(int)\n",
    "df['driverIssue'] = (df['Status'] == 'driverIssue').astype(int)\n",
    "df = df.drop('Status', axis=1)"
   ]
  },
  {
   "cell_type": "code",
   "execution_count": 6,
   "metadata": {},
   "outputs": [],
   "source": [
    "#df['after_2020'] = df['Year'].apply(lambda x: 1 if x > 2020 else 0)"
   ]
  },
  {
   "cell_type": "code",
   "execution_count": 7,
   "metadata": {},
   "outputs": [],
   "source": [
    "df = df.drop([\"AverageRPM\"], axis = 1)\n",
    "df = df.drop([\"AvgLapTime\"], axis = 1)\n",
    "df = df.drop([\"AvgSplitTime\"], axis = 1)"
   ]
  },
  {
   "cell_type": "code",
   "execution_count": 9,
   "metadata": {},
   "outputs": [],
   "source": [
    "df[\"RaceCountry\"] = df[\"RaceCountry\"].str.replace(\" \", \"\")\n",
    "df[\"TeamName\"] = df[\"TeamName\"].str.replace(\" \", \"\")\n",
    "df[\"Engine\"] = df[\"Engine\"].str.replace(\" \", \"\")"
   ]
  },
  {
   "cell_type": "code",
   "execution_count": 9,
   "metadata": {},
   "outputs": [],
   "source": [
    "#df.to_csv(r'plotdata_position.csv', index=True, header=True)"
   ]
  },
  {
   "cell_type": "code",
   "execution_count": 10,
   "metadata": {},
   "outputs": [],
   "source": [
    "\n",
    "# get a list of all categorical variables except \"Abbreviation\" and \"raceID\"\n",
    "cat_vars = df.select_dtypes(include=['object']).columns.tolist()\n",
    "cat_vars.remove(\"Abbreviation\")\n",
    "cat_vars.remove(\"RaceCountry\")\n",
    "\n",
    "# create dummy variables for all categorical variables except \"Abbreviation\" and \"raceID\"\n",
    "dummies = pd.get_dummies(df[cat_vars], drop_first=True)\n",
    "\n",
    "# drop the original categorical variables from the DataFrame\n",
    "df = df.drop(cat_vars, axis=1)\n",
    "\n",
    "# concatenate the dummy variables with the remaining variables in the DataFrame\n",
    "df = pd.concat([df, dummies], axis=1)\n"
   ]
  },
  {
   "cell_type": "code",
   "execution_count": 11,
   "metadata": {},
   "outputs": [],
   "source": [
    "df = df[df[\"Points\"] != 0]"
   ]
  },
  {
   "cell_type": "code",
   "execution_count": 12,
   "metadata": {},
   "outputs": [],
   "source": [
    "# Split the data into two datasets based on the Year column\n",
    "df_before = df[df['Year'].isin([2019, 2020])]\n",
    "df_after = df[df['Year'].isin([2021, 2022])]"
   ]
  },
  {
   "attachments": {},
   "cell_type": "markdown",
   "metadata": {},
   "source": [
    "## MERF"
   ]
  },
  {
   "cell_type": "code",
   "execution_count": 13,
   "metadata": {},
   "outputs": [],
   "source": [
    "from merf import MERF"
   ]
  },
  {
   "attachments": {},
   "cell_type": "markdown",
   "metadata": {},
   "source": [
    "## Before model"
   ]
  },
  {
   "cell_type": "code",
   "execution_count": 14,
   "metadata": {},
   "outputs": [],
   "source": [
    "# Split the data into train and test sets based on the raceID column\n",
    "train_df = df_before[(df_before['raceID'] >= 1) & (df_before['raceID'] <= 29)]\n",
    "test_df = df_before[(df_before['raceID'] >= 30) & (df_before['raceID'] <= 37)]"
   ]
  },
  {
   "cell_type": "code",
   "execution_count": 15,
   "metadata": {},
   "outputs": [],
   "source": [
    "X_train = train_df.drop('Points', axis=1)\n",
    "Y_train = train_df['Points']\n",
    "X_test = test_df.drop('Points', axis=1)\n",
    "Y_test = test_df['Points']"
   ]
  },
  {
   "cell_type": "code",
   "execution_count": 16,
   "metadata": {},
   "outputs": [],
   "source": [
    "X_train = X_train.drop('RaceCountry', axis=1)\n",
    "X_train = X_train.drop('Year', axis=1)\n",
    "X_test = X_test.drop('RaceCountry', axis=1)\n",
    "X_test = X_test.drop('Year', axis=1)\n",
    "\n",
    "\n"
   ]
  },
  {
   "cell_type": "code",
   "execution_count": 17,
   "metadata": {},
   "outputs": [],
   "source": [
    "x_train = X_train.drop(['Abbreviation', 'raceID'], axis = 1)\n",
    "Z_train = X_train[['raceID']]\n",
    "clusters_train = X_train['raceID']"
   ]
  },
  {
   "cell_type": "code",
   "execution_count": 18,
   "metadata": {},
   "outputs": [
    {
     "name": "stderr",
     "output_type": "stream",
     "text": [
      "INFO     [merf.py:307] Training GLL is -818.1723410146841 at iteration 1.\n",
      "INFO     [merf.py:307] Training GLL is -1582.825784420217 at iteration 2.\n",
      "INFO     [merf.py:307] Training GLL is -2344.2230080765703 at iteration 3.\n",
      "INFO     [merf.py:307] Training GLL is -3082.3650496935647 at iteration 4.\n",
      "INFO     [merf.py:307] Training GLL is -3720.807936065543 at iteration 5.\n",
      "INFO     [merf.py:307] Training GLL is -4068.6057156332336 at iteration 6.\n",
      "INFO     [merf.py:307] Training GLL is -4127.5845186886745 at iteration 7.\n",
      "INFO     [merf.py:307] Training GLL is -4139.740225399527 at iteration 8.\n",
      "INFO     [merf.py:307] Training GLL is -4252.609601184473 at iteration 9.\n",
      "INFO     [merf.py:307] Training GLL is -4155.757743357531 at iteration 10.\n",
      "INFO     [merf.py:307] Training GLL is -4137.415832254544 at iteration 11.\n",
      "INFO     [merf.py:307] Training GLL is -4178.334245126116 at iteration 12.\n",
      "INFO     [merf.py:307] Training GLL is -4187.424744322849 at iteration 13.\n",
      "INFO     [merf.py:307] Training GLL is -3930.226724353692 at iteration 14.\n",
      "INFO     [merf.py:307] Training GLL is -4219.328369599714 at iteration 15.\n",
      "INFO     [merf.py:307] Training GLL is -4222.935574323073 at iteration 16.\n",
      "INFO     [merf.py:307] Training GLL is -4122.200762927398 at iteration 17.\n",
      "INFO     [merf.py:307] Training GLL is -4000.1797098906727 at iteration 18.\n",
      "INFO     [merf.py:307] Training GLL is -3844.245167929096 at iteration 19.\n",
      "INFO     [merf.py:307] Training GLL is -4069.3883303851135 at iteration 20.\n",
      "INFO     [merf.py:307] Training GLL is -4019.066214184698 at iteration 21.\n",
      "INFO     [merf.py:307] Training GLL is -3809.910937459618 at iteration 22.\n",
      "INFO     [merf.py:307] Training GLL is -3767.0005756326686 at iteration 23.\n",
      "INFO     [merf.py:307] Training GLL is -4067.083083318955 at iteration 24.\n",
      "INFO     [merf.py:307] Training GLL is -4124.295888483579 at iteration 25.\n",
      "INFO     [merf.py:307] Training GLL is -4057.0291866482135 at iteration 26.\n",
      "INFO     [merf.py:307] Training GLL is -4301.3819239206305 at iteration 27.\n",
      "INFO     [merf.py:307] Training GLL is -3980.6227922641265 at iteration 28.\n",
      "INFO     [merf.py:307] Training GLL is -4002.449193039896 at iteration 29.\n",
      "INFO     [merf.py:307] Training GLL is -4196.04038282644 at iteration 30.\n"
     ]
    },
    {
     "data": {
      "text/plain": [
       "<merf.merf.MERF at 0x7fe26298a850>"
      ]
     },
     "execution_count": 18,
     "metadata": {},
     "output_type": "execute_result"
    }
   ],
   "source": [
    "import xgboost as xgb\n",
    "\n",
    "xgb_model = xgb.XGBRegressor(objective='reg:squarederror', max_depth=8, learning_rate=0.08, n_estimators=300)\n",
    "\n",
    "mrf = MERF(fixed_effects_model=xgb_model, max_iterations=30)\n",
    "mrf.fit(x_train, Z_train, clusters_train, Y_train)"
   ]
  },
  {
   "cell_type": "code",
   "execution_count": 19,
   "metadata": {},
   "outputs": [],
   "source": [
    "#regressor = mrf.fit(x_train, Z_train, clusters_train, Y_train)"
   ]
  },
  {
   "cell_type": "code",
   "execution_count": 20,
   "metadata": {},
   "outputs": [],
   "source": [
    "train_preds = mrf.predict(x_train, Z_train, clusters_train)"
   ]
  },
  {
   "cell_type": "code",
   "execution_count": 21,
   "metadata": {},
   "outputs": [
    {
     "name": "stdout",
     "output_type": "stream",
     "text": [
      "Test MSE: 1.0937024289716511e-06\n",
      "Test RMSE: 0.0010458022896186693\n",
      "Test MAE: 0.000721949194541852\n",
      "Test R-squared: 0.9999999788787217\n"
     ]
    }
   ],
   "source": [
    "from sklearn.metrics import mean_squared_error, mean_absolute_error, r2_score\n",
    "\n",
    "mse = mean_squared_error(Y_train, train_preds)\n",
    "rmse = np.sqrt(mse)\n",
    "mae = mean_absolute_error(Y_train, train_preds)\n",
    "r2 = r2_score(Y_train, train_preds)\n",
    "\n",
    "# Print the performance metrics\n",
    "print(\"Test MSE:\", mse)\n",
    "print(\"Test RMSE:\", rmse)\n",
    "print(\"Test MAE:\", mae)\n",
    "print(\"Test R-squared:\", r2)\n"
   ]
  },
  {
   "attachments": {},
   "cell_type": "markdown",
   "metadata": {},
   "source": [
    "# Test dataset"
   ]
  },
  {
   "cell_type": "code",
   "execution_count": 22,
   "metadata": {},
   "outputs": [],
   "source": [
    "x_test = X_test.drop(['Abbreviation', 'raceID'], axis = 1)\n",
    "Z_test = X_test[['raceID']]\n",
    "clusters_test = X_test['raceID']"
   ]
  },
  {
   "cell_type": "code",
   "execution_count": 23,
   "metadata": {},
   "outputs": [
    {
     "data": {
      "text/html": [
       "<div>\n",
       "<style scoped>\n",
       "    .dataframe tbody tr th:only-of-type {\n",
       "        vertical-align: middle;\n",
       "    }\n",
       "\n",
       "    .dataframe tbody tr th {\n",
       "        vertical-align: top;\n",
       "    }\n",
       "\n",
       "    .dataframe thead th {\n",
       "        text-align: right;\n",
       "    }\n",
       "</style>\n",
       "<table border=\"1\" class=\"dataframe\">\n",
       "  <thead>\n",
       "    <tr style=\"text-align: right;\">\n",
       "      <th></th>\n",
       "      <th>GridPosition</th>\n",
       "      <th>AgeAtGP</th>\n",
       "      <th>BestQualiTime</th>\n",
       "      <th>FLap</th>\n",
       "      <th>SDLapTime</th>\n",
       "      <th>AvgPitTime</th>\n",
       "      <th>PitstopNo</th>\n",
       "      <th>HARD</th>\n",
       "      <th>INTERMEDIATE</th>\n",
       "      <th>MEDIUM</th>\n",
       "      <th>...</th>\n",
       "      <th>TeamName_RacingPoint</th>\n",
       "      <th>TeamName_RedBullRacing</th>\n",
       "      <th>TeamName_Renault</th>\n",
       "      <th>TeamName_ToroRosso</th>\n",
       "      <th>TeamName_Williams</th>\n",
       "      <th>Engine_Honda</th>\n",
       "      <th>Engine_Mercedes</th>\n",
       "      <th>Engine_RedBull</th>\n",
       "      <th>Engine_Renault</th>\n",
       "      <th>CircuitType_street</th>\n",
       "    </tr>\n",
       "  </thead>\n",
       "  <tbody>\n",
       "    <tr>\n",
       "      <th>568</th>\n",
       "      <td>9.0</td>\n",
       "      <td>24.0</td>\n",
       "      <td>93.000</td>\n",
       "      <td>0.0</td>\n",
       "      <td>4.414441</td>\n",
       "      <td>29.5895</td>\n",
       "      <td>2.0</td>\n",
       "      <td>24.0</td>\n",
       "      <td>0.0</td>\n",
       "      <td>11.0</td>\n",
       "      <td>...</td>\n",
       "      <td>0</td>\n",
       "      <td>0</td>\n",
       "      <td>0</td>\n",
       "      <td>0</td>\n",
       "      <td>0</td>\n",
       "      <td>0</td>\n",
       "      <td>0</td>\n",
       "      <td>0</td>\n",
       "      <td>0</td>\n",
       "      <td>1</td>\n",
       "    </tr>\n",
       "    <tr>\n",
       "      <th>569</th>\n",
       "      <td>4.0</td>\n",
       "      <td>30.0</td>\n",
       "      <td>92.317</td>\n",
       "      <td>0.0</td>\n",
       "      <td>3.598099</td>\n",
       "      <td>29.6020</td>\n",
       "      <td>1.0</td>\n",
       "      <td>33.0</td>\n",
       "      <td>0.0</td>\n",
       "      <td>0.0</td>\n",
       "      <td>...</td>\n",
       "      <td>1</td>\n",
       "      <td>0</td>\n",
       "      <td>0</td>\n",
       "      <td>0</td>\n",
       "      <td>0</td>\n",
       "      <td>0</td>\n",
       "      <td>1</td>\n",
       "      <td>0</td>\n",
       "      <td>0</td>\n",
       "      <td>1</td>\n",
       "    </tr>\n",
       "    <tr>\n",
       "      <th>570</th>\n",
       "      <td>10.0</td>\n",
       "      <td>22.0</td>\n",
       "      <td>93.239</td>\n",
       "      <td>0.0</td>\n",
       "      <td>3.308658</td>\n",
       "      <td>30.2610</td>\n",
       "      <td>1.0</td>\n",
       "      <td>25.0</td>\n",
       "      <td>0.0</td>\n",
       "      <td>28.0</td>\n",
       "      <td>...</td>\n",
       "      <td>0</td>\n",
       "      <td>0</td>\n",
       "      <td>0</td>\n",
       "      <td>0</td>\n",
       "      <td>0</td>\n",
       "      <td>0</td>\n",
       "      <td>0</td>\n",
       "      <td>0</td>\n",
       "      <td>0</td>\n",
       "      <td>1</td>\n",
       "    </tr>\n",
       "    <tr>\n",
       "      <th>572</th>\n",
       "      <td>15.0</td>\n",
       "      <td>24.0</td>\n",
       "      <td>93.008</td>\n",
       "      <td>0.0</td>\n",
       "      <td>3.737778</td>\n",
       "      <td>30.1610</td>\n",
       "      <td>2.0</td>\n",
       "      <td>26.0</td>\n",
       "      <td>0.0</td>\n",
       "      <td>26.0</td>\n",
       "      <td>...</td>\n",
       "      <td>0</td>\n",
       "      <td>1</td>\n",
       "      <td>0</td>\n",
       "      <td>0</td>\n",
       "      <td>0</td>\n",
       "      <td>1</td>\n",
       "      <td>0</td>\n",
       "      <td>0</td>\n",
       "      <td>0</td>\n",
       "      <td>1</td>\n",
       "    </tr>\n",
       "    <tr>\n",
       "      <th>573</th>\n",
       "      <td>11.0</td>\n",
       "      <td>26.0</td>\n",
       "      <td>93.249</td>\n",
       "      <td>0.0</td>\n",
       "      <td>3.362108</td>\n",
       "      <td>29.6620</td>\n",
       "      <td>1.0</td>\n",
       "      <td>30.0</td>\n",
       "      <td>0.0</td>\n",
       "      <td>23.0</td>\n",
       "      <td>...</td>\n",
       "      <td>0</td>\n",
       "      <td>0</td>\n",
       "      <td>0</td>\n",
       "      <td>0</td>\n",
       "      <td>0</td>\n",
       "      <td>0</td>\n",
       "      <td>0</td>\n",
       "      <td>0</td>\n",
       "      <td>0</td>\n",
       "      <td>1</td>\n",
       "    </tr>\n",
       "    <tr>\n",
       "      <th>...</th>\n",
       "      <td>...</td>\n",
       "      <td>...</td>\n",
       "      <td>...</td>\n",
       "      <td>...</td>\n",
       "      <td>...</td>\n",
       "      <td>...</td>\n",
       "      <td>...</td>\n",
       "      <td>...</td>\n",
       "      <td>...</td>\n",
       "      <td>...</td>\n",
       "      <td>...</td>\n",
       "      <td>...</td>\n",
       "      <td>...</td>\n",
       "      <td>...</td>\n",
       "      <td>...</td>\n",
       "      <td>...</td>\n",
       "      <td>...</td>\n",
       "      <td>...</td>\n",
       "      <td>...</td>\n",
       "      <td>...</td>\n",
       "      <td>...</td>\n",
       "    </tr>\n",
       "    <tr>\n",
       "      <th>711</th>\n",
       "      <td>1.0</td>\n",
       "      <td>23.0</td>\n",
       "      <td>95.246</td>\n",
       "      <td>0.0</td>\n",
       "      <td>3.469862</td>\n",
       "      <td>21.2890</td>\n",
       "      <td>1.0</td>\n",
       "      <td>45.0</td>\n",
       "      <td>0.0</td>\n",
       "      <td>10.0</td>\n",
       "      <td>...</td>\n",
       "      <td>0</td>\n",
       "      <td>1</td>\n",
       "      <td>0</td>\n",
       "      <td>0</td>\n",
       "      <td>0</td>\n",
       "      <td>1</td>\n",
       "      <td>0</td>\n",
       "      <td>0</td>\n",
       "      <td>0</td>\n",
       "      <td>0</td>\n",
       "    </tr>\n",
       "    <tr>\n",
       "      <th>712</th>\n",
       "      <td>4.0</td>\n",
       "      <td>21.0</td>\n",
       "      <td>95.497</td>\n",
       "      <td>0.0</td>\n",
       "      <td>7.104119</td>\n",
       "      <td>21.8400</td>\n",
       "      <td>1.0</td>\n",
       "      <td>45.0</td>\n",
       "      <td>0.0</td>\n",
       "      <td>0.0</td>\n",
       "      <td>...</td>\n",
       "      <td>0</td>\n",
       "      <td>0</td>\n",
       "      <td>0</td>\n",
       "      <td>0</td>\n",
       "      <td>0</td>\n",
       "      <td>0</td>\n",
       "      <td>0</td>\n",
       "      <td>0</td>\n",
       "      <td>1</td>\n",
       "      <td>0</td>\n",
       "    </tr>\n",
       "    <tr>\n",
       "      <th>713</th>\n",
       "      <td>3.0</td>\n",
       "      <td>35.0</td>\n",
       "      <td>95.332</td>\n",
       "      <td>0.0</td>\n",
       "      <td>3.931841</td>\n",
       "      <td>22.4060</td>\n",
       "      <td>1.0</td>\n",
       "      <td>45.0</td>\n",
       "      <td>0.0</td>\n",
       "      <td>10.0</td>\n",
       "      <td>...</td>\n",
       "      <td>0</td>\n",
       "      <td>0</td>\n",
       "      <td>0</td>\n",
       "      <td>0</td>\n",
       "      <td>0</td>\n",
       "      <td>0</td>\n",
       "      <td>1</td>\n",
       "      <td>0</td>\n",
       "      <td>0</td>\n",
       "      <td>0</td>\n",
       "    </tr>\n",
       "    <tr>\n",
       "      <th>716</th>\n",
       "      <td>6.0</td>\n",
       "      <td>26.0</td>\n",
       "      <td>95.815</td>\n",
       "      <td>0.0</td>\n",
       "      <td>9.226260</td>\n",
       "      <td>22.1400</td>\n",
       "      <td>1.0</td>\n",
       "      <td>45.0</td>\n",
       "      <td>0.0</td>\n",
       "      <td>10.0</td>\n",
       "      <td>...</td>\n",
       "      <td>0</td>\n",
       "      <td>0</td>\n",
       "      <td>0</td>\n",
       "      <td>0</td>\n",
       "      <td>0</td>\n",
       "      <td>0</td>\n",
       "      <td>0</td>\n",
       "      <td>0</td>\n",
       "      <td>1</td>\n",
       "      <td>0</td>\n",
       "    </tr>\n",
       "    <tr>\n",
       "      <th>720</th>\n",
       "      <td>2.0</td>\n",
       "      <td>31.0</td>\n",
       "      <td>95.271</td>\n",
       "      <td>0.0</td>\n",
       "      <td>3.679513</td>\n",
       "      <td>21.5870</td>\n",
       "      <td>1.0</td>\n",
       "      <td>45.0</td>\n",
       "      <td>0.0</td>\n",
       "      <td>10.0</td>\n",
       "      <td>...</td>\n",
       "      <td>0</td>\n",
       "      <td>0</td>\n",
       "      <td>0</td>\n",
       "      <td>0</td>\n",
       "      <td>0</td>\n",
       "      <td>0</td>\n",
       "      <td>1</td>\n",
       "      <td>0</td>\n",
       "      <td>0</td>\n",
       "      <td>0</td>\n",
       "    </tr>\n",
       "  </tbody>\n",
       "</table>\n",
       "<p>80 rows × 39 columns</p>\n",
       "</div>"
      ],
      "text/plain": [
       "     GridPosition  AgeAtGP  BestQualiTime  FLap  SDLapTime  AvgPitTime  \\\n",
       "568           9.0     24.0         93.000   0.0   4.414441     29.5895   \n",
       "569           4.0     30.0         92.317   0.0   3.598099     29.6020   \n",
       "570          10.0     22.0         93.239   0.0   3.308658     30.2610   \n",
       "572          15.0     24.0         93.008   0.0   3.737778     30.1610   \n",
       "573          11.0     26.0         93.249   0.0   3.362108     29.6620   \n",
       "..            ...      ...            ...   ...        ...         ...   \n",
       "711           1.0     23.0         95.246   0.0   3.469862     21.2890   \n",
       "712           4.0     21.0         95.497   0.0   7.104119     21.8400   \n",
       "713           3.0     35.0         95.332   0.0   3.931841     22.4060   \n",
       "716           6.0     26.0         95.815   0.0   9.226260     22.1400   \n",
       "720           2.0     31.0         95.271   0.0   3.679513     21.5870   \n",
       "\n",
       "     PitstopNo  HARD  INTERMEDIATE  MEDIUM  ...  TeamName_RacingPoint  \\\n",
       "568        2.0  24.0           0.0    11.0  ...                     0   \n",
       "569        1.0  33.0           0.0     0.0  ...                     1   \n",
       "570        1.0  25.0           0.0    28.0  ...                     0   \n",
       "572        2.0  26.0           0.0    26.0  ...                     0   \n",
       "573        1.0  30.0           0.0    23.0  ...                     0   \n",
       "..         ...   ...           ...     ...  ...                   ...   \n",
       "711        1.0  45.0           0.0    10.0  ...                     0   \n",
       "712        1.0  45.0           0.0     0.0  ...                     0   \n",
       "713        1.0  45.0           0.0    10.0  ...                     0   \n",
       "716        1.0  45.0           0.0    10.0  ...                     0   \n",
       "720        1.0  45.0           0.0    10.0  ...                     0   \n",
       "\n",
       "     TeamName_RedBullRacing  TeamName_Renault  TeamName_ToroRosso  \\\n",
       "568                       0                 0                   0   \n",
       "569                       0                 0                   0   \n",
       "570                       0                 0                   0   \n",
       "572                       1                 0                   0   \n",
       "573                       0                 0                   0   \n",
       "..                      ...               ...                 ...   \n",
       "711                       1                 0                   0   \n",
       "712                       0                 0                   0   \n",
       "713                       0                 0                   0   \n",
       "716                       0                 0                   0   \n",
       "720                       0                 0                   0   \n",
       "\n",
       "     TeamName_Williams  Engine_Honda  Engine_Mercedes  Engine_RedBull  \\\n",
       "568                  0             0                0               0   \n",
       "569                  0             0                1               0   \n",
       "570                  0             0                0               0   \n",
       "572                  0             1                0               0   \n",
       "573                  0             0                0               0   \n",
       "..                 ...           ...              ...             ...   \n",
       "711                  0             1                0               0   \n",
       "712                  0             0                0               0   \n",
       "713                  0             0                1               0   \n",
       "716                  0             0                0               0   \n",
       "720                  0             0                1               0   \n",
       "\n",
       "     Engine_Renault  CircuitType_street  \n",
       "568               0                   1  \n",
       "569               0                   1  \n",
       "570               0                   1  \n",
       "572               0                   1  \n",
       "573               0                   1  \n",
       "..              ...                 ...  \n",
       "711               0                   0  \n",
       "712               1                   0  \n",
       "713               0                   0  \n",
       "716               1                   0  \n",
       "720               0                   0  \n",
       "\n",
       "[80 rows x 39 columns]"
      ]
     },
     "execution_count": 23,
     "metadata": {},
     "output_type": "execute_result"
    }
   ],
   "source": [
    "x_test"
   ]
  },
  {
   "cell_type": "code",
   "execution_count": 24,
   "metadata": {},
   "outputs": [],
   "source": [
    "y_pred = mrf.predict(x_test, Z_test, clusters_test)"
   ]
  },
  {
   "cell_type": "code",
   "execution_count": 25,
   "metadata": {},
   "outputs": [
    {
     "name": "stdout",
     "output_type": "stream",
     "text": [
      "Test MSE: 34.5937695881409\n",
      "Test RMSE: 5.881646843201392\n",
      "Test MAE: 4.498683062195778\n",
      "Test R-squared: 0.3333249260331297\n"
     ]
    }
   ],
   "source": [
    "mse = mean_squared_error(Y_test, y_pred)\n",
    "rmse = np.sqrt(mse)\n",
    "mae = mean_absolute_error(Y_test, y_pred)\n",
    "r2 = r2_score(Y_test, y_pred)\n",
    "\n",
    "# Print the performance metrics\n",
    "print(\"Test MSE:\", mse)\n",
    "print(\"Test RMSE:\", rmse)\n",
    "print(\"Test MAE:\", mae)\n",
    "print(\"Test R-squared:\", r2)\n"
   ]
  },
  {
   "cell_type": "code",
   "execution_count": null,
   "metadata": {},
   "outputs": [],
   "source": []
  },
  {
   "cell_type": "code",
   "execution_count": 26,
   "metadata": {},
   "outputs": [
    {
     "name": "stdout",
     "output_type": "stream",
     "text": [
      "     Y_test     y_pred\n",
      "568     2.0   6.466100\n",
      "569    12.0   9.825662\n",
      "570     8.0   3.516363\n",
      "572     1.0   7.438028\n",
      "573     4.0   2.633266\n",
      "..      ...        ...\n",
      "711    25.0  21.627504\n",
      "712    10.0  10.952651\n",
      "713    15.0  23.672741\n",
      "716     8.0   3.563530\n",
      "720    18.0  20.496073\n",
      "\n",
      "[80 rows x 2 columns]\n"
     ]
    }
   ],
   "source": [
    "data = {\"Y_test\": Y_test, \"y_pred\": y_pred}\n",
    "\n",
    "# Create the DataFrame\n",
    "dfplot = pd.DataFrame(data)\n",
    "\n",
    "# Print the DataFrame\n",
    "print(dfplot)"
   ]
  },
  {
   "cell_type": "code",
   "execution_count": 27,
   "metadata": {},
   "outputs": [
    {
     "data": {
      "application/vnd.plotly.v1+json": {
       "config": {
        "plotlyServerURL": "https://plot.ly"
       },
       "data": [
        {
         "hovertemplate": "Y_test=%{x}<br>y_pred=%{y}<extra></extra>",
         "legendgroup": "",
         "marker": {
          "color": "#636efa",
          "opacity": 0.65,
          "symbol": "circle"
         },
         "mode": "markers",
         "name": "",
         "orientation": "v",
         "showlegend": false,
         "type": "scatter",
         "x": [
          2,
          12,
          8,
          1,
          4,
          10,
          6,
          18,
          15,
          25,
          8,
          12,
          6,
          4,
          15,
          18,
          25,
          10,
          2,
          1,
          10,
          6,
          12,
          2,
          4,
          15,
          25,
          1,
          8,
          18,
          8,
          10,
          12,
          15,
          4,
          25,
          6,
          2,
          18,
          1,
          18,
          12,
          2,
          6,
          1,
          8,
          4,
          25,
          15,
          10,
          8,
          1,
          15,
          6,
          2,
          18,
          12,
          25,
          10,
          4,
          25,
          15,
          8,
          6,
          10,
          18,
          1,
          12,
          2,
          4,
          4,
          1,
          12,
          6,
          2,
          25,
          10,
          15,
          8,
          18
         ],
         "xaxis": "x",
         "y": [
          6.466100215911865,
          9.825661659240723,
          3.5163633823394775,
          7.438028335571289,
          2.6332664489746094,
          5.987642765045166,
          8.025031089782715,
          20.438993453979492,
          18.685813903808594,
          18.291500091552734,
          2.9224424362182617,
          9.637906074523926,
          12.11094856262207,
          3.204556465148926,
          9.804047584533691,
          15.511995315551758,
          19.452476501464844,
          4.514686584472656,
          2.4168701171875,
          1.6596348285675049,
          6.3023810386657715,
          7.740756988525391,
          11.203349113464355,
          3.671928644180298,
          2.0220956802368164,
          17.49862289428711,
          25.46274757385254,
          2.3489530086517334,
          6.303255558013916,
          21.02123260498047,
          4.054444789886475,
          9.013524055480957,
          9.205352783203125,
          7.8058013916015625,
          7.750744819641113,
          21.5987491607666,
          9.325959205627441,
          6.232716083526611,
          20.281667709350586,
          10.443779945373535,
          11.015824317932129,
          6.553811073303223,
          16.170116424560547,
          14.13202953338623,
          5.665733337402344,
          9.626730918884277,
          6.559494972229004,
          10.446514129638672,
          6.114912986755371,
          6.05508279800415,
          7.266157150268555,
          4.481853008270264,
          14.731767654418945,
          7.434754371643066,
          7.457023620605469,
          14.35060977935791,
          5.010672569274902,
          23.564970016479492,
          4.802676677703857,
          16.059358596801758,
          6.319881439208984,
          3.9283246994018555,
          7.030015468597412,
          9.55232048034668,
          10.272414207458496,
          4.617628574371338,
          4.783115863800049,
          6.568301677703857,
          14.644871711730957,
          17.15007209777832,
          6.436361312866211,
          4.635110378265381,
          7.760561943054199,
          3.6024718284606934,
          2.434007167816162,
          21.627504348754883,
          10.952651023864746,
          23.672740936279297,
          3.5635297298431396,
          20.49607276916504
         ],
         "yaxis": "y"
        },
        {
         "hovertemplate": "<b>OLS trendline</b><br>y_pred = 0.528023 * Y_test + 4.40922<br>R<sup>2</sup>=0.387097<br><br>Y_test=%{x}<br>y_pred=%{y} <b>(trend)</b><extra></extra>",
         "legendgroup": "",
         "line": {
          "color": "darkblue"
         },
         "marker": {
          "color": "#636efa",
          "symbol": "circle"
         },
         "mode": "lines",
         "name": "",
         "showlegend": false,
         "type": "scatter",
         "x": [
          1,
          1,
          1,
          1,
          1,
          1,
          1,
          1,
          2,
          2,
          2,
          2,
          2,
          2,
          2,
          2,
          4,
          4,
          4,
          4,
          4,
          4,
          4,
          4,
          6,
          6,
          6,
          6,
          6,
          6,
          6,
          6,
          8,
          8,
          8,
          8,
          8,
          8,
          8,
          8,
          10,
          10,
          10,
          10,
          10,
          10,
          10,
          10,
          12,
          12,
          12,
          12,
          12,
          12,
          12,
          12,
          15,
          15,
          15,
          15,
          15,
          15,
          15,
          15,
          18,
          18,
          18,
          18,
          18,
          18,
          18,
          18,
          25,
          25,
          25,
          25,
          25,
          25,
          25,
          25
         ],
         "xaxis": "x",
         "y": [
          4.937246015924641,
          4.937246015924641,
          4.937246015924641,
          4.937246015924641,
          4.937246015924641,
          4.937246015924641,
          4.937246015924641,
          4.937246015924641,
          5.465268542281139,
          5.465268542281139,
          5.465268542281139,
          5.465268542281139,
          5.465268542281139,
          5.465268542281139,
          5.465268542281139,
          5.465268542281139,
          6.521313594994137,
          6.521313594994137,
          6.521313594994137,
          6.521313594994137,
          6.521313594994137,
          6.521313594994137,
          6.521313594994137,
          6.521313594994137,
          7.577358647707134,
          7.577358647707134,
          7.577358647707134,
          7.577358647707134,
          7.577358647707134,
          7.577358647707134,
          7.577358647707134,
          7.577358647707134,
          8.633403700420132,
          8.633403700420132,
          8.633403700420132,
          8.633403700420132,
          8.633403700420132,
          8.633403700420132,
          8.633403700420132,
          8.633403700420132,
          9.689448753133128,
          9.689448753133128,
          9.689448753133128,
          9.689448753133128,
          9.689448753133128,
          9.689448753133128,
          9.689448753133128,
          9.689448753133128,
          10.745493805846126,
          10.745493805846126,
          10.745493805846126,
          10.745493805846126,
          10.745493805846126,
          10.745493805846126,
          10.745493805846126,
          10.745493805846126,
          12.329561384915621,
          12.329561384915621,
          12.329561384915621,
          12.329561384915621,
          12.329561384915621,
          12.329561384915621,
          12.329561384915621,
          12.329561384915621,
          13.913628963985119,
          13.913628963985119,
          13.913628963985119,
          13.913628963985119,
          13.913628963985119,
          13.913628963985119,
          13.913628963985119,
          13.913628963985119,
          17.609786648480608,
          17.609786648480608,
          17.609786648480608,
          17.609786648480608,
          17.609786648480608,
          17.609786648480608,
          17.609786648480608,
          17.609786648480608
         ],
         "yaxis": "y"
        }
       ],
       "layout": {
        "height": 400,
        "legend": {
         "tracegroupgap": 0
        },
        "margin": {
         "t": 60
        },
        "template": {
         "data": {
          "bar": [
           {
            "error_x": {
             "color": "#2a3f5f"
            },
            "error_y": {
             "color": "#2a3f5f"
            },
            "marker": {
             "line": {
              "color": "#E5ECF6",
              "width": 0.5
             },
             "pattern": {
              "fillmode": "overlay",
              "size": 10,
              "solidity": 0.2
             }
            },
            "type": "bar"
           }
          ],
          "barpolar": [
           {
            "marker": {
             "line": {
              "color": "#E5ECF6",
              "width": 0.5
             },
             "pattern": {
              "fillmode": "overlay",
              "size": 10,
              "solidity": 0.2
             }
            },
            "type": "barpolar"
           }
          ],
          "carpet": [
           {
            "aaxis": {
             "endlinecolor": "#2a3f5f",
             "gridcolor": "white",
             "linecolor": "white",
             "minorgridcolor": "white",
             "startlinecolor": "#2a3f5f"
            },
            "baxis": {
             "endlinecolor": "#2a3f5f",
             "gridcolor": "white",
             "linecolor": "white",
             "minorgridcolor": "white",
             "startlinecolor": "#2a3f5f"
            },
            "type": "carpet"
           }
          ],
          "choropleth": [
           {
            "colorbar": {
             "outlinewidth": 0,
             "ticks": ""
            },
            "type": "choropleth"
           }
          ],
          "contour": [
           {
            "colorbar": {
             "outlinewidth": 0,
             "ticks": ""
            },
            "colorscale": [
             [
              0,
              "#0d0887"
             ],
             [
              0.1111111111111111,
              "#46039f"
             ],
             [
              0.2222222222222222,
              "#7201a8"
             ],
             [
              0.3333333333333333,
              "#9c179e"
             ],
             [
              0.4444444444444444,
              "#bd3786"
             ],
             [
              0.5555555555555556,
              "#d8576b"
             ],
             [
              0.6666666666666666,
              "#ed7953"
             ],
             [
              0.7777777777777778,
              "#fb9f3a"
             ],
             [
              0.8888888888888888,
              "#fdca26"
             ],
             [
              1,
              "#f0f921"
             ]
            ],
            "type": "contour"
           }
          ],
          "contourcarpet": [
           {
            "colorbar": {
             "outlinewidth": 0,
             "ticks": ""
            },
            "type": "contourcarpet"
           }
          ],
          "heatmap": [
           {
            "colorbar": {
             "outlinewidth": 0,
             "ticks": ""
            },
            "colorscale": [
             [
              0,
              "#0d0887"
             ],
             [
              0.1111111111111111,
              "#46039f"
             ],
             [
              0.2222222222222222,
              "#7201a8"
             ],
             [
              0.3333333333333333,
              "#9c179e"
             ],
             [
              0.4444444444444444,
              "#bd3786"
             ],
             [
              0.5555555555555556,
              "#d8576b"
             ],
             [
              0.6666666666666666,
              "#ed7953"
             ],
             [
              0.7777777777777778,
              "#fb9f3a"
             ],
             [
              0.8888888888888888,
              "#fdca26"
             ],
             [
              1,
              "#f0f921"
             ]
            ],
            "type": "heatmap"
           }
          ],
          "heatmapgl": [
           {
            "colorbar": {
             "outlinewidth": 0,
             "ticks": ""
            },
            "colorscale": [
             [
              0,
              "#0d0887"
             ],
             [
              0.1111111111111111,
              "#46039f"
             ],
             [
              0.2222222222222222,
              "#7201a8"
             ],
             [
              0.3333333333333333,
              "#9c179e"
             ],
             [
              0.4444444444444444,
              "#bd3786"
             ],
             [
              0.5555555555555556,
              "#d8576b"
             ],
             [
              0.6666666666666666,
              "#ed7953"
             ],
             [
              0.7777777777777778,
              "#fb9f3a"
             ],
             [
              0.8888888888888888,
              "#fdca26"
             ],
             [
              1,
              "#f0f921"
             ]
            ],
            "type": "heatmapgl"
           }
          ],
          "histogram": [
           {
            "marker": {
             "pattern": {
              "fillmode": "overlay",
              "size": 10,
              "solidity": 0.2
             }
            },
            "type": "histogram"
           }
          ],
          "histogram2d": [
           {
            "colorbar": {
             "outlinewidth": 0,
             "ticks": ""
            },
            "colorscale": [
             [
              0,
              "#0d0887"
             ],
             [
              0.1111111111111111,
              "#46039f"
             ],
             [
              0.2222222222222222,
              "#7201a8"
             ],
             [
              0.3333333333333333,
              "#9c179e"
             ],
             [
              0.4444444444444444,
              "#bd3786"
             ],
             [
              0.5555555555555556,
              "#d8576b"
             ],
             [
              0.6666666666666666,
              "#ed7953"
             ],
             [
              0.7777777777777778,
              "#fb9f3a"
             ],
             [
              0.8888888888888888,
              "#fdca26"
             ],
             [
              1,
              "#f0f921"
             ]
            ],
            "type": "histogram2d"
           }
          ],
          "histogram2dcontour": [
           {
            "colorbar": {
             "outlinewidth": 0,
             "ticks": ""
            },
            "colorscale": [
             [
              0,
              "#0d0887"
             ],
             [
              0.1111111111111111,
              "#46039f"
             ],
             [
              0.2222222222222222,
              "#7201a8"
             ],
             [
              0.3333333333333333,
              "#9c179e"
             ],
             [
              0.4444444444444444,
              "#bd3786"
             ],
             [
              0.5555555555555556,
              "#d8576b"
             ],
             [
              0.6666666666666666,
              "#ed7953"
             ],
             [
              0.7777777777777778,
              "#fb9f3a"
             ],
             [
              0.8888888888888888,
              "#fdca26"
             ],
             [
              1,
              "#f0f921"
             ]
            ],
            "type": "histogram2dcontour"
           }
          ],
          "mesh3d": [
           {
            "colorbar": {
             "outlinewidth": 0,
             "ticks": ""
            },
            "type": "mesh3d"
           }
          ],
          "parcoords": [
           {
            "line": {
             "colorbar": {
              "outlinewidth": 0,
              "ticks": ""
             }
            },
            "type": "parcoords"
           }
          ],
          "pie": [
           {
            "automargin": true,
            "type": "pie"
           }
          ],
          "scatter": [
           {
            "fillpattern": {
             "fillmode": "overlay",
             "size": 10,
             "solidity": 0.2
            },
            "type": "scatter"
           }
          ],
          "scatter3d": [
           {
            "line": {
             "colorbar": {
              "outlinewidth": 0,
              "ticks": ""
             }
            },
            "marker": {
             "colorbar": {
              "outlinewidth": 0,
              "ticks": ""
             }
            },
            "type": "scatter3d"
           }
          ],
          "scattercarpet": [
           {
            "marker": {
             "colorbar": {
              "outlinewidth": 0,
              "ticks": ""
             }
            },
            "type": "scattercarpet"
           }
          ],
          "scattergeo": [
           {
            "marker": {
             "colorbar": {
              "outlinewidth": 0,
              "ticks": ""
             }
            },
            "type": "scattergeo"
           }
          ],
          "scattergl": [
           {
            "marker": {
             "colorbar": {
              "outlinewidth": 0,
              "ticks": ""
             }
            },
            "type": "scattergl"
           }
          ],
          "scattermapbox": [
           {
            "marker": {
             "colorbar": {
              "outlinewidth": 0,
              "ticks": ""
             }
            },
            "type": "scattermapbox"
           }
          ],
          "scatterpolar": [
           {
            "marker": {
             "colorbar": {
              "outlinewidth": 0,
              "ticks": ""
             }
            },
            "type": "scatterpolar"
           }
          ],
          "scatterpolargl": [
           {
            "marker": {
             "colorbar": {
              "outlinewidth": 0,
              "ticks": ""
             }
            },
            "type": "scatterpolargl"
           }
          ],
          "scatterternary": [
           {
            "marker": {
             "colorbar": {
              "outlinewidth": 0,
              "ticks": ""
             }
            },
            "type": "scatterternary"
           }
          ],
          "surface": [
           {
            "colorbar": {
             "outlinewidth": 0,
             "ticks": ""
            },
            "colorscale": [
             [
              0,
              "#0d0887"
             ],
             [
              0.1111111111111111,
              "#46039f"
             ],
             [
              0.2222222222222222,
              "#7201a8"
             ],
             [
              0.3333333333333333,
              "#9c179e"
             ],
             [
              0.4444444444444444,
              "#bd3786"
             ],
             [
              0.5555555555555556,
              "#d8576b"
             ],
             [
              0.6666666666666666,
              "#ed7953"
             ],
             [
              0.7777777777777778,
              "#fb9f3a"
             ],
             [
              0.8888888888888888,
              "#fdca26"
             ],
             [
              1,
              "#f0f921"
             ]
            ],
            "type": "surface"
           }
          ],
          "table": [
           {
            "cells": {
             "fill": {
              "color": "#EBF0F8"
             },
             "line": {
              "color": "white"
             }
            },
            "header": {
             "fill": {
              "color": "#C8D4E3"
             },
             "line": {
              "color": "white"
             }
            },
            "type": "table"
           }
          ]
         },
         "layout": {
          "annotationdefaults": {
           "arrowcolor": "#2a3f5f",
           "arrowhead": 0,
           "arrowwidth": 1
          },
          "autotypenumbers": "strict",
          "coloraxis": {
           "colorbar": {
            "outlinewidth": 0,
            "ticks": ""
           }
          },
          "colorscale": {
           "diverging": [
            [
             0,
             "#8e0152"
            ],
            [
             0.1,
             "#c51b7d"
            ],
            [
             0.2,
             "#de77ae"
            ],
            [
             0.3,
             "#f1b6da"
            ],
            [
             0.4,
             "#fde0ef"
            ],
            [
             0.5,
             "#f7f7f7"
            ],
            [
             0.6,
             "#e6f5d0"
            ],
            [
             0.7,
             "#b8e186"
            ],
            [
             0.8,
             "#7fbc41"
            ],
            [
             0.9,
             "#4d9221"
            ],
            [
             1,
             "#276419"
            ]
           ],
           "sequential": [
            [
             0,
             "#0d0887"
            ],
            [
             0.1111111111111111,
             "#46039f"
            ],
            [
             0.2222222222222222,
             "#7201a8"
            ],
            [
             0.3333333333333333,
             "#9c179e"
            ],
            [
             0.4444444444444444,
             "#bd3786"
            ],
            [
             0.5555555555555556,
             "#d8576b"
            ],
            [
             0.6666666666666666,
             "#ed7953"
            ],
            [
             0.7777777777777778,
             "#fb9f3a"
            ],
            [
             0.8888888888888888,
             "#fdca26"
            ],
            [
             1,
             "#f0f921"
            ]
           ],
           "sequentialminus": [
            [
             0,
             "#0d0887"
            ],
            [
             0.1111111111111111,
             "#46039f"
            ],
            [
             0.2222222222222222,
             "#7201a8"
            ],
            [
             0.3333333333333333,
             "#9c179e"
            ],
            [
             0.4444444444444444,
             "#bd3786"
            ],
            [
             0.5555555555555556,
             "#d8576b"
            ],
            [
             0.6666666666666666,
             "#ed7953"
            ],
            [
             0.7777777777777778,
             "#fb9f3a"
            ],
            [
             0.8888888888888888,
             "#fdca26"
            ],
            [
             1,
             "#f0f921"
            ]
           ]
          },
          "colorway": [
           "#636efa",
           "#EF553B",
           "#00cc96",
           "#ab63fa",
           "#FFA15A",
           "#19d3f3",
           "#FF6692",
           "#B6E880",
           "#FF97FF",
           "#FECB52"
          ],
          "font": {
           "color": "#2a3f5f"
          },
          "geo": {
           "bgcolor": "white",
           "lakecolor": "white",
           "landcolor": "#E5ECF6",
           "showlakes": true,
           "showland": true,
           "subunitcolor": "white"
          },
          "hoverlabel": {
           "align": "left"
          },
          "hovermode": "closest",
          "mapbox": {
           "style": "light"
          },
          "paper_bgcolor": "white",
          "plot_bgcolor": "#E5ECF6",
          "polar": {
           "angularaxis": {
            "gridcolor": "white",
            "linecolor": "white",
            "ticks": ""
           },
           "bgcolor": "#E5ECF6",
           "radialaxis": {
            "gridcolor": "white",
            "linecolor": "white",
            "ticks": ""
           }
          },
          "scene": {
           "xaxis": {
            "backgroundcolor": "#E5ECF6",
            "gridcolor": "white",
            "gridwidth": 2,
            "linecolor": "white",
            "showbackground": true,
            "ticks": "",
            "zerolinecolor": "white"
           },
           "yaxis": {
            "backgroundcolor": "#E5ECF6",
            "gridcolor": "white",
            "gridwidth": 2,
            "linecolor": "white",
            "showbackground": true,
            "ticks": "",
            "zerolinecolor": "white"
           },
           "zaxis": {
            "backgroundcolor": "#E5ECF6",
            "gridcolor": "white",
            "gridwidth": 2,
            "linecolor": "white",
            "showbackground": true,
            "ticks": "",
            "zerolinecolor": "white"
           }
          },
          "shapedefaults": {
           "line": {
            "color": "#2a3f5f"
           }
          },
          "ternary": {
           "aaxis": {
            "gridcolor": "white",
            "linecolor": "white",
            "ticks": ""
           },
           "baxis": {
            "gridcolor": "white",
            "linecolor": "white",
            "ticks": ""
           },
           "bgcolor": "#E5ECF6",
           "caxis": {
            "gridcolor": "white",
            "linecolor": "white",
            "ticks": ""
           }
          },
          "title": {
           "x": 0.05
          },
          "xaxis": {
           "automargin": true,
           "gridcolor": "white",
           "linecolor": "white",
           "ticks": "",
           "title": {
            "standoff": 15
           },
           "zerolinecolor": "white",
           "zerolinewidth": 2
          },
          "yaxis": {
           "automargin": true,
           "gridcolor": "white",
           "linecolor": "white",
           "ticks": "",
           "title": {
            "standoff": 15
           },
           "zerolinecolor": "white",
           "zerolinewidth": 2
          }
         }
        },
        "width": 550,
        "xaxis": {
         "anchor": "y",
         "domain": [
          0,
          1
         ],
         "title": {
          "text": "Y_test"
         }
        },
        "yaxis": {
         "anchor": "x",
         "domain": [
          0,
          1
         ],
         "title": {
          "text": "y_pred"
         }
        }
       }
      }
     },
     "metadata": {},
     "output_type": "display_data"
    }
   ],
   "source": [
    "import plotly.express as px\n",
    "\n",
    "\n",
    "\n",
    "fig = px.scatter(\n",
    "    dfplot, x='Y_test', y='y_pred', opacity=0.65,\n",
    "    trendline='ols', trendline_color_override='darkblue',\n",
    "    width=550, height=400\n",
    "    \n",
    ")\n",
    "fig.show()"
   ]
  },
  {
   "cell_type": "code",
   "execution_count": 28,
   "metadata": {},
   "outputs": [
    {
     "name": "stdout",
     "output_type": "stream",
     "text": [
      "                     Feature  Importance\n",
      "0       TeamName_RacingPoint    0.205741\n",
      "1               GridPosition    0.163604\n",
      "2        TeamName_HaasF1Team    0.076255\n",
      "3          TeamName_Mercedes    0.074623\n",
      "4                  PitstopNo    0.069269\n",
      "5               INTERMEDIATE    0.054051\n",
      "6     TeamName_RedBullRacing    0.051240\n",
      "7                       HARD    0.031202\n",
      "8                   MaxSpeed    0.030236\n",
      "9   TeamName_AlfaRomeoRacing    0.025095\n",
      "10          TeamName_McLaren    0.023150\n",
      "11                    MEDIUM    0.021886\n",
      "12            MaxThrottlePct    0.020069\n",
      "13          TeamName_Ferrari    0.018695\n",
      "14                     Brake    0.017824\n",
      "15                 SDLapTime    0.015919\n",
      "16                      SOFT    0.014112\n",
      "17        TeamName_ToroRosso    0.012100\n",
      "18                   AgeAtGP    0.012061\n",
      "19           AverageThrottle    0.011261\n",
      "20                    MaxRPM    0.011133\n",
      "21             BestQualiTime    0.008501\n",
      "22              AverageSpeed    0.007821\n",
      "23              Engine_Honda    0.006945\n",
      "24                AvgPitTime    0.006897\n",
      "25                       WET    0.003395\n",
      "26                      FLap    0.002893\n",
      "27          TeamName_Renault    0.002470\n",
      "28        CircuitType_street    0.001040\n",
      "29            Engine_Renault    0.000360\n",
      "30           Engine_Mercedes    0.000104\n",
      "31       TeamName_AlphaTauri    0.000052\n",
      "32      TeamName_AstonMartin    0.000000\n",
      "33           TeamName_Alpine    0.000000\n",
      "34               driverIssue    0.000000\n",
      "35         TeamName_Williams    0.000000\n",
      "36                      Rain    0.000000\n",
      "37            Engine_RedBull    0.000000\n",
      "38                  carIssue    0.000000\n"
     ]
    }
   ],
   "source": [
    "importance = mrf.trained_fe_model.feature_importances_\n",
    "\n",
    "importance_df_before = pd.DataFrame({'Feature': x_train.columns, 'Importance': importance})\n",
    "\n",
    "importance_df_before = importance_df_before.sort_values('Importance', ascending=False).reset_index(drop=True)\n",
    "print(importance_df_before)"
   ]
  },
  {
   "attachments": {},
   "cell_type": "markdown",
   "metadata": {},
   "source": [
    "## After model"
   ]
  },
  {
   "cell_type": "code",
   "execution_count": 29,
   "metadata": {},
   "outputs": [
    {
     "data": {
      "text/plain": [
       "723     38\n",
       "725     38\n",
       "726     38\n",
       "727     38\n",
       "728     38\n",
       "        ..\n",
       "1538    80\n",
       "1539    80\n",
       "1542    80\n",
       "1543    80\n",
       "1545    80\n",
       "Name: raceID, Length: 428, dtype: int64"
      ]
     },
     "execution_count": 29,
     "metadata": {},
     "output_type": "execute_result"
    }
   ],
   "source": [
    "df_after[\"raceID\"]"
   ]
  },
  {
   "cell_type": "code",
   "execution_count": 30,
   "metadata": {},
   "outputs": [
    {
     "data": {
      "text/html": [
       "<div>\n",
       "<style scoped>\n",
       "    .dataframe tbody tr th:only-of-type {\n",
       "        vertical-align: middle;\n",
       "    }\n",
       "\n",
       "    .dataframe tbody tr th {\n",
       "        vertical-align: top;\n",
       "    }\n",
       "\n",
       "    .dataframe thead th {\n",
       "        text-align: right;\n",
       "    }\n",
       "</style>\n",
       "<table border=\"1\" class=\"dataframe\">\n",
       "  <thead>\n",
       "    <tr style=\"text-align: right;\">\n",
       "      <th></th>\n",
       "      <th>Abbreviation</th>\n",
       "      <th>GridPosition</th>\n",
       "      <th>Points</th>\n",
       "      <th>RaceCountry</th>\n",
       "      <th>Year</th>\n",
       "      <th>AgeAtGP</th>\n",
       "      <th>BestQualiTime</th>\n",
       "      <th>FLap</th>\n",
       "      <th>SDLapTime</th>\n",
       "      <th>AvgPitTime</th>\n",
       "      <th>...</th>\n",
       "      <th>TeamName_RacingPoint</th>\n",
       "      <th>TeamName_RedBullRacing</th>\n",
       "      <th>TeamName_Renault</th>\n",
       "      <th>TeamName_ToroRosso</th>\n",
       "      <th>TeamName_Williams</th>\n",
       "      <th>Engine_Honda</th>\n",
       "      <th>Engine_Mercedes</th>\n",
       "      <th>Engine_RedBull</th>\n",
       "      <th>Engine_Renault</th>\n",
       "      <th>CircuitType_street</th>\n",
       "    </tr>\n",
       "  </thead>\n",
       "  <tbody>\n",
       "    <tr>\n",
       "      <th>723</th>\n",
       "      <td>PER</td>\n",
       "      <td>20.0</td>\n",
       "      <td>10.0</td>\n",
       "      <td>Bahrain</td>\n",
       "      <td>2021.0</td>\n",
       "      <td>31.0</td>\n",
       "      <td>90.659</td>\n",
       "      <td>0.0</td>\n",
       "      <td>9.238201</td>\n",
       "      <td>24.096333</td>\n",
       "      <td>...</td>\n",
       "      <td>0</td>\n",
       "      <td>1</td>\n",
       "      <td>0</td>\n",
       "      <td>0</td>\n",
       "      <td>0</td>\n",
       "      <td>1</td>\n",
       "      <td>0</td>\n",
       "      <td>0</td>\n",
       "      <td>0</td>\n",
       "      <td>0</td>\n",
       "    </tr>\n",
       "    <tr>\n",
       "      <th>725</th>\n",
       "      <td>LEC</td>\n",
       "      <td>4.0</td>\n",
       "      <td>8.0</td>\n",
       "      <td>Bahrain</td>\n",
       "      <td>2021.0</td>\n",
       "      <td>23.0</td>\n",
       "      <td>89.678</td>\n",
       "      <td>0.0</td>\n",
       "      <td>7.326363</td>\n",
       "      <td>24.550500</td>\n",
       "      <td>...</td>\n",
       "      <td>0</td>\n",
       "      <td>0</td>\n",
       "      <td>0</td>\n",
       "      <td>0</td>\n",
       "      <td>0</td>\n",
       "      <td>0</td>\n",
       "      <td>0</td>\n",
       "      <td>0</td>\n",
       "      <td>0</td>\n",
       "      <td>0</td>\n",
       "    </tr>\n",
       "    <tr>\n",
       "      <th>726</th>\n",
       "      <td>STR</td>\n",
       "      <td>10.0</td>\n",
       "      <td>1.0</td>\n",
       "      <td>Bahrain</td>\n",
       "      <td>2021.0</td>\n",
       "      <td>22.0</td>\n",
       "      <td>90.601</td>\n",
       "      <td>0.0</td>\n",
       "      <td>9.904268</td>\n",
       "      <td>25.204500</td>\n",
       "      <td>...</td>\n",
       "      <td>0</td>\n",
       "      <td>0</td>\n",
       "      <td>0</td>\n",
       "      <td>0</td>\n",
       "      <td>0</td>\n",
       "      <td>0</td>\n",
       "      <td>1</td>\n",
       "      <td>0</td>\n",
       "      <td>0</td>\n",
       "      <td>0</td>\n",
       "    </tr>\n",
       "    <tr>\n",
       "      <th>727</th>\n",
       "      <td>TSU</td>\n",
       "      <td>13.0</td>\n",
       "      <td>2.0</td>\n",
       "      <td>Bahrain</td>\n",
       "      <td>2021.0</td>\n",
       "      <td>20.0</td>\n",
       "      <td>90.607</td>\n",
       "      <td>0.0</td>\n",
       "      <td>9.464972</td>\n",
       "      <td>24.687000</td>\n",
       "      <td>...</td>\n",
       "      <td>0</td>\n",
       "      <td>0</td>\n",
       "      <td>0</td>\n",
       "      <td>0</td>\n",
       "      <td>0</td>\n",
       "      <td>0</td>\n",
       "      <td>0</td>\n",
       "      <td>0</td>\n",
       "      <td>0</td>\n",
       "      <td>0</td>\n",
       "    </tr>\n",
       "    <tr>\n",
       "      <th>728</th>\n",
       "      <td>RIC</td>\n",
       "      <td>6.0</td>\n",
       "      <td>6.0</td>\n",
       "      <td>Bahrain</td>\n",
       "      <td>2021.0</td>\n",
       "      <td>32.0</td>\n",
       "      <td>89.927</td>\n",
       "      <td>0.0</td>\n",
       "      <td>7.392319</td>\n",
       "      <td>24.671500</td>\n",
       "      <td>...</td>\n",
       "      <td>0</td>\n",
       "      <td>0</td>\n",
       "      <td>0</td>\n",
       "      <td>0</td>\n",
       "      <td>0</td>\n",
       "      <td>0</td>\n",
       "      <td>1</td>\n",
       "      <td>0</td>\n",
       "      <td>0</td>\n",
       "      <td>0</td>\n",
       "    </tr>\n",
       "    <tr>\n",
       "      <th>...</th>\n",
       "      <td>...</td>\n",
       "      <td>...</td>\n",
       "      <td>...</td>\n",
       "      <td>...</td>\n",
       "      <td>...</td>\n",
       "      <td>...</td>\n",
       "      <td>...</td>\n",
       "      <td>...</td>\n",
       "      <td>...</td>\n",
       "      <td>...</td>\n",
       "      <td>...</td>\n",
       "      <td>...</td>\n",
       "      <td>...</td>\n",
       "      <td>...</td>\n",
       "      <td>...</td>\n",
       "      <td>...</td>\n",
       "      <td>...</td>\n",
       "      <td>...</td>\n",
       "      <td>...</td>\n",
       "      <td>...</td>\n",
       "      <td>...</td>\n",
       "    </tr>\n",
       "    <tr>\n",
       "      <th>1538</th>\n",
       "      <td>OCO</td>\n",
       "      <td>8.0</td>\n",
       "      <td>6.0</td>\n",
       "      <td>AbuDhabi</td>\n",
       "      <td>2022.0</td>\n",
       "      <td>26.0</td>\n",
       "      <td>84.830</td>\n",
       "      <td>0.0</td>\n",
       "      <td>3.871407</td>\n",
       "      <td>21.814500</td>\n",
       "      <td>...</td>\n",
       "      <td>0</td>\n",
       "      <td>0</td>\n",
       "      <td>0</td>\n",
       "      <td>0</td>\n",
       "      <td>0</td>\n",
       "      <td>0</td>\n",
       "      <td>0</td>\n",
       "      <td>0</td>\n",
       "      <td>1</td>\n",
       "      <td>0</td>\n",
       "    </tr>\n",
       "    <tr>\n",
       "      <th>1539</th>\n",
       "      <td>NOR</td>\n",
       "      <td>7.0</td>\n",
       "      <td>8.0</td>\n",
       "      <td>AbuDhabi</td>\n",
       "      <td>2022.0</td>\n",
       "      <td>23.0</td>\n",
       "      <td>84.769</td>\n",
       "      <td>1.0</td>\n",
       "      <td>3.853917</td>\n",
       "      <td>21.896500</td>\n",
       "      <td>...</td>\n",
       "      <td>0</td>\n",
       "      <td>0</td>\n",
       "      <td>0</td>\n",
       "      <td>0</td>\n",
       "      <td>0</td>\n",
       "      <td>0</td>\n",
       "      <td>1</td>\n",
       "      <td>0</td>\n",
       "      <td>0</td>\n",
       "      <td>0</td>\n",
       "    </tr>\n",
       "    <tr>\n",
       "      <th>1542</th>\n",
       "      <td>VET</td>\n",
       "      <td>9.0</td>\n",
       "      <td>1.0</td>\n",
       "      <td>AbuDhabi</td>\n",
       "      <td>2022.0</td>\n",
       "      <td>35.0</td>\n",
       "      <td>84.961</td>\n",
       "      <td>0.0</td>\n",
       "      <td>3.057131</td>\n",
       "      <td>23.186000</td>\n",
       "      <td>...</td>\n",
       "      <td>0</td>\n",
       "      <td>0</td>\n",
       "      <td>0</td>\n",
       "      <td>0</td>\n",
       "      <td>0</td>\n",
       "      <td>0</td>\n",
       "      <td>1</td>\n",
       "      <td>0</td>\n",
       "      <td>0</td>\n",
       "      <td>0</td>\n",
       "    </tr>\n",
       "    <tr>\n",
       "      <th>1543</th>\n",
       "      <td>SAI</td>\n",
       "      <td>4.0</td>\n",
       "      <td>12.0</td>\n",
       "      <td>AbuDhabi</td>\n",
       "      <td>2022.0</td>\n",
       "      <td>28.0</td>\n",
       "      <td>84.242</td>\n",
       "      <td>0.0</td>\n",
       "      <td>3.799668</td>\n",
       "      <td>21.752500</td>\n",
       "      <td>...</td>\n",
       "      <td>0</td>\n",
       "      <td>0</td>\n",
       "      <td>0</td>\n",
       "      <td>0</td>\n",
       "      <td>0</td>\n",
       "      <td>0</td>\n",
       "      <td>0</td>\n",
       "      <td>0</td>\n",
       "      <td>0</td>\n",
       "      <td>0</td>\n",
       "    </tr>\n",
       "    <tr>\n",
       "      <th>1545</th>\n",
       "      <td>RUS</td>\n",
       "      <td>6.0</td>\n",
       "      <td>10.0</td>\n",
       "      <td>AbuDhabi</td>\n",
       "      <td>2022.0</td>\n",
       "      <td>23.0</td>\n",
       "      <td>84.511</td>\n",
       "      <td>0.0</td>\n",
       "      <td>4.489247</td>\n",
       "      <td>26.087000</td>\n",
       "      <td>...</td>\n",
       "      <td>0</td>\n",
       "      <td>0</td>\n",
       "      <td>0</td>\n",
       "      <td>0</td>\n",
       "      <td>0</td>\n",
       "      <td>0</td>\n",
       "      <td>1</td>\n",
       "      <td>0</td>\n",
       "      <td>0</td>\n",
       "      <td>0</td>\n",
       "    </tr>\n",
       "  </tbody>\n",
       "</table>\n",
       "<p>428 rows × 44 columns</p>\n",
       "</div>"
      ],
      "text/plain": [
       "     Abbreviation  GridPosition  Points RaceCountry    Year  AgeAtGP  \\\n",
       "723           PER          20.0    10.0     Bahrain  2021.0     31.0   \n",
       "725           LEC           4.0     8.0     Bahrain  2021.0     23.0   \n",
       "726           STR          10.0     1.0     Bahrain  2021.0     22.0   \n",
       "727           TSU          13.0     2.0     Bahrain  2021.0     20.0   \n",
       "728           RIC           6.0     6.0     Bahrain  2021.0     32.0   \n",
       "...           ...           ...     ...         ...     ...      ...   \n",
       "1538          OCO           8.0     6.0    AbuDhabi  2022.0     26.0   \n",
       "1539          NOR           7.0     8.0    AbuDhabi  2022.0     23.0   \n",
       "1542          VET           9.0     1.0    AbuDhabi  2022.0     35.0   \n",
       "1543          SAI           4.0    12.0    AbuDhabi  2022.0     28.0   \n",
       "1545          RUS           6.0    10.0    AbuDhabi  2022.0     23.0   \n",
       "\n",
       "      BestQualiTime  FLap  SDLapTime  AvgPitTime  ...  TeamName_RacingPoint  \\\n",
       "723          90.659   0.0   9.238201   24.096333  ...                     0   \n",
       "725          89.678   0.0   7.326363   24.550500  ...                     0   \n",
       "726          90.601   0.0   9.904268   25.204500  ...                     0   \n",
       "727          90.607   0.0   9.464972   24.687000  ...                     0   \n",
       "728          89.927   0.0   7.392319   24.671500  ...                     0   \n",
       "...             ...   ...        ...         ...  ...                   ...   \n",
       "1538         84.830   0.0   3.871407   21.814500  ...                     0   \n",
       "1539         84.769   1.0   3.853917   21.896500  ...                     0   \n",
       "1542         84.961   0.0   3.057131   23.186000  ...                     0   \n",
       "1543         84.242   0.0   3.799668   21.752500  ...                     0   \n",
       "1545         84.511   0.0   4.489247   26.087000  ...                     0   \n",
       "\n",
       "      TeamName_RedBullRacing  TeamName_Renault  TeamName_ToroRosso  \\\n",
       "723                        1                 0                   0   \n",
       "725                        0                 0                   0   \n",
       "726                        0                 0                   0   \n",
       "727                        0                 0                   0   \n",
       "728                        0                 0                   0   \n",
       "...                      ...               ...                 ...   \n",
       "1538                       0                 0                   0   \n",
       "1539                       0                 0                   0   \n",
       "1542                       0                 0                   0   \n",
       "1543                       0                 0                   0   \n",
       "1545                       0                 0                   0   \n",
       "\n",
       "      TeamName_Williams  Engine_Honda  Engine_Mercedes  Engine_RedBull  \\\n",
       "723                   0             1                0               0   \n",
       "725                   0             0                0               0   \n",
       "726                   0             0                1               0   \n",
       "727                   0             0                0               0   \n",
       "728                   0             0                1               0   \n",
       "...                 ...           ...              ...             ...   \n",
       "1538                  0             0                0               0   \n",
       "1539                  0             0                1               0   \n",
       "1542                  0             0                1               0   \n",
       "1543                  0             0                0               0   \n",
       "1545                  0             0                1               0   \n",
       "\n",
       "      Engine_Renault  CircuitType_street  \n",
       "723                0                   0  \n",
       "725                0                   0  \n",
       "726                0                   0  \n",
       "727                0                   0  \n",
       "728                0                   0  \n",
       "...              ...                 ...  \n",
       "1538               1                   0  \n",
       "1539               0                   0  \n",
       "1542               0                   0  \n",
       "1543               0                   0  \n",
       "1545               0                   0  \n",
       "\n",
       "[428 rows x 44 columns]"
      ]
     },
     "execution_count": 30,
     "metadata": {},
     "output_type": "execute_result"
    }
   ],
   "source": [
    "df_after"
   ]
  },
  {
   "cell_type": "code",
   "execution_count": 31,
   "metadata": {},
   "outputs": [],
   "source": [
    "# Split the data into train and test sets based on the raceID column\n",
    "train_df = df_after[(df_after['raceID'] >= 38) & (df_after['raceID'] <= 72)]\n",
    "test_df = df_after[(df_after['raceID'] >= 73) & (df_after['raceID'] <= 80)]"
   ]
  },
  {
   "cell_type": "code",
   "execution_count": 32,
   "metadata": {},
   "outputs": [],
   "source": [
    "X_train = train_df.drop('Points', axis=1)\n",
    "Y_train = train_df['Points']\n",
    "X_test = test_df.drop('Points', axis=1)\n",
    "Y_test = test_df['Points']"
   ]
  },
  {
   "cell_type": "code",
   "execution_count": 33,
   "metadata": {},
   "outputs": [],
   "source": [
    "X_train = X_train.drop('RaceCountry', axis=1)\n",
    "X_train = X_train.drop('Year', axis=1)\n",
    "X_test = X_test.drop('RaceCountry', axis=1)\n",
    "X_test = X_test.drop('Year', axis=1)"
   ]
  },
  {
   "cell_type": "code",
   "execution_count": 34,
   "metadata": {},
   "outputs": [],
   "source": [
    "x_train = X_train.drop(['Abbreviation', 'raceID'], axis = 1)\n",
    "Z_train = X_train[['raceID']]\n",
    "clusters_train = X_train['raceID']"
   ]
  },
  {
   "cell_type": "code",
   "execution_count": 35,
   "metadata": {},
   "outputs": [
    {
     "name": "stderr",
     "output_type": "stream",
     "text": [
      "INFO     [merf.py:307] Training GLL is -1156.4901275319978 at iteration 1.\n",
      "INFO     [merf.py:307] Training GLL is -2072.7546998689268 at iteration 2.\n",
      "INFO     [merf.py:307] Training GLL is -2987.7841754854853 at iteration 3.\n",
      "INFO     [merf.py:307] Training GLL is -3881.9599211375403 at iteration 4.\n",
      "INFO     [merf.py:307] Training GLL is -4661.450462566137 at iteration 5.\n",
      "INFO     [merf.py:307] Training GLL is -5013.230426990707 at iteration 6.\n",
      "INFO     [merf.py:307] Training GLL is -4865.938757800317 at iteration 7.\n",
      "INFO     [merf.py:307] Training GLL is -5102.08300296113 at iteration 8.\n",
      "INFO     [merf.py:307] Training GLL is -4832.081579774717 at iteration 9.\n",
      "INFO     [merf.py:307] Training GLL is -4724.234464335062 at iteration 10.\n",
      "INFO     [merf.py:307] Training GLL is -4923.589080953077 at iteration 11.\n",
      "INFO     [merf.py:307] Training GLL is -4911.834004352975 at iteration 12.\n",
      "INFO     [merf.py:307] Training GLL is -5099.217299629781 at iteration 13.\n",
      "INFO     [merf.py:307] Training GLL is -4774.480036188563 at iteration 14.\n",
      "INFO     [merf.py:307] Training GLL is -5134.074115651459 at iteration 15.\n",
      "INFO     [merf.py:307] Training GLL is -4681.3114996479 at iteration 16.\n",
      "INFO     [merf.py:307] Training GLL is -4738.366067832339 at iteration 17.\n",
      "INFO     [merf.py:307] Training GLL is -4543.342979748497 at iteration 18.\n",
      "INFO     [merf.py:307] Training GLL is -5089.823430116344 at iteration 19.\n",
      "INFO     [merf.py:307] Training GLL is -5073.698777512074 at iteration 20.\n",
      "INFO     [merf.py:307] Training GLL is -4751.390209765819 at iteration 21.\n",
      "INFO     [merf.py:307] Training GLL is -5178.909881624675 at iteration 22.\n",
      "INFO     [merf.py:307] Training GLL is -4863.582400537256 at iteration 23.\n",
      "INFO     [merf.py:307] Training GLL is -4856.400511399307 at iteration 24.\n",
      "INFO     [merf.py:307] Training GLL is -4928.984867198226 at iteration 25.\n",
      "INFO     [merf.py:307] Training GLL is -5083.6559983302595 at iteration 26.\n",
      "INFO     [merf.py:307] Training GLL is -4984.116820986418 at iteration 27.\n",
      "INFO     [merf.py:307] Training GLL is -4849.4022824125495 at iteration 28.\n",
      "INFO     [merf.py:307] Training GLL is -4867.6151116814235 at iteration 29.\n",
      "INFO     [merf.py:307] Training GLL is -4542.661251687474 at iteration 30.\n"
     ]
    },
    {
     "data": {
      "text/plain": [
       "<merf.merf.MERF at 0x7fe26298a850>"
      ]
     },
     "execution_count": 35,
     "metadata": {},
     "output_type": "execute_result"
    }
   ],
   "source": [
    "mrf.fit(x_train, Z_train, clusters_train, Y_train)"
   ]
  },
  {
   "cell_type": "code",
   "execution_count": 36,
   "metadata": {},
   "outputs": [],
   "source": [
    "train_preds = mrf.predict(x_train, Z_train, clusters_train)"
   ]
  },
  {
   "cell_type": "code",
   "execution_count": 37,
   "metadata": {},
   "outputs": [
    {
     "name": "stdout",
     "output_type": "stream",
     "text": [
      "Test MSE: 9.139790307852647e-06\n",
      "Test RMSE: 0.0030232086113684987\n",
      "Test MAE: 0.002047876688255661\n",
      "Test R-squared: 0.9999998245079853\n"
     ]
    }
   ],
   "source": [
    "from sklearn.metrics import mean_squared_error, mean_absolute_error, r2_score\n",
    "\n",
    "mse = mean_squared_error(Y_train, train_preds)\n",
    "rmse = np.sqrt(mse)\n",
    "mae = mean_absolute_error(Y_train, train_preds)\n",
    "r2 = r2_score(Y_train, train_preds)\n",
    "\n",
    "# Print the performance metrics\n",
    "print(\"Test MSE:\", mse)\n",
    "print(\"Test RMSE:\", rmse)\n",
    "print(\"Test MAE:\", mae)\n",
    "print(\"Test R-squared:\", r2)"
   ]
  },
  {
   "attachments": {},
   "cell_type": "markdown",
   "metadata": {},
   "source": [
    "# Test Dataset"
   ]
  },
  {
   "cell_type": "code",
   "execution_count": 38,
   "metadata": {},
   "outputs": [],
   "source": [
    "x_test = X_test.drop(['Abbreviation', 'raceID'], axis = 1)\n",
    "Z_test = X_test[['raceID']]\n",
    "clusters_test = X_test['raceID']"
   ]
  },
  {
   "cell_type": "code",
   "execution_count": 39,
   "metadata": {},
   "outputs": [],
   "source": [
    "y_pred = mrf.predict(x_test, Z_test, clusters_test)"
   ]
  },
  {
   "cell_type": "code",
   "execution_count": 40,
   "metadata": {},
   "outputs": [
    {
     "name": "stdout",
     "output_type": "stream",
     "text": [
      "Test MSE: 24.65488428205937\n",
      "Test RMSE: 4.965368494085748\n",
      "Test MAE: 3.734183921664953\n",
      "Test R-squared: 0.5248625114268766\n"
     ]
    }
   ],
   "source": [
    "from sklearn.metrics import mean_squared_error, mean_absolute_error, r2_score\n",
    "\n",
    "mse = mean_squared_error(Y_test, y_pred)\n",
    "rmse = np.sqrt(mse)\n",
    "mae = mean_absolute_error(Y_test, y_pred)\n",
    "r2 = r2_score(Y_test, y_pred)\n",
    "\n",
    "# Print the performance metrics\n",
    "print(\"Test MSE:\", mse)\n",
    "print(\"Test RMSE:\", rmse)\n",
    "print(\"Test MAE:\", mae)\n",
    "print(\"Test R-squared:\", r2)\n"
   ]
  },
  {
   "cell_type": "code",
   "execution_count": 41,
   "metadata": {},
   "outputs": [
    {
     "name": "stdout",
     "output_type": "stream",
     "text": [
      "      Y_test     y_pred\n",
      "1392    25.0  17.838739\n",
      "1394    10.0   9.969255\n",
      "1395     8.0   2.448043\n",
      "1396    15.0  17.902040\n",
      "1397     1.0   3.478636\n",
      "...      ...        ...\n",
      "1538     6.0   6.746423\n",
      "1539     8.0   7.469594\n",
      "1542     1.0   6.674877\n",
      "1543    12.0  12.841595\n",
      "1545    10.0  10.288171\n",
      "\n",
      "[80 rows x 2 columns]\n"
     ]
    }
   ],
   "source": [
    "data = {\"Y_test\": Y_test, \"y_pred\": y_pred}\n",
    "\n",
    "# Create the DataFrame\n",
    "dfplot = pd.DataFrame(data)\n",
    "\n",
    "# Print the DataFrame\n",
    "print(dfplot)\n",
    "\n"
   ]
  },
  {
   "cell_type": "code",
   "execution_count": 42,
   "metadata": {},
   "outputs": [
    {
     "data": {
      "application/vnd.plotly.v1+json": {
       "config": {
        "plotlyServerURL": "https://plot.ly"
       },
       "data": [
        {
         "hovertemplate": "Y_test=%{x}<br>y_pred=%{y}<extra></extra>",
         "legendgroup": "",
         "marker": {
          "color": "red",
          "opacity": 0.65,
          "symbol": "circle"
         },
         "mode": "markers",
         "name": "",
         "orientation": "v",
         "showlegend": false,
         "type": "scatter",
         "x": [
          25,
          10,
          8,
          15,
          1,
          2,
          6,
          12,
          4,
          18,
          25,
          4,
          8,
          18,
          1,
          6,
          10,
          2,
          12,
          15,
          6,
          1,
          25,
          18,
          8,
          10,
          12,
          2,
          4,
          15,
          25,
          18,
          6,
          15,
          12,
          1,
          10,
          8,
          2,
          4,
          25,
          12,
          6,
          15,
          2,
          1,
          8,
          18,
          4,
          10,
          25,
          15,
          8,
          6,
          4,
          2,
          18,
          10,
          12,
          1,
          8,
          6,
          10,
          12,
          1,
          4,
          18,
          15,
          25,
          2,
          25,
          15,
          18,
          4,
          2,
          6,
          8,
          1,
          12,
          10
         ],
         "xaxis": "x",
         "y": [
          17.8387393951416,
          9.969255447387695,
          2.44804310798645,
          17.902040481567383,
          3.478635549545288,
          4.31486177444458,
          6.806872844696045,
          15.037883758544922,
          17.31514549255371,
          11.073512077331543,
          10.20080280303955,
          7.728296279907227,
          10.450984001159668,
          18.11417007446289,
          4.882708549499512,
          11.3201265335083,
          6.763547420501709,
          5.3719868659973145,
          7.877448081970215,
          19.383346557617188,
          10.596404075622559,
          12.443347930908203,
          18.71852684020996,
          12.851157188415527,
          2.605219602584839,
          1.9817392826080322,
          11.192660331726074,
          13.617952346801758,
          2.6981968879699707,
          12.176141738891602,
          21.329496383666992,
          18.416399002075195,
          7.239339828491211,
          18.128158569335938,
          13.2298002243042,
          2.552241086959839,
          10.741857528686523,
          3.5664238929748535,
          2.429710865020752,
          6.631594181060791,
          22.542810440063477,
          17.547903060913086,
          1.7787331342697144,
          6.373683929443359,
          2.3754723072052,
          2.2509381771087646,
          6.993366241455078,
          15.08343505859375,
          4.7597503662109375,
          16.44066047668457,
          19.120410919189453,
          12.778005599975586,
          7.242867469787598,
          4.690131187438965,
          4.492741584777832,
          7.422178268432617,
          18.68471908569336,
          8.006102561950684,
          19.95575523376465,
          8.943394660949707,
          18.35637092590332,
          14.587183952331543,
          2.9777894020080566,
          10.301727294921875,
          0.3474840521812439,
          3.5745177268981934,
          17.549392700195312,
          8.752371788024902,
          19.696460723876953,
          3.108924627304077,
          24.450727462768555,
          8.98554515838623,
          13.408036231994629,
          2.3570358753204346,
          2.894930601119995,
          6.746423244476318,
          7.4695940017700195,
          6.674876689910889,
          12.841594696044922,
          10.28817081451416
         ],
         "yaxis": "y"
        },
        {
         "hovertemplate": "<b>OLS trendline</b><br>y_pred = 0.623852 * Y_test + 3.87756<br>R<sup>2</sup>=0.538507<br><br>Y_test=%{x}<br>y_pred=%{y} <b>(trend)</b><extra></extra>",
         "legendgroup": "",
         "line": {
          "color": "darkblue"
         },
         "marker": {
          "color": "red",
          "symbol": "circle"
         },
         "mode": "lines",
         "name": "",
         "showlegend": false,
         "type": "scatter",
         "x": [
          1,
          1,
          1,
          1,
          1,
          1,
          1,
          1,
          2,
          2,
          2,
          2,
          2,
          2,
          2,
          2,
          4,
          4,
          4,
          4,
          4,
          4,
          4,
          4,
          6,
          6,
          6,
          6,
          6,
          6,
          6,
          6,
          8,
          8,
          8,
          8,
          8,
          8,
          8,
          8,
          10,
          10,
          10,
          10,
          10,
          10,
          10,
          10,
          12,
          12,
          12,
          12,
          12,
          12,
          12,
          12,
          15,
          15,
          15,
          15,
          15,
          15,
          15,
          15,
          18,
          18,
          18,
          18,
          18,
          18,
          18,
          18,
          25,
          25,
          25,
          25,
          25,
          25,
          25,
          25
         ],
         "xaxis": "x",
         "y": [
          4.501411314151272,
          4.501411314151272,
          4.501411314151272,
          4.501411314151272,
          4.501411314151272,
          4.501411314151272,
          4.501411314151272,
          4.501411314151272,
          5.125263082677283,
          5.125263082677283,
          5.125263082677283,
          5.125263082677283,
          5.125263082677283,
          5.125263082677283,
          5.125263082677283,
          5.125263082677283,
          6.372966619729305,
          6.372966619729305,
          6.372966619729305,
          6.372966619729305,
          6.372966619729305,
          6.372966619729305,
          6.372966619729305,
          6.372966619729305,
          7.620670156781327,
          7.620670156781327,
          7.620670156781327,
          7.620670156781327,
          7.620670156781327,
          7.620670156781327,
          7.620670156781327,
          7.620670156781327,
          8.868373693833348,
          8.868373693833348,
          8.868373693833348,
          8.868373693833348,
          8.868373693833348,
          8.868373693833348,
          8.868373693833348,
          8.868373693833348,
          10.11607723088537,
          10.11607723088537,
          10.11607723088537,
          10.11607723088537,
          10.11607723088537,
          10.11607723088537,
          10.11607723088537,
          10.11607723088537,
          11.363780767937392,
          11.363780767937392,
          11.363780767937392,
          11.363780767937392,
          11.363780767937392,
          11.363780767937392,
          11.363780767937392,
          11.363780767937392,
          13.235336073515427,
          13.235336073515427,
          13.235336073515427,
          13.235336073515427,
          13.235336073515427,
          13.235336073515427,
          13.235336073515427,
          13.235336073515427,
          15.106891379093458,
          15.106891379093458,
          15.106891379093458,
          15.106891379093458,
          15.106891379093458,
          15.106891379093458,
          15.106891379093458,
          15.106891379093458,
          19.473853758775537,
          19.473853758775537,
          19.473853758775537,
          19.473853758775537,
          19.473853758775537,
          19.473853758775537,
          19.473853758775537,
          19.473853758775537
         ],
         "yaxis": "y"
        }
       ],
       "layout": {
        "height": 400,
        "legend": {
         "tracegroupgap": 0
        },
        "margin": {
         "t": 60
        },
        "template": {
         "data": {
          "bar": [
           {
            "error_x": {
             "color": "#2a3f5f"
            },
            "error_y": {
             "color": "#2a3f5f"
            },
            "marker": {
             "line": {
              "color": "#E5ECF6",
              "width": 0.5
             },
             "pattern": {
              "fillmode": "overlay",
              "size": 10,
              "solidity": 0.2
             }
            },
            "type": "bar"
           }
          ],
          "barpolar": [
           {
            "marker": {
             "line": {
              "color": "#E5ECF6",
              "width": 0.5
             },
             "pattern": {
              "fillmode": "overlay",
              "size": 10,
              "solidity": 0.2
             }
            },
            "type": "barpolar"
           }
          ],
          "carpet": [
           {
            "aaxis": {
             "endlinecolor": "#2a3f5f",
             "gridcolor": "white",
             "linecolor": "white",
             "minorgridcolor": "white",
             "startlinecolor": "#2a3f5f"
            },
            "baxis": {
             "endlinecolor": "#2a3f5f",
             "gridcolor": "white",
             "linecolor": "white",
             "minorgridcolor": "white",
             "startlinecolor": "#2a3f5f"
            },
            "type": "carpet"
           }
          ],
          "choropleth": [
           {
            "colorbar": {
             "outlinewidth": 0,
             "ticks": ""
            },
            "type": "choropleth"
           }
          ],
          "contour": [
           {
            "colorbar": {
             "outlinewidth": 0,
             "ticks": ""
            },
            "colorscale": [
             [
              0,
              "#0d0887"
             ],
             [
              0.1111111111111111,
              "#46039f"
             ],
             [
              0.2222222222222222,
              "#7201a8"
             ],
             [
              0.3333333333333333,
              "#9c179e"
             ],
             [
              0.4444444444444444,
              "#bd3786"
             ],
             [
              0.5555555555555556,
              "#d8576b"
             ],
             [
              0.6666666666666666,
              "#ed7953"
             ],
             [
              0.7777777777777778,
              "#fb9f3a"
             ],
             [
              0.8888888888888888,
              "#fdca26"
             ],
             [
              1,
              "#f0f921"
             ]
            ],
            "type": "contour"
           }
          ],
          "contourcarpet": [
           {
            "colorbar": {
             "outlinewidth": 0,
             "ticks": ""
            },
            "type": "contourcarpet"
           }
          ],
          "heatmap": [
           {
            "colorbar": {
             "outlinewidth": 0,
             "ticks": ""
            },
            "colorscale": [
             [
              0,
              "#0d0887"
             ],
             [
              0.1111111111111111,
              "#46039f"
             ],
             [
              0.2222222222222222,
              "#7201a8"
             ],
             [
              0.3333333333333333,
              "#9c179e"
             ],
             [
              0.4444444444444444,
              "#bd3786"
             ],
             [
              0.5555555555555556,
              "#d8576b"
             ],
             [
              0.6666666666666666,
              "#ed7953"
             ],
             [
              0.7777777777777778,
              "#fb9f3a"
             ],
             [
              0.8888888888888888,
              "#fdca26"
             ],
             [
              1,
              "#f0f921"
             ]
            ],
            "type": "heatmap"
           }
          ],
          "heatmapgl": [
           {
            "colorbar": {
             "outlinewidth": 0,
             "ticks": ""
            },
            "colorscale": [
             [
              0,
              "#0d0887"
             ],
             [
              0.1111111111111111,
              "#46039f"
             ],
             [
              0.2222222222222222,
              "#7201a8"
             ],
             [
              0.3333333333333333,
              "#9c179e"
             ],
             [
              0.4444444444444444,
              "#bd3786"
             ],
             [
              0.5555555555555556,
              "#d8576b"
             ],
             [
              0.6666666666666666,
              "#ed7953"
             ],
             [
              0.7777777777777778,
              "#fb9f3a"
             ],
             [
              0.8888888888888888,
              "#fdca26"
             ],
             [
              1,
              "#f0f921"
             ]
            ],
            "type": "heatmapgl"
           }
          ],
          "histogram": [
           {
            "marker": {
             "pattern": {
              "fillmode": "overlay",
              "size": 10,
              "solidity": 0.2
             }
            },
            "type": "histogram"
           }
          ],
          "histogram2d": [
           {
            "colorbar": {
             "outlinewidth": 0,
             "ticks": ""
            },
            "colorscale": [
             [
              0,
              "#0d0887"
             ],
             [
              0.1111111111111111,
              "#46039f"
             ],
             [
              0.2222222222222222,
              "#7201a8"
             ],
             [
              0.3333333333333333,
              "#9c179e"
             ],
             [
              0.4444444444444444,
              "#bd3786"
             ],
             [
              0.5555555555555556,
              "#d8576b"
             ],
             [
              0.6666666666666666,
              "#ed7953"
             ],
             [
              0.7777777777777778,
              "#fb9f3a"
             ],
             [
              0.8888888888888888,
              "#fdca26"
             ],
             [
              1,
              "#f0f921"
             ]
            ],
            "type": "histogram2d"
           }
          ],
          "histogram2dcontour": [
           {
            "colorbar": {
             "outlinewidth": 0,
             "ticks": ""
            },
            "colorscale": [
             [
              0,
              "#0d0887"
             ],
             [
              0.1111111111111111,
              "#46039f"
             ],
             [
              0.2222222222222222,
              "#7201a8"
             ],
             [
              0.3333333333333333,
              "#9c179e"
             ],
             [
              0.4444444444444444,
              "#bd3786"
             ],
             [
              0.5555555555555556,
              "#d8576b"
             ],
             [
              0.6666666666666666,
              "#ed7953"
             ],
             [
              0.7777777777777778,
              "#fb9f3a"
             ],
             [
              0.8888888888888888,
              "#fdca26"
             ],
             [
              1,
              "#f0f921"
             ]
            ],
            "type": "histogram2dcontour"
           }
          ],
          "mesh3d": [
           {
            "colorbar": {
             "outlinewidth": 0,
             "ticks": ""
            },
            "type": "mesh3d"
           }
          ],
          "parcoords": [
           {
            "line": {
             "colorbar": {
              "outlinewidth": 0,
              "ticks": ""
             }
            },
            "type": "parcoords"
           }
          ],
          "pie": [
           {
            "automargin": true,
            "type": "pie"
           }
          ],
          "scatter": [
           {
            "fillpattern": {
             "fillmode": "overlay",
             "size": 10,
             "solidity": 0.2
            },
            "type": "scatter"
           }
          ],
          "scatter3d": [
           {
            "line": {
             "colorbar": {
              "outlinewidth": 0,
              "ticks": ""
             }
            },
            "marker": {
             "colorbar": {
              "outlinewidth": 0,
              "ticks": ""
             }
            },
            "type": "scatter3d"
           }
          ],
          "scattercarpet": [
           {
            "marker": {
             "colorbar": {
              "outlinewidth": 0,
              "ticks": ""
             }
            },
            "type": "scattercarpet"
           }
          ],
          "scattergeo": [
           {
            "marker": {
             "colorbar": {
              "outlinewidth": 0,
              "ticks": ""
             }
            },
            "type": "scattergeo"
           }
          ],
          "scattergl": [
           {
            "marker": {
             "colorbar": {
              "outlinewidth": 0,
              "ticks": ""
             }
            },
            "type": "scattergl"
           }
          ],
          "scattermapbox": [
           {
            "marker": {
             "colorbar": {
              "outlinewidth": 0,
              "ticks": ""
             }
            },
            "type": "scattermapbox"
           }
          ],
          "scatterpolar": [
           {
            "marker": {
             "colorbar": {
              "outlinewidth": 0,
              "ticks": ""
             }
            },
            "type": "scatterpolar"
           }
          ],
          "scatterpolargl": [
           {
            "marker": {
             "colorbar": {
              "outlinewidth": 0,
              "ticks": ""
             }
            },
            "type": "scatterpolargl"
           }
          ],
          "scatterternary": [
           {
            "marker": {
             "colorbar": {
              "outlinewidth": 0,
              "ticks": ""
             }
            },
            "type": "scatterternary"
           }
          ],
          "surface": [
           {
            "colorbar": {
             "outlinewidth": 0,
             "ticks": ""
            },
            "colorscale": [
             [
              0,
              "#0d0887"
             ],
             [
              0.1111111111111111,
              "#46039f"
             ],
             [
              0.2222222222222222,
              "#7201a8"
             ],
             [
              0.3333333333333333,
              "#9c179e"
             ],
             [
              0.4444444444444444,
              "#bd3786"
             ],
             [
              0.5555555555555556,
              "#d8576b"
             ],
             [
              0.6666666666666666,
              "#ed7953"
             ],
             [
              0.7777777777777778,
              "#fb9f3a"
             ],
             [
              0.8888888888888888,
              "#fdca26"
             ],
             [
              1,
              "#f0f921"
             ]
            ],
            "type": "surface"
           }
          ],
          "table": [
           {
            "cells": {
             "fill": {
              "color": "#EBF0F8"
             },
             "line": {
              "color": "white"
             }
            },
            "header": {
             "fill": {
              "color": "#C8D4E3"
             },
             "line": {
              "color": "white"
             }
            },
            "type": "table"
           }
          ]
         },
         "layout": {
          "annotationdefaults": {
           "arrowcolor": "#2a3f5f",
           "arrowhead": 0,
           "arrowwidth": 1
          },
          "autotypenumbers": "strict",
          "coloraxis": {
           "colorbar": {
            "outlinewidth": 0,
            "ticks": ""
           }
          },
          "colorscale": {
           "diverging": [
            [
             0,
             "#8e0152"
            ],
            [
             0.1,
             "#c51b7d"
            ],
            [
             0.2,
             "#de77ae"
            ],
            [
             0.3,
             "#f1b6da"
            ],
            [
             0.4,
             "#fde0ef"
            ],
            [
             0.5,
             "#f7f7f7"
            ],
            [
             0.6,
             "#e6f5d0"
            ],
            [
             0.7,
             "#b8e186"
            ],
            [
             0.8,
             "#7fbc41"
            ],
            [
             0.9,
             "#4d9221"
            ],
            [
             1,
             "#276419"
            ]
           ],
           "sequential": [
            [
             0,
             "#0d0887"
            ],
            [
             0.1111111111111111,
             "#46039f"
            ],
            [
             0.2222222222222222,
             "#7201a8"
            ],
            [
             0.3333333333333333,
             "#9c179e"
            ],
            [
             0.4444444444444444,
             "#bd3786"
            ],
            [
             0.5555555555555556,
             "#d8576b"
            ],
            [
             0.6666666666666666,
             "#ed7953"
            ],
            [
             0.7777777777777778,
             "#fb9f3a"
            ],
            [
             0.8888888888888888,
             "#fdca26"
            ],
            [
             1,
             "#f0f921"
            ]
           ],
           "sequentialminus": [
            [
             0,
             "#0d0887"
            ],
            [
             0.1111111111111111,
             "#46039f"
            ],
            [
             0.2222222222222222,
             "#7201a8"
            ],
            [
             0.3333333333333333,
             "#9c179e"
            ],
            [
             0.4444444444444444,
             "#bd3786"
            ],
            [
             0.5555555555555556,
             "#d8576b"
            ],
            [
             0.6666666666666666,
             "#ed7953"
            ],
            [
             0.7777777777777778,
             "#fb9f3a"
            ],
            [
             0.8888888888888888,
             "#fdca26"
            ],
            [
             1,
             "#f0f921"
            ]
           ]
          },
          "colorway": [
           "#636efa",
           "#EF553B",
           "#00cc96",
           "#ab63fa",
           "#FFA15A",
           "#19d3f3",
           "#FF6692",
           "#B6E880",
           "#FF97FF",
           "#FECB52"
          ],
          "font": {
           "color": "#2a3f5f"
          },
          "geo": {
           "bgcolor": "white",
           "lakecolor": "white",
           "landcolor": "#E5ECF6",
           "showlakes": true,
           "showland": true,
           "subunitcolor": "white"
          },
          "hoverlabel": {
           "align": "left"
          },
          "hovermode": "closest",
          "mapbox": {
           "style": "light"
          },
          "paper_bgcolor": "white",
          "plot_bgcolor": "#E5ECF6",
          "polar": {
           "angularaxis": {
            "gridcolor": "white",
            "linecolor": "white",
            "ticks": ""
           },
           "bgcolor": "#E5ECF6",
           "radialaxis": {
            "gridcolor": "white",
            "linecolor": "white",
            "ticks": ""
           }
          },
          "scene": {
           "xaxis": {
            "backgroundcolor": "#E5ECF6",
            "gridcolor": "white",
            "gridwidth": 2,
            "linecolor": "white",
            "showbackground": true,
            "ticks": "",
            "zerolinecolor": "white"
           },
           "yaxis": {
            "backgroundcolor": "#E5ECF6",
            "gridcolor": "white",
            "gridwidth": 2,
            "linecolor": "white",
            "showbackground": true,
            "ticks": "",
            "zerolinecolor": "white"
           },
           "zaxis": {
            "backgroundcolor": "#E5ECF6",
            "gridcolor": "white",
            "gridwidth": 2,
            "linecolor": "white",
            "showbackground": true,
            "ticks": "",
            "zerolinecolor": "white"
           }
          },
          "shapedefaults": {
           "line": {
            "color": "#2a3f5f"
           }
          },
          "ternary": {
           "aaxis": {
            "gridcolor": "white",
            "linecolor": "white",
            "ticks": ""
           },
           "baxis": {
            "gridcolor": "white",
            "linecolor": "white",
            "ticks": ""
           },
           "bgcolor": "#E5ECF6",
           "caxis": {
            "gridcolor": "white",
            "linecolor": "white",
            "ticks": ""
           }
          },
          "title": {
           "x": 0.05
          },
          "xaxis": {
           "automargin": true,
           "gridcolor": "white",
           "linecolor": "white",
           "ticks": "",
           "title": {
            "standoff": 15
           },
           "zerolinecolor": "white",
           "zerolinewidth": 2
          },
          "yaxis": {
           "automargin": true,
           "gridcolor": "white",
           "linecolor": "white",
           "ticks": "",
           "title": {
            "standoff": 15
           },
           "zerolinecolor": "white",
           "zerolinewidth": 2
          }
         }
        },
        "width": 550,
        "xaxis": {
         "anchor": "y",
         "domain": [
          0,
          1
         ],
         "title": {
          "text": "Y_test"
         }
        },
        "yaxis": {
         "anchor": "x",
         "domain": [
          0,
          1
         ],
         "title": {
          "text": "y_pred"
         }
        }
       }
      }
     },
     "metadata": {},
     "output_type": "display_data"
    }
   ],
   "source": [
    "fig = px.scatter(\n",
    "    dfplot, x='Y_test', y='y_pred', opacity=0.65,\n",
    "    trendline='ols', trendline_color_override='darkblue',\n",
    "    color_discrete_sequence=['red'],\n",
    "    width=550, height=400\n",
    ")\n",
    "fig.show()\n"
   ]
  },
  {
   "cell_type": "code",
   "execution_count": 46,
   "metadata": {},
   "outputs": [
    {
     "data": {
      "text/plain": [
       "Index(['Abbreviation', 'GridPosition', 'Points', 'RaceCountry', 'Year',\n",
       "       'AgeAtGP', 'BestQualiTime', 'FLap', 'SDLapTime', 'AvgPitTime',\n",
       "       'PitstopNo', 'HARD', 'INTERMEDIATE', 'MEDIUM', 'SOFT', 'WET', 'Rain',\n",
       "       'AverageSpeed', 'MaxSpeed', 'MaxRPM', 'AverageThrottle',\n",
       "       'MaxThrottlePct', 'Brake', 'raceID', 'carIssue', 'driverIssue',\n",
       "       'TeamName_AlfaRomeoRacing', 'TeamName_AlphaTauri', 'TeamName_Alpine',\n",
       "       'TeamName_AstonMartin', 'TeamName_Ferrari', 'TeamName_HaasF1Team',\n",
       "       'TeamName_McLaren', 'TeamName_Mercedes', 'TeamName_RacingPoint',\n",
       "       'TeamName_RedBullRacing', 'TeamName_Renault', 'TeamName_ToroRosso',\n",
       "       'TeamName_Williams', 'Engine_Honda', 'Engine_Mercedes',\n",
       "       'Engine_RedBull', 'Engine_Renault', 'CircuitType_street'],\n",
       "      dtype='object')"
      ]
     },
     "execution_count": 46,
     "metadata": {},
     "output_type": "execute_result"
    }
   ],
   "source": [
    "df.columns"
   ]
  },
  {
   "cell_type": "code",
   "execution_count": 43,
   "metadata": {},
   "outputs": [
    {
     "name": "stdout",
     "output_type": "stream",
     "text": [
      "                     Feature  Importance\n",
      "0          TeamName_Mercedes    0.366763\n",
      "1     TeamName_RedBullRacing    0.232540\n",
      "2           TeamName_Ferrari    0.083730\n",
      "3               GridPosition    0.082617\n",
      "4                  PitstopNo    0.024776\n",
      "5                        WET    0.018630\n",
      "6                    AgeAtGP    0.016902\n",
      "7                      Brake    0.013593\n",
      "8                     MEDIUM    0.013409\n",
      "9                   MaxSpeed    0.012517\n",
      "10                      SOFT    0.010155\n",
      "11            MaxThrottlePct    0.010019\n",
      "12                    MaxRPM    0.009329\n",
      "13                      FLap    0.009134\n",
      "14              INTERMEDIATE    0.008830\n",
      "15                AvgPitTime    0.008801\n",
      "16        CircuitType_street    0.007940\n",
      "17           AverageThrottle    0.007611\n",
      "18            Engine_RedBull    0.007138\n",
      "19      TeamName_AstonMartin    0.007001\n",
      "20              AverageSpeed    0.006829\n",
      "21             BestQualiTime    0.005879\n",
      "22         TeamName_Williams    0.005586\n",
      "23       TeamName_AlphaTauri    0.005563\n",
      "24          TeamName_McLaren    0.005490\n",
      "25                      HARD    0.005468\n",
      "26                 SDLapTime    0.004337\n",
      "27           Engine_Mercedes    0.004044\n",
      "28           TeamName_Alpine    0.003748\n",
      "29  TeamName_AlfaRomeoRacing    0.000634\n",
      "30              Engine_Honda    0.000624\n",
      "31       TeamName_HaasF1Team    0.000361\n",
      "32      TeamName_RacingPoint    0.000000\n",
      "33          TeamName_Renault    0.000000\n",
      "34        TeamName_ToroRosso    0.000000\n",
      "35               driverIssue    0.000000\n",
      "36                      Rain    0.000000\n",
      "37            Engine_Renault    0.000000\n",
      "38                  carIssue    0.000000\n"
     ]
    }
   ],
   "source": [
    "importance = mrf.trained_fe_model.feature_importances_\n",
    "importance_df_after = pd.DataFrame({'Feature': x_train.columns, 'Importance': importance})\n",
    "importance_df_after = importance_df_after.sort_values('Importance', ascending=False).reset_index(drop=True)\n",
    "print(importance_df_after)\n"
   ]
  },
  {
   "cell_type": "code",
   "execution_count": 44,
   "metadata": {},
   "outputs": [
    {
     "data": {
      "text/html": [
       "<div>\n",
       "<style scoped>\n",
       "    .dataframe tbody tr th:only-of-type {\n",
       "        vertical-align: middle;\n",
       "    }\n",
       "\n",
       "    .dataframe tbody tr th {\n",
       "        vertical-align: top;\n",
       "    }\n",
       "\n",
       "    .dataframe thead th {\n",
       "        text-align: right;\n",
       "    }\n",
       "</style>\n",
       "<table border=\"1\" class=\"dataframe\">\n",
       "  <thead>\n",
       "    <tr style=\"text-align: right;\">\n",
       "      <th></th>\n",
       "      <th>Feature</th>\n",
       "      <th>Importance_x</th>\n",
       "      <th>Importance_y</th>\n",
       "    </tr>\n",
       "  </thead>\n",
       "  <tbody>\n",
       "    <tr>\n",
       "      <th>0</th>\n",
       "      <td>TeamName_RacingPoint</td>\n",
       "      <td>0.205741</td>\n",
       "      <td>0.000000</td>\n",
       "    </tr>\n",
       "    <tr>\n",
       "      <th>1</th>\n",
       "      <td>GridPosition</td>\n",
       "      <td>0.163604</td>\n",
       "      <td>0.082617</td>\n",
       "    </tr>\n",
       "    <tr>\n",
       "      <th>2</th>\n",
       "      <td>TeamName_HaasF1Team</td>\n",
       "      <td>0.076255</td>\n",
       "      <td>0.000361</td>\n",
       "    </tr>\n",
       "    <tr>\n",
       "      <th>3</th>\n",
       "      <td>TeamName_Mercedes</td>\n",
       "      <td>0.074623</td>\n",
       "      <td>0.366763</td>\n",
       "    </tr>\n",
       "    <tr>\n",
       "      <th>4</th>\n",
       "      <td>PitstopNo</td>\n",
       "      <td>0.069269</td>\n",
       "      <td>0.024776</td>\n",
       "    </tr>\n",
       "    <tr>\n",
       "      <th>5</th>\n",
       "      <td>INTERMEDIATE</td>\n",
       "      <td>0.054051</td>\n",
       "      <td>0.008830</td>\n",
       "    </tr>\n",
       "    <tr>\n",
       "      <th>6</th>\n",
       "      <td>TeamName_RedBullRacing</td>\n",
       "      <td>0.051240</td>\n",
       "      <td>0.232540</td>\n",
       "    </tr>\n",
       "    <tr>\n",
       "      <th>7</th>\n",
       "      <td>HARD</td>\n",
       "      <td>0.031202</td>\n",
       "      <td>0.005468</td>\n",
       "    </tr>\n",
       "    <tr>\n",
       "      <th>8</th>\n",
       "      <td>MaxSpeed</td>\n",
       "      <td>0.030236</td>\n",
       "      <td>0.012517</td>\n",
       "    </tr>\n",
       "    <tr>\n",
       "      <th>9</th>\n",
       "      <td>TeamName_AlfaRomeoRacing</td>\n",
       "      <td>0.025095</td>\n",
       "      <td>0.000634</td>\n",
       "    </tr>\n",
       "    <tr>\n",
       "      <th>10</th>\n",
       "      <td>TeamName_McLaren</td>\n",
       "      <td>0.023150</td>\n",
       "      <td>0.005490</td>\n",
       "    </tr>\n",
       "    <tr>\n",
       "      <th>11</th>\n",
       "      <td>MEDIUM</td>\n",
       "      <td>0.021886</td>\n",
       "      <td>0.013409</td>\n",
       "    </tr>\n",
       "    <tr>\n",
       "      <th>12</th>\n",
       "      <td>MaxThrottlePct</td>\n",
       "      <td>0.020069</td>\n",
       "      <td>0.010019</td>\n",
       "    </tr>\n",
       "    <tr>\n",
       "      <th>13</th>\n",
       "      <td>TeamName_Ferrari</td>\n",
       "      <td>0.018695</td>\n",
       "      <td>0.083730</td>\n",
       "    </tr>\n",
       "    <tr>\n",
       "      <th>14</th>\n",
       "      <td>Brake</td>\n",
       "      <td>0.017824</td>\n",
       "      <td>0.013593</td>\n",
       "    </tr>\n",
       "    <tr>\n",
       "      <th>15</th>\n",
       "      <td>SDLapTime</td>\n",
       "      <td>0.015919</td>\n",
       "      <td>0.004337</td>\n",
       "    </tr>\n",
       "    <tr>\n",
       "      <th>16</th>\n",
       "      <td>SOFT</td>\n",
       "      <td>0.014112</td>\n",
       "      <td>0.010155</td>\n",
       "    </tr>\n",
       "    <tr>\n",
       "      <th>17</th>\n",
       "      <td>TeamName_ToroRosso</td>\n",
       "      <td>0.012100</td>\n",
       "      <td>0.000000</td>\n",
       "    </tr>\n",
       "    <tr>\n",
       "      <th>18</th>\n",
       "      <td>AgeAtGP</td>\n",
       "      <td>0.012061</td>\n",
       "      <td>0.016902</td>\n",
       "    </tr>\n",
       "    <tr>\n",
       "      <th>19</th>\n",
       "      <td>AverageThrottle</td>\n",
       "      <td>0.011261</td>\n",
       "      <td>0.007611</td>\n",
       "    </tr>\n",
       "    <tr>\n",
       "      <th>20</th>\n",
       "      <td>MaxRPM</td>\n",
       "      <td>0.011133</td>\n",
       "      <td>0.009329</td>\n",
       "    </tr>\n",
       "    <tr>\n",
       "      <th>21</th>\n",
       "      <td>BestQualiTime</td>\n",
       "      <td>0.008501</td>\n",
       "      <td>0.005879</td>\n",
       "    </tr>\n",
       "    <tr>\n",
       "      <th>22</th>\n",
       "      <td>AverageSpeed</td>\n",
       "      <td>0.007821</td>\n",
       "      <td>0.006829</td>\n",
       "    </tr>\n",
       "    <tr>\n",
       "      <th>23</th>\n",
       "      <td>Engine_Honda</td>\n",
       "      <td>0.006945</td>\n",
       "      <td>0.000624</td>\n",
       "    </tr>\n",
       "    <tr>\n",
       "      <th>24</th>\n",
       "      <td>AvgPitTime</td>\n",
       "      <td>0.006897</td>\n",
       "      <td>0.008801</td>\n",
       "    </tr>\n",
       "    <tr>\n",
       "      <th>25</th>\n",
       "      <td>WET</td>\n",
       "      <td>0.003395</td>\n",
       "      <td>0.018630</td>\n",
       "    </tr>\n",
       "    <tr>\n",
       "      <th>26</th>\n",
       "      <td>FLap</td>\n",
       "      <td>0.002893</td>\n",
       "      <td>0.009134</td>\n",
       "    </tr>\n",
       "    <tr>\n",
       "      <th>27</th>\n",
       "      <td>TeamName_Renault</td>\n",
       "      <td>0.002470</td>\n",
       "      <td>0.000000</td>\n",
       "    </tr>\n",
       "    <tr>\n",
       "      <th>28</th>\n",
       "      <td>CircuitType_street</td>\n",
       "      <td>0.001040</td>\n",
       "      <td>0.007940</td>\n",
       "    </tr>\n",
       "    <tr>\n",
       "      <th>29</th>\n",
       "      <td>Engine_Renault</td>\n",
       "      <td>0.000360</td>\n",
       "      <td>0.000000</td>\n",
       "    </tr>\n",
       "    <tr>\n",
       "      <th>30</th>\n",
       "      <td>Engine_Mercedes</td>\n",
       "      <td>0.000104</td>\n",
       "      <td>0.004044</td>\n",
       "    </tr>\n",
       "    <tr>\n",
       "      <th>31</th>\n",
       "      <td>TeamName_AlphaTauri</td>\n",
       "      <td>0.000052</td>\n",
       "      <td>0.005563</td>\n",
       "    </tr>\n",
       "    <tr>\n",
       "      <th>32</th>\n",
       "      <td>TeamName_AstonMartin</td>\n",
       "      <td>0.000000</td>\n",
       "      <td>0.007001</td>\n",
       "    </tr>\n",
       "    <tr>\n",
       "      <th>33</th>\n",
       "      <td>TeamName_Alpine</td>\n",
       "      <td>0.000000</td>\n",
       "      <td>0.003748</td>\n",
       "    </tr>\n",
       "    <tr>\n",
       "      <th>34</th>\n",
       "      <td>driverIssue</td>\n",
       "      <td>0.000000</td>\n",
       "      <td>0.000000</td>\n",
       "    </tr>\n",
       "    <tr>\n",
       "      <th>35</th>\n",
       "      <td>TeamName_Williams</td>\n",
       "      <td>0.000000</td>\n",
       "      <td>0.005586</td>\n",
       "    </tr>\n",
       "    <tr>\n",
       "      <th>36</th>\n",
       "      <td>Rain</td>\n",
       "      <td>0.000000</td>\n",
       "      <td>0.000000</td>\n",
       "    </tr>\n",
       "    <tr>\n",
       "      <th>37</th>\n",
       "      <td>Engine_RedBull</td>\n",
       "      <td>0.000000</td>\n",
       "      <td>0.007138</td>\n",
       "    </tr>\n",
       "    <tr>\n",
       "      <th>38</th>\n",
       "      <td>carIssue</td>\n",
       "      <td>0.000000</td>\n",
       "      <td>0.000000</td>\n",
       "    </tr>\n",
       "  </tbody>\n",
       "</table>\n",
       "</div>"
      ],
      "text/plain": [
       "                     Feature  Importance_x  Importance_y\n",
       "0       TeamName_RacingPoint      0.205741      0.000000\n",
       "1               GridPosition      0.163604      0.082617\n",
       "2        TeamName_HaasF1Team      0.076255      0.000361\n",
       "3          TeamName_Mercedes      0.074623      0.366763\n",
       "4                  PitstopNo      0.069269      0.024776\n",
       "5               INTERMEDIATE      0.054051      0.008830\n",
       "6     TeamName_RedBullRacing      0.051240      0.232540\n",
       "7                       HARD      0.031202      0.005468\n",
       "8                   MaxSpeed      0.030236      0.012517\n",
       "9   TeamName_AlfaRomeoRacing      0.025095      0.000634\n",
       "10          TeamName_McLaren      0.023150      0.005490\n",
       "11                    MEDIUM      0.021886      0.013409\n",
       "12            MaxThrottlePct      0.020069      0.010019\n",
       "13          TeamName_Ferrari      0.018695      0.083730\n",
       "14                     Brake      0.017824      0.013593\n",
       "15                 SDLapTime      0.015919      0.004337\n",
       "16                      SOFT      0.014112      0.010155\n",
       "17        TeamName_ToroRosso      0.012100      0.000000\n",
       "18                   AgeAtGP      0.012061      0.016902\n",
       "19           AverageThrottle      0.011261      0.007611\n",
       "20                    MaxRPM      0.011133      0.009329\n",
       "21             BestQualiTime      0.008501      0.005879\n",
       "22              AverageSpeed      0.007821      0.006829\n",
       "23              Engine_Honda      0.006945      0.000624\n",
       "24                AvgPitTime      0.006897      0.008801\n",
       "25                       WET      0.003395      0.018630\n",
       "26                      FLap      0.002893      0.009134\n",
       "27          TeamName_Renault      0.002470      0.000000\n",
       "28        CircuitType_street      0.001040      0.007940\n",
       "29            Engine_Renault      0.000360      0.000000\n",
       "30           Engine_Mercedes      0.000104      0.004044\n",
       "31       TeamName_AlphaTauri      0.000052      0.005563\n",
       "32      TeamName_AstonMartin      0.000000      0.007001\n",
       "33           TeamName_Alpine      0.000000      0.003748\n",
       "34               driverIssue      0.000000      0.000000\n",
       "35         TeamName_Williams      0.000000      0.005586\n",
       "36                      Rain      0.000000      0.000000\n",
       "37            Engine_RedBull      0.000000      0.007138\n",
       "38                  carIssue      0.000000      0.000000"
      ]
     },
     "execution_count": 44,
     "metadata": {},
     "output_type": "execute_result"
    }
   ],
   "source": [
    "importance = pd.merge(importance_df_before, importance_df_after, on=\"Feature\")\n",
    "importance"
   ]
  }
 ],
 "metadata": {
  "kernelspec": {
   "display_name": "base",
   "language": "python",
   "name": "python3"
  },
  "language_info": {
   "codemirror_mode": {
    "name": "ipython",
    "version": 3
   },
   "file_extension": ".py",
   "mimetype": "text/x-python",
   "name": "python",
   "nbconvert_exporter": "python",
   "pygments_lexer": "ipython3",
   "version": "3.9.13"
  },
  "orig_nbformat": 4,
  "vscode": {
   "interpreter": {
    "hash": "5735bfa344102866903967fdbfb95794eb353dada4cd8a6f59858b1fed696402"
   }
  }
 },
 "nbformat": 4,
 "nbformat_minor": 2
}
