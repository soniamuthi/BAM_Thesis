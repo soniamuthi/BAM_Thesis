{
 "cells": [
  {
   "cell_type": "code",
   "execution_count": 154,
   "metadata": {},
   "outputs": [],
   "source": [
    "import pandas as pd\n",
    "from sklearn.model_selection import train_test_split\n",
    "\n",
    "from sklearn.model_selection import GridSearchCV\n",
    "from sklearn.utils import resample\n",
    "from sklearn.compose import ColumnTransformer\n",
    "from sklearn.decomposition import PCA\n",
    "import seaborn as sns\n",
    "import numpy as np\n",
    "import pickle\n",
    "from sklearn.ensemble import RandomForestRegressor\n",
    "\n",
    "from sklearn.linear_model import LinearRegression\n",
    "\n",
    "import matplotlib.pyplot as plt\n",
    "from imblearn.over_sampling import SMOTE\n",
    "from imblearn.pipeline import Pipeline\n",
    "from sklearn.preprocessing import StandardScaler\n",
    "from sklearn.linear_model import LogisticRegression\n",
    "from sklearn.ensemble import RandomForestClassifier\n",
    "from sklearn.decomposition import FactorAnalysis\n",
    "from factor_analyzer import FactorAnalyzer\n",
    "\n",
    "from sklearn.ensemble import GradientBoostingClassifier\n",
    "from sklearn.metrics import roc_auc_score\n",
    "\n",
    "%matplotlib inline\n",
    "\n",
    "from sklearn.preprocessing import OneHotEncoder\n",
    "import lightgbm as lgb\n",
    "from lightgbm import LGBMClassifier \n",
    "\n",
    "from sklearn.utils import class_weight\n",
    "from imblearn.over_sampling import SMOTE\n",
    "from imblearn.under_sampling import RandomUnderSampler\n",
    "from sklearn.decomposition import TruncatedSVD\n",
    "\n",
    "import plotly.express as px\n",
    "import plotly.graph_objs as go\n",
    "import statsmodels.formula.api as smf\n",
    "from plotly.graph_objects import Layout"
   ]
  },
  {
   "attachments": {},
   "cell_type": "markdown",
   "metadata": {},
   "source": [
    "Import the dataset and do the required pre-processing"
   ]
  },
  {
   "cell_type": "code",
   "execution_count": 155,
   "metadata": {},
   "outputs": [],
   "source": [
    "df = pd.read_csv(\"mergedData.csv\")"
   ]
  },
  {
   "cell_type": "code",
   "execution_count": 156,
   "metadata": {},
   "outputs": [],
   "source": [
    "df = df.drop(\"Unnamed: 0\", axis = 1)"
   ]
  },
  {
   "cell_type": "code",
   "execution_count": 157,
   "metadata": {},
   "outputs": [],
   "source": [
    "df = df.drop([\"DriverNumber\", \"Driver\", \"Points\"], axis = 1)\n",
    "aux = df"
   ]
  },
  {
   "cell_type": "code",
   "execution_count": 158,
   "metadata": {},
   "outputs": [],
   "source": [
    "# create new columns based on Status values\n",
    "df['carIssue'] = (df['Status'] == 'carIssue').astype(int)\n",
    "df['driverIssue'] = (df['Status'] == 'driverIssue').astype(int)\n",
    "df = df.drop('Status', axis=1)"
   ]
  },
  {
   "cell_type": "code",
   "execution_count": 160,
   "metadata": {},
   "outputs": [],
   "source": [
    "df = df.drop([\"AverageRPM\"], axis = 1)\n",
    "df = df.drop([\"AvgLapTime\"], axis = 1)\n",
    "df = df.drop([\"AvgSplitTime\"], axis = 1)"
   ]
  },
  {
   "cell_type": "code",
   "execution_count": 161,
   "metadata": {},
   "outputs": [],
   "source": [
    "df[\"RaceCountry\"] = df[\"RaceCountry\"].str.replace(\" \", \"\")\n",
    "df[\"TeamName\"] = df[\"TeamName\"].str.replace(\" \", \"\")\n",
    "df[\"Engine\"] = df[\"Engine\"].str.replace(\" \", \"\")"
   ]
  },
  {
   "cell_type": "code",
   "execution_count": 162,
   "metadata": {},
   "outputs": [],
   "source": [
    "#df.to_csv(r'df_points.csv', index=True, header=True)\n",
    "#df.to_csv(r'df_position.csv', index=True, header=True)\n",
    "#df.to_csv(r'plotdata_points.csv', index=True, header=True)\n",
    "#df.to_csv(r'plotdata_position.csv', index=True, header=True)"
   ]
  },
  {
   "cell_type": "code",
   "execution_count": 163,
   "metadata": {},
   "outputs": [],
   "source": [
    "# get a list of all categorical variables except \"Abbreviation\" and \"raceCountry\"\n",
    "cat_vars = df.select_dtypes(include=['object']).columns.tolist()\n",
    "cat_vars.remove(\"Abbreviation\")\n",
    "cat_vars.remove(\"RaceCountry\")\n",
    "\n",
    "# create dummy variables\n",
    "dummies = pd.get_dummies(df[cat_vars], drop_first=True)\n",
    "\n",
    "# drop the original categorical variables from the DataFrame\n",
    "df = df.drop(cat_vars, axis=1)\n",
    "\n",
    "# concatenate the dummy variables with the remaining variables in the DataFrame\n",
    "df = pd.concat([df, dummies], axis=1)"
   ]
  },
  {
   "cell_type": "code",
   "execution_count": 164,
   "metadata": {},
   "outputs": [],
   "source": [
    "# Split the data into two datasets based on the Year column\n",
    "df_before = df[df['Year'].isin([2019, 2020])]\n",
    "df_after = df[df['Year'].isin([2021, 2022])]"
   ]
  },
  {
   "attachments": {},
   "cell_type": "markdown",
   "metadata": {},
   "source": [
    "## MERF"
   ]
  },
  {
   "cell_type": "code",
   "execution_count": 165,
   "metadata": {},
   "outputs": [],
   "source": [
    "from merf import MERF"
   ]
  },
  {
   "attachments": {},
   "cell_type": "markdown",
   "metadata": {},
   "source": [
    "## Before model"
   ]
  },
  {
   "attachments": {},
   "cell_type": "markdown",
   "metadata": {},
   "source": [
    "## Train"
   ]
  },
  {
   "cell_type": "code",
   "execution_count": 166,
   "metadata": {},
   "outputs": [],
   "source": [
    "# Split the data into train and test sets based on the raceID column\n",
    "train_df = df_before[(df_before['raceID'] >= 1) & (df_before['raceID'] <= 29)]\n",
    "test_df = df_before[(df_before['raceID'] >= 30) & (df_before['raceID'] <= 37)]"
   ]
  },
  {
   "cell_type": "code",
   "execution_count": 167,
   "metadata": {},
   "outputs": [],
   "source": [
    "X_train = train_df.drop('Position', axis=1)\n",
    "Y_train = train_df['Position']\n",
    "X_test = test_df.drop('Position', axis=1)\n",
    "Y_test = test_df['Position']"
   ]
  },
  {
   "cell_type": "code",
   "execution_count": 168,
   "metadata": {},
   "outputs": [],
   "source": [
    "X_train = X_train.drop('RaceCountry', axis=1)\n",
    "X_train = X_train.drop('Year', axis=1)\n",
    "X_test = X_test.drop('RaceCountry', axis=1)\n",
    "X_test = X_test.drop('Year', axis=1)\n",
    "\n",
    "\n"
   ]
  },
  {
   "cell_type": "code",
   "execution_count": 169,
   "metadata": {},
   "outputs": [],
   "source": [
    "x_train = X_train.drop(['Abbreviation', 'raceID'], axis = 1)\n",
    "Z_train = X_train[['raceID']]\n",
    "clusters_train = X_train['raceID']"
   ]
  },
  {
   "cell_type": "code",
   "execution_count": 170,
   "metadata": {},
   "outputs": [
    {
     "name": "stderr",
     "output_type": "stream",
     "text": [
      "INFO     [merf.py:307] Training GLL is -1862.2847864719645 at iteration 1.\n",
      "INFO     [merf.py:307] Training GLL is -3647.630655191136 at iteration 2.\n",
      "INFO     [merf.py:307] Training GLL is -5272.782182554975 at iteration 3.\n",
      "INFO     [merf.py:307] Training GLL is -5711.852787234318 at iteration 4.\n",
      "INFO     [merf.py:307] Training GLL is -5326.753129410458 at iteration 5.\n",
      "INFO     [merf.py:307] Training GLL is -5275.457197358164 at iteration 6.\n",
      "INFO     [merf.py:307] Training GLL is -5892.664099150863 at iteration 7.\n",
      "INFO     [merf.py:307] Training GLL is -5477.966383848667 at iteration 8.\n",
      "INFO     [merf.py:307] Training GLL is -5657.643075471162 at iteration 9.\n",
      "INFO     [merf.py:307] Training GLL is -5617.1689197573805 at iteration 10.\n",
      "INFO     [merf.py:307] Training GLL is -5165.792099773413 at iteration 11.\n",
      "INFO     [merf.py:307] Training GLL is -5488.354094190334 at iteration 12.\n",
      "INFO     [merf.py:307] Training GLL is -5696.382980351925 at iteration 13.\n",
      "INFO     [merf.py:307] Training GLL is -5691.070220923426 at iteration 14.\n",
      "INFO     [merf.py:307] Training GLL is -5340.710694055083 at iteration 15.\n",
      "INFO     [merf.py:307] Training GLL is -5445.178883785311 at iteration 16.\n",
      "INFO     [merf.py:307] Training GLL is -5377.728232185007 at iteration 17.\n",
      "INFO     [merf.py:307] Training GLL is -5289.2857787177145 at iteration 18.\n",
      "INFO     [merf.py:307] Training GLL is -5567.367187891285 at iteration 19.\n",
      "INFO     [merf.py:307] Training GLL is -6054.666994323506 at iteration 20.\n",
      "INFO     [merf.py:307] Training GLL is -5862.985112907022 at iteration 21.\n",
      "INFO     [merf.py:307] Training GLL is -5127.984737112475 at iteration 22.\n",
      "INFO     [merf.py:307] Training GLL is -5083.441110749587 at iteration 23.\n",
      "INFO     [merf.py:307] Training GLL is -5342.060543814334 at iteration 24.\n",
      "INFO     [merf.py:307] Training GLL is -5294.70678485767 at iteration 25.\n",
      "INFO     [merf.py:307] Training GLL is -5566.8178597819015 at iteration 26.\n",
      "INFO     [merf.py:307] Training GLL is -5343.387473506664 at iteration 27.\n",
      "INFO     [merf.py:307] Training GLL is -5222.670771016823 at iteration 28.\n",
      "INFO     [merf.py:307] Training GLL is -5814.336168769314 at iteration 29.\n",
      "INFO     [merf.py:307] Training GLL is -5340.108175401655 at iteration 30.\n"
     ]
    },
    {
     "data": {
      "text/plain": [
       "<merf.merf.MERF at 0x7f7c9ad3b580>"
      ]
     },
     "execution_count": 170,
     "metadata": {},
     "output_type": "execute_result"
    }
   ],
   "source": [
    "import xgboost as xgb\n",
    "\n",
    "xgb_model = xgb.XGBRegressor(objective='reg:squarederror', max_depth=8, learning_rate=0.08, n_estimators=300)\n",
    "\n",
    "mrf = MERF(fixed_effects_model=xgb_model, max_iterations=30)\n",
    "mrf.fit(x_train, Z_train, clusters_train, Y_train)"
   ]
  },
  {
   "cell_type": "code",
   "execution_count": 171,
   "metadata": {},
   "outputs": [],
   "source": [
    "#regressor = mrf.fit(x_train, Z_train, clusters_train, Y_train)"
   ]
  },
  {
   "cell_type": "code",
   "execution_count": 172,
   "metadata": {},
   "outputs": [],
   "source": [
    "train_preds = mrf.predict(x_train, Z_train, clusters_train)"
   ]
  },
  {
   "cell_type": "code",
   "execution_count": 173,
   "metadata": {},
   "outputs": [
    {
     "name": "stdout",
     "output_type": "stream",
     "text": [
      "Test MSE: 5.8217849457097465e-05\n",
      "Test RMSE: 0.007630062218428987\n",
      "Test MAE: 0.005132014482793674\n",
      "Test R-squared: 0.9999982124265792\n"
     ]
    }
   ],
   "source": [
    "from sklearn.metrics import mean_squared_error, mean_absolute_error, r2_score\n",
    "\n",
    "mse = mean_squared_error(Y_train, train_preds)\n",
    "rmse = np.sqrt(mse)\n",
    "mae = mean_absolute_error(Y_train, train_preds)\n",
    "r2 = r2_score(Y_train, train_preds)\n",
    "\n",
    "# Print the performance metrics\n",
    "print(\"Test MSE:\", mse)\n",
    "print(\"Test RMSE:\", rmse)\n",
    "print(\"Test MAE:\", mae)\n",
    "print(\"Test R-squared:\", r2)\n"
   ]
  },
  {
   "attachments": {},
   "cell_type": "markdown",
   "metadata": {},
   "source": [
    "## Test"
   ]
  },
  {
   "cell_type": "code",
   "execution_count": 174,
   "metadata": {},
   "outputs": [],
   "source": [
    "x_test = X_test.drop(['Abbreviation', 'raceID'], axis = 1)\n",
    "Z_test = X_test[['raceID']]\n",
    "clusters_test = X_test['raceID']"
   ]
  },
  {
   "cell_type": "code",
   "execution_count": 176,
   "metadata": {},
   "outputs": [],
   "source": [
    "y_pred = mrf.predict(x_test, Z_test, clusters_test)"
   ]
  },
  {
   "cell_type": "code",
   "execution_count": 177,
   "metadata": {},
   "outputs": [
    {
     "name": "stdout",
     "output_type": "stream",
     "text": [
      "Test MSE: 10.222745296459669\n",
      "Test RMSE: 3.1973028158839862\n",
      "Test MAE: 2.4326430141151727\n",
      "Test R-squared: 0.6729445230526319\n"
     ]
    }
   ],
   "source": [
    "mse = mean_squared_error(Y_test, y_pred)\n",
    "rmse = np.sqrt(mse)\n",
    "mae = mean_absolute_error(Y_test, y_pred)\n",
    "r2 = r2_score(Y_test, y_pred)\n",
    "\n",
    "# Print the performance metrics\n",
    "print(\"Test MSE:\", mse)\n",
    "print(\"Test RMSE:\", rmse)\n",
    "print(\"Test MAE:\", mae)\n",
    "print(\"Test R-squared:\", r2)\n"
   ]
  },
  {
   "cell_type": "code",
   "execution_count": 178,
   "metadata": {},
   "outputs": [
    {
     "data": {
      "text/plain": [
       "0.6729445230526319"
      ]
     },
     "execution_count": 178,
     "metadata": {},
     "output_type": "execute_result"
    }
   ],
   "source": [
    "actual_values = Y_test\n",
    "predictions = y_pred\n",
    "# Calculate the mean of actual values\n",
    "mean_actual = sum(actual_values) / len(actual_values)\n",
    "\n",
    "# Calculate SSE and SST\n",
    "sse = sum((actual - pred) ** 2 for actual, pred in zip(actual_values, predictions))\n",
    "sst = sum((actual - mean_actual) ** 2 for actual in actual_values)\n",
    "\n",
    "# Calculate R-squared\n",
    "r2 = 1 - (sse / sst)\n",
    "r2"
   ]
  },
  {
   "cell_type": "code",
   "execution_count": 179,
   "metadata": {},
   "outputs": [
    {
     "data": {
      "text/plain": [
       "0.6729445230526319"
      ]
     },
     "execution_count": 179,
     "metadata": {},
     "output_type": "execute_result"
    }
   ],
   "source": [
    "r2"
   ]
  },
  {
   "cell_type": "code",
   "execution_count": 180,
   "metadata": {},
   "outputs": [
    {
     "name": "stdout",
     "output_type": "stream",
     "text": [
      "     Y_test  y_pred\n",
      "568  9.0000  8.9324\n",
      "569  4.0000  3.8714\n",
      "570  6.0000 10.0012\n",
      "571 12.0000 15.2203\n",
      "572 10.0000  8.2199\n",
      "..      ...     ...\n",
      "717 17.0000 16.5710\n",
      "718 15.0000 15.9106\n",
      "719 12.0000 13.7244\n",
      "720  2.0000  1.2770\n",
      "721 16.0000 13.9127\n",
      "\n",
      "[154 rows x 2 columns]\n"
     ]
    },
    {
     "data": {
      "application/vnd.plotly.v1+json": {
       "config": {
        "plotlyServerURL": "https://plot.ly"
       },
       "data": [
        {
         "hovertemplate": "Y_test=%{x}<br>y_pred=%{y}<extra></extra>",
         "legendgroup": "",
         "marker": {
          "color": [
           "#171C54"
          ],
          "opacity": 0.65,
          "symbol": "circle"
         },
         "mode": "markers",
         "name": "",
         "orientation": "v",
         "showlegend": false,
         "type": "scatter",
         "x": [
          9,
          4,
          6,
          12,
          10,
          8,
          5,
          7,
          2,
          15,
          3,
          13,
          16,
          18,
          14,
          1,
          17,
          11,
          6,
          4,
          7,
          13,
          17,
          15,
          8,
          3,
          18,
          2,
          16,
          1,
          11,
          5,
          14,
          20,
          12,
          19,
          9,
          10,
          5,
          7,
          4,
          20,
          16,
          12,
          19,
          9,
          8,
          3,
          13,
          1,
          10,
          6,
          18,
          14,
          11,
          2,
          17,
          15,
          20,
          6,
          5,
          13,
          18,
          15,
          4,
          3,
          19,
          17,
          8,
          1,
          12,
          7,
          11,
          16,
          9,
          2,
          14,
          10,
          13,
          2,
          4,
          9,
          17,
          7,
          12,
          10,
          11,
          6,
          8,
          1,
          3,
          5,
          19,
          16,
          15,
          14,
          18,
          20,
          6,
          18,
          10,
          17,
          3,
          11,
          7,
          9,
          2,
          4,
          1,
          13,
          5,
          14,
          12,
          15,
          8,
          16,
          11,
          1,
          3,
          15,
          6,
          7,
          5,
          2,
          10,
          12,
          17,
          4,
          18,
          9,
          14,
          8,
          16,
          13,
          8,
          20,
          13,
          10,
          18,
          4,
          11,
          7,
          9,
          1,
          5,
          3,
          14,
          19,
          6,
          17,
          15,
          12,
          2,
          16
         ],
         "xaxis": "x",
         "y": [
          8.93242073059082,
          3.8713672161102295,
          10.001157760620117,
          15.22026252746582,
          8.219942092895508,
          9.414834976196289,
          7.0392842292785645,
          6.799824237823486,
          2.0293049812316895,
          10.289387702941895,
          3.6037673950195312,
          12.788015365600586,
          16.841279983520508,
          14.574878692626953,
          13.58153247833252,
          2.5920534133911133,
          15.310429573059082,
          15.529406547546387,
          9.120945930480957,
          6.448146820068359,
          2.5230588912963867,
          13.131361961364746,
          19.184438705444336,
          10.535113334655762,
          8.765748023986816,
          5.078547477722168,
          19.454547882080078,
          2.451876640319824,
          16.481916427612305,
          2.3520872592926025,
          10.827385902404785,
          5.597625255584717,
          14.048718452453613,
          19.096277236938477,
          12.338194847106934,
          19.369609832763672,
          12.974997520446777,
          13.809393882751465,
          7.938443660736084,
          6.585910797119141,
          4.4281907081604,
          19.48834228515625,
          15.504690170288086,
          7.088484287261963,
          11.941418647766113,
          10.6128511428833,
          10.568316459655762,
          2.738687038421631,
          11.00893497467041,
          1.3660247325897217,
          13.948200225830078,
          7.332068920135498,
          17.21112823486328,
          14.640356063842773,
          14.803398132324219,
          2.302978992462158,
          15.550933837890625,
          14.566048622131348,
          18.98597526550293,
          10.101675033569336,
          10.996070861816406,
          14.198832511901855,
          19.12652015686035,
          7.470510005950928,
          7.442674160003662,
          7.826379299163818,
          19.489418029785156,
          13.515378952026367,
          9.099918365478516,
          6.997418403625488,
          12.910913467407227,
          8.241519927978516,
          14.459163665771484,
          17.77017593383789,
          14.567830085754395,
          2.7846767902374268,
          15.29216194152832,
          15.21972942352295,
          10.24385929107666,
          2.612816095352173,
          11.856791496276855,
          1.650545597076416,
          14.392969131469727,
          3.9094605445861816,
          10.794024467468262,
          7.760071754455566,
          7.067068576812744,
          3.0694706439971924,
          10.485576629638672,
          3.494441509246826,
          11.842941284179688,
          9.982912063598633,
          13.383769989013672,
          14.296182632446289,
          10.208187103271484,
          7.786528587341309,
          13.059871673583984,
          14.446150779724121,
          9.621859550476074,
          13.793181419372559,
          16.18907928466797,
          14.359472274780273,
          5.369941234588623,
          11.107062339782715,
          6.612055778503418,
          8.128881454467773,
          4.789942264556885,
          12.569713592529297,
          3.4600534439086914,
          12.851213455200195,
          13.730841636657715,
          13.168233871459961,
          13.117277145385742,
          14.482430458068848,
          6.449024200439453,
          16.592544555664062,
          6.822266578674316,
          6.744082927703857,
          7.110225677490234,
          12.948539733886719,
          7.004968643188477,
          7.139020919799805,
          7.302628517150879,
          9.001367568969727,
          9.624053955078125,
          10.70413589477539,
          13.402070999145508,
          7.140599250793457,
          16.942636489868164,
          2.9772939682006836,
          11.106393814086914,
          5.322432994842529,
          16.246973037719727,
          10.541573524475098,
          8.937978744506836,
          19.27267074584961,
          10.792558670043945,
          8.657952308654785,
          15.181787490844727,
          4.849099159240723,
          8.305397033691406,
          9.554800987243652,
          10.3336820602417,
          2.149319887161255,
          3.741393804550171,
          2.003417730331421,
          11.42680549621582,
          15.556892395019531,
          8.317705154418945,
          16.570955276489258,
          15.910632133483887,
          13.724407196044922,
          1.2769882678985596,
          13.91273021697998
         ],
         "yaxis": "y"
        },
        {
         "hovertemplate": "<b>OLS trendline</b><br>y_pred = 0.705921 * Y_test + 3.24864<br>R<sup>2</sup>=0.676457<br><br>Y_test=%{x}<br>y_pred=%{y} <b>(trend)</b><extra></extra>",
         "legendgroup": "",
         "line": {
          "color": "red"
         },
         "marker": {
          "color": [
           "#171C54"
          ],
          "symbol": "circle"
         },
         "mode": "lines",
         "name": "",
         "showlegend": false,
         "type": "scatter",
         "x": [
          1,
          1,
          1,
          1,
          1,
          1,
          1,
          1,
          2,
          2,
          2,
          2,
          2,
          2,
          2,
          2,
          3,
          3,
          3,
          3,
          3,
          3,
          3,
          3,
          4,
          4,
          4,
          4,
          4,
          4,
          4,
          4,
          5,
          5,
          5,
          5,
          5,
          5,
          5,
          5,
          6,
          6,
          6,
          6,
          6,
          6,
          6,
          6,
          7,
          7,
          7,
          7,
          7,
          7,
          7,
          7,
          8,
          8,
          8,
          8,
          8,
          8,
          8,
          8,
          9,
          9,
          9,
          9,
          9,
          9,
          9,
          9,
          10,
          10,
          10,
          10,
          10,
          10,
          10,
          10,
          11,
          11,
          11,
          11,
          11,
          11,
          11,
          11,
          12,
          12,
          12,
          12,
          12,
          12,
          12,
          12,
          13,
          13,
          13,
          13,
          13,
          13,
          13,
          13,
          14,
          14,
          14,
          14,
          14,
          14,
          14,
          14,
          15,
          15,
          15,
          15,
          15,
          15,
          15,
          15,
          16,
          16,
          16,
          16,
          16,
          16,
          16,
          16,
          17,
          17,
          17,
          17,
          17,
          17,
          17,
          17,
          18,
          18,
          18,
          18,
          18,
          18,
          18,
          18,
          19,
          19,
          19,
          19,
          19,
          20,
          20,
          20,
          20,
          20
         ],
         "xaxis": "x",
         "y": [
          3.954565035152312,
          3.954565035152312,
          3.954565035152312,
          3.954565035152312,
          3.954565035152312,
          3.954565035152312,
          3.954565035152312,
          3.954565035152312,
          4.660486514256193,
          4.660486514256193,
          4.660486514256193,
          4.660486514256193,
          4.660486514256193,
          4.660486514256193,
          4.660486514256193,
          4.660486514256193,
          5.366407993360074,
          5.366407993360074,
          5.366407993360074,
          5.366407993360074,
          5.366407993360074,
          5.366407993360074,
          5.366407993360074,
          5.366407993360074,
          6.072329472463956,
          6.072329472463956,
          6.072329472463956,
          6.072329472463956,
          6.072329472463956,
          6.072329472463956,
          6.072329472463956,
          6.072329472463956,
          6.778250951567836,
          6.778250951567836,
          6.778250951567836,
          6.778250951567836,
          6.778250951567836,
          6.778250951567836,
          6.778250951567836,
          6.778250951567836,
          7.484172430671718,
          7.484172430671718,
          7.484172430671718,
          7.484172430671718,
          7.484172430671718,
          7.484172430671718,
          7.484172430671718,
          7.484172430671718,
          8.1900939097756,
          8.1900939097756,
          8.1900939097756,
          8.1900939097756,
          8.1900939097756,
          8.1900939097756,
          8.1900939097756,
          8.1900939097756,
          8.89601538887948,
          8.89601538887948,
          8.89601538887948,
          8.89601538887948,
          8.89601538887948,
          8.89601538887948,
          8.89601538887948,
          8.89601538887948,
          9.601936867983362,
          9.601936867983362,
          9.601936867983362,
          9.601936867983362,
          9.601936867983362,
          9.601936867983362,
          9.601936867983362,
          9.601936867983362,
          10.307858347087242,
          10.307858347087242,
          10.307858347087242,
          10.307858347087242,
          10.307858347087242,
          10.307858347087242,
          10.307858347087242,
          10.307858347087242,
          11.013779826191124,
          11.013779826191124,
          11.013779826191124,
          11.013779826191124,
          11.013779826191124,
          11.013779826191124,
          11.013779826191124,
          11.013779826191124,
          11.719701305295006,
          11.719701305295006,
          11.719701305295006,
          11.719701305295006,
          11.719701305295006,
          11.719701305295006,
          11.719701305295006,
          11.719701305295006,
          12.425622784398886,
          12.425622784398886,
          12.425622784398886,
          12.425622784398886,
          12.425622784398886,
          12.425622784398886,
          12.425622784398886,
          12.425622784398886,
          13.131544263502768,
          13.131544263502768,
          13.131544263502768,
          13.131544263502768,
          13.131544263502768,
          13.131544263502768,
          13.131544263502768,
          13.131544263502768,
          13.837465742606648,
          13.837465742606648,
          13.837465742606648,
          13.837465742606648,
          13.837465742606648,
          13.837465742606648,
          13.837465742606648,
          13.837465742606648,
          14.54338722171053,
          14.54338722171053,
          14.54338722171053,
          14.54338722171053,
          14.54338722171053,
          14.54338722171053,
          14.54338722171053,
          14.54338722171053,
          15.249308700814412,
          15.249308700814412,
          15.249308700814412,
          15.249308700814412,
          15.249308700814412,
          15.249308700814412,
          15.249308700814412,
          15.249308700814412,
          15.955230179918292,
          15.955230179918292,
          15.955230179918292,
          15.955230179918292,
          15.955230179918292,
          15.955230179918292,
          15.955230179918292,
          15.955230179918292,
          16.661151659022174,
          16.661151659022174,
          16.661151659022174,
          16.661151659022174,
          16.661151659022174,
          17.367073138126056,
          17.367073138126056,
          17.367073138126056,
          17.367073138126056,
          17.367073138126056
         ],
         "yaxis": "y"
        }
       ],
       "layout": {
        "height": 400,
        "legend": {
         "tracegroupgap": 0
        },
        "margin": {
         "t": 60
        },
        "template": {
         "data": {
          "bar": [
           {
            "error_x": {
             "color": "#2a3f5f"
            },
            "error_y": {
             "color": "#2a3f5f"
            },
            "marker": {
             "line": {
              "color": "#E5ECF6",
              "width": 0.5
             },
             "pattern": {
              "fillmode": "overlay",
              "size": 10,
              "solidity": 0.2
             }
            },
            "type": "bar"
           }
          ],
          "barpolar": [
           {
            "marker": {
             "line": {
              "color": "#E5ECF6",
              "width": 0.5
             },
             "pattern": {
              "fillmode": "overlay",
              "size": 10,
              "solidity": 0.2
             }
            },
            "type": "barpolar"
           }
          ],
          "carpet": [
           {
            "aaxis": {
             "endlinecolor": "#2a3f5f",
             "gridcolor": "white",
             "linecolor": "white",
             "minorgridcolor": "white",
             "startlinecolor": "#2a3f5f"
            },
            "baxis": {
             "endlinecolor": "#2a3f5f",
             "gridcolor": "white",
             "linecolor": "white",
             "minorgridcolor": "white",
             "startlinecolor": "#2a3f5f"
            },
            "type": "carpet"
           }
          ],
          "choropleth": [
           {
            "colorbar": {
             "outlinewidth": 0,
             "ticks": ""
            },
            "type": "choropleth"
           }
          ],
          "contour": [
           {
            "colorbar": {
             "outlinewidth": 0,
             "ticks": ""
            },
            "colorscale": [
             [
              0,
              "#0d0887"
             ],
             [
              0.1111111111111111,
              "#46039f"
             ],
             [
              0.2222222222222222,
              "#7201a8"
             ],
             [
              0.3333333333333333,
              "#9c179e"
             ],
             [
              0.4444444444444444,
              "#bd3786"
             ],
             [
              0.5555555555555556,
              "#d8576b"
             ],
             [
              0.6666666666666666,
              "#ed7953"
             ],
             [
              0.7777777777777778,
              "#fb9f3a"
             ],
             [
              0.8888888888888888,
              "#fdca26"
             ],
             [
              1,
              "#f0f921"
             ]
            ],
            "type": "contour"
           }
          ],
          "contourcarpet": [
           {
            "colorbar": {
             "outlinewidth": 0,
             "ticks": ""
            },
            "type": "contourcarpet"
           }
          ],
          "heatmap": [
           {
            "colorbar": {
             "outlinewidth": 0,
             "ticks": ""
            },
            "colorscale": [
             [
              0,
              "#0d0887"
             ],
             [
              0.1111111111111111,
              "#46039f"
             ],
             [
              0.2222222222222222,
              "#7201a8"
             ],
             [
              0.3333333333333333,
              "#9c179e"
             ],
             [
              0.4444444444444444,
              "#bd3786"
             ],
             [
              0.5555555555555556,
              "#d8576b"
             ],
             [
              0.6666666666666666,
              "#ed7953"
             ],
             [
              0.7777777777777778,
              "#fb9f3a"
             ],
             [
              0.8888888888888888,
              "#fdca26"
             ],
             [
              1,
              "#f0f921"
             ]
            ],
            "type": "heatmap"
           }
          ],
          "heatmapgl": [
           {
            "colorbar": {
             "outlinewidth": 0,
             "ticks": ""
            },
            "colorscale": [
             [
              0,
              "#0d0887"
             ],
             [
              0.1111111111111111,
              "#46039f"
             ],
             [
              0.2222222222222222,
              "#7201a8"
             ],
             [
              0.3333333333333333,
              "#9c179e"
             ],
             [
              0.4444444444444444,
              "#bd3786"
             ],
             [
              0.5555555555555556,
              "#d8576b"
             ],
             [
              0.6666666666666666,
              "#ed7953"
             ],
             [
              0.7777777777777778,
              "#fb9f3a"
             ],
             [
              0.8888888888888888,
              "#fdca26"
             ],
             [
              1,
              "#f0f921"
             ]
            ],
            "type": "heatmapgl"
           }
          ],
          "histogram": [
           {
            "marker": {
             "pattern": {
              "fillmode": "overlay",
              "size": 10,
              "solidity": 0.2
             }
            },
            "type": "histogram"
           }
          ],
          "histogram2d": [
           {
            "colorbar": {
             "outlinewidth": 0,
             "ticks": ""
            },
            "colorscale": [
             [
              0,
              "#0d0887"
             ],
             [
              0.1111111111111111,
              "#46039f"
             ],
             [
              0.2222222222222222,
              "#7201a8"
             ],
             [
              0.3333333333333333,
              "#9c179e"
             ],
             [
              0.4444444444444444,
              "#bd3786"
             ],
             [
              0.5555555555555556,
              "#d8576b"
             ],
             [
              0.6666666666666666,
              "#ed7953"
             ],
             [
              0.7777777777777778,
              "#fb9f3a"
             ],
             [
              0.8888888888888888,
              "#fdca26"
             ],
             [
              1,
              "#f0f921"
             ]
            ],
            "type": "histogram2d"
           }
          ],
          "histogram2dcontour": [
           {
            "colorbar": {
             "outlinewidth": 0,
             "ticks": ""
            },
            "colorscale": [
             [
              0,
              "#0d0887"
             ],
             [
              0.1111111111111111,
              "#46039f"
             ],
             [
              0.2222222222222222,
              "#7201a8"
             ],
             [
              0.3333333333333333,
              "#9c179e"
             ],
             [
              0.4444444444444444,
              "#bd3786"
             ],
             [
              0.5555555555555556,
              "#d8576b"
             ],
             [
              0.6666666666666666,
              "#ed7953"
             ],
             [
              0.7777777777777778,
              "#fb9f3a"
             ],
             [
              0.8888888888888888,
              "#fdca26"
             ],
             [
              1,
              "#f0f921"
             ]
            ],
            "type": "histogram2dcontour"
           }
          ],
          "mesh3d": [
           {
            "colorbar": {
             "outlinewidth": 0,
             "ticks": ""
            },
            "type": "mesh3d"
           }
          ],
          "parcoords": [
           {
            "line": {
             "colorbar": {
              "outlinewidth": 0,
              "ticks": ""
             }
            },
            "type": "parcoords"
           }
          ],
          "pie": [
           {
            "automargin": true,
            "type": "pie"
           }
          ],
          "scatter": [
           {
            "fillpattern": {
             "fillmode": "overlay",
             "size": 10,
             "solidity": 0.2
            },
            "type": "scatter"
           }
          ],
          "scatter3d": [
           {
            "line": {
             "colorbar": {
              "outlinewidth": 0,
              "ticks": ""
             }
            },
            "marker": {
             "colorbar": {
              "outlinewidth": 0,
              "ticks": ""
             }
            },
            "type": "scatter3d"
           }
          ],
          "scattercarpet": [
           {
            "marker": {
             "colorbar": {
              "outlinewidth": 0,
              "ticks": ""
             }
            },
            "type": "scattercarpet"
           }
          ],
          "scattergeo": [
           {
            "marker": {
             "colorbar": {
              "outlinewidth": 0,
              "ticks": ""
             }
            },
            "type": "scattergeo"
           }
          ],
          "scattergl": [
           {
            "marker": {
             "colorbar": {
              "outlinewidth": 0,
              "ticks": ""
             }
            },
            "type": "scattergl"
           }
          ],
          "scattermapbox": [
           {
            "marker": {
             "colorbar": {
              "outlinewidth": 0,
              "ticks": ""
             }
            },
            "type": "scattermapbox"
           }
          ],
          "scatterpolar": [
           {
            "marker": {
             "colorbar": {
              "outlinewidth": 0,
              "ticks": ""
             }
            },
            "type": "scatterpolar"
           }
          ],
          "scatterpolargl": [
           {
            "marker": {
             "colorbar": {
              "outlinewidth": 0,
              "ticks": ""
             }
            },
            "type": "scatterpolargl"
           }
          ],
          "scatterternary": [
           {
            "marker": {
             "colorbar": {
              "outlinewidth": 0,
              "ticks": ""
             }
            },
            "type": "scatterternary"
           }
          ],
          "surface": [
           {
            "colorbar": {
             "outlinewidth": 0,
             "ticks": ""
            },
            "colorscale": [
             [
              0,
              "#0d0887"
             ],
             [
              0.1111111111111111,
              "#46039f"
             ],
             [
              0.2222222222222222,
              "#7201a8"
             ],
             [
              0.3333333333333333,
              "#9c179e"
             ],
             [
              0.4444444444444444,
              "#bd3786"
             ],
             [
              0.5555555555555556,
              "#d8576b"
             ],
             [
              0.6666666666666666,
              "#ed7953"
             ],
             [
              0.7777777777777778,
              "#fb9f3a"
             ],
             [
              0.8888888888888888,
              "#fdca26"
             ],
             [
              1,
              "#f0f921"
             ]
            ],
            "type": "surface"
           }
          ],
          "table": [
           {
            "cells": {
             "fill": {
              "color": "#EBF0F8"
             },
             "line": {
              "color": "white"
             }
            },
            "header": {
             "fill": {
              "color": "#C8D4E3"
             },
             "line": {
              "color": "white"
             }
            },
            "type": "table"
           }
          ]
         },
         "layout": {
          "annotationdefaults": {
           "arrowcolor": "#2a3f5f",
           "arrowhead": 0,
           "arrowwidth": 1
          },
          "autotypenumbers": "strict",
          "coloraxis": {
           "colorbar": {
            "outlinewidth": 0,
            "ticks": ""
           }
          },
          "colorscale": {
           "diverging": [
            [
             0,
             "#8e0152"
            ],
            [
             0.1,
             "#c51b7d"
            ],
            [
             0.2,
             "#de77ae"
            ],
            [
             0.3,
             "#f1b6da"
            ],
            [
             0.4,
             "#fde0ef"
            ],
            [
             0.5,
             "#f7f7f7"
            ],
            [
             0.6,
             "#e6f5d0"
            ],
            [
             0.7,
             "#b8e186"
            ],
            [
             0.8,
             "#7fbc41"
            ],
            [
             0.9,
             "#4d9221"
            ],
            [
             1,
             "#276419"
            ]
           ],
           "sequential": [
            [
             0,
             "#0d0887"
            ],
            [
             0.1111111111111111,
             "#46039f"
            ],
            [
             0.2222222222222222,
             "#7201a8"
            ],
            [
             0.3333333333333333,
             "#9c179e"
            ],
            [
             0.4444444444444444,
             "#bd3786"
            ],
            [
             0.5555555555555556,
             "#d8576b"
            ],
            [
             0.6666666666666666,
             "#ed7953"
            ],
            [
             0.7777777777777778,
             "#fb9f3a"
            ],
            [
             0.8888888888888888,
             "#fdca26"
            ],
            [
             1,
             "#f0f921"
            ]
           ],
           "sequentialminus": [
            [
             0,
             "#0d0887"
            ],
            [
             0.1111111111111111,
             "#46039f"
            ],
            [
             0.2222222222222222,
             "#7201a8"
            ],
            [
             0.3333333333333333,
             "#9c179e"
            ],
            [
             0.4444444444444444,
             "#bd3786"
            ],
            [
             0.5555555555555556,
             "#d8576b"
            ],
            [
             0.6666666666666666,
             "#ed7953"
            ],
            [
             0.7777777777777778,
             "#fb9f3a"
            ],
            [
             0.8888888888888888,
             "#fdca26"
            ],
            [
             1,
             "#f0f921"
            ]
           ]
          },
          "colorway": [
           "#636efa",
           "#EF553B",
           "#00cc96",
           "#ab63fa",
           "#FFA15A",
           "#19d3f3",
           "#FF6692",
           "#B6E880",
           "#FF97FF",
           "#FECB52"
          ],
          "font": {
           "color": "#2a3f5f"
          },
          "geo": {
           "bgcolor": "white",
           "lakecolor": "white",
           "landcolor": "#E5ECF6",
           "showlakes": true,
           "showland": true,
           "subunitcolor": "white"
          },
          "hoverlabel": {
           "align": "left"
          },
          "hovermode": "closest",
          "mapbox": {
           "style": "light"
          },
          "paper_bgcolor": "white",
          "plot_bgcolor": "#E5ECF6",
          "polar": {
           "angularaxis": {
            "gridcolor": "white",
            "linecolor": "white",
            "ticks": ""
           },
           "bgcolor": "#E5ECF6",
           "radialaxis": {
            "gridcolor": "white",
            "linecolor": "white",
            "ticks": ""
           }
          },
          "scene": {
           "xaxis": {
            "backgroundcolor": "#E5ECF6",
            "gridcolor": "white",
            "gridwidth": 2,
            "linecolor": "white",
            "showbackground": true,
            "ticks": "",
            "zerolinecolor": "white"
           },
           "yaxis": {
            "backgroundcolor": "#E5ECF6",
            "gridcolor": "white",
            "gridwidth": 2,
            "linecolor": "white",
            "showbackground": true,
            "ticks": "",
            "zerolinecolor": "white"
           },
           "zaxis": {
            "backgroundcolor": "#E5ECF6",
            "gridcolor": "white",
            "gridwidth": 2,
            "linecolor": "white",
            "showbackground": true,
            "ticks": "",
            "zerolinecolor": "white"
           }
          },
          "shapedefaults": {
           "line": {
            "color": "#2a3f5f"
           }
          },
          "ternary": {
           "aaxis": {
            "gridcolor": "white",
            "linecolor": "white",
            "ticks": ""
           },
           "baxis": {
            "gridcolor": "white",
            "linecolor": "white",
            "ticks": ""
           },
           "bgcolor": "#E5ECF6",
           "caxis": {
            "gridcolor": "white",
            "linecolor": "white",
            "ticks": ""
           }
          },
          "title": {
           "x": 0.05
          },
          "xaxis": {
           "automargin": true,
           "gridcolor": "white",
           "linecolor": "white",
           "ticks": "",
           "title": {
            "standoff": 15
           },
           "zerolinecolor": "white",
           "zerolinewidth": 2
          },
          "yaxis": {
           "automargin": true,
           "gridcolor": "white",
           "linecolor": "white",
           "ticks": "",
           "title": {
            "standoff": 15
           },
           "zerolinecolor": "white",
           "zerolinewidth": 2
          }
         }
        },
        "width": 550,
        "xaxis": {
         "anchor": "y",
         "domain": [
          0,
          1
         ],
         "title": {
          "text": "Y_test"
         }
        },
        "yaxis": {
         "anchor": "x",
         "domain": [
          0,
          1
         ],
         "title": {
          "text": "y_pred"
         }
        }
       }
      }
     },
     "metadata": {},
     "output_type": "display_data"
    }
   ],
   "source": [
    "# Create a predicted vs actual values plot\n",
    "import plotly.express as px\n",
    "\n",
    "data = {\"Y_test\": Y_test, \"y_pred\": y_pred}\n",
    "\n",
    "# Create the DataFrame\n",
    "dfplot = pd.DataFrame(data)\n",
    "\n",
    "# Print the DataFrame\n",
    "print(dfplot)\n",
    "\n",
    "\n",
    "fig = px.scatter(\n",
    "    dfplot, x='Y_test', y='y_pred', opacity=0.65,\n",
    "    trendline='ols', trendline_color_override='red',\n",
    "    width=550, height=400\n",
    "    \n",
    ")\n",
    "\n",
    "color_palette = ['#171C54']  # Specify your desired colors\n",
    "\n",
    "# Update the color palette\n",
    "fig.update_traces(marker=dict(color=color_palette))\n",
    "\n",
    "fig.show()"
   ]
  },
  {
   "cell_type": "code",
   "execution_count": 181,
   "metadata": {},
   "outputs": [
    {
     "name": "stdout",
     "output_type": "stream",
     "text": [
      "                     Feature  Importance\n",
      "0                   carIssue      0.5337\n",
      "1          TeamName_Williams      0.0932\n",
      "2          TeamName_Mercedes      0.0496\n",
      "3               GridPosition      0.0419\n",
      "4                driverIssue      0.0351\n",
      "5               INTERMEDIATE      0.0349\n",
      "6        TeamName_HaasF1Team      0.0332\n",
      "7     TeamName_RedBullRacing      0.0264\n",
      "8   TeamName_AlfaRomeoRacing      0.0258\n",
      "9           TeamName_McLaren      0.0147\n",
      "10                 PitstopNo      0.0120\n",
      "11                      FLap      0.0120\n",
      "12                     Brake      0.0115\n",
      "13              AverageSpeed      0.0108\n",
      "14              Engine_Honda      0.0097\n",
      "15      TeamName_RacingPoint      0.0075\n",
      "16                      SOFT      0.0053\n",
      "17                  MaxSpeed      0.0048\n",
      "18            Engine_Renault      0.0045\n",
      "19          TeamName_Ferrari      0.0040\n",
      "20           AverageThrottle      0.0039\n",
      "21                 SDLapTime      0.0035\n",
      "22                    MaxRPM      0.0034\n",
      "23                AvgPitTime      0.0033\n",
      "24                      HARD      0.0025\n",
      "25            MaxThrottlePct      0.0024\n",
      "26                    MEDIUM      0.0022\n",
      "27             BestQualiTime      0.0017\n",
      "28          TeamName_Renault      0.0015\n",
      "29                   AgeAtGP      0.0011\n",
      "30        CircuitType_street      0.0011\n",
      "31        TeamName_ToroRosso      0.0011\n",
      "32                      Rain      0.0008\n",
      "33           Engine_Mercedes      0.0006\n",
      "34       TeamName_AlphaTauri      0.0005\n",
      "35                       WET      0.0000\n",
      "36           TeamName_Alpine      0.0000\n",
      "37            Engine_RedBull      0.0000\n",
      "38      TeamName_AstonMartin      0.0000\n"
     ]
    }
   ],
   "source": [
    "# Get feature importances and sort them\n",
    "importance = mrf.trained_fe_model.feature_importances_\n",
    "\n",
    "importance_df_before = pd.DataFrame({'Feature': x_train.columns, 'Importance': importance})\n",
    "\n",
    "importance_df_before = importance_df_before.sort_values('Importance', ascending=False).reset_index(drop=True)\n",
    "print(importance_df_before)\n"
   ]
  },
  {
   "cell_type": "code",
   "execution_count": 182,
   "metadata": {},
   "outputs": [
    {
     "name": "stdout",
     "output_type": "stream",
     "text": [
      "                     Feature  Importance\n",
      "0               GridPosition      0.5293\n",
      "1                   carIssue      0.2336\n",
      "2               AverageSpeed      0.0527\n",
      "3                  SDLapTime      0.0425\n",
      "4                 AvgPitTime      0.0245\n",
      "5        TeamName_HaasF1Team      0.0189\n",
      "6                  PitstopNo      0.0173\n",
      "7          TeamName_Williams      0.0171\n",
      "8     TeamName_RedBullRacing      0.0162\n",
      "9          TeamName_Mercedes      0.0150\n",
      "10                     Brake      0.0116\n",
      "11               driverIssue      0.0094\n",
      "12          TeamName_McLaren      0.0087\n",
      "13           AverageThrottle      0.0083\n",
      "14                    MEDIUM      0.0071\n",
      "15                      SOFT      0.0067\n",
      "16            MaxThrottlePct      0.0038\n",
      "17              INTERMEDIATE      0.0036\n",
      "18                      HARD      0.0035\n",
      "19                   AgeAtGP      0.0026\n",
      "20      TeamName_RacingPoint      0.0022\n",
      "21                      FLap      0.0018\n",
      "22            Engine_Renault      0.0005\n",
      "23          TeamName_Ferrari      0.0004\n",
      "24          TeamName_Renault      0.0004\n",
      "25        CircuitType_street      0.0001\n",
      "26           Engine_Mercedes      0.0001\n",
      "27      TeamName_AstonMartin      0.0000\n",
      "28           TeamName_Alpine      0.0000\n",
      "29        TeamName_ToroRosso      0.0000\n",
      "30                      Rain      0.0000\n",
      "31            Engine_RedBull      0.0000\n",
      "32                       WET     -0.0000\n",
      "33       TeamName_AlphaTauri     -0.0003\n",
      "34              Engine_Honda     -0.0020\n",
      "35                    MaxRPM     -0.0049\n",
      "36  TeamName_AlfaRomeoRacing     -0.0069\n",
      "37                  MaxSpeed     -0.0074\n",
      "38             BestQualiTime     -0.0108\n"
     ]
    }
   ],
   "source": [
    "# Get permutation feature importances and sort them\n",
    "from sklearn.inspection import permutation_importance\n",
    "\n",
    "result = permutation_importance(mrf.trained_fe_model, x_test, Y_test, n_repeats=10, random_state=42)\n",
    "\n",
    "# Get the importance scores\n",
    "importance_perm = result.importances_mean\n",
    "\n",
    "# Create the DataFrame with feature names and importance scores\n",
    "importance_df_before_perm = pd.DataFrame({'Feature': x_train.columns, 'Importance': importance_perm})\n",
    "\n",
    "# Sort the DataFrame by importance in descending order\n",
    "importance_df_before_perm = importance_df_before_perm.sort_values('Importance', ascending=False).reset_index(drop=True)\n",
    "\n",
    "# Print the importance DataFrame\n",
    "print(importance_df_before_perm)\n"
   ]
  },
  {
   "attachments": {},
   "cell_type": "markdown",
   "metadata": {},
   "source": [
    "## After model"
   ]
  },
  {
   "attachments": {},
   "cell_type": "markdown",
   "metadata": {},
   "source": [
    "## Train"
   ]
  },
  {
   "cell_type": "code",
   "execution_count": 185,
   "metadata": {},
   "outputs": [],
   "source": [
    "# Split the data into train and test sets based on the raceID column\n",
    "train_df = df_after[(df_after['raceID'] >= 38) & (df_after['raceID'] <= 72)]\n",
    "test_df = df_after[(df_after['raceID'] >= 73) & (df_after['raceID'] <= 80)]"
   ]
  },
  {
   "cell_type": "code",
   "execution_count": 186,
   "metadata": {},
   "outputs": [],
   "source": [
    "X_train = train_df.drop('Position', axis=1)\n",
    "Y_train = train_df['Position']\n",
    "X_test = test_df.drop('Position', axis=1)\n",
    "Y_test = test_df['Position']"
   ]
  },
  {
   "cell_type": "code",
   "execution_count": 187,
   "metadata": {},
   "outputs": [],
   "source": [
    "X_train = X_train.drop('RaceCountry', axis=1)\n",
    "X_train = X_train.drop('Year', axis=1)\n",
    "X_test = X_test.drop('RaceCountry', axis=1)\n",
    "X_test = X_test.drop('Year', axis=1)"
   ]
  },
  {
   "cell_type": "code",
   "execution_count": 188,
   "metadata": {},
   "outputs": [],
   "source": [
    "x_train = X_train.drop(['Abbreviation', 'raceID'], axis = 1)\n",
    "Z_train = X_train[['raceID']]\n",
    "clusters_train = X_train['raceID']"
   ]
  },
  {
   "cell_type": "code",
   "execution_count": 189,
   "metadata": {},
   "outputs": [
    {
     "name": "stderr",
     "output_type": "stream",
     "text": [
      "INFO     [merf.py:307] Training GLL is -2351.47307003303 at iteration 1.\n",
      "INFO     [merf.py:307] Training GLL is -4361.795891854094 at iteration 2.\n",
      "INFO     [merf.py:307] Training GLL is -5406.22141019901 at iteration 3.\n",
      "INFO     [merf.py:307] Training GLL is -5429.750043488067 at iteration 4.\n",
      "INFO     [merf.py:307] Training GLL is -5440.340304925421 at iteration 5.\n",
      "INFO     [merf.py:307] Training GLL is -6000.183006218617 at iteration 6.\n",
      "INFO     [merf.py:307] Training GLL is -5318.946551047956 at iteration 7.\n",
      "INFO     [merf.py:307] Training GLL is -5325.136465958087 at iteration 8.\n",
      "INFO     [merf.py:307] Training GLL is -5537.893274981799 at iteration 9.\n",
      "INFO     [merf.py:307] Training GLL is -5563.921702170532 at iteration 10.\n",
      "INFO     [merf.py:307] Training GLL is -5281.973155850868 at iteration 11.\n",
      "INFO     [merf.py:307] Training GLL is -5614.690147888443 at iteration 12.\n",
      "INFO     [merf.py:307] Training GLL is -5367.6349086815735 at iteration 13.\n",
      "INFO     [merf.py:307] Training GLL is -6244.882549717723 at iteration 14.\n",
      "INFO     [merf.py:307] Training GLL is -5956.953776769099 at iteration 15.\n",
      "INFO     [merf.py:307] Training GLL is -5591.81147983488 at iteration 16.\n",
      "INFO     [merf.py:307] Training GLL is -5810.554237477189 at iteration 17.\n",
      "INFO     [merf.py:307] Training GLL is -5511.302494229962 at iteration 18.\n",
      "INFO     [merf.py:307] Training GLL is -4995.122297255459 at iteration 19.\n",
      "INFO     [merf.py:307] Training GLL is -5773.555531908065 at iteration 20.\n",
      "INFO     [merf.py:307] Training GLL is -5791.120904512746 at iteration 21.\n",
      "INFO     [merf.py:307] Training GLL is -5099.824553427477 at iteration 22.\n",
      "INFO     [merf.py:307] Training GLL is -5164.110747766123 at iteration 23.\n",
      "INFO     [merf.py:307] Training GLL is -5447.580315269601 at iteration 24.\n",
      "INFO     [merf.py:307] Training GLL is -4942.559187611427 at iteration 25.\n",
      "INFO     [merf.py:307] Training GLL is -5227.83178292545 at iteration 26.\n",
      "INFO     [merf.py:307] Training GLL is -5522.863213890897 at iteration 27.\n",
      "INFO     [merf.py:307] Training GLL is -5000.573785352826 at iteration 28.\n",
      "INFO     [merf.py:307] Training GLL is -4985.497060018298 at iteration 29.\n",
      "INFO     [merf.py:307] Training GLL is -5316.8110473849565 at iteration 30.\n"
     ]
    },
    {
     "data": {
      "text/plain": [
       "<merf.merf.MERF at 0x7f7c9ad3b580>"
      ]
     },
     "execution_count": 189,
     "metadata": {},
     "output_type": "execute_result"
    }
   ],
   "source": [
    "mrf.fit(x_train, Z_train, clusters_train, Y_train)"
   ]
  },
  {
   "cell_type": "code",
   "execution_count": 190,
   "metadata": {},
   "outputs": [],
   "source": [
    "train_preds = mrf.predict(x_train, Z_train, clusters_train)"
   ]
  },
  {
   "cell_type": "code",
   "execution_count": 191,
   "metadata": {},
   "outputs": [
    {
     "name": "stdout",
     "output_type": "stream",
     "text": [
      "Test MSE: 0.0002888596563726572\n",
      "Test RMSE: 0.01699587174500494\n",
      "Test MAE: 0.01176123859277412\n",
      "Test R-squared: 0.9999908599953489\n"
     ]
    }
   ],
   "source": [
    "from sklearn.metrics import mean_squared_error, mean_absolute_error, r2_score\n",
    "\n",
    "mse = mean_squared_error(Y_train, train_preds)\n",
    "rmse = np.sqrt(mse)\n",
    "mae = mean_absolute_error(Y_train, train_preds)\n",
    "r2 = r2_score(Y_train, train_preds)\n",
    "\n",
    "# Print the performance metrics\n",
    "print(\"Test MSE:\", mse)\n",
    "print(\"Test RMSE:\", rmse)\n",
    "print(\"Test MAE:\", mae)\n",
    "print(\"Test R-squared:\", r2)"
   ]
  },
  {
   "attachments": {},
   "cell_type": "markdown",
   "metadata": {},
   "source": [
    "## Test"
   ]
  },
  {
   "cell_type": "code",
   "execution_count": 192,
   "metadata": {},
   "outputs": [],
   "source": [
    "x_test = X_test.drop(['Abbreviation', 'raceID'], axis = 1)\n",
    "Z_test = X_test[['raceID']]\n",
    "clusters_test = X_test['raceID']"
   ]
  },
  {
   "cell_type": "code",
   "execution_count": 193,
   "metadata": {},
   "outputs": [],
   "source": [
    "y_pred = mrf.predict(x_test, Z_test, clusters_test)"
   ]
  },
  {
   "cell_type": "code",
   "execution_count": 194,
   "metadata": {},
   "outputs": [
    {
     "name": "stdout",
     "output_type": "stream",
     "text": [
      "Test MSE: 8.259772518771722\n",
      "Test RMSE: 2.8739819969463487\n",
      "Test MAE: 2.180150468503275\n",
      "Test R-squared: 0.7382617596100449\n"
     ]
    }
   ],
   "source": [
    "from sklearn.metrics import mean_squared_error, mean_absolute_error, r2_score\n",
    "\n",
    "mse = mean_squared_error(Y_test, y_pred)\n",
    "rmse = np.sqrt(mse)\n",
    "mae = mean_absolute_error(Y_test, y_pred)\n",
    "r2 = r2_score(Y_test, y_pred)\n",
    "\n",
    "# Print the performance metrics\n",
    "print(\"Test MSE:\", mse)\n",
    "print(\"Test RMSE:\", rmse)\n",
    "print(\"Test MAE:\", mae)\n",
    "print(\"Test R-squared:\", r2)\n"
   ]
  },
  {
   "cell_type": "code",
   "execution_count": 195,
   "metadata": {},
   "outputs": [
    {
     "name": "stdout",
     "output_type": "stream",
     "text": [
      "      Y_test  y_pred\n",
      "1392  1.0000  2.3189\n",
      "1393 11.0000 11.0738\n",
      "1394  5.0000  3.1241\n",
      "1395  6.0000 10.7640\n",
      "1396  3.0000  3.4565\n",
      "...      ...     ...\n",
      "1542 10.0000  7.5423\n",
      "1543  4.0000  3.9166\n",
      "1544 19.0000 15.1147\n",
      "1545  5.0000  3.2889\n",
      "1546 15.0000 13.9034\n",
      "\n",
      "[155 rows x 2 columns]\n"
     ]
    },
    {
     "data": {
      "application/vnd.plotly.v1+json": {
       "config": {
        "plotlyServerURL": "https://plot.ly"
       },
       "data": [
        {
         "hovertemplate": "Y_test=%{x}<br>y_pred=%{y}<extra></extra>",
         "legendgroup": "",
         "marker": {
          "color": [
           "#2871AD"
          ],
          "opacity": 0.65,
          "symbol": "circle"
         },
         "mode": "markers",
         "name": "",
         "orientation": "v",
         "showlegend": false,
         "type": "scatter",
         "x": [
          1,
          11,
          5,
          6,
          3,
          10,
          15,
          20,
          12,
          16,
          17,
          9,
          7,
          4,
          13,
          14,
          8,
          18,
          2,
          19,
          1,
          8,
          6,
          19,
          2,
          18,
          16,
          14,
          10,
          17,
          11,
          7,
          5,
          9,
          12,
          20,
          4,
          15,
          3,
          13,
          7,
          10,
          1,
          18,
          2,
          6,
          12,
          15,
          17,
          20,
          5,
          16,
          4,
          9,
          13,
          8,
          3,
          19,
          14,
          11,
          1,
          18,
          2,
          7,
          3,
          12,
          14,
          13,
          16,
          11,
          4,
          10,
          5,
          17,
          6,
          9,
          8,
          15,
          1,
          14,
          4,
          7,
          3,
          18,
          9,
          10,
          13,
          12,
          16,
          11,
          6,
          2,
          15,
          8,
          17,
          5,
          19,
          1,
          11,
          3,
          19,
          6,
          15,
          17,
          20,
          12,
          13,
          7,
          8,
          9,
          2,
          16,
          14,
          5,
          18,
          4,
          10,
          6,
          14,
          7,
          5,
          4,
          10,
          17,
          15,
          12,
          8,
          18,
          2,
          13,
          11,
          3,
          16,
          1,
          9,
          1,
          14,
          3,
          20,
          2,
          8,
          17,
          11,
          13,
          12,
          9,
          7,
          6,
          18,
          16,
          10,
          4,
          19,
          5,
          15
         ],
         "xaxis": "x",
         "y": [
          2.318875312805176,
          11.073830604553223,
          3.1240572929382324,
          10.763957023620605,
          3.456465721130371,
          10.976621627807617,
          15.725811958312988,
          19.708904266357422,
          14.295526504516602,
          13.868812561035156,
          12.9708251953125,
          9.871684074401855,
          7.774550437927246,
          3.38952374458313,
          9.996944427490234,
          12.28339672088623,
          3.3304443359375,
          14.67862319946289,
          4.8073601722717285,
          18.336910247802734,
          3.7676243782043457,
          7.297839641571045,
          6.573218822479248,
          18.725318908691406,
          2.722654342651367,
          16.949020385742188,
          15.6683349609375,
          11.84751033782959,
          8.456201553344727,
          18.266372680664062,
          12.213616371154785,
          7.396758079528809,
          5.763184070587158,
          7.981133937835693,
          13.713179588317871,
          18.958721160888672,
          7.336870193481445,
          10.839353561401367,
          1.9617860317230225,
          13.271865844726562,
          9.087251663208008,
          9.476116180419922,
          2.0653326511383057,
          18.09424591064453,
          10.268183708190918,
          14.55420207977295,
          14.049596786499023,
          15.544280052185059,
          18.866703033447266,
          19.5360164642334,
          15.191961288452148,
          19.36071014404297,
          8.617138862609863,
          3.8058648109436035,
          17.007165908813477,
          15.341593742370605,
          4.3366289138793945,
          19.590293884277344,
          14.150104522705078,
          12.905647277832031,
          2.2177071571350098,
          13.827342987060547,
          2.9746270179748535,
          10.408120155334473,
          4.650606155395508,
          11.846925735473633,
          17.78406524658203,
          13.198397636413574,
          15.69167709350586,
          12.21105670928955,
          7.502346992492676,
          11.864583015441895,
          6.174489974975586,
          12.122295379638672,
          10.696391105651855,
          12.63441276550293,
          8.540205001831055,
          15.764216423034668,
          2.379688262939453,
          9.740243911743164,
          5.094316005706787,
          12.720508575439453,
          11.152168273925781,
          18.4515438079834,
          13.858718872070312,
          11.610726356506348,
          11.146942138671875,
          12.261968612670898,
          12.36685562133789,
          14.324960708618164,
          6.749187469482422,
          3.3380494117736816,
          15.158028602600098,
          11.919804573059082,
          14.115598678588867,
          3.4027817249298096,
          19.514381408691406,
          3.3902816772460938,
          11.86994743347168,
          2.6959078311920166,
          18.180370330810547,
          7.367156028747559,
          12.861875534057617,
          15.526208877563477,
          19.341081619262695,
          10.576128005981445,
          8.7976713180542,
          9.35629653930664,
          8.797018051147461,
          7.877229690551758,
          3.9677534103393555,
          14.935262680053711,
          11.832157135009766,
          8.217669486999512,
          11.820784568786621,
          2.1062004566192627,
          7.354982376098633,
          4.128640174865723,
          9.80321979522705,
          3.846315383911133,
          11.14896011352539,
          6.885144233703613,
          12.484116554260254,
          12.106524467468262,
          13.535172462463379,
          13.929448127746582,
          13.074994087219238,
          18.38580322265625,
          4.629262447357178,
          13.79822826385498,
          9.351704597473145,
          6.119691848754883,
          16.1540584564209,
          2.089257001876831,
          14.54515266418457,
          0.8764141201972961,
          12.22546100616455,
          2.897256851196289,
          19.07347869873047,
          3.402881145477295,
          11.247252464294434,
          14.805055618286133,
          11.94408130645752,
          14.243952751159668,
          14.233169555664062,
          11.119104385375977,
          9.325746536254883,
          7.588365077972412,
          15.133840560913086,
          12.760603904724121,
          7.542281627655029,
          3.916607141494751,
          15.114744186401367,
          3.288935899734497,
          13.903374671936035
         ],
         "yaxis": "y"
        },
        {
         "hovertemplate": "<b>OLS trendline</b><br>y_pred = 0.769149 * Y_test + 2.86751<br>R<sup>2</sup>=0.747193<br><br>Y_test=%{x}<br>y_pred=%{y} <b>(trend)</b><extra></extra>",
         "legendgroup": "",
         "line": {
          "color": "red"
         },
         "marker": {
          "color": [
           "#2871AD"
          ],
          "symbol": "circle"
         },
         "mode": "lines",
         "name": "",
         "showlegend": false,
         "type": "scatter",
         "x": [
          1,
          1,
          1,
          1,
          1,
          1,
          1,
          1,
          2,
          2,
          2,
          2,
          2,
          2,
          2,
          2,
          3,
          3,
          3,
          3,
          3,
          3,
          3,
          3,
          4,
          4,
          4,
          4,
          4,
          4,
          4,
          4,
          5,
          5,
          5,
          5,
          5,
          5,
          5,
          5,
          6,
          6,
          6,
          6,
          6,
          6,
          6,
          6,
          7,
          7,
          7,
          7,
          7,
          7,
          7,
          7,
          8,
          8,
          8,
          8,
          8,
          8,
          8,
          8,
          9,
          9,
          9,
          9,
          9,
          9,
          9,
          9,
          10,
          10,
          10,
          10,
          10,
          10,
          10,
          10,
          11,
          11,
          11,
          11,
          11,
          11,
          11,
          11,
          12,
          12,
          12,
          12,
          12,
          12,
          12,
          12,
          13,
          13,
          13,
          13,
          13,
          13,
          13,
          13,
          14,
          14,
          14,
          14,
          14,
          14,
          14,
          14,
          15,
          15,
          15,
          15,
          15,
          15,
          15,
          15,
          16,
          16,
          16,
          16,
          16,
          16,
          16,
          16,
          17,
          17,
          17,
          17,
          17,
          17,
          17,
          17,
          18,
          18,
          18,
          18,
          18,
          18,
          18,
          18,
          19,
          19,
          19,
          19,
          19,
          19,
          20,
          20,
          20,
          20,
          20
         ],
         "xaxis": "x",
         "y": [
          3.6366628431347987,
          3.6366628431347987,
          3.6366628431347987,
          3.6366628431347987,
          3.6366628431347987,
          3.6366628431347987,
          3.6366628431347987,
          3.6366628431347987,
          4.405812255548617,
          4.405812255548617,
          4.405812255548617,
          4.405812255548617,
          4.405812255548617,
          4.405812255548617,
          4.405812255548617,
          4.405812255548617,
          5.174961667962435,
          5.174961667962435,
          5.174961667962435,
          5.174961667962435,
          5.174961667962435,
          5.174961667962435,
          5.174961667962435,
          5.174961667962435,
          5.944111080376253,
          5.944111080376253,
          5.944111080376253,
          5.944111080376253,
          5.944111080376253,
          5.944111080376253,
          5.944111080376253,
          5.944111080376253,
          6.713260492790072,
          6.713260492790072,
          6.713260492790072,
          6.713260492790072,
          6.713260492790072,
          6.713260492790072,
          6.713260492790072,
          6.713260492790072,
          7.482409905203889,
          7.482409905203889,
          7.482409905203889,
          7.482409905203889,
          7.482409905203889,
          7.482409905203889,
          7.482409905203889,
          7.482409905203889,
          8.251559317617707,
          8.251559317617707,
          8.251559317617707,
          8.251559317617707,
          8.251559317617707,
          8.251559317617707,
          8.251559317617707,
          8.251559317617707,
          9.020708730031526,
          9.020708730031526,
          9.020708730031526,
          9.020708730031526,
          9.020708730031526,
          9.020708730031526,
          9.020708730031526,
          9.020708730031526,
          9.789858142445343,
          9.789858142445343,
          9.789858142445343,
          9.789858142445343,
          9.789858142445343,
          9.789858142445343,
          9.789858142445343,
          9.789858142445343,
          10.559007554859162,
          10.559007554859162,
          10.559007554859162,
          10.559007554859162,
          10.559007554859162,
          10.559007554859162,
          10.559007554859162,
          10.559007554859162,
          11.32815696727298,
          11.32815696727298,
          11.32815696727298,
          11.32815696727298,
          11.32815696727298,
          11.32815696727298,
          11.32815696727298,
          11.32815696727298,
          12.097306379686797,
          12.097306379686797,
          12.097306379686797,
          12.097306379686797,
          12.097306379686797,
          12.097306379686797,
          12.097306379686797,
          12.097306379686797,
          12.866455792100616,
          12.866455792100616,
          12.866455792100616,
          12.866455792100616,
          12.866455792100616,
          12.866455792100616,
          12.866455792100616,
          12.866455792100616,
          13.635605204514434,
          13.635605204514434,
          13.635605204514434,
          13.635605204514434,
          13.635605204514434,
          13.635605204514434,
          13.635605204514434,
          13.635605204514434,
          14.404754616928253,
          14.404754616928253,
          14.404754616928253,
          14.404754616928253,
          14.404754616928253,
          14.404754616928253,
          14.404754616928253,
          14.404754616928253,
          15.17390402934207,
          15.17390402934207,
          15.17390402934207,
          15.17390402934207,
          15.17390402934207,
          15.17390402934207,
          15.17390402934207,
          15.17390402934207,
          15.943053441755888,
          15.943053441755888,
          15.943053441755888,
          15.943053441755888,
          15.943053441755888,
          15.943053441755888,
          15.943053441755888,
          15.943053441755888,
          16.712202854169707,
          16.712202854169707,
          16.712202854169707,
          16.712202854169707,
          16.712202854169707,
          16.712202854169707,
          16.712202854169707,
          16.712202854169707,
          17.481352266583524,
          17.481352266583524,
          17.481352266583524,
          17.481352266583524,
          17.481352266583524,
          17.481352266583524,
          18.25050167899734,
          18.25050167899734,
          18.25050167899734,
          18.25050167899734,
          18.25050167899734
         ],
         "yaxis": "y"
        }
       ],
       "layout": {
        "height": 400,
        "legend": {
         "tracegroupgap": 0
        },
        "margin": {
         "t": 60
        },
        "template": {
         "data": {
          "bar": [
           {
            "error_x": {
             "color": "#2a3f5f"
            },
            "error_y": {
             "color": "#2a3f5f"
            },
            "marker": {
             "line": {
              "color": "#E5ECF6",
              "width": 0.5
             },
             "pattern": {
              "fillmode": "overlay",
              "size": 10,
              "solidity": 0.2
             }
            },
            "type": "bar"
           }
          ],
          "barpolar": [
           {
            "marker": {
             "line": {
              "color": "#E5ECF6",
              "width": 0.5
             },
             "pattern": {
              "fillmode": "overlay",
              "size": 10,
              "solidity": 0.2
             }
            },
            "type": "barpolar"
           }
          ],
          "carpet": [
           {
            "aaxis": {
             "endlinecolor": "#2a3f5f",
             "gridcolor": "white",
             "linecolor": "white",
             "minorgridcolor": "white",
             "startlinecolor": "#2a3f5f"
            },
            "baxis": {
             "endlinecolor": "#2a3f5f",
             "gridcolor": "white",
             "linecolor": "white",
             "minorgridcolor": "white",
             "startlinecolor": "#2a3f5f"
            },
            "type": "carpet"
           }
          ],
          "choropleth": [
           {
            "colorbar": {
             "outlinewidth": 0,
             "ticks": ""
            },
            "type": "choropleth"
           }
          ],
          "contour": [
           {
            "colorbar": {
             "outlinewidth": 0,
             "ticks": ""
            },
            "colorscale": [
             [
              0,
              "#0d0887"
             ],
             [
              0.1111111111111111,
              "#46039f"
             ],
             [
              0.2222222222222222,
              "#7201a8"
             ],
             [
              0.3333333333333333,
              "#9c179e"
             ],
             [
              0.4444444444444444,
              "#bd3786"
             ],
             [
              0.5555555555555556,
              "#d8576b"
             ],
             [
              0.6666666666666666,
              "#ed7953"
             ],
             [
              0.7777777777777778,
              "#fb9f3a"
             ],
             [
              0.8888888888888888,
              "#fdca26"
             ],
             [
              1,
              "#f0f921"
             ]
            ],
            "type": "contour"
           }
          ],
          "contourcarpet": [
           {
            "colorbar": {
             "outlinewidth": 0,
             "ticks": ""
            },
            "type": "contourcarpet"
           }
          ],
          "heatmap": [
           {
            "colorbar": {
             "outlinewidth": 0,
             "ticks": ""
            },
            "colorscale": [
             [
              0,
              "#0d0887"
             ],
             [
              0.1111111111111111,
              "#46039f"
             ],
             [
              0.2222222222222222,
              "#7201a8"
             ],
             [
              0.3333333333333333,
              "#9c179e"
             ],
             [
              0.4444444444444444,
              "#bd3786"
             ],
             [
              0.5555555555555556,
              "#d8576b"
             ],
             [
              0.6666666666666666,
              "#ed7953"
             ],
             [
              0.7777777777777778,
              "#fb9f3a"
             ],
             [
              0.8888888888888888,
              "#fdca26"
             ],
             [
              1,
              "#f0f921"
             ]
            ],
            "type": "heatmap"
           }
          ],
          "heatmapgl": [
           {
            "colorbar": {
             "outlinewidth": 0,
             "ticks": ""
            },
            "colorscale": [
             [
              0,
              "#0d0887"
             ],
             [
              0.1111111111111111,
              "#46039f"
             ],
             [
              0.2222222222222222,
              "#7201a8"
             ],
             [
              0.3333333333333333,
              "#9c179e"
             ],
             [
              0.4444444444444444,
              "#bd3786"
             ],
             [
              0.5555555555555556,
              "#d8576b"
             ],
             [
              0.6666666666666666,
              "#ed7953"
             ],
             [
              0.7777777777777778,
              "#fb9f3a"
             ],
             [
              0.8888888888888888,
              "#fdca26"
             ],
             [
              1,
              "#f0f921"
             ]
            ],
            "type": "heatmapgl"
           }
          ],
          "histogram": [
           {
            "marker": {
             "pattern": {
              "fillmode": "overlay",
              "size": 10,
              "solidity": 0.2
             }
            },
            "type": "histogram"
           }
          ],
          "histogram2d": [
           {
            "colorbar": {
             "outlinewidth": 0,
             "ticks": ""
            },
            "colorscale": [
             [
              0,
              "#0d0887"
             ],
             [
              0.1111111111111111,
              "#46039f"
             ],
             [
              0.2222222222222222,
              "#7201a8"
             ],
             [
              0.3333333333333333,
              "#9c179e"
             ],
             [
              0.4444444444444444,
              "#bd3786"
             ],
             [
              0.5555555555555556,
              "#d8576b"
             ],
             [
              0.6666666666666666,
              "#ed7953"
             ],
             [
              0.7777777777777778,
              "#fb9f3a"
             ],
             [
              0.8888888888888888,
              "#fdca26"
             ],
             [
              1,
              "#f0f921"
             ]
            ],
            "type": "histogram2d"
           }
          ],
          "histogram2dcontour": [
           {
            "colorbar": {
             "outlinewidth": 0,
             "ticks": ""
            },
            "colorscale": [
             [
              0,
              "#0d0887"
             ],
             [
              0.1111111111111111,
              "#46039f"
             ],
             [
              0.2222222222222222,
              "#7201a8"
             ],
             [
              0.3333333333333333,
              "#9c179e"
             ],
             [
              0.4444444444444444,
              "#bd3786"
             ],
             [
              0.5555555555555556,
              "#d8576b"
             ],
             [
              0.6666666666666666,
              "#ed7953"
             ],
             [
              0.7777777777777778,
              "#fb9f3a"
             ],
             [
              0.8888888888888888,
              "#fdca26"
             ],
             [
              1,
              "#f0f921"
             ]
            ],
            "type": "histogram2dcontour"
           }
          ],
          "mesh3d": [
           {
            "colorbar": {
             "outlinewidth": 0,
             "ticks": ""
            },
            "type": "mesh3d"
           }
          ],
          "parcoords": [
           {
            "line": {
             "colorbar": {
              "outlinewidth": 0,
              "ticks": ""
             }
            },
            "type": "parcoords"
           }
          ],
          "pie": [
           {
            "automargin": true,
            "type": "pie"
           }
          ],
          "scatter": [
           {
            "fillpattern": {
             "fillmode": "overlay",
             "size": 10,
             "solidity": 0.2
            },
            "type": "scatter"
           }
          ],
          "scatter3d": [
           {
            "line": {
             "colorbar": {
              "outlinewidth": 0,
              "ticks": ""
             }
            },
            "marker": {
             "colorbar": {
              "outlinewidth": 0,
              "ticks": ""
             }
            },
            "type": "scatter3d"
           }
          ],
          "scattercarpet": [
           {
            "marker": {
             "colorbar": {
              "outlinewidth": 0,
              "ticks": ""
             }
            },
            "type": "scattercarpet"
           }
          ],
          "scattergeo": [
           {
            "marker": {
             "colorbar": {
              "outlinewidth": 0,
              "ticks": ""
             }
            },
            "type": "scattergeo"
           }
          ],
          "scattergl": [
           {
            "marker": {
             "colorbar": {
              "outlinewidth": 0,
              "ticks": ""
             }
            },
            "type": "scattergl"
           }
          ],
          "scattermapbox": [
           {
            "marker": {
             "colorbar": {
              "outlinewidth": 0,
              "ticks": ""
             }
            },
            "type": "scattermapbox"
           }
          ],
          "scatterpolar": [
           {
            "marker": {
             "colorbar": {
              "outlinewidth": 0,
              "ticks": ""
             }
            },
            "type": "scatterpolar"
           }
          ],
          "scatterpolargl": [
           {
            "marker": {
             "colorbar": {
              "outlinewidth": 0,
              "ticks": ""
             }
            },
            "type": "scatterpolargl"
           }
          ],
          "scatterternary": [
           {
            "marker": {
             "colorbar": {
              "outlinewidth": 0,
              "ticks": ""
             }
            },
            "type": "scatterternary"
           }
          ],
          "surface": [
           {
            "colorbar": {
             "outlinewidth": 0,
             "ticks": ""
            },
            "colorscale": [
             [
              0,
              "#0d0887"
             ],
             [
              0.1111111111111111,
              "#46039f"
             ],
             [
              0.2222222222222222,
              "#7201a8"
             ],
             [
              0.3333333333333333,
              "#9c179e"
             ],
             [
              0.4444444444444444,
              "#bd3786"
             ],
             [
              0.5555555555555556,
              "#d8576b"
             ],
             [
              0.6666666666666666,
              "#ed7953"
             ],
             [
              0.7777777777777778,
              "#fb9f3a"
             ],
             [
              0.8888888888888888,
              "#fdca26"
             ],
             [
              1,
              "#f0f921"
             ]
            ],
            "type": "surface"
           }
          ],
          "table": [
           {
            "cells": {
             "fill": {
              "color": "#EBF0F8"
             },
             "line": {
              "color": "white"
             }
            },
            "header": {
             "fill": {
              "color": "#C8D4E3"
             },
             "line": {
              "color": "white"
             }
            },
            "type": "table"
           }
          ]
         },
         "layout": {
          "annotationdefaults": {
           "arrowcolor": "#2a3f5f",
           "arrowhead": 0,
           "arrowwidth": 1
          },
          "autotypenumbers": "strict",
          "coloraxis": {
           "colorbar": {
            "outlinewidth": 0,
            "ticks": ""
           }
          },
          "colorscale": {
           "diverging": [
            [
             0,
             "#8e0152"
            ],
            [
             0.1,
             "#c51b7d"
            ],
            [
             0.2,
             "#de77ae"
            ],
            [
             0.3,
             "#f1b6da"
            ],
            [
             0.4,
             "#fde0ef"
            ],
            [
             0.5,
             "#f7f7f7"
            ],
            [
             0.6,
             "#e6f5d0"
            ],
            [
             0.7,
             "#b8e186"
            ],
            [
             0.8,
             "#7fbc41"
            ],
            [
             0.9,
             "#4d9221"
            ],
            [
             1,
             "#276419"
            ]
           ],
           "sequential": [
            [
             0,
             "#0d0887"
            ],
            [
             0.1111111111111111,
             "#46039f"
            ],
            [
             0.2222222222222222,
             "#7201a8"
            ],
            [
             0.3333333333333333,
             "#9c179e"
            ],
            [
             0.4444444444444444,
             "#bd3786"
            ],
            [
             0.5555555555555556,
             "#d8576b"
            ],
            [
             0.6666666666666666,
             "#ed7953"
            ],
            [
             0.7777777777777778,
             "#fb9f3a"
            ],
            [
             0.8888888888888888,
             "#fdca26"
            ],
            [
             1,
             "#f0f921"
            ]
           ],
           "sequentialminus": [
            [
             0,
             "#0d0887"
            ],
            [
             0.1111111111111111,
             "#46039f"
            ],
            [
             0.2222222222222222,
             "#7201a8"
            ],
            [
             0.3333333333333333,
             "#9c179e"
            ],
            [
             0.4444444444444444,
             "#bd3786"
            ],
            [
             0.5555555555555556,
             "#d8576b"
            ],
            [
             0.6666666666666666,
             "#ed7953"
            ],
            [
             0.7777777777777778,
             "#fb9f3a"
            ],
            [
             0.8888888888888888,
             "#fdca26"
            ],
            [
             1,
             "#f0f921"
            ]
           ]
          },
          "colorway": [
           "#636efa",
           "#EF553B",
           "#00cc96",
           "#ab63fa",
           "#FFA15A",
           "#19d3f3",
           "#FF6692",
           "#B6E880",
           "#FF97FF",
           "#FECB52"
          ],
          "font": {
           "color": "#2a3f5f"
          },
          "geo": {
           "bgcolor": "white",
           "lakecolor": "white",
           "landcolor": "#E5ECF6",
           "showlakes": true,
           "showland": true,
           "subunitcolor": "white"
          },
          "hoverlabel": {
           "align": "left"
          },
          "hovermode": "closest",
          "mapbox": {
           "style": "light"
          },
          "paper_bgcolor": "white",
          "plot_bgcolor": "#E5ECF6",
          "polar": {
           "angularaxis": {
            "gridcolor": "white",
            "linecolor": "white",
            "ticks": ""
           },
           "bgcolor": "#E5ECF6",
           "radialaxis": {
            "gridcolor": "white",
            "linecolor": "white",
            "ticks": ""
           }
          },
          "scene": {
           "xaxis": {
            "backgroundcolor": "#E5ECF6",
            "gridcolor": "white",
            "gridwidth": 2,
            "linecolor": "white",
            "showbackground": true,
            "ticks": "",
            "zerolinecolor": "white"
           },
           "yaxis": {
            "backgroundcolor": "#E5ECF6",
            "gridcolor": "white",
            "gridwidth": 2,
            "linecolor": "white",
            "showbackground": true,
            "ticks": "",
            "zerolinecolor": "white"
           },
           "zaxis": {
            "backgroundcolor": "#E5ECF6",
            "gridcolor": "white",
            "gridwidth": 2,
            "linecolor": "white",
            "showbackground": true,
            "ticks": "",
            "zerolinecolor": "white"
           }
          },
          "shapedefaults": {
           "line": {
            "color": "#2a3f5f"
           }
          },
          "ternary": {
           "aaxis": {
            "gridcolor": "white",
            "linecolor": "white",
            "ticks": ""
           },
           "baxis": {
            "gridcolor": "white",
            "linecolor": "white",
            "ticks": ""
           },
           "bgcolor": "#E5ECF6",
           "caxis": {
            "gridcolor": "white",
            "linecolor": "white",
            "ticks": ""
           }
          },
          "title": {
           "x": 0.05
          },
          "xaxis": {
           "automargin": true,
           "gridcolor": "white",
           "linecolor": "white",
           "ticks": "",
           "title": {
            "standoff": 15
           },
           "zerolinecolor": "white",
           "zerolinewidth": 2
          },
          "yaxis": {
           "automargin": true,
           "gridcolor": "white",
           "linecolor": "white",
           "ticks": "",
           "title": {
            "standoff": 15
           },
           "zerolinecolor": "white",
           "zerolinewidth": 2
          }
         }
        },
        "width": 550,
        "xaxis": {
         "anchor": "y",
         "domain": [
          0,
          1
         ],
         "title": {
          "text": "Y_test"
         }
        },
        "yaxis": {
         "anchor": "x",
         "domain": [
          0,
          1
         ],
         "title": {
          "text": "y_pred"
         }
        }
       }
      }
     },
     "metadata": {},
     "output_type": "display_data"
    }
   ],
   "source": [
    "# Create predicted vs actual values plot\n",
    "import plotly.express as px\n",
    "\n",
    "data = {\"Y_test\": Y_test, \"y_pred\": y_pred}\n",
    "\n",
    "# Create the DataFrame\n",
    "dfplot = pd.DataFrame(data)\n",
    "\n",
    "# Print the DataFrame\n",
    "print(dfplot)\n",
    "\n",
    "\n",
    "fig = px.scatter(\n",
    "    dfplot, x='Y_test', y='y_pred', opacity=0.65,\n",
    "    trendline='ols', trendline_color_override='red',\n",
    "    width=550, height=400\n",
    "    \n",
    ")\n",
    "\n",
    "color_palette = ['#2871AD']  # Specify your desired colors\n",
    "\n",
    "# Update the color palette\n",
    "fig.update_traces(marker=dict(color=color_palette))\n",
    "\n",
    "fig.show()"
   ]
  },
  {
   "cell_type": "code",
   "execution_count": 196,
   "metadata": {},
   "outputs": [
    {
     "name": "stdout",
     "output_type": "stream",
     "text": [
      "                     Feature  Importance\n",
      "0                   carIssue      0.5997\n",
      "1        TeamName_HaasF1Team      0.0628\n",
      "2                driverIssue      0.0543\n",
      "3     TeamName_RedBullRacing      0.0539\n",
      "4          TeamName_Mercedes      0.0459\n",
      "5               GridPosition      0.0284\n",
      "6           TeamName_Ferrari      0.0272\n",
      "7          TeamName_Williams      0.0270\n",
      "8             Engine_RedBull      0.0206\n",
      "9                      Brake      0.0074\n",
      "10              AverageSpeed      0.0067\n",
      "11  TeamName_AlfaRomeoRacing      0.0061\n",
      "12                 PitstopNo      0.0058\n",
      "13              INTERMEDIATE      0.0052\n",
      "14           TeamName_Alpine      0.0046\n",
      "15            MaxThrottlePct      0.0044\n",
      "16                  MaxSpeed      0.0044\n",
      "17                AvgPitTime      0.0042\n",
      "18           AverageThrottle      0.0039\n",
      "19                      SOFT      0.0033\n",
      "20                    MEDIUM      0.0025\n",
      "21      TeamName_AstonMartin      0.0025\n",
      "22                      FLap      0.0023\n",
      "23          TeamName_McLaren      0.0022\n",
      "24                   AgeAtGP      0.0021\n",
      "25                      HARD      0.0021\n",
      "26        CircuitType_street      0.0020\n",
      "27                 SDLapTime      0.0020\n",
      "28             BestQualiTime      0.0020\n",
      "29                    MaxRPM      0.0017\n",
      "30              Engine_Honda      0.0013\n",
      "31       TeamName_AlphaTauri      0.0013\n",
      "32           Engine_Mercedes      0.0004\n",
      "33                       WET      0.0000\n",
      "34      TeamName_RacingPoint      0.0000\n",
      "35          TeamName_Renault      0.0000\n",
      "36        TeamName_ToroRosso      0.0000\n",
      "37                      Rain      0.0000\n",
      "38            Engine_Renault      0.0000\n"
     ]
    }
   ],
   "source": [
    "# Get feature importances and sort them\n",
    "importance = mrf.trained_fe_model.feature_importances_\n",
    "importance_df_after = pd.DataFrame({'Feature': x_train.columns, 'Importance': importance})\n",
    "importance_df_after = importance_df_after.sort_values('Importance', ascending=False).reset_index(drop=True)\n",
    "print(importance_df_after)"
   ]
  },
  {
   "cell_type": "code",
   "execution_count": null,
   "metadata": {},
   "outputs": [
    {
     "data": {
      "text/html": [
       "<div>\n",
       "<style scoped>\n",
       "    .dataframe tbody tr th:only-of-type {\n",
       "        vertical-align: middle;\n",
       "    }\n",
       "\n",
       "    .dataframe tbody tr th {\n",
       "        vertical-align: top;\n",
       "    }\n",
       "\n",
       "    .dataframe thead th {\n",
       "        text-align: right;\n",
       "    }\n",
       "</style>\n",
       "<table border=\"1\" class=\"dataframe\">\n",
       "  <thead>\n",
       "    <tr style=\"text-align: right;\">\n",
       "      <th></th>\n",
       "      <th>Feature</th>\n",
       "      <th>Before</th>\n",
       "      <th>After</th>\n",
       "    </tr>\n",
       "  </thead>\n",
       "  <tbody>\n",
       "    <tr>\n",
       "      <th>0</th>\n",
       "      <td>carIssue</td>\n",
       "      <td>0.5337</td>\n",
       "      <td>0.5997</td>\n",
       "    </tr>\n",
       "    <tr>\n",
       "      <th>1</th>\n",
       "      <td>TeamName_Williams</td>\n",
       "      <td>0.0932</td>\n",
       "      <td>0.0270</td>\n",
       "    </tr>\n",
       "    <tr>\n",
       "      <th>2</th>\n",
       "      <td>TeamName_Mercedes</td>\n",
       "      <td>0.0496</td>\n",
       "      <td>0.0459</td>\n",
       "    </tr>\n",
       "    <tr>\n",
       "      <th>3</th>\n",
       "      <td>GridPosition</td>\n",
       "      <td>0.0419</td>\n",
       "      <td>0.0284</td>\n",
       "    </tr>\n",
       "    <tr>\n",
       "      <th>4</th>\n",
       "      <td>driverIssue</td>\n",
       "      <td>0.0351</td>\n",
       "      <td>0.0543</td>\n",
       "    </tr>\n",
       "    <tr>\n",
       "      <th>5</th>\n",
       "      <td>INTERMEDIATE</td>\n",
       "      <td>0.0349</td>\n",
       "      <td>0.0052</td>\n",
       "    </tr>\n",
       "    <tr>\n",
       "      <th>6</th>\n",
       "      <td>TeamName_HaasF1Team</td>\n",
       "      <td>0.0332</td>\n",
       "      <td>0.0628</td>\n",
       "    </tr>\n",
       "    <tr>\n",
       "      <th>7</th>\n",
       "      <td>TeamName_RedBullRacing</td>\n",
       "      <td>0.0264</td>\n",
       "      <td>0.0539</td>\n",
       "    </tr>\n",
       "    <tr>\n",
       "      <th>8</th>\n",
       "      <td>TeamName_AlfaRomeoRacing</td>\n",
       "      <td>0.0258</td>\n",
       "      <td>0.0061</td>\n",
       "    </tr>\n",
       "    <tr>\n",
       "      <th>9</th>\n",
       "      <td>TeamName_McLaren</td>\n",
       "      <td>0.0147</td>\n",
       "      <td>0.0022</td>\n",
       "    </tr>\n",
       "    <tr>\n",
       "      <th>10</th>\n",
       "      <td>PitstopNo</td>\n",
       "      <td>0.0120</td>\n",
       "      <td>0.0058</td>\n",
       "    </tr>\n",
       "    <tr>\n",
       "      <th>11</th>\n",
       "      <td>FLap</td>\n",
       "      <td>0.0120</td>\n",
       "      <td>0.0023</td>\n",
       "    </tr>\n",
       "    <tr>\n",
       "      <th>12</th>\n",
       "      <td>Brake</td>\n",
       "      <td>0.0115</td>\n",
       "      <td>0.0074</td>\n",
       "    </tr>\n",
       "    <tr>\n",
       "      <th>13</th>\n",
       "      <td>AverageSpeed</td>\n",
       "      <td>0.0108</td>\n",
       "      <td>0.0067</td>\n",
       "    </tr>\n",
       "    <tr>\n",
       "      <th>14</th>\n",
       "      <td>Engine_Honda</td>\n",
       "      <td>0.0097</td>\n",
       "      <td>0.0013</td>\n",
       "    </tr>\n",
       "    <tr>\n",
       "      <th>15</th>\n",
       "      <td>TeamName_RacingPoint</td>\n",
       "      <td>0.0075</td>\n",
       "      <td>0.0000</td>\n",
       "    </tr>\n",
       "    <tr>\n",
       "      <th>16</th>\n",
       "      <td>SOFT</td>\n",
       "      <td>0.0053</td>\n",
       "      <td>0.0033</td>\n",
       "    </tr>\n",
       "    <tr>\n",
       "      <th>17</th>\n",
       "      <td>MaxSpeed</td>\n",
       "      <td>0.0048</td>\n",
       "      <td>0.0044</td>\n",
       "    </tr>\n",
       "    <tr>\n",
       "      <th>18</th>\n",
       "      <td>Engine_Renault</td>\n",
       "      <td>0.0045</td>\n",
       "      <td>0.0000</td>\n",
       "    </tr>\n",
       "    <tr>\n",
       "      <th>19</th>\n",
       "      <td>TeamName_Ferrari</td>\n",
       "      <td>0.0040</td>\n",
       "      <td>0.0272</td>\n",
       "    </tr>\n",
       "    <tr>\n",
       "      <th>20</th>\n",
       "      <td>AverageThrottle</td>\n",
       "      <td>0.0039</td>\n",
       "      <td>0.0039</td>\n",
       "    </tr>\n",
       "    <tr>\n",
       "      <th>21</th>\n",
       "      <td>SDLapTime</td>\n",
       "      <td>0.0035</td>\n",
       "      <td>0.0020</td>\n",
       "    </tr>\n",
       "    <tr>\n",
       "      <th>22</th>\n",
       "      <td>MaxRPM</td>\n",
       "      <td>0.0034</td>\n",
       "      <td>0.0017</td>\n",
       "    </tr>\n",
       "    <tr>\n",
       "      <th>23</th>\n",
       "      <td>AvgPitTime</td>\n",
       "      <td>0.0033</td>\n",
       "      <td>0.0042</td>\n",
       "    </tr>\n",
       "    <tr>\n",
       "      <th>24</th>\n",
       "      <td>HARD</td>\n",
       "      <td>0.0025</td>\n",
       "      <td>0.0021</td>\n",
       "    </tr>\n",
       "    <tr>\n",
       "      <th>25</th>\n",
       "      <td>MaxThrottlePct</td>\n",
       "      <td>0.0024</td>\n",
       "      <td>0.0044</td>\n",
       "    </tr>\n",
       "    <tr>\n",
       "      <th>26</th>\n",
       "      <td>MEDIUM</td>\n",
       "      <td>0.0022</td>\n",
       "      <td>0.0025</td>\n",
       "    </tr>\n",
       "    <tr>\n",
       "      <th>27</th>\n",
       "      <td>BestQualiTime</td>\n",
       "      <td>0.0017</td>\n",
       "      <td>0.0020</td>\n",
       "    </tr>\n",
       "    <tr>\n",
       "      <th>28</th>\n",
       "      <td>TeamName_Renault</td>\n",
       "      <td>0.0015</td>\n",
       "      <td>0.0000</td>\n",
       "    </tr>\n",
       "    <tr>\n",
       "      <th>29</th>\n",
       "      <td>AgeAtGP</td>\n",
       "      <td>0.0011</td>\n",
       "      <td>0.0021</td>\n",
       "    </tr>\n",
       "    <tr>\n",
       "      <th>30</th>\n",
       "      <td>CircuitType_street</td>\n",
       "      <td>0.0011</td>\n",
       "      <td>0.0020</td>\n",
       "    </tr>\n",
       "    <tr>\n",
       "      <th>31</th>\n",
       "      <td>TeamName_ToroRosso</td>\n",
       "      <td>0.0011</td>\n",
       "      <td>0.0000</td>\n",
       "    </tr>\n",
       "    <tr>\n",
       "      <th>32</th>\n",
       "      <td>Rain</td>\n",
       "      <td>0.0008</td>\n",
       "      <td>0.0000</td>\n",
       "    </tr>\n",
       "    <tr>\n",
       "      <th>33</th>\n",
       "      <td>Engine_Mercedes</td>\n",
       "      <td>0.0006</td>\n",
       "      <td>0.0004</td>\n",
       "    </tr>\n",
       "    <tr>\n",
       "      <th>34</th>\n",
       "      <td>TeamName_AlphaTauri</td>\n",
       "      <td>0.0005</td>\n",
       "      <td>0.0013</td>\n",
       "    </tr>\n",
       "    <tr>\n",
       "      <th>35</th>\n",
       "      <td>WET</td>\n",
       "      <td>0.0000</td>\n",
       "      <td>0.0000</td>\n",
       "    </tr>\n",
       "    <tr>\n",
       "      <th>36</th>\n",
       "      <td>TeamName_Alpine</td>\n",
       "      <td>0.0000</td>\n",
       "      <td>0.0046</td>\n",
       "    </tr>\n",
       "    <tr>\n",
       "      <th>37</th>\n",
       "      <td>Engine_RedBull</td>\n",
       "      <td>0.0000</td>\n",
       "      <td>0.0206</td>\n",
       "    </tr>\n",
       "    <tr>\n",
       "      <th>38</th>\n",
       "      <td>TeamName_AstonMartin</td>\n",
       "      <td>0.0000</td>\n",
       "      <td>0.0025</td>\n",
       "    </tr>\n",
       "  </tbody>\n",
       "</table>\n",
       "</div>"
      ],
      "text/plain": [
       "                     Feature  Before  After\n",
       "0                   carIssue  0.5337 0.5997\n",
       "1          TeamName_Williams  0.0932 0.0270\n",
       "2          TeamName_Mercedes  0.0496 0.0459\n",
       "3               GridPosition  0.0419 0.0284\n",
       "4                driverIssue  0.0351 0.0543\n",
       "5               INTERMEDIATE  0.0349 0.0052\n",
       "6        TeamName_HaasF1Team  0.0332 0.0628\n",
       "7     TeamName_RedBullRacing  0.0264 0.0539\n",
       "8   TeamName_AlfaRomeoRacing  0.0258 0.0061\n",
       "9           TeamName_McLaren  0.0147 0.0022\n",
       "10                 PitstopNo  0.0120 0.0058\n",
       "11                      FLap  0.0120 0.0023\n",
       "12                     Brake  0.0115 0.0074\n",
       "13              AverageSpeed  0.0108 0.0067\n",
       "14              Engine_Honda  0.0097 0.0013\n",
       "15      TeamName_RacingPoint  0.0075 0.0000\n",
       "16                      SOFT  0.0053 0.0033\n",
       "17                  MaxSpeed  0.0048 0.0044\n",
       "18            Engine_Renault  0.0045 0.0000\n",
       "19          TeamName_Ferrari  0.0040 0.0272\n",
       "20           AverageThrottle  0.0039 0.0039\n",
       "21                 SDLapTime  0.0035 0.0020\n",
       "22                    MaxRPM  0.0034 0.0017\n",
       "23                AvgPitTime  0.0033 0.0042\n",
       "24                      HARD  0.0025 0.0021\n",
       "25            MaxThrottlePct  0.0024 0.0044\n",
       "26                    MEDIUM  0.0022 0.0025\n",
       "27             BestQualiTime  0.0017 0.0020\n",
       "28          TeamName_Renault  0.0015 0.0000\n",
       "29                   AgeAtGP  0.0011 0.0021\n",
       "30        CircuitType_street  0.0011 0.0020\n",
       "31        TeamName_ToroRosso  0.0011 0.0000\n",
       "32                      Rain  0.0008 0.0000\n",
       "33           Engine_Mercedes  0.0006 0.0004\n",
       "34       TeamName_AlphaTauri  0.0005 0.0013\n",
       "35                       WET  0.0000 0.0000\n",
       "36           TeamName_Alpine  0.0000 0.0046\n",
       "37            Engine_RedBull  0.0000 0.0206\n",
       "38      TeamName_AstonMartin  0.0000 0.0025"
      ]
     },
     "execution_count": 197,
     "metadata": {},
     "output_type": "execute_result"
    }
   ],
   "source": [
    "# Create a dataframe with both before and after feature importances by merging on features\n",
    "importance = pd.merge(importance_df_before, importance_df_after, on=\"Feature\")\n",
    "pd.set_option('display.float_format', '{:.4f}'.format)\n",
    "\n",
    "importance.rename(columns={'Importance_x': \"Before\", 'Importance_y': \"After\"}, inplace=True)\n",
    "\n",
    "importance"
   ]
  },
  {
   "attachments": {},
   "cell_type": "markdown",
   "metadata": {},
   "source": [
    "## Create plots for visualization of feature importances"
   ]
  },
  {
   "cell_type": "code",
   "execution_count": 198,
   "metadata": {},
   "outputs": [
    {
     "data": {
      "application/vnd.plotly.v1+json": {
       "config": {
        "plotlyServerURL": "https://plot.ly"
       },
       "data": [
        {
         "name": "Before",
         "type": "bar",
         "x": [
          "carIssue",
          "TeamName_Williams",
          "TeamName_Mercedes",
          "GridPosition",
          "driverIssue",
          "INTERMEDIATE",
          "TeamName_HaasF1Team",
          "TeamName_RedBullRacing",
          "TeamName_AlfaRomeoRacing",
          "TeamName_McLaren",
          "PitstopNo",
          "FLap",
          "Brake",
          "AverageSpeed",
          "Engine_Honda",
          "TeamName_RacingPoint",
          "SOFT",
          "MaxSpeed",
          "Engine_Renault",
          "TeamName_Ferrari",
          "AverageThrottle",
          "SDLapTime",
          "MaxRPM",
          "AvgPitTime",
          "HARD",
          "MaxThrottlePct",
          "MEDIUM",
          "BestQualiTime",
          "TeamName_Renault",
          "AgeAtGP",
          "CircuitType_street",
          "TeamName_ToroRosso",
          "Rain",
          "Engine_Mercedes",
          "TeamName_AlphaTauri",
          "WET",
          "TeamName_Alpine",
          "Engine_RedBull",
          "TeamName_AstonMartin"
         ],
         "y": [
          0.5336699485778809,
          0.0931740254163742,
          0.04962249845266342,
          0.041927993297576904,
          0.035117942839860916,
          0.03493748605251312,
          0.03319653123617172,
          0.026393597945570946,
          0.025770453736186028,
          0.014712536707520485,
          0.012029284611344337,
          0.01201222836971283,
          0.011497847735881805,
          0.01079648733139038,
          0.00965039525181055,
          0.007462786976248026,
          0.005314640235155821,
          0.0048401979729533195,
          0.004514819011092186,
          0.003952076192945242,
          0.003942529670894146,
          0.0035088935401290655,
          0.0033583263866603374,
          0.003291609464213252,
          0.002455591456964612,
          0.002416274044662714,
          0.0022103916853666306,
          0.0016622123075649142,
          0.0014763212529942393,
          0.0010917196050286293,
          0.0010821371106430888,
          0.0010666619054973125,
          0.0007731475052423775,
          0.0005758329061791301,
          0.0004937438643537462,
          7.087685389706166e-7,
          0,
          0,
          0
         ]
        },
        {
         "name": "After",
         "type": "bar",
         "x": [
          "carIssue",
          "TeamName_Williams",
          "TeamName_Mercedes",
          "GridPosition",
          "driverIssue",
          "INTERMEDIATE",
          "TeamName_HaasF1Team",
          "TeamName_RedBullRacing",
          "TeamName_AlfaRomeoRacing",
          "TeamName_McLaren",
          "PitstopNo",
          "FLap",
          "Brake",
          "AverageSpeed",
          "Engine_Honda",
          "TeamName_RacingPoint",
          "SOFT",
          "MaxSpeed",
          "Engine_Renault",
          "TeamName_Ferrari",
          "AverageThrottle",
          "SDLapTime",
          "MaxRPM",
          "AvgPitTime",
          "HARD",
          "MaxThrottlePct",
          "MEDIUM",
          "BestQualiTime",
          "TeamName_Renault",
          "AgeAtGP",
          "CircuitType_street",
          "TeamName_ToroRosso",
          "Rain",
          "Engine_Mercedes",
          "TeamName_AlphaTauri",
          "WET",
          "TeamName_Alpine",
          "Engine_RedBull",
          "TeamName_AstonMartin"
         ],
         "y": [
          0.5997198224067688,
          0.026983365416526794,
          0.04587796702980995,
          0.028427254408597946,
          0.054287608712911606,
          0.0051821148954331875,
          0.06276857107877731,
          0.05387848988175392,
          0.00614587590098381,
          0.0022262283600866795,
          0.005770022515207529,
          0.0023071165196597576,
          0.007421086076647043,
          0.0066994610242545605,
          0.0013374297413975,
          0,
          0.0032831477001309395,
          0.004351335112005472,
          0,
          0.02718498930335045,
          0.0039009596221148968,
          0.002011945005506277,
          0.0016521740471944213,
          0.004164446145296097,
          0.00205052737146616,
          0.004383704625070095,
          0.0025051699485629797,
          0.0020031745079904795,
          0,
          0.0020988984033465385,
          0.0020439811050891876,
          0,
          0,
          0.0004013517464045435,
          0.0012823425931856036,
          0.000002094997853419045,
          0.004609305877238512,
          0.020586291328072548,
          0.0024517185520380735
         ]
        }
       ],
       "layout": {
        "template": {
         "data": {
          "bar": [
           {
            "error_x": {
             "color": "#2a3f5f"
            },
            "error_y": {
             "color": "#2a3f5f"
            },
            "marker": {
             "line": {
              "color": "#E5ECF6",
              "width": 0.5
             },
             "pattern": {
              "fillmode": "overlay",
              "size": 10,
              "solidity": 0.2
             }
            },
            "type": "bar"
           }
          ],
          "barpolar": [
           {
            "marker": {
             "line": {
              "color": "#E5ECF6",
              "width": 0.5
             },
             "pattern": {
              "fillmode": "overlay",
              "size": 10,
              "solidity": 0.2
             }
            },
            "type": "barpolar"
           }
          ],
          "carpet": [
           {
            "aaxis": {
             "endlinecolor": "#2a3f5f",
             "gridcolor": "white",
             "linecolor": "white",
             "minorgridcolor": "white",
             "startlinecolor": "#2a3f5f"
            },
            "baxis": {
             "endlinecolor": "#2a3f5f",
             "gridcolor": "white",
             "linecolor": "white",
             "minorgridcolor": "white",
             "startlinecolor": "#2a3f5f"
            },
            "type": "carpet"
           }
          ],
          "choropleth": [
           {
            "colorbar": {
             "outlinewidth": 0,
             "ticks": ""
            },
            "type": "choropleth"
           }
          ],
          "contour": [
           {
            "colorbar": {
             "outlinewidth": 0,
             "ticks": ""
            },
            "colorscale": [
             [
              0,
              "#0d0887"
             ],
             [
              0.1111111111111111,
              "#46039f"
             ],
             [
              0.2222222222222222,
              "#7201a8"
             ],
             [
              0.3333333333333333,
              "#9c179e"
             ],
             [
              0.4444444444444444,
              "#bd3786"
             ],
             [
              0.5555555555555556,
              "#d8576b"
             ],
             [
              0.6666666666666666,
              "#ed7953"
             ],
             [
              0.7777777777777778,
              "#fb9f3a"
             ],
             [
              0.8888888888888888,
              "#fdca26"
             ],
             [
              1,
              "#f0f921"
             ]
            ],
            "type": "contour"
           }
          ],
          "contourcarpet": [
           {
            "colorbar": {
             "outlinewidth": 0,
             "ticks": ""
            },
            "type": "contourcarpet"
           }
          ],
          "heatmap": [
           {
            "colorbar": {
             "outlinewidth": 0,
             "ticks": ""
            },
            "colorscale": [
             [
              0,
              "#0d0887"
             ],
             [
              0.1111111111111111,
              "#46039f"
             ],
             [
              0.2222222222222222,
              "#7201a8"
             ],
             [
              0.3333333333333333,
              "#9c179e"
             ],
             [
              0.4444444444444444,
              "#bd3786"
             ],
             [
              0.5555555555555556,
              "#d8576b"
             ],
             [
              0.6666666666666666,
              "#ed7953"
             ],
             [
              0.7777777777777778,
              "#fb9f3a"
             ],
             [
              0.8888888888888888,
              "#fdca26"
             ],
             [
              1,
              "#f0f921"
             ]
            ],
            "type": "heatmap"
           }
          ],
          "heatmapgl": [
           {
            "colorbar": {
             "outlinewidth": 0,
             "ticks": ""
            },
            "colorscale": [
             [
              0,
              "#0d0887"
             ],
             [
              0.1111111111111111,
              "#46039f"
             ],
             [
              0.2222222222222222,
              "#7201a8"
             ],
             [
              0.3333333333333333,
              "#9c179e"
             ],
             [
              0.4444444444444444,
              "#bd3786"
             ],
             [
              0.5555555555555556,
              "#d8576b"
             ],
             [
              0.6666666666666666,
              "#ed7953"
             ],
             [
              0.7777777777777778,
              "#fb9f3a"
             ],
             [
              0.8888888888888888,
              "#fdca26"
             ],
             [
              1,
              "#f0f921"
             ]
            ],
            "type": "heatmapgl"
           }
          ],
          "histogram": [
           {
            "marker": {
             "pattern": {
              "fillmode": "overlay",
              "size": 10,
              "solidity": 0.2
             }
            },
            "type": "histogram"
           }
          ],
          "histogram2d": [
           {
            "colorbar": {
             "outlinewidth": 0,
             "ticks": ""
            },
            "colorscale": [
             [
              0,
              "#0d0887"
             ],
             [
              0.1111111111111111,
              "#46039f"
             ],
             [
              0.2222222222222222,
              "#7201a8"
             ],
             [
              0.3333333333333333,
              "#9c179e"
             ],
             [
              0.4444444444444444,
              "#bd3786"
             ],
             [
              0.5555555555555556,
              "#d8576b"
             ],
             [
              0.6666666666666666,
              "#ed7953"
             ],
             [
              0.7777777777777778,
              "#fb9f3a"
             ],
             [
              0.8888888888888888,
              "#fdca26"
             ],
             [
              1,
              "#f0f921"
             ]
            ],
            "type": "histogram2d"
           }
          ],
          "histogram2dcontour": [
           {
            "colorbar": {
             "outlinewidth": 0,
             "ticks": ""
            },
            "colorscale": [
             [
              0,
              "#0d0887"
             ],
             [
              0.1111111111111111,
              "#46039f"
             ],
             [
              0.2222222222222222,
              "#7201a8"
             ],
             [
              0.3333333333333333,
              "#9c179e"
             ],
             [
              0.4444444444444444,
              "#bd3786"
             ],
             [
              0.5555555555555556,
              "#d8576b"
             ],
             [
              0.6666666666666666,
              "#ed7953"
             ],
             [
              0.7777777777777778,
              "#fb9f3a"
             ],
             [
              0.8888888888888888,
              "#fdca26"
             ],
             [
              1,
              "#f0f921"
             ]
            ],
            "type": "histogram2dcontour"
           }
          ],
          "mesh3d": [
           {
            "colorbar": {
             "outlinewidth": 0,
             "ticks": ""
            },
            "type": "mesh3d"
           }
          ],
          "parcoords": [
           {
            "line": {
             "colorbar": {
              "outlinewidth": 0,
              "ticks": ""
             }
            },
            "type": "parcoords"
           }
          ],
          "pie": [
           {
            "automargin": true,
            "type": "pie"
           }
          ],
          "scatter": [
           {
            "fillpattern": {
             "fillmode": "overlay",
             "size": 10,
             "solidity": 0.2
            },
            "type": "scatter"
           }
          ],
          "scatter3d": [
           {
            "line": {
             "colorbar": {
              "outlinewidth": 0,
              "ticks": ""
             }
            },
            "marker": {
             "colorbar": {
              "outlinewidth": 0,
              "ticks": ""
             }
            },
            "type": "scatter3d"
           }
          ],
          "scattercarpet": [
           {
            "marker": {
             "colorbar": {
              "outlinewidth": 0,
              "ticks": ""
             }
            },
            "type": "scattercarpet"
           }
          ],
          "scattergeo": [
           {
            "marker": {
             "colorbar": {
              "outlinewidth": 0,
              "ticks": ""
             }
            },
            "type": "scattergeo"
           }
          ],
          "scattergl": [
           {
            "marker": {
             "colorbar": {
              "outlinewidth": 0,
              "ticks": ""
             }
            },
            "type": "scattergl"
           }
          ],
          "scattermapbox": [
           {
            "marker": {
             "colorbar": {
              "outlinewidth": 0,
              "ticks": ""
             }
            },
            "type": "scattermapbox"
           }
          ],
          "scatterpolar": [
           {
            "marker": {
             "colorbar": {
              "outlinewidth": 0,
              "ticks": ""
             }
            },
            "type": "scatterpolar"
           }
          ],
          "scatterpolargl": [
           {
            "marker": {
             "colorbar": {
              "outlinewidth": 0,
              "ticks": ""
             }
            },
            "type": "scatterpolargl"
           }
          ],
          "scatterternary": [
           {
            "marker": {
             "colorbar": {
              "outlinewidth": 0,
              "ticks": ""
             }
            },
            "type": "scatterternary"
           }
          ],
          "surface": [
           {
            "colorbar": {
             "outlinewidth": 0,
             "ticks": ""
            },
            "colorscale": [
             [
              0,
              "#0d0887"
             ],
             [
              0.1111111111111111,
              "#46039f"
             ],
             [
              0.2222222222222222,
              "#7201a8"
             ],
             [
              0.3333333333333333,
              "#9c179e"
             ],
             [
              0.4444444444444444,
              "#bd3786"
             ],
             [
              0.5555555555555556,
              "#d8576b"
             ],
             [
              0.6666666666666666,
              "#ed7953"
             ],
             [
              0.7777777777777778,
              "#fb9f3a"
             ],
             [
              0.8888888888888888,
              "#fdca26"
             ],
             [
              1,
              "#f0f921"
             ]
            ],
            "type": "surface"
           }
          ],
          "table": [
           {
            "cells": {
             "fill": {
              "color": "#EBF0F8"
             },
             "line": {
              "color": "white"
             }
            },
            "header": {
             "fill": {
              "color": "#C8D4E3"
             },
             "line": {
              "color": "white"
             }
            },
            "type": "table"
           }
          ]
         },
         "layout": {
          "annotationdefaults": {
           "arrowcolor": "#2a3f5f",
           "arrowhead": 0,
           "arrowwidth": 1
          },
          "autotypenumbers": "strict",
          "coloraxis": {
           "colorbar": {
            "outlinewidth": 0,
            "ticks": ""
           }
          },
          "colorscale": {
           "diverging": [
            [
             0,
             "#8e0152"
            ],
            [
             0.1,
             "#c51b7d"
            ],
            [
             0.2,
             "#de77ae"
            ],
            [
             0.3,
             "#f1b6da"
            ],
            [
             0.4,
             "#fde0ef"
            ],
            [
             0.5,
             "#f7f7f7"
            ],
            [
             0.6,
             "#e6f5d0"
            ],
            [
             0.7,
             "#b8e186"
            ],
            [
             0.8,
             "#7fbc41"
            ],
            [
             0.9,
             "#4d9221"
            ],
            [
             1,
             "#276419"
            ]
           ],
           "sequential": [
            [
             0,
             "#0d0887"
            ],
            [
             0.1111111111111111,
             "#46039f"
            ],
            [
             0.2222222222222222,
             "#7201a8"
            ],
            [
             0.3333333333333333,
             "#9c179e"
            ],
            [
             0.4444444444444444,
             "#bd3786"
            ],
            [
             0.5555555555555556,
             "#d8576b"
            ],
            [
             0.6666666666666666,
             "#ed7953"
            ],
            [
             0.7777777777777778,
             "#fb9f3a"
            ],
            [
             0.8888888888888888,
             "#fdca26"
            ],
            [
             1,
             "#f0f921"
            ]
           ],
           "sequentialminus": [
            [
             0,
             "#0d0887"
            ],
            [
             0.1111111111111111,
             "#46039f"
            ],
            [
             0.2222222222222222,
             "#7201a8"
            ],
            [
             0.3333333333333333,
             "#9c179e"
            ],
            [
             0.4444444444444444,
             "#bd3786"
            ],
            [
             0.5555555555555556,
             "#d8576b"
            ],
            [
             0.6666666666666666,
             "#ed7953"
            ],
            [
             0.7777777777777778,
             "#fb9f3a"
            ],
            [
             0.8888888888888888,
             "#fdca26"
            ],
            [
             1,
             "#f0f921"
            ]
           ]
          },
          "colorway": [
           "#636efa",
           "#EF553B",
           "#00cc96",
           "#ab63fa",
           "#FFA15A",
           "#19d3f3",
           "#FF6692",
           "#B6E880",
           "#FF97FF",
           "#FECB52"
          ],
          "font": {
           "color": "#2a3f5f"
          },
          "geo": {
           "bgcolor": "white",
           "lakecolor": "white",
           "landcolor": "#E5ECF6",
           "showlakes": true,
           "showland": true,
           "subunitcolor": "white"
          },
          "hoverlabel": {
           "align": "left"
          },
          "hovermode": "closest",
          "mapbox": {
           "style": "light"
          },
          "paper_bgcolor": "white",
          "plot_bgcolor": "#E5ECF6",
          "polar": {
           "angularaxis": {
            "gridcolor": "white",
            "linecolor": "white",
            "ticks": ""
           },
           "bgcolor": "#E5ECF6",
           "radialaxis": {
            "gridcolor": "white",
            "linecolor": "white",
            "ticks": ""
           }
          },
          "scene": {
           "xaxis": {
            "backgroundcolor": "#E5ECF6",
            "gridcolor": "white",
            "gridwidth": 2,
            "linecolor": "white",
            "showbackground": true,
            "ticks": "",
            "zerolinecolor": "white"
           },
           "yaxis": {
            "backgroundcolor": "#E5ECF6",
            "gridcolor": "white",
            "gridwidth": 2,
            "linecolor": "white",
            "showbackground": true,
            "ticks": "",
            "zerolinecolor": "white"
           },
           "zaxis": {
            "backgroundcolor": "#E5ECF6",
            "gridcolor": "white",
            "gridwidth": 2,
            "linecolor": "white",
            "showbackground": true,
            "ticks": "",
            "zerolinecolor": "white"
           }
          },
          "shapedefaults": {
           "line": {
            "color": "#2a3f5f"
           }
          },
          "ternary": {
           "aaxis": {
            "gridcolor": "white",
            "linecolor": "white",
            "ticks": ""
           },
           "baxis": {
            "gridcolor": "white",
            "linecolor": "white",
            "ticks": ""
           },
           "bgcolor": "#E5ECF6",
           "caxis": {
            "gridcolor": "white",
            "linecolor": "white",
            "ticks": ""
           }
          },
          "title": {
           "x": 0.05
          },
          "xaxis": {
           "automargin": true,
           "gridcolor": "white",
           "linecolor": "white",
           "ticks": "",
           "title": {
            "standoff": 15
           },
           "zerolinecolor": "white",
           "zerolinewidth": 2
          },
          "yaxis": {
           "automargin": true,
           "gridcolor": "white",
           "linecolor": "white",
           "ticks": "",
           "title": {
            "standoff": 15
           },
           "zerolinecolor": "white",
           "zerolinewidth": 2
          }
         }
        },
        "title": {
         "text": "Comparison of Before and After"
        },
        "xaxis": {
         "title": {
          "text": "Feature"
         }
        },
        "yaxis": {
         "title": {
          "text": "Value"
         }
        }
       }
      }
     },
     "metadata": {},
     "output_type": "display_data"
    }
   ],
   "source": [
    "import plotly.graph_objects as go\n",
    "\n",
    "features = importance['Feature']\n",
    "before_values = importance['Before']\n",
    "after_values = importance['After']\n",
    "\n",
    "trace_before = go.Bar(\n",
    "    x=features,\n",
    "    y=before_values,\n",
    "    name='Before'\n",
    ")\n",
    "\n",
    "trace_after = go.Bar(\n",
    "    x=features,\n",
    "    y=after_values,\n",
    "    name='After'\n",
    ")\n",
    "\n",
    "layout = go.Layout(\n",
    "    title='Comparison of Before and After',\n",
    "    xaxis=dict(title='Feature'),\n",
    "    yaxis=dict(title='Value')\n",
    ")\n",
    "\n",
    "# Create the figure\n",
    "fig = go.Figure(data=[trace_before, trace_after], layout=layout)\n",
    "\n",
    "# Show the bar chart\n",
    "fig.show()\n"
   ]
  },
  {
   "cell_type": "code",
   "execution_count": 199,
   "metadata": {},
   "outputs": [
    {
     "data": {
      "application/vnd.plotly.v1+json": {
       "config": {
        "plotlyServerURL": "https://plot.ly"
       },
       "data": [
        {
         "marker": {
          "color": "#171C54"
         },
         "name": "Before",
         "textposition": "auto",
         "type": "bar",
         "x": [
          "carIssue",
          "TeamName_Williams",
          "TeamName_Mercedes",
          "GridPosition",
          "driverIssue",
          "INTERMEDIATE",
          "TeamName_HaasF1Team",
          "TeamName_RedBullRacing",
          "TeamName_AlfaRomeoRacing",
          "TeamName_McLaren"
         ],
         "y": [
          0.5336699485778809,
          0.0931740254163742,
          0.04962249845266342,
          0.041927993297576904,
          0.035117942839860916,
          0.03493748605251312,
          0.03319653123617172,
          0.026393597945570946,
          0.025770453736186028,
          0.014712536707520485
         ]
        },
        {
         "marker": {
          "color": "#93B8D6"
         },
         "name": "After",
         "textposition": "auto",
         "type": "bar",
         "x": [
          "carIssue",
          "TeamName_Williams",
          "TeamName_Mercedes",
          "GridPosition",
          "driverIssue",
          "INTERMEDIATE",
          "TeamName_HaasF1Team",
          "TeamName_RedBullRacing",
          "TeamName_AlfaRomeoRacing",
          "TeamName_McLaren"
         ],
         "y": [
          0.5997198224067688,
          0.026983365416526794,
          0.04587796702980995,
          0.028427254408597946,
          0.054287608712911606,
          0.0051821148954331875,
          0.06276857107877731,
          0.05387848988175392,
          0.00614587590098381,
          0.0022262283600866795
         ]
        }
       ],
       "layout": {
        "template": {
         "data": {
          "bar": [
           {
            "error_x": {
             "color": "#2a3f5f"
            },
            "error_y": {
             "color": "#2a3f5f"
            },
            "marker": {
             "line": {
              "color": "#E5ECF6",
              "width": 0.5
             },
             "pattern": {
              "fillmode": "overlay",
              "size": 10,
              "solidity": 0.2
             }
            },
            "type": "bar"
           }
          ],
          "barpolar": [
           {
            "marker": {
             "line": {
              "color": "#E5ECF6",
              "width": 0.5
             },
             "pattern": {
              "fillmode": "overlay",
              "size": 10,
              "solidity": 0.2
             }
            },
            "type": "barpolar"
           }
          ],
          "carpet": [
           {
            "aaxis": {
             "endlinecolor": "#2a3f5f",
             "gridcolor": "white",
             "linecolor": "white",
             "minorgridcolor": "white",
             "startlinecolor": "#2a3f5f"
            },
            "baxis": {
             "endlinecolor": "#2a3f5f",
             "gridcolor": "white",
             "linecolor": "white",
             "minorgridcolor": "white",
             "startlinecolor": "#2a3f5f"
            },
            "type": "carpet"
           }
          ],
          "choropleth": [
           {
            "colorbar": {
             "outlinewidth": 0,
             "ticks": ""
            },
            "type": "choropleth"
           }
          ],
          "contour": [
           {
            "colorbar": {
             "outlinewidth": 0,
             "ticks": ""
            },
            "colorscale": [
             [
              0,
              "#0d0887"
             ],
             [
              0.1111111111111111,
              "#46039f"
             ],
             [
              0.2222222222222222,
              "#7201a8"
             ],
             [
              0.3333333333333333,
              "#9c179e"
             ],
             [
              0.4444444444444444,
              "#bd3786"
             ],
             [
              0.5555555555555556,
              "#d8576b"
             ],
             [
              0.6666666666666666,
              "#ed7953"
             ],
             [
              0.7777777777777778,
              "#fb9f3a"
             ],
             [
              0.8888888888888888,
              "#fdca26"
             ],
             [
              1,
              "#f0f921"
             ]
            ],
            "type": "contour"
           }
          ],
          "contourcarpet": [
           {
            "colorbar": {
             "outlinewidth": 0,
             "ticks": ""
            },
            "type": "contourcarpet"
           }
          ],
          "heatmap": [
           {
            "colorbar": {
             "outlinewidth": 0,
             "ticks": ""
            },
            "colorscale": [
             [
              0,
              "#0d0887"
             ],
             [
              0.1111111111111111,
              "#46039f"
             ],
             [
              0.2222222222222222,
              "#7201a8"
             ],
             [
              0.3333333333333333,
              "#9c179e"
             ],
             [
              0.4444444444444444,
              "#bd3786"
             ],
             [
              0.5555555555555556,
              "#d8576b"
             ],
             [
              0.6666666666666666,
              "#ed7953"
             ],
             [
              0.7777777777777778,
              "#fb9f3a"
             ],
             [
              0.8888888888888888,
              "#fdca26"
             ],
             [
              1,
              "#f0f921"
             ]
            ],
            "type": "heatmap"
           }
          ],
          "heatmapgl": [
           {
            "colorbar": {
             "outlinewidth": 0,
             "ticks": ""
            },
            "colorscale": [
             [
              0,
              "#0d0887"
             ],
             [
              0.1111111111111111,
              "#46039f"
             ],
             [
              0.2222222222222222,
              "#7201a8"
             ],
             [
              0.3333333333333333,
              "#9c179e"
             ],
             [
              0.4444444444444444,
              "#bd3786"
             ],
             [
              0.5555555555555556,
              "#d8576b"
             ],
             [
              0.6666666666666666,
              "#ed7953"
             ],
             [
              0.7777777777777778,
              "#fb9f3a"
             ],
             [
              0.8888888888888888,
              "#fdca26"
             ],
             [
              1,
              "#f0f921"
             ]
            ],
            "type": "heatmapgl"
           }
          ],
          "histogram": [
           {
            "marker": {
             "pattern": {
              "fillmode": "overlay",
              "size": 10,
              "solidity": 0.2
             }
            },
            "type": "histogram"
           }
          ],
          "histogram2d": [
           {
            "colorbar": {
             "outlinewidth": 0,
             "ticks": ""
            },
            "colorscale": [
             [
              0,
              "#0d0887"
             ],
             [
              0.1111111111111111,
              "#46039f"
             ],
             [
              0.2222222222222222,
              "#7201a8"
             ],
             [
              0.3333333333333333,
              "#9c179e"
             ],
             [
              0.4444444444444444,
              "#bd3786"
             ],
             [
              0.5555555555555556,
              "#d8576b"
             ],
             [
              0.6666666666666666,
              "#ed7953"
             ],
             [
              0.7777777777777778,
              "#fb9f3a"
             ],
             [
              0.8888888888888888,
              "#fdca26"
             ],
             [
              1,
              "#f0f921"
             ]
            ],
            "type": "histogram2d"
           }
          ],
          "histogram2dcontour": [
           {
            "colorbar": {
             "outlinewidth": 0,
             "ticks": ""
            },
            "colorscale": [
             [
              0,
              "#0d0887"
             ],
             [
              0.1111111111111111,
              "#46039f"
             ],
             [
              0.2222222222222222,
              "#7201a8"
             ],
             [
              0.3333333333333333,
              "#9c179e"
             ],
             [
              0.4444444444444444,
              "#bd3786"
             ],
             [
              0.5555555555555556,
              "#d8576b"
             ],
             [
              0.6666666666666666,
              "#ed7953"
             ],
             [
              0.7777777777777778,
              "#fb9f3a"
             ],
             [
              0.8888888888888888,
              "#fdca26"
             ],
             [
              1,
              "#f0f921"
             ]
            ],
            "type": "histogram2dcontour"
           }
          ],
          "mesh3d": [
           {
            "colorbar": {
             "outlinewidth": 0,
             "ticks": ""
            },
            "type": "mesh3d"
           }
          ],
          "parcoords": [
           {
            "line": {
             "colorbar": {
              "outlinewidth": 0,
              "ticks": ""
             }
            },
            "type": "parcoords"
           }
          ],
          "pie": [
           {
            "automargin": true,
            "type": "pie"
           }
          ],
          "scatter": [
           {
            "fillpattern": {
             "fillmode": "overlay",
             "size": 10,
             "solidity": 0.2
            },
            "type": "scatter"
           }
          ],
          "scatter3d": [
           {
            "line": {
             "colorbar": {
              "outlinewidth": 0,
              "ticks": ""
             }
            },
            "marker": {
             "colorbar": {
              "outlinewidth": 0,
              "ticks": ""
             }
            },
            "type": "scatter3d"
           }
          ],
          "scattercarpet": [
           {
            "marker": {
             "colorbar": {
              "outlinewidth": 0,
              "ticks": ""
             }
            },
            "type": "scattercarpet"
           }
          ],
          "scattergeo": [
           {
            "marker": {
             "colorbar": {
              "outlinewidth": 0,
              "ticks": ""
             }
            },
            "type": "scattergeo"
           }
          ],
          "scattergl": [
           {
            "marker": {
             "colorbar": {
              "outlinewidth": 0,
              "ticks": ""
             }
            },
            "type": "scattergl"
           }
          ],
          "scattermapbox": [
           {
            "marker": {
             "colorbar": {
              "outlinewidth": 0,
              "ticks": ""
             }
            },
            "type": "scattermapbox"
           }
          ],
          "scatterpolar": [
           {
            "marker": {
             "colorbar": {
              "outlinewidth": 0,
              "ticks": ""
             }
            },
            "type": "scatterpolar"
           }
          ],
          "scatterpolargl": [
           {
            "marker": {
             "colorbar": {
              "outlinewidth": 0,
              "ticks": ""
             }
            },
            "type": "scatterpolargl"
           }
          ],
          "scatterternary": [
           {
            "marker": {
             "colorbar": {
              "outlinewidth": 0,
              "ticks": ""
             }
            },
            "type": "scatterternary"
           }
          ],
          "surface": [
           {
            "colorbar": {
             "outlinewidth": 0,
             "ticks": ""
            },
            "colorscale": [
             [
              0,
              "#0d0887"
             ],
             [
              0.1111111111111111,
              "#46039f"
             ],
             [
              0.2222222222222222,
              "#7201a8"
             ],
             [
              0.3333333333333333,
              "#9c179e"
             ],
             [
              0.4444444444444444,
              "#bd3786"
             ],
             [
              0.5555555555555556,
              "#d8576b"
             ],
             [
              0.6666666666666666,
              "#ed7953"
             ],
             [
              0.7777777777777778,
              "#fb9f3a"
             ],
             [
              0.8888888888888888,
              "#fdca26"
             ],
             [
              1,
              "#f0f921"
             ]
            ],
            "type": "surface"
           }
          ],
          "table": [
           {
            "cells": {
             "fill": {
              "color": "#EBF0F8"
             },
             "line": {
              "color": "white"
             }
            },
            "header": {
             "fill": {
              "color": "#C8D4E3"
             },
             "line": {
              "color": "white"
             }
            },
            "type": "table"
           }
          ]
         },
         "layout": {
          "annotationdefaults": {
           "arrowcolor": "#2a3f5f",
           "arrowhead": 0,
           "arrowwidth": 1
          },
          "autotypenumbers": "strict",
          "coloraxis": {
           "colorbar": {
            "outlinewidth": 0,
            "ticks": ""
           }
          },
          "colorscale": {
           "diverging": [
            [
             0,
             "#8e0152"
            ],
            [
             0.1,
             "#c51b7d"
            ],
            [
             0.2,
             "#de77ae"
            ],
            [
             0.3,
             "#f1b6da"
            ],
            [
             0.4,
             "#fde0ef"
            ],
            [
             0.5,
             "#f7f7f7"
            ],
            [
             0.6,
             "#e6f5d0"
            ],
            [
             0.7,
             "#b8e186"
            ],
            [
             0.8,
             "#7fbc41"
            ],
            [
             0.9,
             "#4d9221"
            ],
            [
             1,
             "#276419"
            ]
           ],
           "sequential": [
            [
             0,
             "#0d0887"
            ],
            [
             0.1111111111111111,
             "#46039f"
            ],
            [
             0.2222222222222222,
             "#7201a8"
            ],
            [
             0.3333333333333333,
             "#9c179e"
            ],
            [
             0.4444444444444444,
             "#bd3786"
            ],
            [
             0.5555555555555556,
             "#d8576b"
            ],
            [
             0.6666666666666666,
             "#ed7953"
            ],
            [
             0.7777777777777778,
             "#fb9f3a"
            ],
            [
             0.8888888888888888,
             "#fdca26"
            ],
            [
             1,
             "#f0f921"
            ]
           ],
           "sequentialminus": [
            [
             0,
             "#0d0887"
            ],
            [
             0.1111111111111111,
             "#46039f"
            ],
            [
             0.2222222222222222,
             "#7201a8"
            ],
            [
             0.3333333333333333,
             "#9c179e"
            ],
            [
             0.4444444444444444,
             "#bd3786"
            ],
            [
             0.5555555555555556,
             "#d8576b"
            ],
            [
             0.6666666666666666,
             "#ed7953"
            ],
            [
             0.7777777777777778,
             "#fb9f3a"
            ],
            [
             0.8888888888888888,
             "#fdca26"
            ],
            [
             1,
             "#f0f921"
            ]
           ]
          },
          "colorway": [
           "#636efa",
           "#EF553B",
           "#00cc96",
           "#ab63fa",
           "#FFA15A",
           "#19d3f3",
           "#FF6692",
           "#B6E880",
           "#FF97FF",
           "#FECB52"
          ],
          "font": {
           "color": "#2a3f5f"
          },
          "geo": {
           "bgcolor": "white",
           "lakecolor": "white",
           "landcolor": "#E5ECF6",
           "showlakes": true,
           "showland": true,
           "subunitcolor": "white"
          },
          "hoverlabel": {
           "align": "left"
          },
          "hovermode": "closest",
          "mapbox": {
           "style": "light"
          },
          "paper_bgcolor": "white",
          "plot_bgcolor": "#E5ECF6",
          "polar": {
           "angularaxis": {
            "gridcolor": "white",
            "linecolor": "white",
            "ticks": ""
           },
           "bgcolor": "#E5ECF6",
           "radialaxis": {
            "gridcolor": "white",
            "linecolor": "white",
            "ticks": ""
           }
          },
          "scene": {
           "xaxis": {
            "backgroundcolor": "#E5ECF6",
            "gridcolor": "white",
            "gridwidth": 2,
            "linecolor": "white",
            "showbackground": true,
            "ticks": "",
            "zerolinecolor": "white"
           },
           "yaxis": {
            "backgroundcolor": "#E5ECF6",
            "gridcolor": "white",
            "gridwidth": 2,
            "linecolor": "white",
            "showbackground": true,
            "ticks": "",
            "zerolinecolor": "white"
           },
           "zaxis": {
            "backgroundcolor": "#E5ECF6",
            "gridcolor": "white",
            "gridwidth": 2,
            "linecolor": "white",
            "showbackground": true,
            "ticks": "",
            "zerolinecolor": "white"
           }
          },
          "shapedefaults": {
           "line": {
            "color": "#2a3f5f"
           }
          },
          "ternary": {
           "aaxis": {
            "gridcolor": "white",
            "linecolor": "white",
            "ticks": ""
           },
           "baxis": {
            "gridcolor": "white",
            "linecolor": "white",
            "ticks": ""
           },
           "bgcolor": "#E5ECF6",
           "caxis": {
            "gridcolor": "white",
            "linecolor": "white",
            "ticks": ""
           }
          },
          "title": {
           "x": 0.05
          },
          "xaxis": {
           "automargin": true,
           "gridcolor": "white",
           "linecolor": "white",
           "ticks": "",
           "title": {
            "standoff": 15
           },
           "zerolinecolor": "white",
           "zerolinewidth": 2
          },
          "yaxis": {
           "automargin": true,
           "gridcolor": "white",
           "linecolor": "white",
           "ticks": "",
           "title": {
            "standoff": 15
           },
           "zerolinecolor": "white",
           "zerolinewidth": 2
          }
         }
        },
        "title": {
         "text": "Top 10 Features - Before"
        },
        "xaxis": {
         "title": {
          "text": "Feature"
         }
        },
        "yaxis": {
         "title": {
          "text": "Value"
         }
        }
       }
      }
     },
     "metadata": {},
     "output_type": "display_data"
    },
    {
     "data": {
      "application/vnd.plotly.v1+json": {
       "config": {
        "plotlyServerURL": "https://plot.ly"
       },
       "data": [
        {
         "marker": {
          "color": "#171C54"
         },
         "name": "Before",
         "type": "bar",
         "x": [
          "carIssue",
          "TeamName_HaasF1Team",
          "driverIssue",
          "TeamName_RedBullRacing",
          "TeamName_Mercedes",
          "GridPosition",
          "TeamName_Ferrari",
          "TeamName_Williams",
          "Engine_RedBull",
          "Brake"
         ],
         "y": [
          0.5336699485778809,
          0.03319653123617172,
          0.035117942839860916,
          0.026393597945570946,
          0.04962249845266342,
          0.041927993297576904,
          0.003952076192945242,
          0.0931740254163742,
          0,
          0.011497847735881805
         ]
        },
        {
         "marker": {
          "color": "#93B8D6"
         },
         "name": "After",
         "textposition": "auto",
         "type": "bar",
         "x": [
          "carIssue",
          "TeamName_HaasF1Team",
          "driverIssue",
          "TeamName_RedBullRacing",
          "TeamName_Mercedes",
          "GridPosition",
          "TeamName_Ferrari",
          "TeamName_Williams",
          "Engine_RedBull",
          "Brake"
         ],
         "y": [
          0.5997198224067688,
          0.06276857107877731,
          0.054287608712911606,
          0.05387848988175392,
          0.04587796702980995,
          0.028427254408597946,
          0.02718498930335045,
          0.026983365416526794,
          0.020586291328072548,
          0.007421086076647043
         ]
        }
       ],
       "layout": {
        "template": {
         "data": {
          "bar": [
           {
            "error_x": {
             "color": "#2a3f5f"
            },
            "error_y": {
             "color": "#2a3f5f"
            },
            "marker": {
             "line": {
              "color": "#E5ECF6",
              "width": 0.5
             },
             "pattern": {
              "fillmode": "overlay",
              "size": 10,
              "solidity": 0.2
             }
            },
            "type": "bar"
           }
          ],
          "barpolar": [
           {
            "marker": {
             "line": {
              "color": "#E5ECF6",
              "width": 0.5
             },
             "pattern": {
              "fillmode": "overlay",
              "size": 10,
              "solidity": 0.2
             }
            },
            "type": "barpolar"
           }
          ],
          "carpet": [
           {
            "aaxis": {
             "endlinecolor": "#2a3f5f",
             "gridcolor": "white",
             "linecolor": "white",
             "minorgridcolor": "white",
             "startlinecolor": "#2a3f5f"
            },
            "baxis": {
             "endlinecolor": "#2a3f5f",
             "gridcolor": "white",
             "linecolor": "white",
             "minorgridcolor": "white",
             "startlinecolor": "#2a3f5f"
            },
            "type": "carpet"
           }
          ],
          "choropleth": [
           {
            "colorbar": {
             "outlinewidth": 0,
             "ticks": ""
            },
            "type": "choropleth"
           }
          ],
          "contour": [
           {
            "colorbar": {
             "outlinewidth": 0,
             "ticks": ""
            },
            "colorscale": [
             [
              0,
              "#0d0887"
             ],
             [
              0.1111111111111111,
              "#46039f"
             ],
             [
              0.2222222222222222,
              "#7201a8"
             ],
             [
              0.3333333333333333,
              "#9c179e"
             ],
             [
              0.4444444444444444,
              "#bd3786"
             ],
             [
              0.5555555555555556,
              "#d8576b"
             ],
             [
              0.6666666666666666,
              "#ed7953"
             ],
             [
              0.7777777777777778,
              "#fb9f3a"
             ],
             [
              0.8888888888888888,
              "#fdca26"
             ],
             [
              1,
              "#f0f921"
             ]
            ],
            "type": "contour"
           }
          ],
          "contourcarpet": [
           {
            "colorbar": {
             "outlinewidth": 0,
             "ticks": ""
            },
            "type": "contourcarpet"
           }
          ],
          "heatmap": [
           {
            "colorbar": {
             "outlinewidth": 0,
             "ticks": ""
            },
            "colorscale": [
             [
              0,
              "#0d0887"
             ],
             [
              0.1111111111111111,
              "#46039f"
             ],
             [
              0.2222222222222222,
              "#7201a8"
             ],
             [
              0.3333333333333333,
              "#9c179e"
             ],
             [
              0.4444444444444444,
              "#bd3786"
             ],
             [
              0.5555555555555556,
              "#d8576b"
             ],
             [
              0.6666666666666666,
              "#ed7953"
             ],
             [
              0.7777777777777778,
              "#fb9f3a"
             ],
             [
              0.8888888888888888,
              "#fdca26"
             ],
             [
              1,
              "#f0f921"
             ]
            ],
            "type": "heatmap"
           }
          ],
          "heatmapgl": [
           {
            "colorbar": {
             "outlinewidth": 0,
             "ticks": ""
            },
            "colorscale": [
             [
              0,
              "#0d0887"
             ],
             [
              0.1111111111111111,
              "#46039f"
             ],
             [
              0.2222222222222222,
              "#7201a8"
             ],
             [
              0.3333333333333333,
              "#9c179e"
             ],
             [
              0.4444444444444444,
              "#bd3786"
             ],
             [
              0.5555555555555556,
              "#d8576b"
             ],
             [
              0.6666666666666666,
              "#ed7953"
             ],
             [
              0.7777777777777778,
              "#fb9f3a"
             ],
             [
              0.8888888888888888,
              "#fdca26"
             ],
             [
              1,
              "#f0f921"
             ]
            ],
            "type": "heatmapgl"
           }
          ],
          "histogram": [
           {
            "marker": {
             "pattern": {
              "fillmode": "overlay",
              "size": 10,
              "solidity": 0.2
             }
            },
            "type": "histogram"
           }
          ],
          "histogram2d": [
           {
            "colorbar": {
             "outlinewidth": 0,
             "ticks": ""
            },
            "colorscale": [
             [
              0,
              "#0d0887"
             ],
             [
              0.1111111111111111,
              "#46039f"
             ],
             [
              0.2222222222222222,
              "#7201a8"
             ],
             [
              0.3333333333333333,
              "#9c179e"
             ],
             [
              0.4444444444444444,
              "#bd3786"
             ],
             [
              0.5555555555555556,
              "#d8576b"
             ],
             [
              0.6666666666666666,
              "#ed7953"
             ],
             [
              0.7777777777777778,
              "#fb9f3a"
             ],
             [
              0.8888888888888888,
              "#fdca26"
             ],
             [
              1,
              "#f0f921"
             ]
            ],
            "type": "histogram2d"
           }
          ],
          "histogram2dcontour": [
           {
            "colorbar": {
             "outlinewidth": 0,
             "ticks": ""
            },
            "colorscale": [
             [
              0,
              "#0d0887"
             ],
             [
              0.1111111111111111,
              "#46039f"
             ],
             [
              0.2222222222222222,
              "#7201a8"
             ],
             [
              0.3333333333333333,
              "#9c179e"
             ],
             [
              0.4444444444444444,
              "#bd3786"
             ],
             [
              0.5555555555555556,
              "#d8576b"
             ],
             [
              0.6666666666666666,
              "#ed7953"
             ],
             [
              0.7777777777777778,
              "#fb9f3a"
             ],
             [
              0.8888888888888888,
              "#fdca26"
             ],
             [
              1,
              "#f0f921"
             ]
            ],
            "type": "histogram2dcontour"
           }
          ],
          "mesh3d": [
           {
            "colorbar": {
             "outlinewidth": 0,
             "ticks": ""
            },
            "type": "mesh3d"
           }
          ],
          "parcoords": [
           {
            "line": {
             "colorbar": {
              "outlinewidth": 0,
              "ticks": ""
             }
            },
            "type": "parcoords"
           }
          ],
          "pie": [
           {
            "automargin": true,
            "type": "pie"
           }
          ],
          "scatter": [
           {
            "fillpattern": {
             "fillmode": "overlay",
             "size": 10,
             "solidity": 0.2
            },
            "type": "scatter"
           }
          ],
          "scatter3d": [
           {
            "line": {
             "colorbar": {
              "outlinewidth": 0,
              "ticks": ""
             }
            },
            "marker": {
             "colorbar": {
              "outlinewidth": 0,
              "ticks": ""
             }
            },
            "type": "scatter3d"
           }
          ],
          "scattercarpet": [
           {
            "marker": {
             "colorbar": {
              "outlinewidth": 0,
              "ticks": ""
             }
            },
            "type": "scattercarpet"
           }
          ],
          "scattergeo": [
           {
            "marker": {
             "colorbar": {
              "outlinewidth": 0,
              "ticks": ""
             }
            },
            "type": "scattergeo"
           }
          ],
          "scattergl": [
           {
            "marker": {
             "colorbar": {
              "outlinewidth": 0,
              "ticks": ""
             }
            },
            "type": "scattergl"
           }
          ],
          "scattermapbox": [
           {
            "marker": {
             "colorbar": {
              "outlinewidth": 0,
              "ticks": ""
             }
            },
            "type": "scattermapbox"
           }
          ],
          "scatterpolar": [
           {
            "marker": {
             "colorbar": {
              "outlinewidth": 0,
              "ticks": ""
             }
            },
            "type": "scatterpolar"
           }
          ],
          "scatterpolargl": [
           {
            "marker": {
             "colorbar": {
              "outlinewidth": 0,
              "ticks": ""
             }
            },
            "type": "scatterpolargl"
           }
          ],
          "scatterternary": [
           {
            "marker": {
             "colorbar": {
              "outlinewidth": 0,
              "ticks": ""
             }
            },
            "type": "scatterternary"
           }
          ],
          "surface": [
           {
            "colorbar": {
             "outlinewidth": 0,
             "ticks": ""
            },
            "colorscale": [
             [
              0,
              "#0d0887"
             ],
             [
              0.1111111111111111,
              "#46039f"
             ],
             [
              0.2222222222222222,
              "#7201a8"
             ],
             [
              0.3333333333333333,
              "#9c179e"
             ],
             [
              0.4444444444444444,
              "#bd3786"
             ],
             [
              0.5555555555555556,
              "#d8576b"
             ],
             [
              0.6666666666666666,
              "#ed7953"
             ],
             [
              0.7777777777777778,
              "#fb9f3a"
             ],
             [
              0.8888888888888888,
              "#fdca26"
             ],
             [
              1,
              "#f0f921"
             ]
            ],
            "type": "surface"
           }
          ],
          "table": [
           {
            "cells": {
             "fill": {
              "color": "#EBF0F8"
             },
             "line": {
              "color": "white"
             }
            },
            "header": {
             "fill": {
              "color": "#C8D4E3"
             },
             "line": {
              "color": "white"
             }
            },
            "type": "table"
           }
          ]
         },
         "layout": {
          "annotationdefaults": {
           "arrowcolor": "#2a3f5f",
           "arrowhead": 0,
           "arrowwidth": 1
          },
          "autotypenumbers": "strict",
          "coloraxis": {
           "colorbar": {
            "outlinewidth": 0,
            "ticks": ""
           }
          },
          "colorscale": {
           "diverging": [
            [
             0,
             "#8e0152"
            ],
            [
             0.1,
             "#c51b7d"
            ],
            [
             0.2,
             "#de77ae"
            ],
            [
             0.3,
             "#f1b6da"
            ],
            [
             0.4,
             "#fde0ef"
            ],
            [
             0.5,
             "#f7f7f7"
            ],
            [
             0.6,
             "#e6f5d0"
            ],
            [
             0.7,
             "#b8e186"
            ],
            [
             0.8,
             "#7fbc41"
            ],
            [
             0.9,
             "#4d9221"
            ],
            [
             1,
             "#276419"
            ]
           ],
           "sequential": [
            [
             0,
             "#0d0887"
            ],
            [
             0.1111111111111111,
             "#46039f"
            ],
            [
             0.2222222222222222,
             "#7201a8"
            ],
            [
             0.3333333333333333,
             "#9c179e"
            ],
            [
             0.4444444444444444,
             "#bd3786"
            ],
            [
             0.5555555555555556,
             "#d8576b"
            ],
            [
             0.6666666666666666,
             "#ed7953"
            ],
            [
             0.7777777777777778,
             "#fb9f3a"
            ],
            [
             0.8888888888888888,
             "#fdca26"
            ],
            [
             1,
             "#f0f921"
            ]
           ],
           "sequentialminus": [
            [
             0,
             "#0d0887"
            ],
            [
             0.1111111111111111,
             "#46039f"
            ],
            [
             0.2222222222222222,
             "#7201a8"
            ],
            [
             0.3333333333333333,
             "#9c179e"
            ],
            [
             0.4444444444444444,
             "#bd3786"
            ],
            [
             0.5555555555555556,
             "#d8576b"
            ],
            [
             0.6666666666666666,
             "#ed7953"
            ],
            [
             0.7777777777777778,
             "#fb9f3a"
            ],
            [
             0.8888888888888888,
             "#fdca26"
            ],
            [
             1,
             "#f0f921"
            ]
           ]
          },
          "colorway": [
           "#636efa",
           "#EF553B",
           "#00cc96",
           "#ab63fa",
           "#FFA15A",
           "#19d3f3",
           "#FF6692",
           "#B6E880",
           "#FF97FF",
           "#FECB52"
          ],
          "font": {
           "color": "#2a3f5f"
          },
          "geo": {
           "bgcolor": "white",
           "lakecolor": "white",
           "landcolor": "#E5ECF6",
           "showlakes": true,
           "showland": true,
           "subunitcolor": "white"
          },
          "hoverlabel": {
           "align": "left"
          },
          "hovermode": "closest",
          "mapbox": {
           "style": "light"
          },
          "paper_bgcolor": "white",
          "plot_bgcolor": "#E5ECF6",
          "polar": {
           "angularaxis": {
            "gridcolor": "white",
            "linecolor": "white",
            "ticks": ""
           },
           "bgcolor": "#E5ECF6",
           "radialaxis": {
            "gridcolor": "white",
            "linecolor": "white",
            "ticks": ""
           }
          },
          "scene": {
           "xaxis": {
            "backgroundcolor": "#E5ECF6",
            "gridcolor": "white",
            "gridwidth": 2,
            "linecolor": "white",
            "showbackground": true,
            "ticks": "",
            "zerolinecolor": "white"
           },
           "yaxis": {
            "backgroundcolor": "#E5ECF6",
            "gridcolor": "white",
            "gridwidth": 2,
            "linecolor": "white",
            "showbackground": true,
            "ticks": "",
            "zerolinecolor": "white"
           },
           "zaxis": {
            "backgroundcolor": "#E5ECF6",
            "gridcolor": "white",
            "gridwidth": 2,
            "linecolor": "white",
            "showbackground": true,
            "ticks": "",
            "zerolinecolor": "white"
           }
          },
          "shapedefaults": {
           "line": {
            "color": "#2a3f5f"
           }
          },
          "ternary": {
           "aaxis": {
            "gridcolor": "white",
            "linecolor": "white",
            "ticks": ""
           },
           "baxis": {
            "gridcolor": "white",
            "linecolor": "white",
            "ticks": ""
           },
           "bgcolor": "#E5ECF6",
           "caxis": {
            "gridcolor": "white",
            "linecolor": "white",
            "ticks": ""
           }
          },
          "title": {
           "x": 0.05
          },
          "xaxis": {
           "automargin": true,
           "gridcolor": "white",
           "linecolor": "white",
           "ticks": "",
           "title": {
            "standoff": 15
           },
           "zerolinecolor": "white",
           "zerolinewidth": 2
          },
          "yaxis": {
           "automargin": true,
           "gridcolor": "white",
           "linecolor": "white",
           "ticks": "",
           "title": {
            "standoff": 15
           },
           "zerolinecolor": "white",
           "zerolinewidth": 2
          }
         }
        },
        "title": {
         "text": "Top 10 Features - After"
        },
        "xaxis": {
         "title": {
          "text": "Feature"
         }
        },
        "yaxis": {
         "title": {
          "text": "Value"
         }
        }
       }
      }
     },
     "metadata": {},
     "output_type": "display_data"
    }
   ],
   "source": [
    "# Top 10 features - before and Top 10 features - after\n",
    "\n",
    "import plotly.graph_objects as go\n",
    "\n",
    "colors = ['#171C54', '#93B8D6']\n",
    "\n",
    "# Sort the DataFrame by \"Before\" values and select the top 10 features\n",
    "top_10_before = importance.sort_values(by='Before', ascending=False).head(10)\n",
    "\n",
    "# Sort the DataFrame by \"After\" values and select the top 10 features\n",
    "top_10_after = importance.sort_values(by='After', ascending=False).head(10)\n",
    "\n",
    "# Create data for the \"Before\" chart\n",
    "before_features = top_10_before['Feature']\n",
    "before_values = top_10_before['Before']\n",
    "after_values = top_10_before['After']\n",
    "\n",
    "# Create a trace for \"Before\" bars\n",
    "trace_before = go.Bar(\n",
    "    x=before_features,\n",
    "    y=before_values,\n",
    "    name='Before',\n",
    "    marker=dict(color=colors[0]),\n",
    "    textposition='auto'\n",
    ")\n",
    "\n",
    "# Create a trace for \"After\" bars\n",
    "trace_after = go.Bar(\n",
    "    x=before_features,\n",
    "    y=after_values,\n",
    "    name='After',\n",
    "    marker=dict(color=colors[1]),\n",
    "    textposition='auto'\n",
    ")\n",
    "\n",
    "# Create the layout for the \"Before\" chart\n",
    "layout_before = go.Layout(\n",
    "    title='Top 10 Features - Before',\n",
    "    xaxis=dict(title='Feature'),\n",
    "    yaxis=dict(title='Value')\n",
    ")\n",
    "\n",
    "# Create the figure for the \"Before\" chart\n",
    "fig_before = go.Figure(data=[trace_before, trace_after], layout=layout_before)\n",
    "\n",
    "# Show the \"Before\" chart\n",
    "fig_before.show()\n",
    "\n",
    "\n",
    "# Create data for the \"After\" chart\n",
    "after_features = top_10_after['Feature']\n",
    "before_values = top_10_after['Before']\n",
    "after_values = top_10_after['After']\n",
    "\n",
    "# Create a trace for \"Before\" bars\n",
    "trace_before = go.Bar(\n",
    "    x=after_features,\n",
    "    y=before_values,\n",
    "    name='Before',\n",
    "    marker=dict(color=colors[0])\n",
    ")\n",
    "\n",
    "# Create a trace for \"After\" bars\n",
    "trace_after = go.Bar(\n",
    "    x=after_features,\n",
    "    y=after_values,\n",
    "    name='After',\n",
    "    marker=dict(color=colors[1]),\n",
    "    textposition='auto'\n",
    ")\n",
    "\n",
    "# Create the layout for the \"After\" chart\n",
    "layout_after = go.Layout(\n",
    "    title='Top 10 Features - After',\n",
    "    xaxis=dict(title='Feature'),\n",
    "    yaxis=dict(title='Value')\n",
    ")\n",
    "\n",
    "# Create the figure for the \"After\" chart\n",
    "fig_after = go.Figure(data=[trace_before, trace_after], layout=layout_after)\n",
    "\n",
    "# Show the \"After\" chart\n",
    "fig_after.show()\n"
   ]
  },
  {
   "cell_type": "code",
   "execution_count": 200,
   "metadata": {},
   "outputs": [
    {
     "data": {
      "application/vnd.plotly.v1+json": {
       "config": {
        "plotlyServerURL": "https://plot.ly"
       },
       "data": [
        {
         "marker": {
          "color": "#171C54"
         },
         "name": "Before",
         "textposition": "auto",
         "type": "bar",
         "x": [
          "TeamName_Williams",
          "TeamName_Mercedes",
          "GridPosition",
          "driverIssue",
          "INTERMEDIATE",
          "TeamName_HaasF1Team",
          "TeamName_RedBullRacing",
          "TeamName_AlfaRomeoRacing",
          "TeamName_McLaren",
          "PitstopNo"
         ],
         "y": [
          0.0931740254163742,
          0.04962249845266342,
          0.041927993297576904,
          0.035117942839860916,
          0.03493748605251312,
          0.03319653123617172,
          0.026393597945570946,
          0.025770453736186028,
          0.014712536707520485,
          0.012029284611344337
         ]
        },
        {
         "marker": {
          "color": "#93B8D6"
         },
         "name": "After",
         "textposition": "auto",
         "type": "bar",
         "x": [
          "TeamName_Williams",
          "TeamName_Mercedes",
          "GridPosition",
          "driverIssue",
          "INTERMEDIATE",
          "TeamName_HaasF1Team",
          "TeamName_RedBullRacing",
          "TeamName_AlfaRomeoRacing",
          "TeamName_McLaren",
          "PitstopNo"
         ],
         "y": [
          0.026983365416526794,
          0.04587796702980995,
          0.028427254408597946,
          0.054287608712911606,
          0.0051821148954331875,
          0.06276857107877731,
          0.05387848988175392,
          0.00614587590098381,
          0.0022262283600866795,
          0.005770022515207529
         ]
        }
       ],
       "layout": {
        "template": {
         "data": {
          "bar": [
           {
            "error_x": {
             "color": "#2a3f5f"
            },
            "error_y": {
             "color": "#2a3f5f"
            },
            "marker": {
             "line": {
              "color": "#E5ECF6",
              "width": 0.5
             },
             "pattern": {
              "fillmode": "overlay",
              "size": 10,
              "solidity": 0.2
             }
            },
            "type": "bar"
           }
          ],
          "barpolar": [
           {
            "marker": {
             "line": {
              "color": "#E5ECF6",
              "width": 0.5
             },
             "pattern": {
              "fillmode": "overlay",
              "size": 10,
              "solidity": 0.2
             }
            },
            "type": "barpolar"
           }
          ],
          "carpet": [
           {
            "aaxis": {
             "endlinecolor": "#2a3f5f",
             "gridcolor": "white",
             "linecolor": "white",
             "minorgridcolor": "white",
             "startlinecolor": "#2a3f5f"
            },
            "baxis": {
             "endlinecolor": "#2a3f5f",
             "gridcolor": "white",
             "linecolor": "white",
             "minorgridcolor": "white",
             "startlinecolor": "#2a3f5f"
            },
            "type": "carpet"
           }
          ],
          "choropleth": [
           {
            "colorbar": {
             "outlinewidth": 0,
             "ticks": ""
            },
            "type": "choropleth"
           }
          ],
          "contour": [
           {
            "colorbar": {
             "outlinewidth": 0,
             "ticks": ""
            },
            "colorscale": [
             [
              0,
              "#0d0887"
             ],
             [
              0.1111111111111111,
              "#46039f"
             ],
             [
              0.2222222222222222,
              "#7201a8"
             ],
             [
              0.3333333333333333,
              "#9c179e"
             ],
             [
              0.4444444444444444,
              "#bd3786"
             ],
             [
              0.5555555555555556,
              "#d8576b"
             ],
             [
              0.6666666666666666,
              "#ed7953"
             ],
             [
              0.7777777777777778,
              "#fb9f3a"
             ],
             [
              0.8888888888888888,
              "#fdca26"
             ],
             [
              1,
              "#f0f921"
             ]
            ],
            "type": "contour"
           }
          ],
          "contourcarpet": [
           {
            "colorbar": {
             "outlinewidth": 0,
             "ticks": ""
            },
            "type": "contourcarpet"
           }
          ],
          "heatmap": [
           {
            "colorbar": {
             "outlinewidth": 0,
             "ticks": ""
            },
            "colorscale": [
             [
              0,
              "#0d0887"
             ],
             [
              0.1111111111111111,
              "#46039f"
             ],
             [
              0.2222222222222222,
              "#7201a8"
             ],
             [
              0.3333333333333333,
              "#9c179e"
             ],
             [
              0.4444444444444444,
              "#bd3786"
             ],
             [
              0.5555555555555556,
              "#d8576b"
             ],
             [
              0.6666666666666666,
              "#ed7953"
             ],
             [
              0.7777777777777778,
              "#fb9f3a"
             ],
             [
              0.8888888888888888,
              "#fdca26"
             ],
             [
              1,
              "#f0f921"
             ]
            ],
            "type": "heatmap"
           }
          ],
          "heatmapgl": [
           {
            "colorbar": {
             "outlinewidth": 0,
             "ticks": ""
            },
            "colorscale": [
             [
              0,
              "#0d0887"
             ],
             [
              0.1111111111111111,
              "#46039f"
             ],
             [
              0.2222222222222222,
              "#7201a8"
             ],
             [
              0.3333333333333333,
              "#9c179e"
             ],
             [
              0.4444444444444444,
              "#bd3786"
             ],
             [
              0.5555555555555556,
              "#d8576b"
             ],
             [
              0.6666666666666666,
              "#ed7953"
             ],
             [
              0.7777777777777778,
              "#fb9f3a"
             ],
             [
              0.8888888888888888,
              "#fdca26"
             ],
             [
              1,
              "#f0f921"
             ]
            ],
            "type": "heatmapgl"
           }
          ],
          "histogram": [
           {
            "marker": {
             "pattern": {
              "fillmode": "overlay",
              "size": 10,
              "solidity": 0.2
             }
            },
            "type": "histogram"
           }
          ],
          "histogram2d": [
           {
            "colorbar": {
             "outlinewidth": 0,
             "ticks": ""
            },
            "colorscale": [
             [
              0,
              "#0d0887"
             ],
             [
              0.1111111111111111,
              "#46039f"
             ],
             [
              0.2222222222222222,
              "#7201a8"
             ],
             [
              0.3333333333333333,
              "#9c179e"
             ],
             [
              0.4444444444444444,
              "#bd3786"
             ],
             [
              0.5555555555555556,
              "#d8576b"
             ],
             [
              0.6666666666666666,
              "#ed7953"
             ],
             [
              0.7777777777777778,
              "#fb9f3a"
             ],
             [
              0.8888888888888888,
              "#fdca26"
             ],
             [
              1,
              "#f0f921"
             ]
            ],
            "type": "histogram2d"
           }
          ],
          "histogram2dcontour": [
           {
            "colorbar": {
             "outlinewidth": 0,
             "ticks": ""
            },
            "colorscale": [
             [
              0,
              "#0d0887"
             ],
             [
              0.1111111111111111,
              "#46039f"
             ],
             [
              0.2222222222222222,
              "#7201a8"
             ],
             [
              0.3333333333333333,
              "#9c179e"
             ],
             [
              0.4444444444444444,
              "#bd3786"
             ],
             [
              0.5555555555555556,
              "#d8576b"
             ],
             [
              0.6666666666666666,
              "#ed7953"
             ],
             [
              0.7777777777777778,
              "#fb9f3a"
             ],
             [
              0.8888888888888888,
              "#fdca26"
             ],
             [
              1,
              "#f0f921"
             ]
            ],
            "type": "histogram2dcontour"
           }
          ],
          "mesh3d": [
           {
            "colorbar": {
             "outlinewidth": 0,
             "ticks": ""
            },
            "type": "mesh3d"
           }
          ],
          "parcoords": [
           {
            "line": {
             "colorbar": {
              "outlinewidth": 0,
              "ticks": ""
             }
            },
            "type": "parcoords"
           }
          ],
          "pie": [
           {
            "automargin": true,
            "type": "pie"
           }
          ],
          "scatter": [
           {
            "fillpattern": {
             "fillmode": "overlay",
             "size": 10,
             "solidity": 0.2
            },
            "type": "scatter"
           }
          ],
          "scatter3d": [
           {
            "line": {
             "colorbar": {
              "outlinewidth": 0,
              "ticks": ""
             }
            },
            "marker": {
             "colorbar": {
              "outlinewidth": 0,
              "ticks": ""
             }
            },
            "type": "scatter3d"
           }
          ],
          "scattercarpet": [
           {
            "marker": {
             "colorbar": {
              "outlinewidth": 0,
              "ticks": ""
             }
            },
            "type": "scattercarpet"
           }
          ],
          "scattergeo": [
           {
            "marker": {
             "colorbar": {
              "outlinewidth": 0,
              "ticks": ""
             }
            },
            "type": "scattergeo"
           }
          ],
          "scattergl": [
           {
            "marker": {
             "colorbar": {
              "outlinewidth": 0,
              "ticks": ""
             }
            },
            "type": "scattergl"
           }
          ],
          "scattermapbox": [
           {
            "marker": {
             "colorbar": {
              "outlinewidth": 0,
              "ticks": ""
             }
            },
            "type": "scattermapbox"
           }
          ],
          "scatterpolar": [
           {
            "marker": {
             "colorbar": {
              "outlinewidth": 0,
              "ticks": ""
             }
            },
            "type": "scatterpolar"
           }
          ],
          "scatterpolargl": [
           {
            "marker": {
             "colorbar": {
              "outlinewidth": 0,
              "ticks": ""
             }
            },
            "type": "scatterpolargl"
           }
          ],
          "scatterternary": [
           {
            "marker": {
             "colorbar": {
              "outlinewidth": 0,
              "ticks": ""
             }
            },
            "type": "scatterternary"
           }
          ],
          "surface": [
           {
            "colorbar": {
             "outlinewidth": 0,
             "ticks": ""
            },
            "colorscale": [
             [
              0,
              "#0d0887"
             ],
             [
              0.1111111111111111,
              "#46039f"
             ],
             [
              0.2222222222222222,
              "#7201a8"
             ],
             [
              0.3333333333333333,
              "#9c179e"
             ],
             [
              0.4444444444444444,
              "#bd3786"
             ],
             [
              0.5555555555555556,
              "#d8576b"
             ],
             [
              0.6666666666666666,
              "#ed7953"
             ],
             [
              0.7777777777777778,
              "#fb9f3a"
             ],
             [
              0.8888888888888888,
              "#fdca26"
             ],
             [
              1,
              "#f0f921"
             ]
            ],
            "type": "surface"
           }
          ],
          "table": [
           {
            "cells": {
             "fill": {
              "color": "#EBF0F8"
             },
             "line": {
              "color": "white"
             }
            },
            "header": {
             "fill": {
              "color": "#C8D4E3"
             },
             "line": {
              "color": "white"
             }
            },
            "type": "table"
           }
          ]
         },
         "layout": {
          "annotationdefaults": {
           "arrowcolor": "#2a3f5f",
           "arrowhead": 0,
           "arrowwidth": 1
          },
          "autotypenumbers": "strict",
          "coloraxis": {
           "colorbar": {
            "outlinewidth": 0,
            "ticks": ""
           }
          },
          "colorscale": {
           "diverging": [
            [
             0,
             "#8e0152"
            ],
            [
             0.1,
             "#c51b7d"
            ],
            [
             0.2,
             "#de77ae"
            ],
            [
             0.3,
             "#f1b6da"
            ],
            [
             0.4,
             "#fde0ef"
            ],
            [
             0.5,
             "#f7f7f7"
            ],
            [
             0.6,
             "#e6f5d0"
            ],
            [
             0.7,
             "#b8e186"
            ],
            [
             0.8,
             "#7fbc41"
            ],
            [
             0.9,
             "#4d9221"
            ],
            [
             1,
             "#276419"
            ]
           ],
           "sequential": [
            [
             0,
             "#0d0887"
            ],
            [
             0.1111111111111111,
             "#46039f"
            ],
            [
             0.2222222222222222,
             "#7201a8"
            ],
            [
             0.3333333333333333,
             "#9c179e"
            ],
            [
             0.4444444444444444,
             "#bd3786"
            ],
            [
             0.5555555555555556,
             "#d8576b"
            ],
            [
             0.6666666666666666,
             "#ed7953"
            ],
            [
             0.7777777777777778,
             "#fb9f3a"
            ],
            [
             0.8888888888888888,
             "#fdca26"
            ],
            [
             1,
             "#f0f921"
            ]
           ],
           "sequentialminus": [
            [
             0,
             "#0d0887"
            ],
            [
             0.1111111111111111,
             "#46039f"
            ],
            [
             0.2222222222222222,
             "#7201a8"
            ],
            [
             0.3333333333333333,
             "#9c179e"
            ],
            [
             0.4444444444444444,
             "#bd3786"
            ],
            [
             0.5555555555555556,
             "#d8576b"
            ],
            [
             0.6666666666666666,
             "#ed7953"
            ],
            [
             0.7777777777777778,
             "#fb9f3a"
            ],
            [
             0.8888888888888888,
             "#fdca26"
            ],
            [
             1,
             "#f0f921"
            ]
           ]
          },
          "colorway": [
           "#636efa",
           "#EF553B",
           "#00cc96",
           "#ab63fa",
           "#FFA15A",
           "#19d3f3",
           "#FF6692",
           "#B6E880",
           "#FF97FF",
           "#FECB52"
          ],
          "font": {
           "color": "#2a3f5f"
          },
          "geo": {
           "bgcolor": "white",
           "lakecolor": "white",
           "landcolor": "#E5ECF6",
           "showlakes": true,
           "showland": true,
           "subunitcolor": "white"
          },
          "hoverlabel": {
           "align": "left"
          },
          "hovermode": "closest",
          "mapbox": {
           "style": "light"
          },
          "paper_bgcolor": "white",
          "plot_bgcolor": "#E5ECF6",
          "polar": {
           "angularaxis": {
            "gridcolor": "white",
            "linecolor": "white",
            "ticks": ""
           },
           "bgcolor": "#E5ECF6",
           "radialaxis": {
            "gridcolor": "white",
            "linecolor": "white",
            "ticks": ""
           }
          },
          "scene": {
           "xaxis": {
            "backgroundcolor": "#E5ECF6",
            "gridcolor": "white",
            "gridwidth": 2,
            "linecolor": "white",
            "showbackground": true,
            "ticks": "",
            "zerolinecolor": "white"
           },
           "yaxis": {
            "backgroundcolor": "#E5ECF6",
            "gridcolor": "white",
            "gridwidth": 2,
            "linecolor": "white",
            "showbackground": true,
            "ticks": "",
            "zerolinecolor": "white"
           },
           "zaxis": {
            "backgroundcolor": "#E5ECF6",
            "gridcolor": "white",
            "gridwidth": 2,
            "linecolor": "white",
            "showbackground": true,
            "ticks": "",
            "zerolinecolor": "white"
           }
          },
          "shapedefaults": {
           "line": {
            "color": "#2a3f5f"
           }
          },
          "ternary": {
           "aaxis": {
            "gridcolor": "white",
            "linecolor": "white",
            "ticks": ""
           },
           "baxis": {
            "gridcolor": "white",
            "linecolor": "white",
            "ticks": ""
           },
           "bgcolor": "#E5ECF6",
           "caxis": {
            "gridcolor": "white",
            "linecolor": "white",
            "ticks": ""
           }
          },
          "title": {
           "x": 0.05
          },
          "xaxis": {
           "automargin": true,
           "gridcolor": "white",
           "linecolor": "white",
           "ticks": "",
           "title": {
            "standoff": 15
           },
           "zerolinecolor": "white",
           "zerolinewidth": 2
          },
          "yaxis": {
           "automargin": true,
           "gridcolor": "white",
           "linecolor": "white",
           "ticks": "",
           "title": {
            "standoff": 15
           },
           "zerolinecolor": "white",
           "zerolinewidth": 2
          }
         }
        },
        "title": {
         "text": "Top 10 Features - Before (without carIssue)"
        },
        "xaxis": {
         "title": {
          "text": "Feature"
         }
        },
        "yaxis": {
         "title": {
          "text": "Value"
         }
        }
       }
      }
     },
     "metadata": {},
     "output_type": "display_data"
    },
    {
     "data": {
      "application/vnd.plotly.v1+json": {
       "config": {
        "plotlyServerURL": "https://plot.ly"
       },
       "data": [
        {
         "marker": {
          "color": "#171C54"
         },
         "name": "Before",
         "type": "bar",
         "x": [
          "TeamName_HaasF1Team",
          "driverIssue",
          "TeamName_RedBullRacing",
          "TeamName_Mercedes",
          "GridPosition",
          "TeamName_Ferrari",
          "TeamName_Williams",
          "Engine_RedBull",
          "Brake",
          "AverageSpeed"
         ],
         "y": [
          0.03319653123617172,
          0.035117942839860916,
          0.026393597945570946,
          0.04962249845266342,
          0.041927993297576904,
          0.003952076192945242,
          0.0931740254163742,
          0,
          0.011497847735881805,
          0.01079648733139038
         ]
        },
        {
         "marker": {
          "color": "#93B8D6"
         },
         "name": "After",
         "textposition": "auto",
         "type": "bar",
         "x": [
          "TeamName_HaasF1Team",
          "driverIssue",
          "TeamName_RedBullRacing",
          "TeamName_Mercedes",
          "GridPosition",
          "TeamName_Ferrari",
          "TeamName_Williams",
          "Engine_RedBull",
          "Brake",
          "AverageSpeed"
         ],
         "y": [
          0.06276857107877731,
          0.054287608712911606,
          0.05387848988175392,
          0.04587796702980995,
          0.028427254408597946,
          0.02718498930335045,
          0.026983365416526794,
          0.020586291328072548,
          0.007421086076647043,
          0.0066994610242545605
         ]
        }
       ],
       "layout": {
        "template": {
         "data": {
          "bar": [
           {
            "error_x": {
             "color": "#2a3f5f"
            },
            "error_y": {
             "color": "#2a3f5f"
            },
            "marker": {
             "line": {
              "color": "#E5ECF6",
              "width": 0.5
             },
             "pattern": {
              "fillmode": "overlay",
              "size": 10,
              "solidity": 0.2
             }
            },
            "type": "bar"
           }
          ],
          "barpolar": [
           {
            "marker": {
             "line": {
              "color": "#E5ECF6",
              "width": 0.5
             },
             "pattern": {
              "fillmode": "overlay",
              "size": 10,
              "solidity": 0.2
             }
            },
            "type": "barpolar"
           }
          ],
          "carpet": [
           {
            "aaxis": {
             "endlinecolor": "#2a3f5f",
             "gridcolor": "white",
             "linecolor": "white",
             "minorgridcolor": "white",
             "startlinecolor": "#2a3f5f"
            },
            "baxis": {
             "endlinecolor": "#2a3f5f",
             "gridcolor": "white",
             "linecolor": "white",
             "minorgridcolor": "white",
             "startlinecolor": "#2a3f5f"
            },
            "type": "carpet"
           }
          ],
          "choropleth": [
           {
            "colorbar": {
             "outlinewidth": 0,
             "ticks": ""
            },
            "type": "choropleth"
           }
          ],
          "contour": [
           {
            "colorbar": {
             "outlinewidth": 0,
             "ticks": ""
            },
            "colorscale": [
             [
              0,
              "#0d0887"
             ],
             [
              0.1111111111111111,
              "#46039f"
             ],
             [
              0.2222222222222222,
              "#7201a8"
             ],
             [
              0.3333333333333333,
              "#9c179e"
             ],
             [
              0.4444444444444444,
              "#bd3786"
             ],
             [
              0.5555555555555556,
              "#d8576b"
             ],
             [
              0.6666666666666666,
              "#ed7953"
             ],
             [
              0.7777777777777778,
              "#fb9f3a"
             ],
             [
              0.8888888888888888,
              "#fdca26"
             ],
             [
              1,
              "#f0f921"
             ]
            ],
            "type": "contour"
           }
          ],
          "contourcarpet": [
           {
            "colorbar": {
             "outlinewidth": 0,
             "ticks": ""
            },
            "type": "contourcarpet"
           }
          ],
          "heatmap": [
           {
            "colorbar": {
             "outlinewidth": 0,
             "ticks": ""
            },
            "colorscale": [
             [
              0,
              "#0d0887"
             ],
             [
              0.1111111111111111,
              "#46039f"
             ],
             [
              0.2222222222222222,
              "#7201a8"
             ],
             [
              0.3333333333333333,
              "#9c179e"
             ],
             [
              0.4444444444444444,
              "#bd3786"
             ],
             [
              0.5555555555555556,
              "#d8576b"
             ],
             [
              0.6666666666666666,
              "#ed7953"
             ],
             [
              0.7777777777777778,
              "#fb9f3a"
             ],
             [
              0.8888888888888888,
              "#fdca26"
             ],
             [
              1,
              "#f0f921"
             ]
            ],
            "type": "heatmap"
           }
          ],
          "heatmapgl": [
           {
            "colorbar": {
             "outlinewidth": 0,
             "ticks": ""
            },
            "colorscale": [
             [
              0,
              "#0d0887"
             ],
             [
              0.1111111111111111,
              "#46039f"
             ],
             [
              0.2222222222222222,
              "#7201a8"
             ],
             [
              0.3333333333333333,
              "#9c179e"
             ],
             [
              0.4444444444444444,
              "#bd3786"
             ],
             [
              0.5555555555555556,
              "#d8576b"
             ],
             [
              0.6666666666666666,
              "#ed7953"
             ],
             [
              0.7777777777777778,
              "#fb9f3a"
             ],
             [
              0.8888888888888888,
              "#fdca26"
             ],
             [
              1,
              "#f0f921"
             ]
            ],
            "type": "heatmapgl"
           }
          ],
          "histogram": [
           {
            "marker": {
             "pattern": {
              "fillmode": "overlay",
              "size": 10,
              "solidity": 0.2
             }
            },
            "type": "histogram"
           }
          ],
          "histogram2d": [
           {
            "colorbar": {
             "outlinewidth": 0,
             "ticks": ""
            },
            "colorscale": [
             [
              0,
              "#0d0887"
             ],
             [
              0.1111111111111111,
              "#46039f"
             ],
             [
              0.2222222222222222,
              "#7201a8"
             ],
             [
              0.3333333333333333,
              "#9c179e"
             ],
             [
              0.4444444444444444,
              "#bd3786"
             ],
             [
              0.5555555555555556,
              "#d8576b"
             ],
             [
              0.6666666666666666,
              "#ed7953"
             ],
             [
              0.7777777777777778,
              "#fb9f3a"
             ],
             [
              0.8888888888888888,
              "#fdca26"
             ],
             [
              1,
              "#f0f921"
             ]
            ],
            "type": "histogram2d"
           }
          ],
          "histogram2dcontour": [
           {
            "colorbar": {
             "outlinewidth": 0,
             "ticks": ""
            },
            "colorscale": [
             [
              0,
              "#0d0887"
             ],
             [
              0.1111111111111111,
              "#46039f"
             ],
             [
              0.2222222222222222,
              "#7201a8"
             ],
             [
              0.3333333333333333,
              "#9c179e"
             ],
             [
              0.4444444444444444,
              "#bd3786"
             ],
             [
              0.5555555555555556,
              "#d8576b"
             ],
             [
              0.6666666666666666,
              "#ed7953"
             ],
             [
              0.7777777777777778,
              "#fb9f3a"
             ],
             [
              0.8888888888888888,
              "#fdca26"
             ],
             [
              1,
              "#f0f921"
             ]
            ],
            "type": "histogram2dcontour"
           }
          ],
          "mesh3d": [
           {
            "colorbar": {
             "outlinewidth": 0,
             "ticks": ""
            },
            "type": "mesh3d"
           }
          ],
          "parcoords": [
           {
            "line": {
             "colorbar": {
              "outlinewidth": 0,
              "ticks": ""
             }
            },
            "type": "parcoords"
           }
          ],
          "pie": [
           {
            "automargin": true,
            "type": "pie"
           }
          ],
          "scatter": [
           {
            "fillpattern": {
             "fillmode": "overlay",
             "size": 10,
             "solidity": 0.2
            },
            "type": "scatter"
           }
          ],
          "scatter3d": [
           {
            "line": {
             "colorbar": {
              "outlinewidth": 0,
              "ticks": ""
             }
            },
            "marker": {
             "colorbar": {
              "outlinewidth": 0,
              "ticks": ""
             }
            },
            "type": "scatter3d"
           }
          ],
          "scattercarpet": [
           {
            "marker": {
             "colorbar": {
              "outlinewidth": 0,
              "ticks": ""
             }
            },
            "type": "scattercarpet"
           }
          ],
          "scattergeo": [
           {
            "marker": {
             "colorbar": {
              "outlinewidth": 0,
              "ticks": ""
             }
            },
            "type": "scattergeo"
           }
          ],
          "scattergl": [
           {
            "marker": {
             "colorbar": {
              "outlinewidth": 0,
              "ticks": ""
             }
            },
            "type": "scattergl"
           }
          ],
          "scattermapbox": [
           {
            "marker": {
             "colorbar": {
              "outlinewidth": 0,
              "ticks": ""
             }
            },
            "type": "scattermapbox"
           }
          ],
          "scatterpolar": [
           {
            "marker": {
             "colorbar": {
              "outlinewidth": 0,
              "ticks": ""
             }
            },
            "type": "scatterpolar"
           }
          ],
          "scatterpolargl": [
           {
            "marker": {
             "colorbar": {
              "outlinewidth": 0,
              "ticks": ""
             }
            },
            "type": "scatterpolargl"
           }
          ],
          "scatterternary": [
           {
            "marker": {
             "colorbar": {
              "outlinewidth": 0,
              "ticks": ""
             }
            },
            "type": "scatterternary"
           }
          ],
          "surface": [
           {
            "colorbar": {
             "outlinewidth": 0,
             "ticks": ""
            },
            "colorscale": [
             [
              0,
              "#0d0887"
             ],
             [
              0.1111111111111111,
              "#46039f"
             ],
             [
              0.2222222222222222,
              "#7201a8"
             ],
             [
              0.3333333333333333,
              "#9c179e"
             ],
             [
              0.4444444444444444,
              "#bd3786"
             ],
             [
              0.5555555555555556,
              "#d8576b"
             ],
             [
              0.6666666666666666,
              "#ed7953"
             ],
             [
              0.7777777777777778,
              "#fb9f3a"
             ],
             [
              0.8888888888888888,
              "#fdca26"
             ],
             [
              1,
              "#f0f921"
             ]
            ],
            "type": "surface"
           }
          ],
          "table": [
           {
            "cells": {
             "fill": {
              "color": "#EBF0F8"
             },
             "line": {
              "color": "white"
             }
            },
            "header": {
             "fill": {
              "color": "#C8D4E3"
             },
             "line": {
              "color": "white"
             }
            },
            "type": "table"
           }
          ]
         },
         "layout": {
          "annotationdefaults": {
           "arrowcolor": "#2a3f5f",
           "arrowhead": 0,
           "arrowwidth": 1
          },
          "autotypenumbers": "strict",
          "coloraxis": {
           "colorbar": {
            "outlinewidth": 0,
            "ticks": ""
           }
          },
          "colorscale": {
           "diverging": [
            [
             0,
             "#8e0152"
            ],
            [
             0.1,
             "#c51b7d"
            ],
            [
             0.2,
             "#de77ae"
            ],
            [
             0.3,
             "#f1b6da"
            ],
            [
             0.4,
             "#fde0ef"
            ],
            [
             0.5,
             "#f7f7f7"
            ],
            [
             0.6,
             "#e6f5d0"
            ],
            [
             0.7,
             "#b8e186"
            ],
            [
             0.8,
             "#7fbc41"
            ],
            [
             0.9,
             "#4d9221"
            ],
            [
             1,
             "#276419"
            ]
           ],
           "sequential": [
            [
             0,
             "#0d0887"
            ],
            [
             0.1111111111111111,
             "#46039f"
            ],
            [
             0.2222222222222222,
             "#7201a8"
            ],
            [
             0.3333333333333333,
             "#9c179e"
            ],
            [
             0.4444444444444444,
             "#bd3786"
            ],
            [
             0.5555555555555556,
             "#d8576b"
            ],
            [
             0.6666666666666666,
             "#ed7953"
            ],
            [
             0.7777777777777778,
             "#fb9f3a"
            ],
            [
             0.8888888888888888,
             "#fdca26"
            ],
            [
             1,
             "#f0f921"
            ]
           ],
           "sequentialminus": [
            [
             0,
             "#0d0887"
            ],
            [
             0.1111111111111111,
             "#46039f"
            ],
            [
             0.2222222222222222,
             "#7201a8"
            ],
            [
             0.3333333333333333,
             "#9c179e"
            ],
            [
             0.4444444444444444,
             "#bd3786"
            ],
            [
             0.5555555555555556,
             "#d8576b"
            ],
            [
             0.6666666666666666,
             "#ed7953"
            ],
            [
             0.7777777777777778,
             "#fb9f3a"
            ],
            [
             0.8888888888888888,
             "#fdca26"
            ],
            [
             1,
             "#f0f921"
            ]
           ]
          },
          "colorway": [
           "#636efa",
           "#EF553B",
           "#00cc96",
           "#ab63fa",
           "#FFA15A",
           "#19d3f3",
           "#FF6692",
           "#B6E880",
           "#FF97FF",
           "#FECB52"
          ],
          "font": {
           "color": "#2a3f5f"
          },
          "geo": {
           "bgcolor": "white",
           "lakecolor": "white",
           "landcolor": "#E5ECF6",
           "showlakes": true,
           "showland": true,
           "subunitcolor": "white"
          },
          "hoverlabel": {
           "align": "left"
          },
          "hovermode": "closest",
          "mapbox": {
           "style": "light"
          },
          "paper_bgcolor": "white",
          "plot_bgcolor": "#E5ECF6",
          "polar": {
           "angularaxis": {
            "gridcolor": "white",
            "linecolor": "white",
            "ticks": ""
           },
           "bgcolor": "#E5ECF6",
           "radialaxis": {
            "gridcolor": "white",
            "linecolor": "white",
            "ticks": ""
           }
          },
          "scene": {
           "xaxis": {
            "backgroundcolor": "#E5ECF6",
            "gridcolor": "white",
            "gridwidth": 2,
            "linecolor": "white",
            "showbackground": true,
            "ticks": "",
            "zerolinecolor": "white"
           },
           "yaxis": {
            "backgroundcolor": "#E5ECF6",
            "gridcolor": "white",
            "gridwidth": 2,
            "linecolor": "white",
            "showbackground": true,
            "ticks": "",
            "zerolinecolor": "white"
           },
           "zaxis": {
            "backgroundcolor": "#E5ECF6",
            "gridcolor": "white",
            "gridwidth": 2,
            "linecolor": "white",
            "showbackground": true,
            "ticks": "",
            "zerolinecolor": "white"
           }
          },
          "shapedefaults": {
           "line": {
            "color": "#2a3f5f"
           }
          },
          "ternary": {
           "aaxis": {
            "gridcolor": "white",
            "linecolor": "white",
            "ticks": ""
           },
           "baxis": {
            "gridcolor": "white",
            "linecolor": "white",
            "ticks": ""
           },
           "bgcolor": "#E5ECF6",
           "caxis": {
            "gridcolor": "white",
            "linecolor": "white",
            "ticks": ""
           }
          },
          "title": {
           "x": 0.05
          },
          "xaxis": {
           "automargin": true,
           "gridcolor": "white",
           "linecolor": "white",
           "ticks": "",
           "title": {
            "standoff": 15
           },
           "zerolinecolor": "white",
           "zerolinewidth": 2
          },
          "yaxis": {
           "automargin": true,
           "gridcolor": "white",
           "linecolor": "white",
           "ticks": "",
           "title": {
            "standoff": 15
           },
           "zerolinecolor": "white",
           "zerolinewidth": 2
          }
         }
        },
        "title": {
         "text": "Top 10 Features - After (without carIssue)"
        },
        "xaxis": {
         "title": {
          "text": "Feature"
         }
        },
        "yaxis": {
         "title": {
          "text": "Value"
         }
        }
       }
      }
     },
     "metadata": {},
     "output_type": "display_data"
    }
   ],
   "source": [
    "# Create same plots but without caIssue feature\n",
    "\n",
    "importance_aux = importance.drop(index=importance.index[0])\n",
    "\n",
    "colors = ['#171C54', '#93B8D6']\n",
    "\n",
    "# Sort the DataFrame by \"Before\" values and select the top 10 features\n",
    "top_10_before = importance_aux.sort_values(by='Before', ascending=False).head(10)\n",
    "\n",
    "# Sort the DataFrame by \"After\" values and select the top 10 features\n",
    "top_10_after = importance_aux.sort_values(by='After', ascending=False).head(10)\n",
    "\n",
    "# Create data for the \"Before\" chart\n",
    "before_features = top_10_before['Feature']\n",
    "before_values = top_10_before['Before']\n",
    "after_values = top_10_before['After']\n",
    "\n",
    "# Create a trace for \"Before\" bars\n",
    "trace_before = go.Bar(\n",
    "    x=before_features,\n",
    "    y=before_values,\n",
    "    name='Before',\n",
    "    marker=dict(color=colors[0]),\n",
    "    textposition='auto'\n",
    ")\n",
    "\n",
    "# Create a trace for \"After\" bars\n",
    "trace_after = go.Bar(\n",
    "    x=before_features,\n",
    "    y=after_values,\n",
    "    name='After',\n",
    "    marker=dict(color=colors[1]),\n",
    "    textposition='auto'\n",
    ")\n",
    "\n",
    "# Create the layout for the \"Before\" chart\n",
    "layout_before = go.Layout(\n",
    "    title='Top 10 Features - Before (without carIssue)',\n",
    "    xaxis=dict(title='Feature'),\n",
    "    yaxis=dict(title='Value')\n",
    ")\n",
    "\n",
    "# Create the figure for the \"Before\" chart\n",
    "fig_before = go.Figure(data=[trace_before, trace_after], layout=layout_before)\n",
    "\n",
    "# Show the \"Before\" chart\n",
    "fig_before.show()\n",
    "\n",
    "\n",
    "# Create data for the \"After\" chart\n",
    "after_features = top_10_after['Feature']\n",
    "before_values = top_10_after['Before']\n",
    "after_values = top_10_after['After']\n",
    "\n",
    "# Create a trace for \"Before\" bars\n",
    "trace_before = go.Bar(\n",
    "    x=after_features,\n",
    "    y=before_values,\n",
    "    name='Before',\n",
    "    marker=dict(color=colors[0])\n",
    ")\n",
    "\n",
    "# Create a trace for \"After\" bars\n",
    "trace_after = go.Bar(\n",
    "    x=after_features,\n",
    "    y=after_values,\n",
    "    name='After',\n",
    "    marker=dict(color=colors[1]),\n",
    "    textposition='auto'\n",
    ")\n",
    "\n",
    "# Create the layout for the \"After\" chart\n",
    "layout_after = go.Layout(\n",
    "    title='Top 10 Features - After (without carIssue)',\n",
    "    xaxis=dict(title='Feature'),\n",
    "    yaxis=dict(title='Value')\n",
    ")\n",
    "\n",
    "# Create the figure for the \"After\" chart\n",
    "fig_after = go.Figure(data=[trace_before, trace_after], layout=layout_after)\n",
    "\n",
    "# Show the \"After\" chart\n",
    "fig_after.show()\n"
   ]
  },
  {
   "cell_type": "code",
   "execution_count": 201,
   "metadata": {},
   "outputs": [
    {
     "data": {
      "text/html": [
       "<div>\n",
       "<style scoped>\n",
       "    .dataframe tbody tr th:only-of-type {\n",
       "        vertical-align: middle;\n",
       "    }\n",
       "\n",
       "    .dataframe tbody tr th {\n",
       "        vertical-align: top;\n",
       "    }\n",
       "\n",
       "    .dataframe thead th {\n",
       "        text-align: right;\n",
       "    }\n",
       "</style>\n",
       "<table border=\"1\" class=\"dataframe\">\n",
       "  <thead>\n",
       "    <tr style=\"text-align: right;\">\n",
       "      <th></th>\n",
       "      <th>Feature</th>\n",
       "      <th>Before</th>\n",
       "      <th>After</th>\n",
       "      <th>Difference</th>\n",
       "    </tr>\n",
       "  </thead>\n",
       "  <tbody>\n",
       "    <tr>\n",
       "      <th>0</th>\n",
       "      <td>carIssue</td>\n",
       "      <td>0.5337</td>\n",
       "      <td>0.5997</td>\n",
       "      <td>0.0660</td>\n",
       "    </tr>\n",
       "    <tr>\n",
       "      <th>1</th>\n",
       "      <td>TeamName_Williams</td>\n",
       "      <td>0.0932</td>\n",
       "      <td>0.0270</td>\n",
       "      <td>-0.0662</td>\n",
       "    </tr>\n",
       "    <tr>\n",
       "      <th>2</th>\n",
       "      <td>TeamName_Mercedes</td>\n",
       "      <td>0.0496</td>\n",
       "      <td>0.0459</td>\n",
       "      <td>-0.0037</td>\n",
       "    </tr>\n",
       "    <tr>\n",
       "      <th>3</th>\n",
       "      <td>GridPosition</td>\n",
       "      <td>0.0419</td>\n",
       "      <td>0.0284</td>\n",
       "      <td>-0.0135</td>\n",
       "    </tr>\n",
       "    <tr>\n",
       "      <th>4</th>\n",
       "      <td>driverIssue</td>\n",
       "      <td>0.0351</td>\n",
       "      <td>0.0543</td>\n",
       "      <td>0.0192</td>\n",
       "    </tr>\n",
       "    <tr>\n",
       "      <th>5</th>\n",
       "      <td>INTERMEDIATE</td>\n",
       "      <td>0.0349</td>\n",
       "      <td>0.0052</td>\n",
       "      <td>-0.0298</td>\n",
       "    </tr>\n",
       "    <tr>\n",
       "      <th>6</th>\n",
       "      <td>TeamName_HaasF1Team</td>\n",
       "      <td>0.0332</td>\n",
       "      <td>0.0628</td>\n",
       "      <td>0.0296</td>\n",
       "    </tr>\n",
       "    <tr>\n",
       "      <th>7</th>\n",
       "      <td>TeamName_RedBullRacing</td>\n",
       "      <td>0.0264</td>\n",
       "      <td>0.0539</td>\n",
       "      <td>0.0275</td>\n",
       "    </tr>\n",
       "    <tr>\n",
       "      <th>8</th>\n",
       "      <td>TeamName_AlfaRomeoRacing</td>\n",
       "      <td>0.0258</td>\n",
       "      <td>0.0061</td>\n",
       "      <td>-0.0196</td>\n",
       "    </tr>\n",
       "    <tr>\n",
       "      <th>9</th>\n",
       "      <td>TeamName_McLaren</td>\n",
       "      <td>0.0147</td>\n",
       "      <td>0.0022</td>\n",
       "      <td>-0.0125</td>\n",
       "    </tr>\n",
       "    <tr>\n",
       "      <th>10</th>\n",
       "      <td>PitstopNo</td>\n",
       "      <td>0.0120</td>\n",
       "      <td>0.0058</td>\n",
       "      <td>-0.0063</td>\n",
       "    </tr>\n",
       "    <tr>\n",
       "      <th>11</th>\n",
       "      <td>FLap</td>\n",
       "      <td>0.0120</td>\n",
       "      <td>0.0023</td>\n",
       "      <td>-0.0097</td>\n",
       "    </tr>\n",
       "    <tr>\n",
       "      <th>12</th>\n",
       "      <td>Brake</td>\n",
       "      <td>0.0115</td>\n",
       "      <td>0.0074</td>\n",
       "      <td>-0.0041</td>\n",
       "    </tr>\n",
       "    <tr>\n",
       "      <th>13</th>\n",
       "      <td>AverageSpeed</td>\n",
       "      <td>0.0108</td>\n",
       "      <td>0.0067</td>\n",
       "      <td>-0.0041</td>\n",
       "    </tr>\n",
       "    <tr>\n",
       "      <th>14</th>\n",
       "      <td>Engine_Honda</td>\n",
       "      <td>0.0097</td>\n",
       "      <td>0.0013</td>\n",
       "      <td>-0.0083</td>\n",
       "    </tr>\n",
       "    <tr>\n",
       "      <th>15</th>\n",
       "      <td>TeamName_RacingPoint</td>\n",
       "      <td>0.0075</td>\n",
       "      <td>0.0000</td>\n",
       "      <td>-0.0075</td>\n",
       "    </tr>\n",
       "    <tr>\n",
       "      <th>16</th>\n",
       "      <td>SOFT</td>\n",
       "      <td>0.0053</td>\n",
       "      <td>0.0033</td>\n",
       "      <td>-0.0020</td>\n",
       "    </tr>\n",
       "    <tr>\n",
       "      <th>17</th>\n",
       "      <td>MaxSpeed</td>\n",
       "      <td>0.0048</td>\n",
       "      <td>0.0044</td>\n",
       "      <td>-0.0005</td>\n",
       "    </tr>\n",
       "    <tr>\n",
       "      <th>18</th>\n",
       "      <td>Engine_Renault</td>\n",
       "      <td>0.0045</td>\n",
       "      <td>0.0000</td>\n",
       "      <td>-0.0045</td>\n",
       "    </tr>\n",
       "    <tr>\n",
       "      <th>19</th>\n",
       "      <td>TeamName_Ferrari</td>\n",
       "      <td>0.0040</td>\n",
       "      <td>0.0272</td>\n",
       "      <td>0.0232</td>\n",
       "    </tr>\n",
       "    <tr>\n",
       "      <th>20</th>\n",
       "      <td>AverageThrottle</td>\n",
       "      <td>0.0039</td>\n",
       "      <td>0.0039</td>\n",
       "      <td>-0.0000</td>\n",
       "    </tr>\n",
       "    <tr>\n",
       "      <th>21</th>\n",
       "      <td>SDLapTime</td>\n",
       "      <td>0.0035</td>\n",
       "      <td>0.0020</td>\n",
       "      <td>-0.0015</td>\n",
       "    </tr>\n",
       "    <tr>\n",
       "      <th>22</th>\n",
       "      <td>MaxRPM</td>\n",
       "      <td>0.0034</td>\n",
       "      <td>0.0017</td>\n",
       "      <td>-0.0017</td>\n",
       "    </tr>\n",
       "    <tr>\n",
       "      <th>23</th>\n",
       "      <td>AvgPitTime</td>\n",
       "      <td>0.0033</td>\n",
       "      <td>0.0042</td>\n",
       "      <td>0.0009</td>\n",
       "    </tr>\n",
       "    <tr>\n",
       "      <th>24</th>\n",
       "      <td>HARD</td>\n",
       "      <td>0.0025</td>\n",
       "      <td>0.0021</td>\n",
       "      <td>-0.0004</td>\n",
       "    </tr>\n",
       "    <tr>\n",
       "      <th>25</th>\n",
       "      <td>MaxThrottlePct</td>\n",
       "      <td>0.0024</td>\n",
       "      <td>0.0044</td>\n",
       "      <td>0.0020</td>\n",
       "    </tr>\n",
       "    <tr>\n",
       "      <th>26</th>\n",
       "      <td>MEDIUM</td>\n",
       "      <td>0.0022</td>\n",
       "      <td>0.0025</td>\n",
       "      <td>0.0003</td>\n",
       "    </tr>\n",
       "    <tr>\n",
       "      <th>27</th>\n",
       "      <td>BestQualiTime</td>\n",
       "      <td>0.0017</td>\n",
       "      <td>0.0020</td>\n",
       "      <td>0.0003</td>\n",
       "    </tr>\n",
       "    <tr>\n",
       "      <th>28</th>\n",
       "      <td>TeamName_Renault</td>\n",
       "      <td>0.0015</td>\n",
       "      <td>0.0000</td>\n",
       "      <td>-0.0015</td>\n",
       "    </tr>\n",
       "    <tr>\n",
       "      <th>29</th>\n",
       "      <td>AgeAtGP</td>\n",
       "      <td>0.0011</td>\n",
       "      <td>0.0021</td>\n",
       "      <td>0.0010</td>\n",
       "    </tr>\n",
       "    <tr>\n",
       "      <th>30</th>\n",
       "      <td>CircuitType_street</td>\n",
       "      <td>0.0011</td>\n",
       "      <td>0.0020</td>\n",
       "      <td>0.0010</td>\n",
       "    </tr>\n",
       "    <tr>\n",
       "      <th>31</th>\n",
       "      <td>TeamName_ToroRosso</td>\n",
       "      <td>0.0011</td>\n",
       "      <td>0.0000</td>\n",
       "      <td>-0.0011</td>\n",
       "    </tr>\n",
       "    <tr>\n",
       "      <th>32</th>\n",
       "      <td>Rain</td>\n",
       "      <td>0.0008</td>\n",
       "      <td>0.0000</td>\n",
       "      <td>-0.0008</td>\n",
       "    </tr>\n",
       "    <tr>\n",
       "      <th>33</th>\n",
       "      <td>Engine_Mercedes</td>\n",
       "      <td>0.0006</td>\n",
       "      <td>0.0004</td>\n",
       "      <td>-0.0002</td>\n",
       "    </tr>\n",
       "    <tr>\n",
       "      <th>34</th>\n",
       "      <td>TeamName_AlphaTauri</td>\n",
       "      <td>0.0005</td>\n",
       "      <td>0.0013</td>\n",
       "      <td>0.0008</td>\n",
       "    </tr>\n",
       "    <tr>\n",
       "      <th>35</th>\n",
       "      <td>WET</td>\n",
       "      <td>0.0000</td>\n",
       "      <td>0.0000</td>\n",
       "      <td>0.0000</td>\n",
       "    </tr>\n",
       "    <tr>\n",
       "      <th>36</th>\n",
       "      <td>TeamName_Alpine</td>\n",
       "      <td>0.0000</td>\n",
       "      <td>0.0046</td>\n",
       "      <td>0.0046</td>\n",
       "    </tr>\n",
       "    <tr>\n",
       "      <th>37</th>\n",
       "      <td>Engine_RedBull</td>\n",
       "      <td>0.0000</td>\n",
       "      <td>0.0206</td>\n",
       "      <td>0.0206</td>\n",
       "    </tr>\n",
       "    <tr>\n",
       "      <th>38</th>\n",
       "      <td>TeamName_AstonMartin</td>\n",
       "      <td>0.0000</td>\n",
       "      <td>0.0025</td>\n",
       "      <td>0.0025</td>\n",
       "    </tr>\n",
       "  </tbody>\n",
       "</table>\n",
       "</div>"
      ],
      "text/plain": [
       "                     Feature  Before  After  Difference\n",
       "0                   carIssue  0.5337 0.5997      0.0660\n",
       "1          TeamName_Williams  0.0932 0.0270     -0.0662\n",
       "2          TeamName_Mercedes  0.0496 0.0459     -0.0037\n",
       "3               GridPosition  0.0419 0.0284     -0.0135\n",
       "4                driverIssue  0.0351 0.0543      0.0192\n",
       "5               INTERMEDIATE  0.0349 0.0052     -0.0298\n",
       "6        TeamName_HaasF1Team  0.0332 0.0628      0.0296\n",
       "7     TeamName_RedBullRacing  0.0264 0.0539      0.0275\n",
       "8   TeamName_AlfaRomeoRacing  0.0258 0.0061     -0.0196\n",
       "9           TeamName_McLaren  0.0147 0.0022     -0.0125\n",
       "10                 PitstopNo  0.0120 0.0058     -0.0063\n",
       "11                      FLap  0.0120 0.0023     -0.0097\n",
       "12                     Brake  0.0115 0.0074     -0.0041\n",
       "13              AverageSpeed  0.0108 0.0067     -0.0041\n",
       "14              Engine_Honda  0.0097 0.0013     -0.0083\n",
       "15      TeamName_RacingPoint  0.0075 0.0000     -0.0075\n",
       "16                      SOFT  0.0053 0.0033     -0.0020\n",
       "17                  MaxSpeed  0.0048 0.0044     -0.0005\n",
       "18            Engine_Renault  0.0045 0.0000     -0.0045\n",
       "19          TeamName_Ferrari  0.0040 0.0272      0.0232\n",
       "20           AverageThrottle  0.0039 0.0039     -0.0000\n",
       "21                 SDLapTime  0.0035 0.0020     -0.0015\n",
       "22                    MaxRPM  0.0034 0.0017     -0.0017\n",
       "23                AvgPitTime  0.0033 0.0042      0.0009\n",
       "24                      HARD  0.0025 0.0021     -0.0004\n",
       "25            MaxThrottlePct  0.0024 0.0044      0.0020\n",
       "26                    MEDIUM  0.0022 0.0025      0.0003\n",
       "27             BestQualiTime  0.0017 0.0020      0.0003\n",
       "28          TeamName_Renault  0.0015 0.0000     -0.0015\n",
       "29                   AgeAtGP  0.0011 0.0021      0.0010\n",
       "30        CircuitType_street  0.0011 0.0020      0.0010\n",
       "31        TeamName_ToroRosso  0.0011 0.0000     -0.0011\n",
       "32                      Rain  0.0008 0.0000     -0.0008\n",
       "33           Engine_Mercedes  0.0006 0.0004     -0.0002\n",
       "34       TeamName_AlphaTauri  0.0005 0.0013      0.0008\n",
       "35                       WET  0.0000 0.0000      0.0000\n",
       "36           TeamName_Alpine  0.0000 0.0046      0.0046\n",
       "37            Engine_RedBull  0.0000 0.0206      0.0206\n",
       "38      TeamName_AstonMartin  0.0000 0.0025      0.0025"
      ]
     },
     "execution_count": 201,
     "metadata": {},
     "output_type": "execute_result"
    }
   ],
   "source": [
    "# Add column with the importance difference\n",
    "importance[\"Difference\"] = importance[\"After\"] - importance[\"Before\"]\n",
    "importance"
   ]
  },
  {
   "cell_type": "code",
   "execution_count": 202,
   "metadata": {},
   "outputs": [],
   "source": [
    "# Subset the DataFrame with top highest and lowest values in \"Difference\"\n",
    "top_highest = importance.nlargest(4, 'Difference')\n",
    "\n",
    "top_lowest = importance.nsmallest(2, 'Difference')\n",
    "\n",
    "# Concatenate the DataFrames vertically\n",
    "result = pd.concat([top_highest, top_lowest], ignore_index=True)\n",
    "\n",
    "result = result.drop([\"Before\", \"After\"], axis= 1)"
   ]
  },
  {
   "cell_type": "code",
   "execution_count": 203,
   "metadata": {},
   "outputs": [
    {
     "data": {
      "application/vnd.plotly.v1+json": {
       "config": {
        "plotlyServerURL": "https://plot.ly"
       },
       "data": [
        {
         "marker": {
          "color": [
           "#93B8D6",
           "#93B8D6",
           "#171C54",
           "#171C54",
           "#171C54",
           "#171C54"
          ]
         },
         "type": "bar",
         "x": [
          "TeamName_Williams",
          "INTERMEDIATE",
          "TeamName_Ferrari",
          "TeamName_RedBullRacing",
          "TeamName_HaasF1Team",
          "carIssue"
         ],
         "y": [
          -0.06619065999984741,
          -0.029755370691418648,
          0.02323291264474392,
          0.027484891936182976,
          0.02957203984260559,
          0.06604987382888794
         ]
        }
       ],
       "layout": {
        "template": {
         "data": {
          "bar": [
           {
            "error_x": {
             "color": "#2a3f5f"
            },
            "error_y": {
             "color": "#2a3f5f"
            },
            "marker": {
             "line": {
              "color": "#E5ECF6",
              "width": 0.5
             },
             "pattern": {
              "fillmode": "overlay",
              "size": 10,
              "solidity": 0.2
             }
            },
            "type": "bar"
           }
          ],
          "barpolar": [
           {
            "marker": {
             "line": {
              "color": "#E5ECF6",
              "width": 0.5
             },
             "pattern": {
              "fillmode": "overlay",
              "size": 10,
              "solidity": 0.2
             }
            },
            "type": "barpolar"
           }
          ],
          "carpet": [
           {
            "aaxis": {
             "endlinecolor": "#2a3f5f",
             "gridcolor": "white",
             "linecolor": "white",
             "minorgridcolor": "white",
             "startlinecolor": "#2a3f5f"
            },
            "baxis": {
             "endlinecolor": "#2a3f5f",
             "gridcolor": "white",
             "linecolor": "white",
             "minorgridcolor": "white",
             "startlinecolor": "#2a3f5f"
            },
            "type": "carpet"
           }
          ],
          "choropleth": [
           {
            "colorbar": {
             "outlinewidth": 0,
             "ticks": ""
            },
            "type": "choropleth"
           }
          ],
          "contour": [
           {
            "colorbar": {
             "outlinewidth": 0,
             "ticks": ""
            },
            "colorscale": [
             [
              0,
              "#0d0887"
             ],
             [
              0.1111111111111111,
              "#46039f"
             ],
             [
              0.2222222222222222,
              "#7201a8"
             ],
             [
              0.3333333333333333,
              "#9c179e"
             ],
             [
              0.4444444444444444,
              "#bd3786"
             ],
             [
              0.5555555555555556,
              "#d8576b"
             ],
             [
              0.6666666666666666,
              "#ed7953"
             ],
             [
              0.7777777777777778,
              "#fb9f3a"
             ],
             [
              0.8888888888888888,
              "#fdca26"
             ],
             [
              1,
              "#f0f921"
             ]
            ],
            "type": "contour"
           }
          ],
          "contourcarpet": [
           {
            "colorbar": {
             "outlinewidth": 0,
             "ticks": ""
            },
            "type": "contourcarpet"
           }
          ],
          "heatmap": [
           {
            "colorbar": {
             "outlinewidth": 0,
             "ticks": ""
            },
            "colorscale": [
             [
              0,
              "#0d0887"
             ],
             [
              0.1111111111111111,
              "#46039f"
             ],
             [
              0.2222222222222222,
              "#7201a8"
             ],
             [
              0.3333333333333333,
              "#9c179e"
             ],
             [
              0.4444444444444444,
              "#bd3786"
             ],
             [
              0.5555555555555556,
              "#d8576b"
             ],
             [
              0.6666666666666666,
              "#ed7953"
             ],
             [
              0.7777777777777778,
              "#fb9f3a"
             ],
             [
              0.8888888888888888,
              "#fdca26"
             ],
             [
              1,
              "#f0f921"
             ]
            ],
            "type": "heatmap"
           }
          ],
          "heatmapgl": [
           {
            "colorbar": {
             "outlinewidth": 0,
             "ticks": ""
            },
            "colorscale": [
             [
              0,
              "#0d0887"
             ],
             [
              0.1111111111111111,
              "#46039f"
             ],
             [
              0.2222222222222222,
              "#7201a8"
             ],
             [
              0.3333333333333333,
              "#9c179e"
             ],
             [
              0.4444444444444444,
              "#bd3786"
             ],
             [
              0.5555555555555556,
              "#d8576b"
             ],
             [
              0.6666666666666666,
              "#ed7953"
             ],
             [
              0.7777777777777778,
              "#fb9f3a"
             ],
             [
              0.8888888888888888,
              "#fdca26"
             ],
             [
              1,
              "#f0f921"
             ]
            ],
            "type": "heatmapgl"
           }
          ],
          "histogram": [
           {
            "marker": {
             "pattern": {
              "fillmode": "overlay",
              "size": 10,
              "solidity": 0.2
             }
            },
            "type": "histogram"
           }
          ],
          "histogram2d": [
           {
            "colorbar": {
             "outlinewidth": 0,
             "ticks": ""
            },
            "colorscale": [
             [
              0,
              "#0d0887"
             ],
             [
              0.1111111111111111,
              "#46039f"
             ],
             [
              0.2222222222222222,
              "#7201a8"
             ],
             [
              0.3333333333333333,
              "#9c179e"
             ],
             [
              0.4444444444444444,
              "#bd3786"
             ],
             [
              0.5555555555555556,
              "#d8576b"
             ],
             [
              0.6666666666666666,
              "#ed7953"
             ],
             [
              0.7777777777777778,
              "#fb9f3a"
             ],
             [
              0.8888888888888888,
              "#fdca26"
             ],
             [
              1,
              "#f0f921"
             ]
            ],
            "type": "histogram2d"
           }
          ],
          "histogram2dcontour": [
           {
            "colorbar": {
             "outlinewidth": 0,
             "ticks": ""
            },
            "colorscale": [
             [
              0,
              "#0d0887"
             ],
             [
              0.1111111111111111,
              "#46039f"
             ],
             [
              0.2222222222222222,
              "#7201a8"
             ],
             [
              0.3333333333333333,
              "#9c179e"
             ],
             [
              0.4444444444444444,
              "#bd3786"
             ],
             [
              0.5555555555555556,
              "#d8576b"
             ],
             [
              0.6666666666666666,
              "#ed7953"
             ],
             [
              0.7777777777777778,
              "#fb9f3a"
             ],
             [
              0.8888888888888888,
              "#fdca26"
             ],
             [
              1,
              "#f0f921"
             ]
            ],
            "type": "histogram2dcontour"
           }
          ],
          "mesh3d": [
           {
            "colorbar": {
             "outlinewidth": 0,
             "ticks": ""
            },
            "type": "mesh3d"
           }
          ],
          "parcoords": [
           {
            "line": {
             "colorbar": {
              "outlinewidth": 0,
              "ticks": ""
             }
            },
            "type": "parcoords"
           }
          ],
          "pie": [
           {
            "automargin": true,
            "type": "pie"
           }
          ],
          "scatter": [
           {
            "fillpattern": {
             "fillmode": "overlay",
             "size": 10,
             "solidity": 0.2
            },
            "type": "scatter"
           }
          ],
          "scatter3d": [
           {
            "line": {
             "colorbar": {
              "outlinewidth": 0,
              "ticks": ""
             }
            },
            "marker": {
             "colorbar": {
              "outlinewidth": 0,
              "ticks": ""
             }
            },
            "type": "scatter3d"
           }
          ],
          "scattercarpet": [
           {
            "marker": {
             "colorbar": {
              "outlinewidth": 0,
              "ticks": ""
             }
            },
            "type": "scattercarpet"
           }
          ],
          "scattergeo": [
           {
            "marker": {
             "colorbar": {
              "outlinewidth": 0,
              "ticks": ""
             }
            },
            "type": "scattergeo"
           }
          ],
          "scattergl": [
           {
            "marker": {
             "colorbar": {
              "outlinewidth": 0,
              "ticks": ""
             }
            },
            "type": "scattergl"
           }
          ],
          "scattermapbox": [
           {
            "marker": {
             "colorbar": {
              "outlinewidth": 0,
              "ticks": ""
             }
            },
            "type": "scattermapbox"
           }
          ],
          "scatterpolar": [
           {
            "marker": {
             "colorbar": {
              "outlinewidth": 0,
              "ticks": ""
             }
            },
            "type": "scatterpolar"
           }
          ],
          "scatterpolargl": [
           {
            "marker": {
             "colorbar": {
              "outlinewidth": 0,
              "ticks": ""
             }
            },
            "type": "scatterpolargl"
           }
          ],
          "scatterternary": [
           {
            "marker": {
             "colorbar": {
              "outlinewidth": 0,
              "ticks": ""
             }
            },
            "type": "scatterternary"
           }
          ],
          "surface": [
           {
            "colorbar": {
             "outlinewidth": 0,
             "ticks": ""
            },
            "colorscale": [
             [
              0,
              "#0d0887"
             ],
             [
              0.1111111111111111,
              "#46039f"
             ],
             [
              0.2222222222222222,
              "#7201a8"
             ],
             [
              0.3333333333333333,
              "#9c179e"
             ],
             [
              0.4444444444444444,
              "#bd3786"
             ],
             [
              0.5555555555555556,
              "#d8576b"
             ],
             [
              0.6666666666666666,
              "#ed7953"
             ],
             [
              0.7777777777777778,
              "#fb9f3a"
             ],
             [
              0.8888888888888888,
              "#fdca26"
             ],
             [
              1,
              "#f0f921"
             ]
            ],
            "type": "surface"
           }
          ],
          "table": [
           {
            "cells": {
             "fill": {
              "color": "#EBF0F8"
             },
             "line": {
              "color": "white"
             }
            },
            "header": {
             "fill": {
              "color": "#C8D4E3"
             },
             "line": {
              "color": "white"
             }
            },
            "type": "table"
           }
          ]
         },
         "layout": {
          "annotationdefaults": {
           "arrowcolor": "#2a3f5f",
           "arrowhead": 0,
           "arrowwidth": 1
          },
          "autotypenumbers": "strict",
          "coloraxis": {
           "colorbar": {
            "outlinewidth": 0,
            "ticks": ""
           }
          },
          "colorscale": {
           "diverging": [
            [
             0,
             "#8e0152"
            ],
            [
             0.1,
             "#c51b7d"
            ],
            [
             0.2,
             "#de77ae"
            ],
            [
             0.3,
             "#f1b6da"
            ],
            [
             0.4,
             "#fde0ef"
            ],
            [
             0.5,
             "#f7f7f7"
            ],
            [
             0.6,
             "#e6f5d0"
            ],
            [
             0.7,
             "#b8e186"
            ],
            [
             0.8,
             "#7fbc41"
            ],
            [
             0.9,
             "#4d9221"
            ],
            [
             1,
             "#276419"
            ]
           ],
           "sequential": [
            [
             0,
             "#0d0887"
            ],
            [
             0.1111111111111111,
             "#46039f"
            ],
            [
             0.2222222222222222,
             "#7201a8"
            ],
            [
             0.3333333333333333,
             "#9c179e"
            ],
            [
             0.4444444444444444,
             "#bd3786"
            ],
            [
             0.5555555555555556,
             "#d8576b"
            ],
            [
             0.6666666666666666,
             "#ed7953"
            ],
            [
             0.7777777777777778,
             "#fb9f3a"
            ],
            [
             0.8888888888888888,
             "#fdca26"
            ],
            [
             1,
             "#f0f921"
            ]
           ],
           "sequentialminus": [
            [
             0,
             "#0d0887"
            ],
            [
             0.1111111111111111,
             "#46039f"
            ],
            [
             0.2222222222222222,
             "#7201a8"
            ],
            [
             0.3333333333333333,
             "#9c179e"
            ],
            [
             0.4444444444444444,
             "#bd3786"
            ],
            [
             0.5555555555555556,
             "#d8576b"
            ],
            [
             0.6666666666666666,
             "#ed7953"
            ],
            [
             0.7777777777777778,
             "#fb9f3a"
            ],
            [
             0.8888888888888888,
             "#fdca26"
            ],
            [
             1,
             "#f0f921"
            ]
           ]
          },
          "colorway": [
           "#636efa",
           "#EF553B",
           "#00cc96",
           "#ab63fa",
           "#FFA15A",
           "#19d3f3",
           "#FF6692",
           "#B6E880",
           "#FF97FF",
           "#FECB52"
          ],
          "font": {
           "color": "#2a3f5f"
          },
          "geo": {
           "bgcolor": "white",
           "lakecolor": "white",
           "landcolor": "#E5ECF6",
           "showlakes": true,
           "showland": true,
           "subunitcolor": "white"
          },
          "hoverlabel": {
           "align": "left"
          },
          "hovermode": "closest",
          "mapbox": {
           "style": "light"
          },
          "paper_bgcolor": "white",
          "plot_bgcolor": "#E5ECF6",
          "polar": {
           "angularaxis": {
            "gridcolor": "white",
            "linecolor": "white",
            "ticks": ""
           },
           "bgcolor": "#E5ECF6",
           "radialaxis": {
            "gridcolor": "white",
            "linecolor": "white",
            "ticks": ""
           }
          },
          "scene": {
           "xaxis": {
            "backgroundcolor": "#E5ECF6",
            "gridcolor": "white",
            "gridwidth": 2,
            "linecolor": "white",
            "showbackground": true,
            "ticks": "",
            "zerolinecolor": "white"
           },
           "yaxis": {
            "backgroundcolor": "#E5ECF6",
            "gridcolor": "white",
            "gridwidth": 2,
            "linecolor": "white",
            "showbackground": true,
            "ticks": "",
            "zerolinecolor": "white"
           },
           "zaxis": {
            "backgroundcolor": "#E5ECF6",
            "gridcolor": "white",
            "gridwidth": 2,
            "linecolor": "white",
            "showbackground": true,
            "ticks": "",
            "zerolinecolor": "white"
           }
          },
          "shapedefaults": {
           "line": {
            "color": "#2a3f5f"
           }
          },
          "ternary": {
           "aaxis": {
            "gridcolor": "white",
            "linecolor": "white",
            "ticks": ""
           },
           "baxis": {
            "gridcolor": "white",
            "linecolor": "white",
            "ticks": ""
           },
           "bgcolor": "#E5ECF6",
           "caxis": {
            "gridcolor": "white",
            "linecolor": "white",
            "ticks": ""
           }
          },
          "title": {
           "x": 0.05
          },
          "xaxis": {
           "automargin": true,
           "gridcolor": "white",
           "linecolor": "white",
           "ticks": "",
           "title": {
            "standoff": 15
           },
           "zerolinecolor": "white",
           "zerolinewidth": 2
          },
          "yaxis": {
           "automargin": true,
           "gridcolor": "white",
           "linecolor": "white",
           "ticks": "",
           "title": {
            "standoff": 15
           },
           "zerolinecolor": "white",
           "zerolinewidth": 2
          }
         }
        },
        "xaxis": {
         "title": {
          "text": "Feature"
         }
        },
        "yaxis": {
         "title": {
          "text": "Difference"
         }
        }
       }
      }
     },
     "metadata": {},
     "output_type": "display_data"
    }
   ],
   "source": [
    "import plotly.graph_objects as go\n",
    "\n",
    "# Sort the DataFrame by the \"Difference\" column\n",
    "df_sorted = result.sort_values('Difference')\n",
    "\n",
    "# Define colors for positive and negative differences\n",
    "colors = ['#171C54' if diff >= 0 else '#93B8D6' for diff in df_sorted['Difference']]\n",
    "\n",
    "# Create the bar chart\n",
    "fig = go.Figure(go.Bar(\n",
    "    x=df_sorted['Feature'],\n",
    "    y=df_sorted['Difference'],\n",
    "    marker_color=colors,\n",
    "))\n",
    "\n",
    "# Update the layout\n",
    "fig.update_layout(\n",
    "    xaxis=dict(title=\"Feature\"),\n",
    "    yaxis=dict(title=\"Difference\"),\n",
    ")\n",
    "\n",
    "# Show the chart\n",
    "fig.show()\n"
   ]
  },
  {
   "cell_type": "code",
   "execution_count": 204,
   "metadata": {},
   "outputs": [
    {
     "name": "stdout",
     "output_type": "stream",
     "text": [
      "                     Feature  Importance\n",
      "0               GridPosition      0.4453\n",
      "1                   carIssue      0.4452\n",
      "2     TeamName_RedBullRacing      0.0419\n",
      "3        TeamName_HaasF1Team      0.0355\n",
      "4                   MaxSpeed      0.0320\n",
      "5           TeamName_Ferrari      0.0206\n",
      "6          TeamName_Mercedes      0.0184\n",
      "7               AverageSpeed      0.0167\n",
      "8              BestQualiTime      0.0142\n",
      "9                  PitstopNo      0.0130\n",
      "10         TeamName_Williams      0.0112\n",
      "11           AverageThrottle      0.0109\n",
      "12                   AgeAtGP      0.0109\n",
      "13                    MaxRPM      0.0103\n",
      "14               driverIssue      0.0049\n",
      "15                AvgPitTime      0.0045\n",
      "16           TeamName_Alpine      0.0030\n",
      "17                    MEDIUM      0.0014\n",
      "18       TeamName_AlphaTauri      0.0014\n",
      "19              INTERMEDIATE      0.0013\n",
      "20            Engine_RedBull      0.0006\n",
      "21          TeamName_McLaren      0.0005\n",
      "22      TeamName_AstonMartin      0.0004\n",
      "23           Engine_Mercedes      0.0003\n",
      "24      TeamName_RacingPoint      0.0000\n",
      "25            Engine_Renault      0.0000\n",
      "26              Engine_Honda      0.0000\n",
      "27        TeamName_ToroRosso      0.0000\n",
      "28          TeamName_Renault      0.0000\n",
      "29                      Rain      0.0000\n",
      "30                       WET      0.0000\n",
      "31  TeamName_AlfaRomeoRacing      0.0000\n",
      "32                 SDLapTime     -0.0004\n",
      "33                      FLap     -0.0004\n",
      "34                     Brake     -0.0006\n",
      "35                      HARD     -0.0025\n",
      "36        CircuitType_street     -0.0026\n",
      "37                      SOFT     -0.0064\n",
      "38            MaxThrottlePct     -0.0125\n"
     ]
    }
   ],
   "source": [
    "# Get permutation feature importance scores for after model\n",
    "result = permutation_importance(mrf.trained_fe_model, x_test, Y_test, n_repeats=10, random_state=42)\n",
    "\n",
    "# Get the importance scores\n",
    "importance_perm = result.importances_mean\n",
    "\n",
    "# Create the DataFrame with feature names and importance scores\n",
    "importance_df_after_perm = pd.DataFrame({'Feature': x_train.columns, 'Importance': importance_perm})\n",
    "\n",
    "# Sort the DataFrame by importance in descending order\n",
    "importance_df_after_perm = importance_df_after_perm.sort_values('Importance', ascending=False).reset_index(drop=True)\n",
    "\n",
    "# Print the importance DataFrame\n",
    "print(importance_df_after_perm)"
   ]
  },
  {
   "cell_type": "code",
   "execution_count": 205,
   "metadata": {},
   "outputs": [
    {
     "data": {
      "text/html": [
       "<div>\n",
       "<style scoped>\n",
       "    .dataframe tbody tr th:only-of-type {\n",
       "        vertical-align: middle;\n",
       "    }\n",
       "\n",
       "    .dataframe tbody tr th {\n",
       "        vertical-align: top;\n",
       "    }\n",
       "\n",
       "    .dataframe thead th {\n",
       "        text-align: right;\n",
       "    }\n",
       "</style>\n",
       "<table border=\"1\" class=\"dataframe\">\n",
       "  <thead>\n",
       "    <tr style=\"text-align: right;\">\n",
       "      <th></th>\n",
       "      <th>Feature</th>\n",
       "      <th>Importance_x</th>\n",
       "      <th>Importance_y</th>\n",
       "    </tr>\n",
       "  </thead>\n",
       "  <tbody>\n",
       "    <tr>\n",
       "      <th>0</th>\n",
       "      <td>GridPosition</td>\n",
       "      <td>0.5293</td>\n",
       "      <td>0.4453</td>\n",
       "    </tr>\n",
       "    <tr>\n",
       "      <th>1</th>\n",
       "      <td>carIssue</td>\n",
       "      <td>0.2336</td>\n",
       "      <td>0.4452</td>\n",
       "    </tr>\n",
       "    <tr>\n",
       "      <th>2</th>\n",
       "      <td>AverageSpeed</td>\n",
       "      <td>0.0527</td>\n",
       "      <td>0.0167</td>\n",
       "    </tr>\n",
       "    <tr>\n",
       "      <th>3</th>\n",
       "      <td>SDLapTime</td>\n",
       "      <td>0.0425</td>\n",
       "      <td>-0.0004</td>\n",
       "    </tr>\n",
       "    <tr>\n",
       "      <th>4</th>\n",
       "      <td>AvgPitTime</td>\n",
       "      <td>0.0245</td>\n",
       "      <td>0.0045</td>\n",
       "    </tr>\n",
       "    <tr>\n",
       "      <th>5</th>\n",
       "      <td>TeamName_HaasF1Team</td>\n",
       "      <td>0.0189</td>\n",
       "      <td>0.0355</td>\n",
       "    </tr>\n",
       "    <tr>\n",
       "      <th>6</th>\n",
       "      <td>PitstopNo</td>\n",
       "      <td>0.0173</td>\n",
       "      <td>0.0130</td>\n",
       "    </tr>\n",
       "    <tr>\n",
       "      <th>7</th>\n",
       "      <td>TeamName_Williams</td>\n",
       "      <td>0.0171</td>\n",
       "      <td>0.0112</td>\n",
       "    </tr>\n",
       "    <tr>\n",
       "      <th>8</th>\n",
       "      <td>TeamName_RedBullRacing</td>\n",
       "      <td>0.0162</td>\n",
       "      <td>0.0419</td>\n",
       "    </tr>\n",
       "    <tr>\n",
       "      <th>9</th>\n",
       "      <td>TeamName_Mercedes</td>\n",
       "      <td>0.0150</td>\n",
       "      <td>0.0184</td>\n",
       "    </tr>\n",
       "    <tr>\n",
       "      <th>10</th>\n",
       "      <td>Brake</td>\n",
       "      <td>0.0116</td>\n",
       "      <td>-0.0006</td>\n",
       "    </tr>\n",
       "    <tr>\n",
       "      <th>11</th>\n",
       "      <td>driverIssue</td>\n",
       "      <td>0.0094</td>\n",
       "      <td>0.0049</td>\n",
       "    </tr>\n",
       "    <tr>\n",
       "      <th>12</th>\n",
       "      <td>TeamName_McLaren</td>\n",
       "      <td>0.0087</td>\n",
       "      <td>0.0005</td>\n",
       "    </tr>\n",
       "    <tr>\n",
       "      <th>13</th>\n",
       "      <td>AverageThrottle</td>\n",
       "      <td>0.0083</td>\n",
       "      <td>0.0109</td>\n",
       "    </tr>\n",
       "    <tr>\n",
       "      <th>14</th>\n",
       "      <td>MEDIUM</td>\n",
       "      <td>0.0071</td>\n",
       "      <td>0.0014</td>\n",
       "    </tr>\n",
       "    <tr>\n",
       "      <th>15</th>\n",
       "      <td>SOFT</td>\n",
       "      <td>0.0067</td>\n",
       "      <td>-0.0064</td>\n",
       "    </tr>\n",
       "    <tr>\n",
       "      <th>16</th>\n",
       "      <td>MaxThrottlePct</td>\n",
       "      <td>0.0038</td>\n",
       "      <td>-0.0125</td>\n",
       "    </tr>\n",
       "    <tr>\n",
       "      <th>17</th>\n",
       "      <td>INTERMEDIATE</td>\n",
       "      <td>0.0036</td>\n",
       "      <td>0.0013</td>\n",
       "    </tr>\n",
       "    <tr>\n",
       "      <th>18</th>\n",
       "      <td>HARD</td>\n",
       "      <td>0.0035</td>\n",
       "      <td>-0.0025</td>\n",
       "    </tr>\n",
       "    <tr>\n",
       "      <th>19</th>\n",
       "      <td>AgeAtGP</td>\n",
       "      <td>0.0026</td>\n",
       "      <td>0.0109</td>\n",
       "    </tr>\n",
       "    <tr>\n",
       "      <th>20</th>\n",
       "      <td>TeamName_RacingPoint</td>\n",
       "      <td>0.0022</td>\n",
       "      <td>0.0000</td>\n",
       "    </tr>\n",
       "    <tr>\n",
       "      <th>21</th>\n",
       "      <td>FLap</td>\n",
       "      <td>0.0018</td>\n",
       "      <td>-0.0004</td>\n",
       "    </tr>\n",
       "    <tr>\n",
       "      <th>22</th>\n",
       "      <td>Engine_Renault</td>\n",
       "      <td>0.0005</td>\n",
       "      <td>0.0000</td>\n",
       "    </tr>\n",
       "    <tr>\n",
       "      <th>23</th>\n",
       "      <td>TeamName_Ferrari</td>\n",
       "      <td>0.0004</td>\n",
       "      <td>0.0206</td>\n",
       "    </tr>\n",
       "    <tr>\n",
       "      <th>24</th>\n",
       "      <td>TeamName_Renault</td>\n",
       "      <td>0.0004</td>\n",
       "      <td>0.0000</td>\n",
       "    </tr>\n",
       "    <tr>\n",
       "      <th>25</th>\n",
       "      <td>CircuitType_street</td>\n",
       "      <td>0.0001</td>\n",
       "      <td>-0.0026</td>\n",
       "    </tr>\n",
       "    <tr>\n",
       "      <th>26</th>\n",
       "      <td>Engine_Mercedes</td>\n",
       "      <td>0.0001</td>\n",
       "      <td>0.0003</td>\n",
       "    </tr>\n",
       "    <tr>\n",
       "      <th>27</th>\n",
       "      <td>TeamName_AstonMartin</td>\n",
       "      <td>0.0000</td>\n",
       "      <td>0.0004</td>\n",
       "    </tr>\n",
       "    <tr>\n",
       "      <th>28</th>\n",
       "      <td>TeamName_Alpine</td>\n",
       "      <td>0.0000</td>\n",
       "      <td>0.0030</td>\n",
       "    </tr>\n",
       "    <tr>\n",
       "      <th>29</th>\n",
       "      <td>TeamName_ToroRosso</td>\n",
       "      <td>0.0000</td>\n",
       "      <td>0.0000</td>\n",
       "    </tr>\n",
       "    <tr>\n",
       "      <th>30</th>\n",
       "      <td>Rain</td>\n",
       "      <td>0.0000</td>\n",
       "      <td>0.0000</td>\n",
       "    </tr>\n",
       "    <tr>\n",
       "      <th>31</th>\n",
       "      <td>Engine_RedBull</td>\n",
       "      <td>0.0000</td>\n",
       "      <td>0.0006</td>\n",
       "    </tr>\n",
       "    <tr>\n",
       "      <th>32</th>\n",
       "      <td>WET</td>\n",
       "      <td>-0.0000</td>\n",
       "      <td>0.0000</td>\n",
       "    </tr>\n",
       "    <tr>\n",
       "      <th>33</th>\n",
       "      <td>TeamName_AlphaTauri</td>\n",
       "      <td>-0.0003</td>\n",
       "      <td>0.0014</td>\n",
       "    </tr>\n",
       "    <tr>\n",
       "      <th>34</th>\n",
       "      <td>Engine_Honda</td>\n",
       "      <td>-0.0020</td>\n",
       "      <td>0.0000</td>\n",
       "    </tr>\n",
       "    <tr>\n",
       "      <th>35</th>\n",
       "      <td>MaxRPM</td>\n",
       "      <td>-0.0049</td>\n",
       "      <td>0.0103</td>\n",
       "    </tr>\n",
       "    <tr>\n",
       "      <th>36</th>\n",
       "      <td>TeamName_AlfaRomeoRacing</td>\n",
       "      <td>-0.0069</td>\n",
       "      <td>0.0000</td>\n",
       "    </tr>\n",
       "    <tr>\n",
       "      <th>37</th>\n",
       "      <td>MaxSpeed</td>\n",
       "      <td>-0.0074</td>\n",
       "      <td>0.0320</td>\n",
       "    </tr>\n",
       "    <tr>\n",
       "      <th>38</th>\n",
       "      <td>BestQualiTime</td>\n",
       "      <td>-0.0108</td>\n",
       "      <td>0.0142</td>\n",
       "    </tr>\n",
       "  </tbody>\n",
       "</table>\n",
       "</div>"
      ],
      "text/plain": [
       "                     Feature  Importance_x  Importance_y\n",
       "0               GridPosition        0.5293        0.4453\n",
       "1                   carIssue        0.2336        0.4452\n",
       "2               AverageSpeed        0.0527        0.0167\n",
       "3                  SDLapTime        0.0425       -0.0004\n",
       "4                 AvgPitTime        0.0245        0.0045\n",
       "5        TeamName_HaasF1Team        0.0189        0.0355\n",
       "6                  PitstopNo        0.0173        0.0130\n",
       "7          TeamName_Williams        0.0171        0.0112\n",
       "8     TeamName_RedBullRacing        0.0162        0.0419\n",
       "9          TeamName_Mercedes        0.0150        0.0184\n",
       "10                     Brake        0.0116       -0.0006\n",
       "11               driverIssue        0.0094        0.0049\n",
       "12          TeamName_McLaren        0.0087        0.0005\n",
       "13           AverageThrottle        0.0083        0.0109\n",
       "14                    MEDIUM        0.0071        0.0014\n",
       "15                      SOFT        0.0067       -0.0064\n",
       "16            MaxThrottlePct        0.0038       -0.0125\n",
       "17              INTERMEDIATE        0.0036        0.0013\n",
       "18                      HARD        0.0035       -0.0025\n",
       "19                   AgeAtGP        0.0026        0.0109\n",
       "20      TeamName_RacingPoint        0.0022        0.0000\n",
       "21                      FLap        0.0018       -0.0004\n",
       "22            Engine_Renault        0.0005        0.0000\n",
       "23          TeamName_Ferrari        0.0004        0.0206\n",
       "24          TeamName_Renault        0.0004        0.0000\n",
       "25        CircuitType_street        0.0001       -0.0026\n",
       "26           Engine_Mercedes        0.0001        0.0003\n",
       "27      TeamName_AstonMartin        0.0000        0.0004\n",
       "28           TeamName_Alpine        0.0000        0.0030\n",
       "29        TeamName_ToroRosso        0.0000        0.0000\n",
       "30                      Rain        0.0000        0.0000\n",
       "31            Engine_RedBull        0.0000        0.0006\n",
       "32                       WET       -0.0000        0.0000\n",
       "33       TeamName_AlphaTauri       -0.0003        0.0014\n",
       "34              Engine_Honda       -0.0020        0.0000\n",
       "35                    MaxRPM       -0.0049        0.0103\n",
       "36  TeamName_AlfaRomeoRacing       -0.0069        0.0000\n",
       "37                  MaxSpeed       -0.0074        0.0320\n",
       "38             BestQualiTime       -0.0108        0.0142"
      ]
     },
     "execution_count": 205,
     "metadata": {},
     "output_type": "execute_result"
    }
   ],
   "source": [
    "# Merge the permutation scores based on features\n",
    "importance_perm = pd.merge(importance_df_before_perm, importance_df_after_perm, on=\"Feature\")\n",
    "pd.set_option('display.float_format', '{:.4f}'.format)\n",
    "importance_perm"
   ]
  }
 ],
 "metadata": {
  "kernelspec": {
   "display_name": "base",
   "language": "python",
   "name": "python3"
  },
  "language_info": {
   "codemirror_mode": {
    "name": "ipython",
    "version": 3
   },
   "file_extension": ".py",
   "mimetype": "text/x-python",
   "name": "python",
   "nbconvert_exporter": "python",
   "pygments_lexer": "ipython3",
   "version": "3.9.13"
  },
  "orig_nbformat": 4,
  "vscode": {
   "interpreter": {
    "hash": "5735bfa344102866903967fdbfb95794eb353dada4cd8a6f59858b1fed696402"
   }
  }
 },
 "nbformat": 4,
 "nbformat_minor": 2
}
