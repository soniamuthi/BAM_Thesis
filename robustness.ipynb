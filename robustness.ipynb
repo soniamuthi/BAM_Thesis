{
 "cells": [
  {
   "cell_type": "code",
   "execution_count": 1,
   "metadata": {},
   "outputs": [],
   "source": [
    "import pandas as pd\n",
    "from sklearn.model_selection import train_test_split\n",
    "\n",
    "from sklearn.model_selection import GridSearchCV\n",
    "from sklearn.utils import resample\n",
    "from sklearn.compose import ColumnTransformer\n",
    "from sklearn.decomposition import PCA\n",
    "import seaborn as sns\n",
    "import numpy as np\n",
    "import pickle\n",
    "from sklearn.ensemble import RandomForestRegressor\n",
    "\n",
    "from sklearn.linear_model import LinearRegression\n",
    "\n",
    "import matplotlib.pyplot as plt\n",
    "from imblearn.over_sampling import SMOTE\n",
    "from imblearn.pipeline import Pipeline\n",
    "from sklearn.preprocessing import StandardScaler\n",
    "from sklearn.linear_model import LogisticRegression\n",
    "from sklearn.ensemble import RandomForestClassifier\n",
    "from sklearn.decomposition import FactorAnalysis\n",
    "from factor_analyzer import FactorAnalyzer\n",
    "\n",
    "from sklearn.ensemble import GradientBoostingClassifier\n",
    "from sklearn.metrics import roc_auc_score\n",
    "\n",
    "%matplotlib inline\n",
    "\n",
    "from sklearn.preprocessing import OneHotEncoder\n",
    "import lightgbm as lgb\n",
    "from lightgbm import LGBMClassifier \n",
    "\n",
    "from sklearn.utils import class_weight\n",
    "from imblearn.over_sampling import SMOTE\n",
    "from imblearn.under_sampling import RandomUnderSampler\n",
    "from sklearn.decomposition import TruncatedSVD\n",
    "\n",
    "import plotly.express as px\n",
    "import plotly.graph_objs as go\n",
    "import statsmodels.formula.api as smf\n",
    "from plotly.graph_objects import Layout"
   ]
  },
  {
   "cell_type": "code",
   "execution_count": 2,
   "metadata": {},
   "outputs": [],
   "source": [
    "df = pd.read_csv(\"mergedData.csv\")"
   ]
  },
  {
   "cell_type": "code",
   "execution_count": 3,
   "metadata": {},
   "outputs": [],
   "source": [
    "df = df.drop(\"Unnamed: 0\", axis = 1)"
   ]
  },
  {
   "cell_type": "code",
   "execution_count": 4,
   "metadata": {},
   "outputs": [],
   "source": [
    "df = df.drop([\"DriverNumber\", \"Driver\", \"Position\"], axis = 1)\n",
    "aux = df"
   ]
  },
  {
   "cell_type": "code",
   "execution_count": 5,
   "metadata": {},
   "outputs": [],
   "source": [
    "# create new columns based on Status values\n",
    "df['carIssue'] = (df['Status'] == 'carIssue').astype(int)\n",
    "df['driverIssue'] = (df['Status'] == 'driverIssue').astype(int)\n",
    "df = df.drop('Status', axis=1)"
   ]
  },
  {
   "cell_type": "code",
   "execution_count": 6,
   "metadata": {},
   "outputs": [],
   "source": [
    "#df['after_2020'] = df['Year'].apply(lambda x: 1 if x > 2020 else 0)"
   ]
  },
  {
   "cell_type": "code",
   "execution_count": 7,
   "metadata": {},
   "outputs": [],
   "source": [
    "df = df.drop([\"AverageRPM\"], axis = 1)\n",
    "df = df.drop([\"AvgLapTime\"], axis = 1)\n",
    "df = df.drop([\"AvgSplitTime\"], axis = 1)"
   ]
  },
  {
   "cell_type": "code",
   "execution_count": 8,
   "metadata": {},
   "outputs": [],
   "source": [
    "df[\"RaceCountry\"] = df[\"RaceCountry\"].str.replace(\" \", \"\")\n",
    "df[\"TeamName\"] = df[\"TeamName\"].str.replace(\" \", \"\")\n",
    "df[\"Engine\"] = df[\"Engine\"].str.replace(\" \", \"\")"
   ]
  },
  {
   "cell_type": "code",
   "execution_count": 9,
   "metadata": {},
   "outputs": [],
   "source": [
    "#df.to_csv(r'plotdata_position.csv', index=True, header=True)"
   ]
  },
  {
   "cell_type": "code",
   "execution_count": 10,
   "metadata": {},
   "outputs": [],
   "source": [
    "\n",
    "# get a list of all categorical variables except \"Abbreviation\" and \"raceID\"\n",
    "cat_vars = df.select_dtypes(include=['object']).columns.tolist()\n",
    "cat_vars.remove(\"Abbreviation\")\n",
    "cat_vars.remove(\"RaceCountry\")\n",
    "\n",
    "# create dummy variables for all categorical variables except \"Abbreviation\" and \"raceID\"\n",
    "dummies = pd.get_dummies(df[cat_vars], drop_first=True)\n",
    "\n",
    "# drop the original categorical variables from the DataFrame\n",
    "df = df.drop(cat_vars, axis=1)\n",
    "\n",
    "# concatenate the dummy variables with the remaining variables in the DataFrame\n",
    "df = pd.concat([df, dummies], axis=1)\n"
   ]
  },
  {
   "cell_type": "code",
   "execution_count": 12,
   "metadata": {},
   "outputs": [],
   "source": [
    "# Split the data into two datasets based on the Year column\n",
    "df_before = df[df['Year'].isin([2019, 2020])]\n",
    "df_after = df[df['Year'].isin([2021, 2022])]"
   ]
  },
  {
   "attachments": {},
   "cell_type": "markdown",
   "metadata": {},
   "source": [
    "## MERF"
   ]
  },
  {
   "cell_type": "code",
   "execution_count": 13,
   "metadata": {},
   "outputs": [],
   "source": [
    "from merf import MERF"
   ]
  },
  {
   "cell_type": "code",
   "execution_count": 14,
   "metadata": {},
   "outputs": [],
   "source": [
    "#df = df.drop([\"RaceCountry\", \"Year\"], axis = 1)"
   ]
  },
  {
   "cell_type": "code",
   "execution_count": 15,
   "metadata": {},
   "outputs": [],
   "source": [
    "#y = df.loc[:, [\"Position\"]]\n",
    "#X = df.drop([\"Position\"], axis = 1)"
   ]
  },
  {
   "cell_type": "code",
   "execution_count": 16,
   "metadata": {},
   "outputs": [],
   "source": [
    "#X_train, X_test, Y_train, Y_test = train_test_split(X, y, test_size=0.2, random_state=42)"
   ]
  },
  {
   "attachments": {},
   "cell_type": "markdown",
   "metadata": {},
   "source": [
    "## Before model"
   ]
  },
  {
   "cell_type": "code",
   "execution_count": 17,
   "metadata": {},
   "outputs": [],
   "source": [
    "# Split the data into train and test sets based on the raceID column\n",
    "train_df = df_before[(df_before['raceID'] >= 1) & (df_before['raceID'] <= 29)]\n",
    "test_df = df_before[(df_before['raceID'] >= 30) & (df_before['raceID'] <= 37)]"
   ]
  },
  {
   "cell_type": "code",
   "execution_count": 18,
   "metadata": {},
   "outputs": [],
   "source": [
    "X_train = train_df.drop('Points', axis=1)\n",
    "Y_train = train_df['Points']\n",
    "X_test = test_df.drop('Points', axis=1)\n",
    "Y_test = test_df['Points']"
   ]
  },
  {
   "cell_type": "code",
   "execution_count": 19,
   "metadata": {},
   "outputs": [],
   "source": [
    "X_train = X_train.drop('RaceCountry', axis=1)\n",
    "X_train = X_train.drop('Year', axis=1)\n",
    "X_test = X_test.drop('RaceCountry', axis=1)\n",
    "X_test = X_test.drop('Year', axis=1)\n",
    "\n",
    "\n"
   ]
  },
  {
   "cell_type": "code",
   "execution_count": 20,
   "metadata": {},
   "outputs": [],
   "source": [
    "x_train = X_train.drop(['Abbreviation', 'raceID'], axis = 1)\n",
    "Z_train = X_train[['raceID']]\n",
    "clusters_train = X_train['raceID']"
   ]
  },
  {
   "cell_type": "code",
   "execution_count": 21,
   "metadata": {},
   "outputs": [
    {
     "name": "stderr",
     "output_type": "stream",
     "text": [
      "INFO     [merf.py:307] Training GLL is -1861.5024129543822 at iteration 1.\n",
      "INFO     [merf.py:307] Training GLL is -3616.8404700081323 at iteration 2.\n",
      "INFO     [merf.py:307] Training GLL is -4783.513279148445 at iteration 3.\n",
      "INFO     [merf.py:307] Training GLL is -5870.646730385381 at iteration 4.\n",
      "INFO     [merf.py:307] Training GLL is -5718.31015906151 at iteration 5.\n",
      "INFO     [merf.py:307] Training GLL is -6037.305205687128 at iteration 6.\n",
      "INFO     [merf.py:307] Training GLL is -5506.0883684281225 at iteration 7.\n",
      "INFO     [merf.py:307] Training GLL is -5230.206236134884 at iteration 8.\n",
      "INFO     [merf.py:307] Training GLL is -5460.877950088498 at iteration 9.\n",
      "INFO     [merf.py:307] Training GLL is -5558.955313751267 at iteration 10.\n",
      "INFO     [merf.py:307] Training GLL is -5321.082012432609 at iteration 11.\n",
      "INFO     [merf.py:307] Training GLL is -5449.56085553815 at iteration 12.\n",
      "INFO     [merf.py:307] Training GLL is -5394.182222631165 at iteration 13.\n",
      "INFO     [merf.py:307] Training GLL is -5090.015780484072 at iteration 14.\n",
      "INFO     [merf.py:307] Training GLL is -5507.5194156784655 at iteration 15.\n",
      "INFO     [merf.py:307] Training GLL is -5253.671956565806 at iteration 16.\n",
      "INFO     [merf.py:307] Training GLL is -5360.063226946659 at iteration 17.\n",
      "INFO     [merf.py:307] Training GLL is -6063.185180774621 at iteration 18.\n",
      "INFO     [merf.py:307] Training GLL is -5369.06409299476 at iteration 19.\n",
      "INFO     [merf.py:307] Training GLL is -5529.504163959413 at iteration 20.\n",
      "INFO     [merf.py:307] Training GLL is -5680.077896193947 at iteration 21.\n",
      "INFO     [merf.py:307] Training GLL is -6161.011912002132 at iteration 22.\n",
      "INFO     [merf.py:307] Training GLL is -5344.533942691719 at iteration 23.\n",
      "INFO     [merf.py:307] Training GLL is -5525.818195980133 at iteration 24.\n",
      "INFO     [merf.py:307] Training GLL is -5667.248669086046 at iteration 25.\n",
      "INFO     [merf.py:307] Training GLL is -6134.377645738167 at iteration 26.\n",
      "INFO     [merf.py:307] Training GLL is -5511.258831517071 at iteration 27.\n",
      "INFO     [merf.py:307] Training GLL is -5571.086622412112 at iteration 28.\n",
      "INFO     [merf.py:307] Training GLL is -5615.733115378698 at iteration 29.\n",
      "INFO     [merf.py:307] Training GLL is -5597.471538721375 at iteration 30.\n"
     ]
    },
    {
     "data": {
      "text/plain": [
       "<merf.merf.MERF at 0x7fe02a6da220>"
      ]
     },
     "execution_count": 21,
     "metadata": {},
     "output_type": "execute_result"
    }
   ],
   "source": [
    "import xgboost as xgb\n",
    "\n",
    "xgb_model = xgb.XGBRegressor(objective='reg:squarederror', max_depth=8, learning_rate=0.08, n_estimators=300)\n",
    "\n",
    "mrf = MERF(fixed_effects_model=xgb_model, max_iterations=30)\n",
    "mrf.fit(x_train, Z_train, clusters_train, Y_train)"
   ]
  },
  {
   "cell_type": "code",
   "execution_count": 22,
   "metadata": {},
   "outputs": [],
   "source": [
    "#regressor = mrf.fit(x_train, Z_train, clusters_train, Y_train)"
   ]
  },
  {
   "cell_type": "code",
   "execution_count": 23,
   "metadata": {},
   "outputs": [],
   "source": [
    "train_preds = mrf.predict(x_train, Z_train, clusters_train)"
   ]
  },
  {
   "cell_type": "code",
   "execution_count": 24,
   "metadata": {},
   "outputs": [
    {
     "name": "stdout",
     "output_type": "stream",
     "text": [
      "Test MSE: 4.012061644473455e-05\n",
      "Test RMSE: 0.006334083709956362\n",
      "Test MAE: 0.004248404697208776\n",
      "Test R-squared: 0.9999992284592496\n"
     ]
    }
   ],
   "source": [
    "from sklearn.metrics import mean_squared_error, mean_absolute_error, r2_score\n",
    "\n",
    "mse = mean_squared_error(Y_train, train_preds)\n",
    "rmse = np.sqrt(mse)\n",
    "mae = mean_absolute_error(Y_train, train_preds)\n",
    "r2 = r2_score(Y_train, train_preds)\n",
    "\n",
    "# Print the performance metrics\n",
    "print(\"Test MSE:\", mse)\n",
    "print(\"Test RMSE:\", rmse)\n",
    "print(\"Test MAE:\", mae)\n",
    "print(\"Test R-squared:\", r2)\n"
   ]
  },
  {
   "attachments": {},
   "cell_type": "markdown",
   "metadata": {},
   "source": [
    "# Test dataset"
   ]
  },
  {
   "cell_type": "code",
   "execution_count": 25,
   "metadata": {},
   "outputs": [],
   "source": [
    "x_test = X_test.drop(['Abbreviation', 'raceID'], axis = 1)\n",
    "Z_test = X_test[['raceID']]\n",
    "clusters_test = X_test['raceID']"
   ]
  },
  {
   "cell_type": "code",
   "execution_count": 26,
   "metadata": {},
   "outputs": [
    {
     "data": {
      "text/html": [
       "<div>\n",
       "<style scoped>\n",
       "    .dataframe tbody tr th:only-of-type {\n",
       "        vertical-align: middle;\n",
       "    }\n",
       "\n",
       "    .dataframe tbody tr th {\n",
       "        vertical-align: top;\n",
       "    }\n",
       "\n",
       "    .dataframe thead th {\n",
       "        text-align: right;\n",
       "    }\n",
       "</style>\n",
       "<table border=\"1\" class=\"dataframe\">\n",
       "  <thead>\n",
       "    <tr style=\"text-align: right;\">\n",
       "      <th></th>\n",
       "      <th>GridPosition</th>\n",
       "      <th>AgeAtGP</th>\n",
       "      <th>BestQualiTime</th>\n",
       "      <th>FLap</th>\n",
       "      <th>SDLapTime</th>\n",
       "      <th>AvgPitTime</th>\n",
       "      <th>PitstopNo</th>\n",
       "      <th>HARD</th>\n",
       "      <th>INTERMEDIATE</th>\n",
       "      <th>MEDIUM</th>\n",
       "      <th>...</th>\n",
       "      <th>TeamName_RacingPoint</th>\n",
       "      <th>TeamName_RedBullRacing</th>\n",
       "      <th>TeamName_Renault</th>\n",
       "      <th>TeamName_ToroRosso</th>\n",
       "      <th>TeamName_Williams</th>\n",
       "      <th>Engine_Honda</th>\n",
       "      <th>Engine_Mercedes</th>\n",
       "      <th>Engine_RedBull</th>\n",
       "      <th>Engine_Renault</th>\n",
       "      <th>CircuitType_street</th>\n",
       "    </tr>\n",
       "  </thead>\n",
       "  <tbody>\n",
       "    <tr>\n",
       "      <th>568</th>\n",
       "      <td>9.0</td>\n",
       "      <td>24.0</td>\n",
       "      <td>93.000</td>\n",
       "      <td>0.0</td>\n",
       "      <td>4.414441</td>\n",
       "      <td>29.5895</td>\n",
       "      <td>2.0</td>\n",
       "      <td>24.0</td>\n",
       "      <td>0.0</td>\n",
       "      <td>11.0</td>\n",
       "      <td>...</td>\n",
       "      <td>0</td>\n",
       "      <td>0</td>\n",
       "      <td>0</td>\n",
       "      <td>0</td>\n",
       "      <td>0</td>\n",
       "      <td>0</td>\n",
       "      <td>0</td>\n",
       "      <td>0</td>\n",
       "      <td>0</td>\n",
       "      <td>1</td>\n",
       "    </tr>\n",
       "    <tr>\n",
       "      <th>569</th>\n",
       "      <td>4.0</td>\n",
       "      <td>30.0</td>\n",
       "      <td>92.317</td>\n",
       "      <td>0.0</td>\n",
       "      <td>3.598099</td>\n",
       "      <td>29.6020</td>\n",
       "      <td>1.0</td>\n",
       "      <td>33.0</td>\n",
       "      <td>0.0</td>\n",
       "      <td>0.0</td>\n",
       "      <td>...</td>\n",
       "      <td>1</td>\n",
       "      <td>0</td>\n",
       "      <td>0</td>\n",
       "      <td>0</td>\n",
       "      <td>0</td>\n",
       "      <td>0</td>\n",
       "      <td>1</td>\n",
       "      <td>0</td>\n",
       "      <td>0</td>\n",
       "      <td>1</td>\n",
       "    </tr>\n",
       "    <tr>\n",
       "      <th>570</th>\n",
       "      <td>10.0</td>\n",
       "      <td>22.0</td>\n",
       "      <td>93.239</td>\n",
       "      <td>0.0</td>\n",
       "      <td>3.308658</td>\n",
       "      <td>30.2610</td>\n",
       "      <td>1.0</td>\n",
       "      <td>25.0</td>\n",
       "      <td>0.0</td>\n",
       "      <td>28.0</td>\n",
       "      <td>...</td>\n",
       "      <td>0</td>\n",
       "      <td>0</td>\n",
       "      <td>0</td>\n",
       "      <td>0</td>\n",
       "      <td>0</td>\n",
       "      <td>0</td>\n",
       "      <td>0</td>\n",
       "      <td>0</td>\n",
       "      <td>0</td>\n",
       "      <td>1</td>\n",
       "    </tr>\n",
       "    <tr>\n",
       "      <th>571</th>\n",
       "      <td>18.0</td>\n",
       "      <td>28.0</td>\n",
       "      <td>94.681</td>\n",
       "      <td>0.0</td>\n",
       "      <td>3.643243</td>\n",
       "      <td>30.1880</td>\n",
       "      <td>1.0</td>\n",
       "      <td>33.0</td>\n",
       "      <td>0.0</td>\n",
       "      <td>19.0</td>\n",
       "      <td>...</td>\n",
       "      <td>0</td>\n",
       "      <td>0</td>\n",
       "      <td>0</td>\n",
       "      <td>0</td>\n",
       "      <td>0</td>\n",
       "      <td>0</td>\n",
       "      <td>0</td>\n",
       "      <td>0</td>\n",
       "      <td>0</td>\n",
       "      <td>1</td>\n",
       "    </tr>\n",
       "    <tr>\n",
       "      <th>572</th>\n",
       "      <td>15.0</td>\n",
       "      <td>24.0</td>\n",
       "      <td>93.008</td>\n",
       "      <td>0.0</td>\n",
       "      <td>3.737778</td>\n",
       "      <td>30.1610</td>\n",
       "      <td>2.0</td>\n",
       "      <td>26.0</td>\n",
       "      <td>0.0</td>\n",
       "      <td>26.0</td>\n",
       "      <td>...</td>\n",
       "      <td>0</td>\n",
       "      <td>1</td>\n",
       "      <td>0</td>\n",
       "      <td>0</td>\n",
       "      <td>0</td>\n",
       "      <td>1</td>\n",
       "      <td>0</td>\n",
       "      <td>0</td>\n",
       "      <td>0</td>\n",
       "      <td>1</td>\n",
       "    </tr>\n",
       "    <tr>\n",
       "      <th>...</th>\n",
       "      <td>...</td>\n",
       "      <td>...</td>\n",
       "      <td>...</td>\n",
       "      <td>...</td>\n",
       "      <td>...</td>\n",
       "      <td>...</td>\n",
       "      <td>...</td>\n",
       "      <td>...</td>\n",
       "      <td>...</td>\n",
       "      <td>...</td>\n",
       "      <td>...</td>\n",
       "      <td>...</td>\n",
       "      <td>...</td>\n",
       "      <td>...</td>\n",
       "      <td>...</td>\n",
       "      <td>...</td>\n",
       "      <td>...</td>\n",
       "      <td>...</td>\n",
       "      <td>...</td>\n",
       "      <td>...</td>\n",
       "      <td>...</td>\n",
       "    </tr>\n",
       "    <tr>\n",
       "      <th>717</th>\n",
       "      <td>18.0</td>\n",
       "      <td>25.0</td>\n",
       "      <td>98.443</td>\n",
       "      <td>0.0</td>\n",
       "      <td>7.947119</td>\n",
       "      <td>21.8705</td>\n",
       "      <td>2.0</td>\n",
       "      <td>24.0</td>\n",
       "      <td>0.0</td>\n",
       "      <td>30.0</td>\n",
       "      <td>...</td>\n",
       "      <td>0</td>\n",
       "      <td>0</td>\n",
       "      <td>0</td>\n",
       "      <td>0</td>\n",
       "      <td>1</td>\n",
       "      <td>0</td>\n",
       "      <td>1</td>\n",
       "      <td>0</td>\n",
       "      <td>0</td>\n",
       "      <td>0</td>\n",
       "    </tr>\n",
       "    <tr>\n",
       "      <th>718</th>\n",
       "      <td>16.0</td>\n",
       "      <td>21.0</td>\n",
       "      <td>98.045</td>\n",
       "      <td>0.0</td>\n",
       "      <td>8.040811</td>\n",
       "      <td>22.0850</td>\n",
       "      <td>1.0</td>\n",
       "      <td>44.0</td>\n",
       "      <td>0.0</td>\n",
       "      <td>10.0</td>\n",
       "      <td>...</td>\n",
       "      <td>0</td>\n",
       "      <td>0</td>\n",
       "      <td>0</td>\n",
       "      <td>0</td>\n",
       "      <td>1</td>\n",
       "      <td>0</td>\n",
       "      <td>1</td>\n",
       "      <td>0</td>\n",
       "      <td>0</td>\n",
       "      <td>0</td>\n",
       "    </tr>\n",
       "    <tr>\n",
       "      <th>719</th>\n",
       "      <td>15.0</td>\n",
       "      <td>41.0</td>\n",
       "      <td>97.555</td>\n",
       "      <td>0.0</td>\n",
       "      <td>8.160983</td>\n",
       "      <td>22.0120</td>\n",
       "      <td>1.0</td>\n",
       "      <td>44.0</td>\n",
       "      <td>0.0</td>\n",
       "      <td>10.0</td>\n",
       "      <td>...</td>\n",
       "      <td>0</td>\n",
       "      <td>0</td>\n",
       "      <td>0</td>\n",
       "      <td>0</td>\n",
       "      <td>0</td>\n",
       "      <td>0</td>\n",
       "      <td>0</td>\n",
       "      <td>0</td>\n",
       "      <td>0</td>\n",
       "      <td>0</td>\n",
       "    </tr>\n",
       "    <tr>\n",
       "      <th>720</th>\n",
       "      <td>2.0</td>\n",
       "      <td>31.0</td>\n",
       "      <td>95.271</td>\n",
       "      <td>0.0</td>\n",
       "      <td>3.679513</td>\n",
       "      <td>21.5870</td>\n",
       "      <td>1.0</td>\n",
       "      <td>45.0</td>\n",
       "      <td>0.0</td>\n",
       "      <td>10.0</td>\n",
       "      <td>...</td>\n",
       "      <td>0</td>\n",
       "      <td>0</td>\n",
       "      <td>0</td>\n",
       "      <td>0</td>\n",
       "      <td>0</td>\n",
       "      <td>0</td>\n",
       "      <td>1</td>\n",
       "      <td>0</td>\n",
       "      <td>0</td>\n",
       "      <td>0</td>\n",
       "    </tr>\n",
       "    <tr>\n",
       "      <th>721</th>\n",
       "      <td>14.0</td>\n",
       "      <td>26.0</td>\n",
       "      <td>97.066</td>\n",
       "      <td>0.0</td>\n",
       "      <td>10.390898</td>\n",
       "      <td>21.4800</td>\n",
       "      <td>1.0</td>\n",
       "      <td>27.0</td>\n",
       "      <td>0.0</td>\n",
       "      <td>27.0</td>\n",
       "      <td>...</td>\n",
       "      <td>0</td>\n",
       "      <td>0</td>\n",
       "      <td>0</td>\n",
       "      <td>0</td>\n",
       "      <td>0</td>\n",
       "      <td>0</td>\n",
       "      <td>0</td>\n",
       "      <td>0</td>\n",
       "      <td>0</td>\n",
       "      <td>0</td>\n",
       "    </tr>\n",
       "  </tbody>\n",
       "</table>\n",
       "<p>154 rows × 39 columns</p>\n",
       "</div>"
      ],
      "text/plain": [
       "     GridPosition  AgeAtGP  BestQualiTime  FLap  SDLapTime  AvgPitTime  \\\n",
       "568           9.0     24.0         93.000   0.0   4.414441     29.5895   \n",
       "569           4.0     30.0         92.317   0.0   3.598099     29.6020   \n",
       "570          10.0     22.0         93.239   0.0   3.308658     30.2610   \n",
       "571          18.0     28.0         94.681   0.0   3.643243     30.1880   \n",
       "572          15.0     24.0         93.008   0.0   3.737778     30.1610   \n",
       "..            ...      ...            ...   ...        ...         ...   \n",
       "717          18.0     25.0         98.443   0.0   7.947119     21.8705   \n",
       "718          16.0     21.0         98.045   0.0   8.040811     22.0850   \n",
       "719          15.0     41.0         97.555   0.0   8.160983     22.0120   \n",
       "720           2.0     31.0         95.271   0.0   3.679513     21.5870   \n",
       "721          14.0     26.0         97.066   0.0  10.390898     21.4800   \n",
       "\n",
       "     PitstopNo  HARD  INTERMEDIATE  MEDIUM  ...  TeamName_RacingPoint  \\\n",
       "568        2.0  24.0           0.0    11.0  ...                     0   \n",
       "569        1.0  33.0           0.0     0.0  ...                     1   \n",
       "570        1.0  25.0           0.0    28.0  ...                     0   \n",
       "571        1.0  33.0           0.0    19.0  ...                     0   \n",
       "572        2.0  26.0           0.0    26.0  ...                     0   \n",
       "..         ...   ...           ...     ...  ...                   ...   \n",
       "717        2.0  24.0           0.0    30.0  ...                     0   \n",
       "718        1.0  44.0           0.0    10.0  ...                     0   \n",
       "719        1.0  44.0           0.0    10.0  ...                     0   \n",
       "720        1.0  45.0           0.0    10.0  ...                     0   \n",
       "721        1.0  27.0           0.0    27.0  ...                     0   \n",
       "\n",
       "     TeamName_RedBullRacing  TeamName_Renault  TeamName_ToroRosso  \\\n",
       "568                       0                 0                   0   \n",
       "569                       0                 0                   0   \n",
       "570                       0                 0                   0   \n",
       "571                       0                 0                   0   \n",
       "572                       1                 0                   0   \n",
       "..                      ...               ...                 ...   \n",
       "717                       0                 0                   0   \n",
       "718                       0                 0                   0   \n",
       "719                       0                 0                   0   \n",
       "720                       0                 0                   0   \n",
       "721                       0                 0                   0   \n",
       "\n",
       "     TeamName_Williams  Engine_Honda  Engine_Mercedes  Engine_RedBull  \\\n",
       "568                  0             0                0               0   \n",
       "569                  0             0                1               0   \n",
       "570                  0             0                0               0   \n",
       "571                  0             0                0               0   \n",
       "572                  0             1                0               0   \n",
       "..                 ...           ...              ...             ...   \n",
       "717                  1             0                1               0   \n",
       "718                  1             0                1               0   \n",
       "719                  0             0                0               0   \n",
       "720                  0             0                1               0   \n",
       "721                  0             0                0               0   \n",
       "\n",
       "     Engine_Renault  CircuitType_street  \n",
       "568               0                   1  \n",
       "569               0                   1  \n",
       "570               0                   1  \n",
       "571               0                   1  \n",
       "572               0                   1  \n",
       "..              ...                 ...  \n",
       "717               0                   0  \n",
       "718               0                   0  \n",
       "719               0                   0  \n",
       "720               0                   0  \n",
       "721               0                   0  \n",
       "\n",
       "[154 rows x 39 columns]"
      ]
     },
     "execution_count": 26,
     "metadata": {},
     "output_type": "execute_result"
    }
   ],
   "source": [
    "x_test"
   ]
  },
  {
   "cell_type": "code",
   "execution_count": 27,
   "metadata": {},
   "outputs": [],
   "source": [
    "y_pred = mrf.predict(x_test, Z_test, clusters_test)"
   ]
  },
  {
   "cell_type": "code",
   "execution_count": 28,
   "metadata": {},
   "outputs": [
    {
     "name": "stdout",
     "output_type": "stream",
     "text": [
      "Test MSE: 22.223789884044084\n",
      "Test RMSE: 4.7142114806236775\n",
      "Test MAE: 3.01737275980292\n",
      "Test R-squared: 0.5760407140938191\n"
     ]
    }
   ],
   "source": [
    "mse = mean_squared_error(Y_test, y_pred)\n",
    "rmse = np.sqrt(mse)\n",
    "mae = mean_absolute_error(Y_test, y_pred)\n",
    "r2 = r2_score(Y_test, y_pred)\n",
    "\n",
    "# Print the performance metrics\n",
    "print(\"Test MSE:\", mse)\n",
    "print(\"Test RMSE:\", rmse)\n",
    "print(\"Test MAE:\", mae)\n",
    "print(\"Test R-squared:\", r2)\n"
   ]
  },
  {
   "cell_type": "code",
   "execution_count": 29,
   "metadata": {},
   "outputs": [
    {
     "name": "stdout",
     "output_type": "stream",
     "text": [
      "     Y_test     y_pred\n",
      "568     2.0   2.136305\n",
      "569    12.0   9.310695\n",
      "570     8.0   2.411396\n",
      "571     0.0   0.183204\n",
      "572     1.0   8.703220\n",
      "..      ...        ...\n",
      "717     0.0  -0.195822\n",
      "718     0.0  -0.119904\n",
      "719     0.0  -0.185277\n",
      "720    18.0  20.447754\n",
      "721     0.0  -0.438783\n",
      "\n",
      "[154 rows x 2 columns]\n"
     ]
    }
   ],
   "source": [
    "data = {\"Y_test\": Y_test, \"y_pred\": y_pred}\n",
    "\n",
    "# Create the DataFrame\n",
    "dfplot = pd.DataFrame(data)\n",
    "\n",
    "# Print the DataFrame\n",
    "print(dfplot)"
   ]
  },
  {
   "cell_type": "code",
   "execution_count": 30,
   "metadata": {},
   "outputs": [
    {
     "data": {
      "application/vnd.plotly.v1+json": {
       "config": {
        "plotlyServerURL": "https://plot.ly"
       },
       "data": [
        {
         "hovertemplate": "Y_test=%{x}<br>y_pred=%{y}<extra></extra>",
         "legendgroup": "",
         "marker": {
          "color": "#636efa",
          "opacity": 0.65,
          "symbol": "circle"
         },
         "mode": "markers",
         "name": "",
         "orientation": "v",
         "showlegend": false,
         "type": "scatter",
         "x": [
          2,
          12,
          8,
          0,
          1,
          4,
          10,
          6,
          18,
          0,
          15,
          0,
          0,
          0,
          0,
          25,
          0,
          0,
          8,
          12,
          6,
          0,
          0,
          0,
          4,
          15,
          0,
          18,
          0,
          25,
          0,
          10,
          0,
          0,
          0,
          0,
          2,
          1,
          10,
          6,
          12,
          0,
          0,
          0,
          0,
          2,
          4,
          15,
          0,
          25,
          1,
          8,
          0,
          0,
          0,
          18,
          0,
          0,
          0,
          8,
          10,
          0,
          0,
          0,
          12,
          15,
          0,
          0,
          4,
          25,
          0,
          6,
          0,
          0,
          2,
          18,
          0,
          1,
          0,
          18,
          12,
          2,
          0,
          6,
          0,
          1,
          0,
          8,
          4,
          25,
          15,
          10,
          0,
          0,
          0,
          0,
          0,
          0,
          8,
          0,
          1,
          0,
          15,
          0,
          6,
          2,
          18,
          12,
          25,
          0,
          10,
          0,
          0,
          0,
          4,
          0,
          0,
          25,
          15,
          0,
          8,
          6,
          10,
          18,
          1,
          0,
          0,
          12,
          0,
          2,
          0,
          4,
          0,
          0,
          4,
          0,
          0,
          1,
          0,
          12,
          0,
          6,
          2,
          25,
          10,
          15,
          0,
          0,
          8,
          0,
          0,
          0,
          18,
          0
         ],
         "xaxis": "x",
         "y": [
          2.1363046169281006,
          9.310694694519043,
          2.411395788192749,
          0.18320371210575104,
          8.70322036743164,
          2.2629458904266357,
          5.10797119140625,
          5.483495712280273,
          18.159664154052734,
          2.210721254348755,
          17.095455169677734,
          0.3300531506538391,
          0.47814616560935974,
          0.19391876459121704,
          -0.15275460481643677,
          19.226665496826172,
          -0.23343922197818756,
          0.030842885375022888,
          1.600454330444336,
          5.451168060302734,
          11.731775283813477,
          1.7817704677581787,
          0.5234719514846802,
          1.7551145553588867,
          2.918055534362793,
          7.998534679412842,
          -0.4003613293170929,
          14.13322925567627,
          0.3041815161705017,
          18.288694381713867,
          2.6595072746276855,
          6.03822135925293,
          1.739572286605835,
          -0.0603945292532444,
          2.2549898624420166,
          0.44638702273368835,
          3.1884982585906982,
          1.543864369392395,
          4.731374740600586,
          7.151825428009033,
          11.373757362365723,
          -0.046156641095876694,
          0.17646357417106628,
          9.8055419921875,
          0.7824111580848694,
          1.2515002489089966,
          0.8412665128707886,
          17.10075569152832,
          4.338740825653076,
          24.552915573120117,
          -0.05964747071266174,
          5.848849296569824,
          -0.07777907699346542,
          0.12783803045749664,
          -0.010852894745767117,
          17.24867057800293,
          -0.23067188262939453,
          0.022361494600772858,
          -0.014084797352552414,
          3.999467134475708,
          7.055262088775635,
          3.3504528999328613,
          -0.03042771853506565,
          6.1303911209106445,
          7.920003414154053,
          6.604291915893555,
          -0.3169093132019043,
          -0.015161707997322083,
          8.967767715454102,
          15.446477890014648,
          2.937688112258911,
          4.663234233856201,
          0.3222486674785614,
          0.8700876832008362,
          0.9405406713485718,
          19.067615509033203,
          1.276655673980713,
          0.08017366379499435,
          0.9323031306266785,
          12.096746444702148,
          -0.11431128531694412,
          16.78773307800293,
          0.044048164039850235,
          10.079834938049316,
          0.28414541482925415,
          6.256313800811768,
          2.999028205871582,
          11.220492362976074,
          0.49421167373657227,
          12.942465782165527,
          -0.15140017867088318,
          0.3658898174762726,
          0.5493577122688293,
          0.7982439398765564,
          0.7628890872001648,
          11.490560531616211,
          -0.24678732454776764,
          -0.07064500451087952,
          5.480786323547363,
          5.970304012298584,
          0.4001859128475189,
          0.1359279602766037,
          9.201263427734375,
          0.5657995939254761,
          5.733074188232422,
          2.638550043106079,
          10.791701316833496,
          3.1934316158294678,
          22.652833938598633,
          0.6398136615753174,
          2.90132999420166,
          -0.02190004102885723,
          0.4957675337791443,
          0.2262180894613266,
          8.429072380065918,
          0.1482374221086502,
          5.949401378631592,
          6.543813228607178,
          5.034000873565674,
          2.5489792823791504,
          6.137020111083984,
          7.186988353729248,
          7.386074542999268,
          1.7467710971832275,
          4.001145839691162,
          2.5624401569366455,
          2.129925489425659,
          6.986915588378906,
          1.1779117584228516,
          13.579349517822266,
          1.460120677947998,
          9.699662208557129,
          1.2650295495986938,
          0.9563605785369873,
          2.7800638675689697,
          0.22898676991462708,
          0.7836447358131409,
          4.6800689697265625,
          -0.42356812953948975,
          7.1993818283081055,
          4.0279412269592285,
          2.023202896118164,
          1.8823350667953491,
          20.61676025390625,
          12.066755294799805,
          23.74932289123535,
          0.6813077926635742,
          -0.1679394394159317,
          4.247247219085693,
          -0.19582176208496094,
          -0.11990410089492798,
          -0.18527661263942719,
          20.44775390625,
          -0.43878254294395447
         ],
         "yaxis": "y"
        },
        {
         "hovertemplate": "<b>OLS trendline</b><br>y_pred = 0.620795 * Y_test + 1.47245<br>R<sup>2</sup>=0.583523<br><br>Y_test=%{x}<br>y_pred=%{y} <b>(trend)</b><extra></extra>",
         "legendgroup": "",
         "line": {
          "color": "darkblue"
         },
         "marker": {
          "color": "#636efa",
          "symbol": "circle"
         },
         "mode": "lines",
         "name": "",
         "showlegend": false,
         "type": "scatter",
         "x": [
          0,
          0,
          0,
          0,
          0,
          0,
          0,
          0,
          0,
          0,
          0,
          0,
          0,
          0,
          0,
          0,
          0,
          0,
          0,
          0,
          0,
          0,
          0,
          0,
          0,
          0,
          0,
          0,
          0,
          0,
          0,
          0,
          0,
          0,
          0,
          0,
          0,
          0,
          0,
          0,
          0,
          0,
          0,
          0,
          0,
          0,
          0,
          0,
          0,
          0,
          0,
          0,
          0,
          0,
          0,
          0,
          0,
          0,
          0,
          0,
          0,
          0,
          0,
          0,
          0,
          0,
          0,
          0,
          0,
          0,
          0,
          0,
          0,
          0,
          1,
          1,
          1,
          1,
          1,
          1,
          1,
          1,
          2,
          2,
          2,
          2,
          2,
          2,
          2,
          2,
          4,
          4,
          4,
          4,
          4,
          4,
          4,
          4,
          6,
          6,
          6,
          6,
          6,
          6,
          6,
          6,
          8,
          8,
          8,
          8,
          8,
          8,
          8,
          8,
          10,
          10,
          10,
          10,
          10,
          10,
          10,
          10,
          12,
          12,
          12,
          12,
          12,
          12,
          12,
          12,
          15,
          15,
          15,
          15,
          15,
          15,
          15,
          15,
          18,
          18,
          18,
          18,
          18,
          18,
          18,
          18,
          25,
          25,
          25,
          25,
          25,
          25,
          25,
          25
         ],
         "xaxis": "x",
         "y": [
          1.472447684021466,
          1.472447684021466,
          1.472447684021466,
          1.472447684021466,
          1.472447684021466,
          1.472447684021466,
          1.472447684021466,
          1.472447684021466,
          1.472447684021466,
          1.472447684021466,
          1.472447684021466,
          1.472447684021466,
          1.472447684021466,
          1.472447684021466,
          1.472447684021466,
          1.472447684021466,
          1.472447684021466,
          1.472447684021466,
          1.472447684021466,
          1.472447684021466,
          1.472447684021466,
          1.472447684021466,
          1.472447684021466,
          1.472447684021466,
          1.472447684021466,
          1.472447684021466,
          1.472447684021466,
          1.472447684021466,
          1.472447684021466,
          1.472447684021466,
          1.472447684021466,
          1.472447684021466,
          1.472447684021466,
          1.472447684021466,
          1.472447684021466,
          1.472447684021466,
          1.472447684021466,
          1.472447684021466,
          1.472447684021466,
          1.472447684021466,
          1.472447684021466,
          1.472447684021466,
          1.472447684021466,
          1.472447684021466,
          1.472447684021466,
          1.472447684021466,
          1.472447684021466,
          1.472447684021466,
          1.472447684021466,
          1.472447684021466,
          1.472447684021466,
          1.472447684021466,
          1.472447684021466,
          1.472447684021466,
          1.472447684021466,
          1.472447684021466,
          1.472447684021466,
          1.472447684021466,
          1.472447684021466,
          1.472447684021466,
          1.472447684021466,
          1.472447684021466,
          1.472447684021466,
          1.472447684021466,
          1.472447684021466,
          1.472447684021466,
          1.472447684021466,
          1.472447684021466,
          1.472447684021466,
          1.472447684021466,
          1.472447684021466,
          1.472447684021466,
          1.472447684021466,
          1.472447684021466,
          2.0932424165314276,
          2.0932424165314276,
          2.0932424165314276,
          2.0932424165314276,
          2.0932424165314276,
          2.0932424165314276,
          2.0932424165314276,
          2.0932424165314276,
          2.7140371490413893,
          2.7140371490413893,
          2.7140371490413893,
          2.7140371490413893,
          2.7140371490413893,
          2.7140371490413893,
          2.7140371490413893,
          2.7140371490413893,
          3.9556266140613126,
          3.9556266140613126,
          3.9556266140613126,
          3.9556266140613126,
          3.9556266140613126,
          3.9556266140613126,
          3.9556266140613126,
          3.9556266140613126,
          5.197216079081236,
          5.197216079081236,
          5.197216079081236,
          5.197216079081236,
          5.197216079081236,
          5.197216079081236,
          5.197216079081236,
          5.197216079081236,
          6.438805544101159,
          6.438805544101159,
          6.438805544101159,
          6.438805544101159,
          6.438805544101159,
          6.438805544101159,
          6.438805544101159,
          6.438805544101159,
          7.680395009121082,
          7.680395009121082,
          7.680395009121082,
          7.680395009121082,
          7.680395009121082,
          7.680395009121082,
          7.680395009121082,
          7.680395009121082,
          8.921984474141006,
          8.921984474141006,
          8.921984474141006,
          8.921984474141006,
          8.921984474141006,
          8.921984474141006,
          8.921984474141006,
          8.921984474141006,
          10.78436867167089,
          10.78436867167089,
          10.78436867167089,
          10.78436867167089,
          10.78436867167089,
          10.78436867167089,
          10.78436867167089,
          10.78436867167089,
          12.646752869200776,
          12.646752869200776,
          12.646752869200776,
          12.646752869200776,
          12.646752869200776,
          12.646752869200776,
          12.646752869200776,
          12.646752869200776,
          16.992315996770508,
          16.992315996770508,
          16.992315996770508,
          16.992315996770508,
          16.992315996770508,
          16.992315996770508,
          16.992315996770508,
          16.992315996770508
         ],
         "yaxis": "y"
        }
       ],
       "layout": {
        "height": 400,
        "legend": {
         "tracegroupgap": 0
        },
        "margin": {
         "t": 60
        },
        "template": {
         "data": {
          "bar": [
           {
            "error_x": {
             "color": "#2a3f5f"
            },
            "error_y": {
             "color": "#2a3f5f"
            },
            "marker": {
             "line": {
              "color": "#E5ECF6",
              "width": 0.5
             },
             "pattern": {
              "fillmode": "overlay",
              "size": 10,
              "solidity": 0.2
             }
            },
            "type": "bar"
           }
          ],
          "barpolar": [
           {
            "marker": {
             "line": {
              "color": "#E5ECF6",
              "width": 0.5
             },
             "pattern": {
              "fillmode": "overlay",
              "size": 10,
              "solidity": 0.2
             }
            },
            "type": "barpolar"
           }
          ],
          "carpet": [
           {
            "aaxis": {
             "endlinecolor": "#2a3f5f",
             "gridcolor": "white",
             "linecolor": "white",
             "minorgridcolor": "white",
             "startlinecolor": "#2a3f5f"
            },
            "baxis": {
             "endlinecolor": "#2a3f5f",
             "gridcolor": "white",
             "linecolor": "white",
             "minorgridcolor": "white",
             "startlinecolor": "#2a3f5f"
            },
            "type": "carpet"
           }
          ],
          "choropleth": [
           {
            "colorbar": {
             "outlinewidth": 0,
             "ticks": ""
            },
            "type": "choropleth"
           }
          ],
          "contour": [
           {
            "colorbar": {
             "outlinewidth": 0,
             "ticks": ""
            },
            "colorscale": [
             [
              0,
              "#0d0887"
             ],
             [
              0.1111111111111111,
              "#46039f"
             ],
             [
              0.2222222222222222,
              "#7201a8"
             ],
             [
              0.3333333333333333,
              "#9c179e"
             ],
             [
              0.4444444444444444,
              "#bd3786"
             ],
             [
              0.5555555555555556,
              "#d8576b"
             ],
             [
              0.6666666666666666,
              "#ed7953"
             ],
             [
              0.7777777777777778,
              "#fb9f3a"
             ],
             [
              0.8888888888888888,
              "#fdca26"
             ],
             [
              1,
              "#f0f921"
             ]
            ],
            "type": "contour"
           }
          ],
          "contourcarpet": [
           {
            "colorbar": {
             "outlinewidth": 0,
             "ticks": ""
            },
            "type": "contourcarpet"
           }
          ],
          "heatmap": [
           {
            "colorbar": {
             "outlinewidth": 0,
             "ticks": ""
            },
            "colorscale": [
             [
              0,
              "#0d0887"
             ],
             [
              0.1111111111111111,
              "#46039f"
             ],
             [
              0.2222222222222222,
              "#7201a8"
             ],
             [
              0.3333333333333333,
              "#9c179e"
             ],
             [
              0.4444444444444444,
              "#bd3786"
             ],
             [
              0.5555555555555556,
              "#d8576b"
             ],
             [
              0.6666666666666666,
              "#ed7953"
             ],
             [
              0.7777777777777778,
              "#fb9f3a"
             ],
             [
              0.8888888888888888,
              "#fdca26"
             ],
             [
              1,
              "#f0f921"
             ]
            ],
            "type": "heatmap"
           }
          ],
          "heatmapgl": [
           {
            "colorbar": {
             "outlinewidth": 0,
             "ticks": ""
            },
            "colorscale": [
             [
              0,
              "#0d0887"
             ],
             [
              0.1111111111111111,
              "#46039f"
             ],
             [
              0.2222222222222222,
              "#7201a8"
             ],
             [
              0.3333333333333333,
              "#9c179e"
             ],
             [
              0.4444444444444444,
              "#bd3786"
             ],
             [
              0.5555555555555556,
              "#d8576b"
             ],
             [
              0.6666666666666666,
              "#ed7953"
             ],
             [
              0.7777777777777778,
              "#fb9f3a"
             ],
             [
              0.8888888888888888,
              "#fdca26"
             ],
             [
              1,
              "#f0f921"
             ]
            ],
            "type": "heatmapgl"
           }
          ],
          "histogram": [
           {
            "marker": {
             "pattern": {
              "fillmode": "overlay",
              "size": 10,
              "solidity": 0.2
             }
            },
            "type": "histogram"
           }
          ],
          "histogram2d": [
           {
            "colorbar": {
             "outlinewidth": 0,
             "ticks": ""
            },
            "colorscale": [
             [
              0,
              "#0d0887"
             ],
             [
              0.1111111111111111,
              "#46039f"
             ],
             [
              0.2222222222222222,
              "#7201a8"
             ],
             [
              0.3333333333333333,
              "#9c179e"
             ],
             [
              0.4444444444444444,
              "#bd3786"
             ],
             [
              0.5555555555555556,
              "#d8576b"
             ],
             [
              0.6666666666666666,
              "#ed7953"
             ],
             [
              0.7777777777777778,
              "#fb9f3a"
             ],
             [
              0.8888888888888888,
              "#fdca26"
             ],
             [
              1,
              "#f0f921"
             ]
            ],
            "type": "histogram2d"
           }
          ],
          "histogram2dcontour": [
           {
            "colorbar": {
             "outlinewidth": 0,
             "ticks": ""
            },
            "colorscale": [
             [
              0,
              "#0d0887"
             ],
             [
              0.1111111111111111,
              "#46039f"
             ],
             [
              0.2222222222222222,
              "#7201a8"
             ],
             [
              0.3333333333333333,
              "#9c179e"
             ],
             [
              0.4444444444444444,
              "#bd3786"
             ],
             [
              0.5555555555555556,
              "#d8576b"
             ],
             [
              0.6666666666666666,
              "#ed7953"
             ],
             [
              0.7777777777777778,
              "#fb9f3a"
             ],
             [
              0.8888888888888888,
              "#fdca26"
             ],
             [
              1,
              "#f0f921"
             ]
            ],
            "type": "histogram2dcontour"
           }
          ],
          "mesh3d": [
           {
            "colorbar": {
             "outlinewidth": 0,
             "ticks": ""
            },
            "type": "mesh3d"
           }
          ],
          "parcoords": [
           {
            "line": {
             "colorbar": {
              "outlinewidth": 0,
              "ticks": ""
             }
            },
            "type": "parcoords"
           }
          ],
          "pie": [
           {
            "automargin": true,
            "type": "pie"
           }
          ],
          "scatter": [
           {
            "fillpattern": {
             "fillmode": "overlay",
             "size": 10,
             "solidity": 0.2
            },
            "type": "scatter"
           }
          ],
          "scatter3d": [
           {
            "line": {
             "colorbar": {
              "outlinewidth": 0,
              "ticks": ""
             }
            },
            "marker": {
             "colorbar": {
              "outlinewidth": 0,
              "ticks": ""
             }
            },
            "type": "scatter3d"
           }
          ],
          "scattercarpet": [
           {
            "marker": {
             "colorbar": {
              "outlinewidth": 0,
              "ticks": ""
             }
            },
            "type": "scattercarpet"
           }
          ],
          "scattergeo": [
           {
            "marker": {
             "colorbar": {
              "outlinewidth": 0,
              "ticks": ""
             }
            },
            "type": "scattergeo"
           }
          ],
          "scattergl": [
           {
            "marker": {
             "colorbar": {
              "outlinewidth": 0,
              "ticks": ""
             }
            },
            "type": "scattergl"
           }
          ],
          "scattermapbox": [
           {
            "marker": {
             "colorbar": {
              "outlinewidth": 0,
              "ticks": ""
             }
            },
            "type": "scattermapbox"
           }
          ],
          "scatterpolar": [
           {
            "marker": {
             "colorbar": {
              "outlinewidth": 0,
              "ticks": ""
             }
            },
            "type": "scatterpolar"
           }
          ],
          "scatterpolargl": [
           {
            "marker": {
             "colorbar": {
              "outlinewidth": 0,
              "ticks": ""
             }
            },
            "type": "scatterpolargl"
           }
          ],
          "scatterternary": [
           {
            "marker": {
             "colorbar": {
              "outlinewidth": 0,
              "ticks": ""
             }
            },
            "type": "scatterternary"
           }
          ],
          "surface": [
           {
            "colorbar": {
             "outlinewidth": 0,
             "ticks": ""
            },
            "colorscale": [
             [
              0,
              "#0d0887"
             ],
             [
              0.1111111111111111,
              "#46039f"
             ],
             [
              0.2222222222222222,
              "#7201a8"
             ],
             [
              0.3333333333333333,
              "#9c179e"
             ],
             [
              0.4444444444444444,
              "#bd3786"
             ],
             [
              0.5555555555555556,
              "#d8576b"
             ],
             [
              0.6666666666666666,
              "#ed7953"
             ],
             [
              0.7777777777777778,
              "#fb9f3a"
             ],
             [
              0.8888888888888888,
              "#fdca26"
             ],
             [
              1,
              "#f0f921"
             ]
            ],
            "type": "surface"
           }
          ],
          "table": [
           {
            "cells": {
             "fill": {
              "color": "#EBF0F8"
             },
             "line": {
              "color": "white"
             }
            },
            "header": {
             "fill": {
              "color": "#C8D4E3"
             },
             "line": {
              "color": "white"
             }
            },
            "type": "table"
           }
          ]
         },
         "layout": {
          "annotationdefaults": {
           "arrowcolor": "#2a3f5f",
           "arrowhead": 0,
           "arrowwidth": 1
          },
          "autotypenumbers": "strict",
          "coloraxis": {
           "colorbar": {
            "outlinewidth": 0,
            "ticks": ""
           }
          },
          "colorscale": {
           "diverging": [
            [
             0,
             "#8e0152"
            ],
            [
             0.1,
             "#c51b7d"
            ],
            [
             0.2,
             "#de77ae"
            ],
            [
             0.3,
             "#f1b6da"
            ],
            [
             0.4,
             "#fde0ef"
            ],
            [
             0.5,
             "#f7f7f7"
            ],
            [
             0.6,
             "#e6f5d0"
            ],
            [
             0.7,
             "#b8e186"
            ],
            [
             0.8,
             "#7fbc41"
            ],
            [
             0.9,
             "#4d9221"
            ],
            [
             1,
             "#276419"
            ]
           ],
           "sequential": [
            [
             0,
             "#0d0887"
            ],
            [
             0.1111111111111111,
             "#46039f"
            ],
            [
             0.2222222222222222,
             "#7201a8"
            ],
            [
             0.3333333333333333,
             "#9c179e"
            ],
            [
             0.4444444444444444,
             "#bd3786"
            ],
            [
             0.5555555555555556,
             "#d8576b"
            ],
            [
             0.6666666666666666,
             "#ed7953"
            ],
            [
             0.7777777777777778,
             "#fb9f3a"
            ],
            [
             0.8888888888888888,
             "#fdca26"
            ],
            [
             1,
             "#f0f921"
            ]
           ],
           "sequentialminus": [
            [
             0,
             "#0d0887"
            ],
            [
             0.1111111111111111,
             "#46039f"
            ],
            [
             0.2222222222222222,
             "#7201a8"
            ],
            [
             0.3333333333333333,
             "#9c179e"
            ],
            [
             0.4444444444444444,
             "#bd3786"
            ],
            [
             0.5555555555555556,
             "#d8576b"
            ],
            [
             0.6666666666666666,
             "#ed7953"
            ],
            [
             0.7777777777777778,
             "#fb9f3a"
            ],
            [
             0.8888888888888888,
             "#fdca26"
            ],
            [
             1,
             "#f0f921"
            ]
           ]
          },
          "colorway": [
           "#636efa",
           "#EF553B",
           "#00cc96",
           "#ab63fa",
           "#FFA15A",
           "#19d3f3",
           "#FF6692",
           "#B6E880",
           "#FF97FF",
           "#FECB52"
          ],
          "font": {
           "color": "#2a3f5f"
          },
          "geo": {
           "bgcolor": "white",
           "lakecolor": "white",
           "landcolor": "#E5ECF6",
           "showlakes": true,
           "showland": true,
           "subunitcolor": "white"
          },
          "hoverlabel": {
           "align": "left"
          },
          "hovermode": "closest",
          "mapbox": {
           "style": "light"
          },
          "paper_bgcolor": "white",
          "plot_bgcolor": "#E5ECF6",
          "polar": {
           "angularaxis": {
            "gridcolor": "white",
            "linecolor": "white",
            "ticks": ""
           },
           "bgcolor": "#E5ECF6",
           "radialaxis": {
            "gridcolor": "white",
            "linecolor": "white",
            "ticks": ""
           }
          },
          "scene": {
           "xaxis": {
            "backgroundcolor": "#E5ECF6",
            "gridcolor": "white",
            "gridwidth": 2,
            "linecolor": "white",
            "showbackground": true,
            "ticks": "",
            "zerolinecolor": "white"
           },
           "yaxis": {
            "backgroundcolor": "#E5ECF6",
            "gridcolor": "white",
            "gridwidth": 2,
            "linecolor": "white",
            "showbackground": true,
            "ticks": "",
            "zerolinecolor": "white"
           },
           "zaxis": {
            "backgroundcolor": "#E5ECF6",
            "gridcolor": "white",
            "gridwidth": 2,
            "linecolor": "white",
            "showbackground": true,
            "ticks": "",
            "zerolinecolor": "white"
           }
          },
          "shapedefaults": {
           "line": {
            "color": "#2a3f5f"
           }
          },
          "ternary": {
           "aaxis": {
            "gridcolor": "white",
            "linecolor": "white",
            "ticks": ""
           },
           "baxis": {
            "gridcolor": "white",
            "linecolor": "white",
            "ticks": ""
           },
           "bgcolor": "#E5ECF6",
           "caxis": {
            "gridcolor": "white",
            "linecolor": "white",
            "ticks": ""
           }
          },
          "title": {
           "x": 0.05
          },
          "xaxis": {
           "automargin": true,
           "gridcolor": "white",
           "linecolor": "white",
           "ticks": "",
           "title": {
            "standoff": 15
           },
           "zerolinecolor": "white",
           "zerolinewidth": 2
          },
          "yaxis": {
           "automargin": true,
           "gridcolor": "white",
           "linecolor": "white",
           "ticks": "",
           "title": {
            "standoff": 15
           },
           "zerolinecolor": "white",
           "zerolinewidth": 2
          }
         }
        },
        "width": 550,
        "xaxis": {
         "anchor": "y",
         "domain": [
          0,
          1
         ],
         "title": {
          "text": "Y_test"
         }
        },
        "yaxis": {
         "anchor": "x",
         "domain": [
          0,
          1
         ],
         "title": {
          "text": "y_pred"
         }
        }
       }
      }
     },
     "metadata": {},
     "output_type": "display_data"
    }
   ],
   "source": [
    "import plotly.express as px\n",
    "\n",
    "\n",
    "\n",
    "fig = px.scatter(\n",
    "    dfplot, x='Y_test', y='y_pred', opacity=0.65,\n",
    "    trendline='ols', trendline_color_override='darkblue',\n",
    "    width=550, height=400\n",
    "    \n",
    ")\n",
    "fig.show()"
   ]
  },
  {
   "cell_type": "code",
   "execution_count": 31,
   "metadata": {},
   "outputs": [
    {
     "name": "stdout",
     "output_type": "stream",
     "text": [
      "                     Feature  Importance\n",
      "0                   carIssue    0.292619\n",
      "1                driverIssue    0.265181\n",
      "2               GridPosition    0.067130\n",
      "3     TeamName_RedBullRacing    0.053025\n",
      "4          TeamName_Mercedes    0.044983\n",
      "5        TeamName_HaasF1Team    0.040312\n",
      "6               INTERMEDIATE    0.035969\n",
      "7       TeamName_RacingPoint    0.023159\n",
      "8             Engine_Renault    0.022722\n",
      "9                      Brake    0.018041\n",
      "10          TeamName_McLaren    0.017095\n",
      "11                 PitstopNo    0.016563\n",
      "12  TeamName_AlfaRomeoRacing    0.013401\n",
      "13                      SOFT    0.013337\n",
      "14          TeamName_Ferrari    0.012296\n",
      "15                  MaxSpeed    0.011471\n",
      "16                    MEDIUM    0.006857\n",
      "17            MaxThrottlePct    0.005848\n",
      "18                 SDLapTime    0.005528\n",
      "19                AvgPitTime    0.004783\n",
      "20                    MaxRPM    0.004552\n",
      "21              AverageSpeed    0.003892\n",
      "22                      HARD    0.003826\n",
      "23             BestQualiTime    0.003791\n",
      "24                      FLap    0.003684\n",
      "25                   AgeAtGP    0.003333\n",
      "26           AverageThrottle    0.002909\n",
      "27        CircuitType_street    0.001484\n",
      "28          TeamName_Renault    0.000630\n",
      "29           Engine_Mercedes    0.000629\n",
      "30              Engine_Honda    0.000268\n",
      "31         TeamName_Williams    0.000214\n",
      "32                      Rain    0.000187\n",
      "33        TeamName_ToroRosso    0.000147\n",
      "34       TeamName_AlphaTauri    0.000090\n",
      "35                       WET    0.000042\n",
      "36      TeamName_AstonMartin    0.000000\n",
      "37           TeamName_Alpine    0.000000\n",
      "38            Engine_RedBull    0.000000\n"
     ]
    }
   ],
   "source": [
    "importance = mrf.trained_fe_model.feature_importances_\n",
    "\n",
    "importance_df_before = pd.DataFrame({'Feature': x_train.columns, 'Importance': importance})\n",
    "\n",
    "importance_df_before = importance_df_before.sort_values('Importance', ascending=False).reset_index(drop=True)\n",
    "print(importance_df_before)"
   ]
  },
  {
   "attachments": {},
   "cell_type": "markdown",
   "metadata": {},
   "source": [
    "## After model"
   ]
  },
  {
   "cell_type": "code",
   "execution_count": 32,
   "metadata": {},
   "outputs": [
    {
     "data": {
      "text/plain": [
       "722     38\n",
       "723     38\n",
       "724     38\n",
       "725     38\n",
       "726     38\n",
       "        ..\n",
       "1542    80\n",
       "1543    80\n",
       "1544    80\n",
       "1545    80\n",
       "1546    80\n",
       "Name: raceID, Length: 825, dtype: int64"
      ]
     },
     "execution_count": 32,
     "metadata": {},
     "output_type": "execute_result"
    }
   ],
   "source": [
    "df_after[\"raceID\"]"
   ]
  },
  {
   "cell_type": "code",
   "execution_count": 33,
   "metadata": {},
   "outputs": [
    {
     "data": {
      "text/html": [
       "<div>\n",
       "<style scoped>\n",
       "    .dataframe tbody tr th:only-of-type {\n",
       "        vertical-align: middle;\n",
       "    }\n",
       "\n",
       "    .dataframe tbody tr th {\n",
       "        vertical-align: top;\n",
       "    }\n",
       "\n",
       "    .dataframe thead th {\n",
       "        text-align: right;\n",
       "    }\n",
       "</style>\n",
       "<table border=\"1\" class=\"dataframe\">\n",
       "  <thead>\n",
       "    <tr style=\"text-align: right;\">\n",
       "      <th></th>\n",
       "      <th>Abbreviation</th>\n",
       "      <th>GridPosition</th>\n",
       "      <th>Points</th>\n",
       "      <th>RaceCountry</th>\n",
       "      <th>Year</th>\n",
       "      <th>AgeAtGP</th>\n",
       "      <th>BestQualiTime</th>\n",
       "      <th>FLap</th>\n",
       "      <th>SDLapTime</th>\n",
       "      <th>AvgPitTime</th>\n",
       "      <th>...</th>\n",
       "      <th>TeamName_RacingPoint</th>\n",
       "      <th>TeamName_RedBullRacing</th>\n",
       "      <th>TeamName_Renault</th>\n",
       "      <th>TeamName_ToroRosso</th>\n",
       "      <th>TeamName_Williams</th>\n",
       "      <th>Engine_Honda</th>\n",
       "      <th>Engine_Mercedes</th>\n",
       "      <th>Engine_RedBull</th>\n",
       "      <th>Engine_Renault</th>\n",
       "      <th>CircuitType_street</th>\n",
       "    </tr>\n",
       "  </thead>\n",
       "  <tbody>\n",
       "    <tr>\n",
       "      <th>722</th>\n",
       "      <td>GAS</td>\n",
       "      <td>5.0</td>\n",
       "      <td>0.0</td>\n",
       "      <td>Bahrain</td>\n",
       "      <td>2021.0</td>\n",
       "      <td>24.0</td>\n",
       "      <td>89.809</td>\n",
       "      <td>0.0</td>\n",
       "      <td>9.870618</td>\n",
       "      <td>29.212667</td>\n",
       "      <td>...</td>\n",
       "      <td>0</td>\n",
       "      <td>0</td>\n",
       "      <td>0</td>\n",
       "      <td>0</td>\n",
       "      <td>0</td>\n",
       "      <td>0</td>\n",
       "      <td>0</td>\n",
       "      <td>0</td>\n",
       "      <td>0</td>\n",
       "      <td>0</td>\n",
       "    </tr>\n",
       "    <tr>\n",
       "      <th>723</th>\n",
       "      <td>PER</td>\n",
       "      <td>20.0</td>\n",
       "      <td>10.0</td>\n",
       "      <td>Bahrain</td>\n",
       "      <td>2021.0</td>\n",
       "      <td>31.0</td>\n",
       "      <td>90.659</td>\n",
       "      <td>0.0</td>\n",
       "      <td>9.238201</td>\n",
       "      <td>24.096333</td>\n",
       "      <td>...</td>\n",
       "      <td>0</td>\n",
       "      <td>1</td>\n",
       "      <td>0</td>\n",
       "      <td>0</td>\n",
       "      <td>0</td>\n",
       "      <td>1</td>\n",
       "      <td>0</td>\n",
       "      <td>0</td>\n",
       "      <td>0</td>\n",
       "      <td>0</td>\n",
       "    </tr>\n",
       "    <tr>\n",
       "      <th>724</th>\n",
       "      <td>ALO</td>\n",
       "      <td>9.0</td>\n",
       "      <td>0.0</td>\n",
       "      <td>Bahrain</td>\n",
       "      <td>2021.0</td>\n",
       "      <td>39.0</td>\n",
       "      <td>90.249</td>\n",
       "      <td>0.0</td>\n",
       "      <td>9.050427</td>\n",
       "      <td>24.574000</td>\n",
       "      <td>...</td>\n",
       "      <td>0</td>\n",
       "      <td>0</td>\n",
       "      <td>0</td>\n",
       "      <td>0</td>\n",
       "      <td>0</td>\n",
       "      <td>0</td>\n",
       "      <td>0</td>\n",
       "      <td>0</td>\n",
       "      <td>1</td>\n",
       "      <td>0</td>\n",
       "    </tr>\n",
       "    <tr>\n",
       "      <th>725</th>\n",
       "      <td>LEC</td>\n",
       "      <td>4.0</td>\n",
       "      <td>8.0</td>\n",
       "      <td>Bahrain</td>\n",
       "      <td>2021.0</td>\n",
       "      <td>23.0</td>\n",
       "      <td>89.678</td>\n",
       "      <td>0.0</td>\n",
       "      <td>7.326363</td>\n",
       "      <td>24.550500</td>\n",
       "      <td>...</td>\n",
       "      <td>0</td>\n",
       "      <td>0</td>\n",
       "      <td>0</td>\n",
       "      <td>0</td>\n",
       "      <td>0</td>\n",
       "      <td>0</td>\n",
       "      <td>0</td>\n",
       "      <td>0</td>\n",
       "      <td>0</td>\n",
       "      <td>0</td>\n",
       "    </tr>\n",
       "    <tr>\n",
       "      <th>726</th>\n",
       "      <td>STR</td>\n",
       "      <td>10.0</td>\n",
       "      <td>1.0</td>\n",
       "      <td>Bahrain</td>\n",
       "      <td>2021.0</td>\n",
       "      <td>22.0</td>\n",
       "      <td>90.601</td>\n",
       "      <td>0.0</td>\n",
       "      <td>9.904268</td>\n",
       "      <td>25.204500</td>\n",
       "      <td>...</td>\n",
       "      <td>0</td>\n",
       "      <td>0</td>\n",
       "      <td>0</td>\n",
       "      <td>0</td>\n",
       "      <td>0</td>\n",
       "      <td>0</td>\n",
       "      <td>1</td>\n",
       "      <td>0</td>\n",
       "      <td>0</td>\n",
       "      <td>0</td>\n",
       "    </tr>\n",
       "    <tr>\n",
       "      <th>...</th>\n",
       "      <td>...</td>\n",
       "      <td>...</td>\n",
       "      <td>...</td>\n",
       "      <td>...</td>\n",
       "      <td>...</td>\n",
       "      <td>...</td>\n",
       "      <td>...</td>\n",
       "      <td>...</td>\n",
       "      <td>...</td>\n",
       "      <td>...</td>\n",
       "      <td>...</td>\n",
       "      <td>...</td>\n",
       "      <td>...</td>\n",
       "      <td>...</td>\n",
       "      <td>...</td>\n",
       "      <td>...</td>\n",
       "      <td>...</td>\n",
       "      <td>...</td>\n",
       "      <td>...</td>\n",
       "      <td>...</td>\n",
       "      <td>...</td>\n",
       "    </tr>\n",
       "    <tr>\n",
       "      <th>1542</th>\n",
       "      <td>VET</td>\n",
       "      <td>9.0</td>\n",
       "      <td>1.0</td>\n",
       "      <td>AbuDhabi</td>\n",
       "      <td>2022.0</td>\n",
       "      <td>35.0</td>\n",
       "      <td>84.961</td>\n",
       "      <td>0.0</td>\n",
       "      <td>3.057131</td>\n",
       "      <td>23.186000</td>\n",
       "      <td>...</td>\n",
       "      <td>0</td>\n",
       "      <td>0</td>\n",
       "      <td>0</td>\n",
       "      <td>0</td>\n",
       "      <td>0</td>\n",
       "      <td>0</td>\n",
       "      <td>1</td>\n",
       "      <td>0</td>\n",
       "      <td>0</td>\n",
       "      <td>0</td>\n",
       "    </tr>\n",
       "    <tr>\n",
       "      <th>1543</th>\n",
       "      <td>SAI</td>\n",
       "      <td>4.0</td>\n",
       "      <td>12.0</td>\n",
       "      <td>AbuDhabi</td>\n",
       "      <td>2022.0</td>\n",
       "      <td>28.0</td>\n",
       "      <td>84.242</td>\n",
       "      <td>0.0</td>\n",
       "      <td>3.799668</td>\n",
       "      <td>21.752500</td>\n",
       "      <td>...</td>\n",
       "      <td>0</td>\n",
       "      <td>0</td>\n",
       "      <td>0</td>\n",
       "      <td>0</td>\n",
       "      <td>0</td>\n",
       "      <td>0</td>\n",
       "      <td>0</td>\n",
       "      <td>0</td>\n",
       "      <td>0</td>\n",
       "      <td>0</td>\n",
       "    </tr>\n",
       "    <tr>\n",
       "      <th>1544</th>\n",
       "      <td>LAT</td>\n",
       "      <td>20.0</td>\n",
       "      <td>0.0</td>\n",
       "      <td>AbuDhabi</td>\n",
       "      <td>2022.0</td>\n",
       "      <td>27.0</td>\n",
       "      <td>86.054</td>\n",
       "      <td>0.0</td>\n",
       "      <td>6.817590</td>\n",
       "      <td>23.798500</td>\n",
       "      <td>...</td>\n",
       "      <td>0</td>\n",
       "      <td>0</td>\n",
       "      <td>0</td>\n",
       "      <td>0</td>\n",
       "      <td>1</td>\n",
       "      <td>0</td>\n",
       "      <td>1</td>\n",
       "      <td>0</td>\n",
       "      <td>0</td>\n",
       "      <td>0</td>\n",
       "    </tr>\n",
       "    <tr>\n",
       "      <th>1545</th>\n",
       "      <td>RUS</td>\n",
       "      <td>6.0</td>\n",
       "      <td>10.0</td>\n",
       "      <td>AbuDhabi</td>\n",
       "      <td>2022.0</td>\n",
       "      <td>23.0</td>\n",
       "      <td>84.511</td>\n",
       "      <td>0.0</td>\n",
       "      <td>4.489247</td>\n",
       "      <td>26.087000</td>\n",
       "      <td>...</td>\n",
       "      <td>0</td>\n",
       "      <td>0</td>\n",
       "      <td>0</td>\n",
       "      <td>0</td>\n",
       "      <td>0</td>\n",
       "      <td>0</td>\n",
       "      <td>1</td>\n",
       "      <td>0</td>\n",
       "      <td>0</td>\n",
       "      <td>0</td>\n",
       "    </tr>\n",
       "    <tr>\n",
       "      <th>1546</th>\n",
       "      <td>BOT</td>\n",
       "      <td>18.0</td>\n",
       "      <td>0.0</td>\n",
       "      <td>AbuDhabi</td>\n",
       "      <td>2022.0</td>\n",
       "      <td>33.0</td>\n",
       "      <td>85.892</td>\n",
       "      <td>0.0</td>\n",
       "      <td>3.036278</td>\n",
       "      <td>22.573000</td>\n",
       "      <td>...</td>\n",
       "      <td>0</td>\n",
       "      <td>0</td>\n",
       "      <td>0</td>\n",
       "      <td>0</td>\n",
       "      <td>0</td>\n",
       "      <td>0</td>\n",
       "      <td>0</td>\n",
       "      <td>0</td>\n",
       "      <td>0</td>\n",
       "      <td>0</td>\n",
       "    </tr>\n",
       "  </tbody>\n",
       "</table>\n",
       "<p>825 rows × 44 columns</p>\n",
       "</div>"
      ],
      "text/plain": [
       "     Abbreviation  GridPosition  Points RaceCountry    Year  AgeAtGP  \\\n",
       "722           GAS           5.0     0.0     Bahrain  2021.0     24.0   \n",
       "723           PER          20.0    10.0     Bahrain  2021.0     31.0   \n",
       "724           ALO           9.0     0.0     Bahrain  2021.0     39.0   \n",
       "725           LEC           4.0     8.0     Bahrain  2021.0     23.0   \n",
       "726           STR          10.0     1.0     Bahrain  2021.0     22.0   \n",
       "...           ...           ...     ...         ...     ...      ...   \n",
       "1542          VET           9.0     1.0    AbuDhabi  2022.0     35.0   \n",
       "1543          SAI           4.0    12.0    AbuDhabi  2022.0     28.0   \n",
       "1544          LAT          20.0     0.0    AbuDhabi  2022.0     27.0   \n",
       "1545          RUS           6.0    10.0    AbuDhabi  2022.0     23.0   \n",
       "1546          BOT          18.0     0.0    AbuDhabi  2022.0     33.0   \n",
       "\n",
       "      BestQualiTime  FLap  SDLapTime  AvgPitTime  ...  TeamName_RacingPoint  \\\n",
       "722          89.809   0.0   9.870618   29.212667  ...                     0   \n",
       "723          90.659   0.0   9.238201   24.096333  ...                     0   \n",
       "724          90.249   0.0   9.050427   24.574000  ...                     0   \n",
       "725          89.678   0.0   7.326363   24.550500  ...                     0   \n",
       "726          90.601   0.0   9.904268   25.204500  ...                     0   \n",
       "...             ...   ...        ...         ...  ...                   ...   \n",
       "1542         84.961   0.0   3.057131   23.186000  ...                     0   \n",
       "1543         84.242   0.0   3.799668   21.752500  ...                     0   \n",
       "1544         86.054   0.0   6.817590   23.798500  ...                     0   \n",
       "1545         84.511   0.0   4.489247   26.087000  ...                     0   \n",
       "1546         85.892   0.0   3.036278   22.573000  ...                     0   \n",
       "\n",
       "      TeamName_RedBullRacing  TeamName_Renault  TeamName_ToroRosso  \\\n",
       "722                        0                 0                   0   \n",
       "723                        1                 0                   0   \n",
       "724                        0                 0                   0   \n",
       "725                        0                 0                   0   \n",
       "726                        0                 0                   0   \n",
       "...                      ...               ...                 ...   \n",
       "1542                       0                 0                   0   \n",
       "1543                       0                 0                   0   \n",
       "1544                       0                 0                   0   \n",
       "1545                       0                 0                   0   \n",
       "1546                       0                 0                   0   \n",
       "\n",
       "      TeamName_Williams  Engine_Honda  Engine_Mercedes  Engine_RedBull  \\\n",
       "722                   0             0                0               0   \n",
       "723                   0             1                0               0   \n",
       "724                   0             0                0               0   \n",
       "725                   0             0                0               0   \n",
       "726                   0             0                1               0   \n",
       "...                 ...           ...              ...             ...   \n",
       "1542                  0             0                1               0   \n",
       "1543                  0             0                0               0   \n",
       "1544                  1             0                1               0   \n",
       "1545                  0             0                1               0   \n",
       "1546                  0             0                0               0   \n",
       "\n",
       "      Engine_Renault  CircuitType_street  \n",
       "722                0                   0  \n",
       "723                0                   0  \n",
       "724                1                   0  \n",
       "725                0                   0  \n",
       "726                0                   0  \n",
       "...              ...                 ...  \n",
       "1542               0                   0  \n",
       "1543               0                   0  \n",
       "1544               0                   0  \n",
       "1545               0                   0  \n",
       "1546               0                   0  \n",
       "\n",
       "[825 rows x 44 columns]"
      ]
     },
     "execution_count": 33,
     "metadata": {},
     "output_type": "execute_result"
    }
   ],
   "source": [
    "df_after"
   ]
  },
  {
   "cell_type": "code",
   "execution_count": 34,
   "metadata": {},
   "outputs": [],
   "source": [
    "# Split the data into train and test sets based on the raceID column\n",
    "train_df = df_after[(df_after['raceID'] >= 38) & (df_after['raceID'] <= 72)]\n",
    "test_df = df_after[(df_after['raceID'] >= 73) & (df_after['raceID'] <= 80)]"
   ]
  },
  {
   "cell_type": "code",
   "execution_count": 35,
   "metadata": {},
   "outputs": [],
   "source": [
    "X_train = train_df.drop('Points', axis=1)\n",
    "Y_train = train_df['Points']\n",
    "X_test = test_df.drop('Points', axis=1)\n",
    "Y_test = test_df['Points']"
   ]
  },
  {
   "cell_type": "code",
   "execution_count": 36,
   "metadata": {},
   "outputs": [],
   "source": [
    "X_train = X_train.drop('RaceCountry', axis=1)\n",
    "X_train = X_train.drop('Year', axis=1)\n",
    "X_test = X_test.drop('RaceCountry', axis=1)\n",
    "X_test = X_test.drop('Year', axis=1)"
   ]
  },
  {
   "cell_type": "code",
   "execution_count": 37,
   "metadata": {},
   "outputs": [],
   "source": [
    "x_train = X_train.drop(['Abbreviation', 'raceID'], axis = 1)\n",
    "Z_train = X_train[['raceID']]\n",
    "clusters_train = X_train['raceID']"
   ]
  },
  {
   "cell_type": "code",
   "execution_count": 38,
   "metadata": {},
   "outputs": [
    {
     "name": "stderr",
     "output_type": "stream",
     "text": [
      "INFO     [merf.py:307] Training GLL is -2347.464631674962 at iteration 1.\n",
      "INFO     [merf.py:307] Training GLL is -4375.735160031037 at iteration 2.\n",
      "INFO     [merf.py:307] Training GLL is -5269.977615079012 at iteration 3.\n",
      "INFO     [merf.py:307] Training GLL is -5455.436100938193 at iteration 4.\n",
      "INFO     [merf.py:307] Training GLL is -5347.266894456135 at iteration 5.\n",
      "INFO     [merf.py:307] Training GLL is -5275.112014669853 at iteration 6.\n",
      "INFO     [merf.py:307] Training GLL is -5129.744678084023 at iteration 7.\n",
      "INFO     [merf.py:307] Training GLL is -5097.595012798317 at iteration 8.\n",
      "INFO     [merf.py:307] Training GLL is -5033.559568479897 at iteration 9.\n",
      "INFO     [merf.py:307] Training GLL is -5437.538234341727 at iteration 10.\n",
      "INFO     [merf.py:307] Training GLL is -5293.973506286812 at iteration 11.\n",
      "INFO     [merf.py:307] Training GLL is -5286.794836054401 at iteration 12.\n",
      "INFO     [merf.py:307] Training GLL is -5916.858921943049 at iteration 13.\n",
      "INFO     [merf.py:307] Training GLL is -5290.406854554315 at iteration 14.\n",
      "INFO     [merf.py:307] Training GLL is -4899.145105113517 at iteration 15.\n",
      "INFO     [merf.py:307] Training GLL is -5360.360036811571 at iteration 16.\n",
      "INFO     [merf.py:307] Training GLL is -5496.141629012205 at iteration 17.\n",
      "INFO     [merf.py:307] Training GLL is -5400.045125192447 at iteration 18.\n",
      "INFO     [merf.py:307] Training GLL is -5542.835993016078 at iteration 19.\n",
      "INFO     [merf.py:307] Training GLL is -5626.110968220062 at iteration 20.\n",
      "INFO     [merf.py:307] Training GLL is -5396.181775321451 at iteration 21.\n",
      "INFO     [merf.py:307] Training GLL is -5083.873726746137 at iteration 22.\n",
      "INFO     [merf.py:307] Training GLL is -5238.5848340072225 at iteration 23.\n",
      "INFO     [merf.py:307] Training GLL is -5265.228318599821 at iteration 24.\n",
      "INFO     [merf.py:307] Training GLL is -5367.732333702008 at iteration 25.\n",
      "INFO     [merf.py:307] Training GLL is -5071.609084717307 at iteration 26.\n",
      "INFO     [merf.py:307] Training GLL is -5433.9361324983665 at iteration 27.\n",
      "INFO     [merf.py:307] Training GLL is -5586.186900150501 at iteration 28.\n",
      "INFO     [merf.py:307] Training GLL is -5208.508912524762 at iteration 29.\n",
      "INFO     [merf.py:307] Training GLL is -5110.226402414073 at iteration 30.\n"
     ]
    },
    {
     "data": {
      "text/plain": [
       "<merf.merf.MERF at 0x7fe02a6da220>"
      ]
     },
     "execution_count": 38,
     "metadata": {},
     "output_type": "execute_result"
    }
   ],
   "source": [
    "mrf.fit(x_train, Z_train, clusters_train, Y_train)"
   ]
  },
  {
   "cell_type": "code",
   "execution_count": 39,
   "metadata": {},
   "outputs": [],
   "source": [
    "train_preds = mrf.predict(x_train, Z_train, clusters_train)"
   ]
  },
  {
   "cell_type": "code",
   "execution_count": 40,
   "metadata": {},
   "outputs": [
    {
     "name": "stdout",
     "output_type": "stream",
     "text": [
      "Test MSE: 0.00038119542615666185\n",
      "Test RMSE: 0.019524226646826806\n",
      "Test MAE: 0.012267921363843979\n",
      "Test R-squared: 0.9999927536288657\n"
     ]
    }
   ],
   "source": [
    "from sklearn.metrics import mean_squared_error, mean_absolute_error, r2_score\n",
    "\n",
    "mse = mean_squared_error(Y_train, train_preds)\n",
    "rmse = np.sqrt(mse)\n",
    "mae = mean_absolute_error(Y_train, train_preds)\n",
    "r2 = r2_score(Y_train, train_preds)\n",
    "\n",
    "# Print the performance metrics\n",
    "print(\"Test MSE:\", mse)\n",
    "print(\"Test RMSE:\", rmse)\n",
    "print(\"Test MAE:\", mae)\n",
    "print(\"Test R-squared:\", r2)"
   ]
  },
  {
   "attachments": {},
   "cell_type": "markdown",
   "metadata": {},
   "source": [
    "# Test Dataset"
   ]
  },
  {
   "cell_type": "code",
   "execution_count": 41,
   "metadata": {},
   "outputs": [],
   "source": [
    "x_test = X_test.drop(['Abbreviation', 'raceID'], axis = 1)\n",
    "Z_test = X_test[['raceID']]\n",
    "clusters_test = X_test['raceID']"
   ]
  },
  {
   "cell_type": "code",
   "execution_count": 42,
   "metadata": {},
   "outputs": [],
   "source": [
    "y_pred = mrf.predict(x_test, Z_test, clusters_test)"
   ]
  },
  {
   "cell_type": "code",
   "execution_count": 43,
   "metadata": {},
   "outputs": [
    {
     "name": "stdout",
     "output_type": "stream",
     "text": [
      "Test MSE: 14.233136537110266\n",
      "Test RMSE: 3.7726829362020693\n",
      "Test MAE: 2.4835178769043376\n",
      "Test R-squared: 0.7276366429649525\n"
     ]
    }
   ],
   "source": [
    "from sklearn.metrics import mean_squared_error, mean_absolute_error, r2_score\n",
    "\n",
    "mse = mean_squared_error(Y_test, y_pred)\n",
    "rmse = np.sqrt(mse)\n",
    "mae = mean_absolute_error(Y_test, y_pred)\n",
    "r2 = r2_score(Y_test, y_pred)\n",
    "\n",
    "# Print the performance metrics\n",
    "print(\"Test MSE:\", mse)\n",
    "print(\"Test RMSE:\", rmse)\n",
    "print(\"Test MAE:\", mae)\n",
    "print(\"Test R-squared:\", r2)\n"
   ]
  },
  {
   "cell_type": "code",
   "execution_count": 44,
   "metadata": {},
   "outputs": [
    {
     "name": "stdout",
     "output_type": "stream",
     "text": [
      "      Y_test     y_pred\n",
      "1392    25.0  18.426392\n",
      "1393     0.0   1.014280\n",
      "1394    10.0  14.164695\n",
      "1395     8.0   2.714829\n",
      "1396    15.0  14.304780\n",
      "...      ...        ...\n",
      "1542     1.0   5.086267\n",
      "1543    12.0  10.072722\n",
      "1544     0.0   0.104793\n",
      "1545    10.0  10.697105\n",
      "1546     0.0   0.021462\n",
      "\n",
      "[155 rows x 2 columns]\n"
     ]
    }
   ],
   "source": [
    "data = {\"Y_test\": Y_test, \"y_pred\": y_pred}\n",
    "\n",
    "# Create the DataFrame\n",
    "dfplot = pd.DataFrame(data)\n",
    "\n",
    "# Print the DataFrame\n",
    "print(dfplot)\n",
    "\n"
   ]
  },
  {
   "cell_type": "code",
   "execution_count": 45,
   "metadata": {},
   "outputs": [
    {
     "data": {
      "application/vnd.plotly.v1+json": {
       "config": {
        "plotlyServerURL": "https://plot.ly"
       },
       "data": [
        {
         "hovertemplate": "Y_test=%{x}<br>y_pred=%{y}<extra></extra>",
         "legendgroup": "",
         "marker": {
          "color": "red",
          "opacity": 0.65,
          "symbol": "circle"
         },
         "mode": "markers",
         "name": "",
         "orientation": "v",
         "showlegend": false,
         "type": "scatter",
         "x": [
          25,
          0,
          10,
          8,
          15,
          1,
          0,
          0,
          0,
          0,
          0,
          2,
          6,
          12,
          0,
          0,
          4,
          0,
          18,
          0,
          25,
          4,
          8,
          0,
          18,
          0,
          0,
          0,
          1,
          0,
          0,
          6,
          10,
          2,
          0,
          0,
          12,
          0,
          15,
          0,
          6,
          1,
          25,
          0,
          18,
          8,
          0,
          0,
          0,
          0,
          10,
          0,
          12,
          2,
          0,
          4,
          15,
          0,
          0,
          0,
          25,
          0,
          18,
          6,
          15,
          0,
          0,
          0,
          0,
          0,
          12,
          1,
          10,
          0,
          8,
          2,
          4,
          0,
          25,
          0,
          12,
          6,
          15,
          0,
          2,
          1,
          0,
          0,
          0,
          0,
          8,
          18,
          0,
          4,
          0,
          10,
          0,
          25,
          0,
          15,
          0,
          8,
          0,
          0,
          0,
          0,
          0,
          6,
          4,
          2,
          18,
          0,
          0,
          10,
          0,
          12,
          1,
          8,
          0,
          6,
          10,
          12,
          1,
          0,
          0,
          0,
          4,
          0,
          18,
          0,
          0,
          15,
          0,
          25,
          2,
          25,
          0,
          15,
          0,
          18,
          4,
          0,
          0,
          0,
          0,
          2,
          6,
          8,
          0,
          0,
          1,
          12,
          0,
          10,
          0
         ],
         "xaxis": "x",
         "y": [
          18.4263916015625,
          1.0142797231674194,
          14.164694786071777,
          2.714829444885254,
          14.304780006408691,
          1.0476268529891968,
          -0.2723977863788605,
          -0.8627024292945862,
          -0.33592620491981506,
          -0.24863088130950928,
          0.1775250881910324,
          3.563321352005005,
          7.0364990234375,
          12.977507591247559,
          2.789551019668579,
          0.26433926820755005,
          14.848526000976562,
          -0.054657869040966034,
          12.064180374145508,
          -0.10436364263296127,
          18.265220642089844,
          6.474530220031738,
          10.757231712341309,
          0.545318067073822,
          20.045854568481445,
          2.1021058559417725,
          -0.03831766918301582,
          1.5094661712646484,
          4.237140655517578,
          0.7691837549209595,
          1.2685586214065552,
          10.1552734375,
          4.1322760581970215,
          3.377660036087036,
          0.14233829081058502,
          -0.09580858796834946,
          8.864221572875977,
          1.6191734075546265,
          18.764389038085938,
          0.20212692022323608,
          14.307138442993164,
          3.544355630874634,
          15.308557510375977,
          -0.35997724533081055,
          7.070162773132324,
          1.0127614736557007,
          -0.1096683144569397,
          0.13348886370658875,
          -0.11240039020776749,
          0.059049803763628006,
          0.2109997421503067,
          0.2585099935531616,
          5.634269714355469,
          11.932571411132812,
          0.4402250349521637,
          1.0839896202087402,
          12.09416389465332,
          0.12017180025577545,
          9.740296363830566,
          0.4254692792892456,
          17.29949951171875,
          -0.22007471323013306,
          16.613935470581055,
          4.018443584442139,
          9.0589017868042,
          0.026565449312329292,
          -0.06614546477794647,
          -0.3401027321815491,
          0.20484936237335205,
          0.8939555287361145,
          8.060847282409668,
          1.7320177555084229,
          8.439142227172852,
          0.07053355872631073,
          1.4204691648483276,
          -0.14470037817955017,
          2.7790942192077637,
          0.10496027022600174,
          20.07862091064453,
          1.5869522094726562,
          7.4904704093933105,
          0.20297771692276,
          6.849491596221924,
          0.25633561611175537,
          0.40619632601737976,
          0.3164324164390564,
          2.51674485206604,
          0.1446090191602707,
          0.4116915762424469,
          0.6588993668556213,
          7.456943988800049,
          13.042337417602539,
          0.1060393750667572,
          1.7365410327911377,
          -0.14643961191177368,
          15.747625350952148,
          0.19415085017681122,
          14.89829158782959,
          0.5014461278915405,
          10.681550979614258,
          0.14689503610134125,
          6.03264045715332,
          0.22740361094474792,
          0.07572133094072342,
          1.4298250675201416,
          0.7304717898368835,
          2.8688251972198486,
          2.446887969970703,
          4.442298889160156,
          6.562187194824219,
          13.82416820526123,
          0.6320332884788513,
          0.7708321213722229,
          6.571993827819824,
          0.2497292309999466,
          18.79351234436035,
          7.338007926940918,
          16.152931213378906,
          1.627933382987976,
          15.048603057861328,
          1.1868305206298828,
          9.705751419067383,
          0.01695653237402439,
          0.03562021255493164,
          0.13998430967330933,
          0.28571462631225586,
          1.4978419542312622,
          1.285666584968567,
          16.44951057434082,
          0.49085286259651184,
          2.3342361450195312,
          5.359821796417236,
          -0.13929957151412964,
          21.632034301757812,
          -0.5201065540313721,
          22.122901916503906,
          0.7109566926956177,
          14.74693775177002,
          1.8607851266860962,
          15.642075538635254,
          1.0517849922180176,
          0.20513711869716644,
          1.1898882389068604,
          0.31197991967201233,
          0.5425597429275513,
          0.5721337795257568,
          4.713250637054443,
          4.681664943695068,
          0.34091293811798096,
          0.42444565892219543,
          5.086266994476318,
          10.072722434997559,
          0.1047932505607605,
          10.697105407714844,
          0.021461615338921547
         ],
         "yaxis": "y"
        },
        {
         "hovertemplate": "<b>OLS trendline</b><br>y_pred = 0.723657 * Y_test + 0.971723<br>R<sup>2</sup>=0.731936<br><br>Y_test=%{x}<br>y_pred=%{y} <b>(trend)</b><extra></extra>",
         "legendgroup": "",
         "line": {
          "color": "darkblue"
         },
         "marker": {
          "color": "red",
          "symbol": "circle"
         },
         "mode": "lines",
         "name": "",
         "showlegend": false,
         "type": "scatter",
         "x": [
          0,
          0,
          0,
          0,
          0,
          0,
          0,
          0,
          0,
          0,
          0,
          0,
          0,
          0,
          0,
          0,
          0,
          0,
          0,
          0,
          0,
          0,
          0,
          0,
          0,
          0,
          0,
          0,
          0,
          0,
          0,
          0,
          0,
          0,
          0,
          0,
          0,
          0,
          0,
          0,
          0,
          0,
          0,
          0,
          0,
          0,
          0,
          0,
          0,
          0,
          0,
          0,
          0,
          0,
          0,
          0,
          0,
          0,
          0,
          0,
          0,
          0,
          0,
          0,
          0,
          0,
          0,
          0,
          0,
          0,
          0,
          0,
          0,
          0,
          0,
          1,
          1,
          1,
          1,
          1,
          1,
          1,
          1,
          2,
          2,
          2,
          2,
          2,
          2,
          2,
          2,
          4,
          4,
          4,
          4,
          4,
          4,
          4,
          4,
          6,
          6,
          6,
          6,
          6,
          6,
          6,
          6,
          8,
          8,
          8,
          8,
          8,
          8,
          8,
          8,
          10,
          10,
          10,
          10,
          10,
          10,
          10,
          10,
          12,
          12,
          12,
          12,
          12,
          12,
          12,
          12,
          15,
          15,
          15,
          15,
          15,
          15,
          15,
          15,
          18,
          18,
          18,
          18,
          18,
          18,
          18,
          18,
          25,
          25,
          25,
          25,
          25,
          25,
          25,
          25
         ],
         "xaxis": "x",
         "y": [
          0.9717229684641397,
          0.9717229684641397,
          0.9717229684641397,
          0.9717229684641397,
          0.9717229684641397,
          0.9717229684641397,
          0.9717229684641397,
          0.9717229684641397,
          0.9717229684641397,
          0.9717229684641397,
          0.9717229684641397,
          0.9717229684641397,
          0.9717229684641397,
          0.9717229684641397,
          0.9717229684641397,
          0.9717229684641397,
          0.9717229684641397,
          0.9717229684641397,
          0.9717229684641397,
          0.9717229684641397,
          0.9717229684641397,
          0.9717229684641397,
          0.9717229684641397,
          0.9717229684641397,
          0.9717229684641397,
          0.9717229684641397,
          0.9717229684641397,
          0.9717229684641397,
          0.9717229684641397,
          0.9717229684641397,
          0.9717229684641397,
          0.9717229684641397,
          0.9717229684641397,
          0.9717229684641397,
          0.9717229684641397,
          0.9717229684641397,
          0.9717229684641397,
          0.9717229684641397,
          0.9717229684641397,
          0.9717229684641397,
          0.9717229684641397,
          0.9717229684641397,
          0.9717229684641397,
          0.9717229684641397,
          0.9717229684641397,
          0.9717229684641397,
          0.9717229684641397,
          0.9717229684641397,
          0.9717229684641397,
          0.9717229684641397,
          0.9717229684641397,
          0.9717229684641397,
          0.9717229684641397,
          0.9717229684641397,
          0.9717229684641397,
          0.9717229684641397,
          0.9717229684641397,
          0.9717229684641397,
          0.9717229684641397,
          0.9717229684641397,
          0.9717229684641397,
          0.9717229684641397,
          0.9717229684641397,
          0.9717229684641397,
          0.9717229684641397,
          0.9717229684641397,
          0.9717229684641397,
          0.9717229684641397,
          0.9717229684641397,
          0.9717229684641397,
          0.9717229684641397,
          0.9717229684641397,
          0.9717229684641397,
          0.9717229684641397,
          0.9717229684641397,
          1.6953796193778694,
          1.6953796193778694,
          1.6953796193778694,
          1.6953796193778694,
          1.6953796193778694,
          1.6953796193778694,
          1.6953796193778694,
          1.6953796193778694,
          2.419036270291599,
          2.419036270291599,
          2.419036270291599,
          2.419036270291599,
          2.419036270291599,
          2.419036270291599,
          2.419036270291599,
          2.419036270291599,
          3.8663495721190584,
          3.8663495721190584,
          3.8663495721190584,
          3.8663495721190584,
          3.8663495721190584,
          3.8663495721190584,
          3.8663495721190584,
          3.8663495721190584,
          5.313662873946518,
          5.313662873946518,
          5.313662873946518,
          5.313662873946518,
          5.313662873946518,
          5.313662873946518,
          5.313662873946518,
          5.313662873946518,
          6.760976175773977,
          6.760976175773977,
          6.760976175773977,
          6.760976175773977,
          6.760976175773977,
          6.760976175773977,
          6.760976175773977,
          6.760976175773977,
          8.208289477601436,
          8.208289477601436,
          8.208289477601436,
          8.208289477601436,
          8.208289477601436,
          8.208289477601436,
          8.208289477601436,
          8.208289477601436,
          9.655602779428897,
          9.655602779428897,
          9.655602779428897,
          9.655602779428897,
          9.655602779428897,
          9.655602779428897,
          9.655602779428897,
          9.655602779428897,
          11.826572732170085,
          11.826572732170085,
          11.826572732170085,
          11.826572732170085,
          11.826572732170085,
          11.826572732170085,
          11.826572732170085,
          11.826572732170085,
          13.997542684911274,
          13.997542684911274,
          13.997542684911274,
          13.997542684911274,
          13.997542684911274,
          13.997542684911274,
          13.997542684911274,
          13.997542684911274,
          19.06313924130738,
          19.06313924130738,
          19.06313924130738,
          19.06313924130738,
          19.06313924130738,
          19.06313924130738,
          19.06313924130738,
          19.06313924130738
         ],
         "yaxis": "y"
        }
       ],
       "layout": {
        "height": 400,
        "legend": {
         "tracegroupgap": 0
        },
        "margin": {
         "t": 60
        },
        "template": {
         "data": {
          "bar": [
           {
            "error_x": {
             "color": "#2a3f5f"
            },
            "error_y": {
             "color": "#2a3f5f"
            },
            "marker": {
             "line": {
              "color": "#E5ECF6",
              "width": 0.5
             },
             "pattern": {
              "fillmode": "overlay",
              "size": 10,
              "solidity": 0.2
             }
            },
            "type": "bar"
           }
          ],
          "barpolar": [
           {
            "marker": {
             "line": {
              "color": "#E5ECF6",
              "width": 0.5
             },
             "pattern": {
              "fillmode": "overlay",
              "size": 10,
              "solidity": 0.2
             }
            },
            "type": "barpolar"
           }
          ],
          "carpet": [
           {
            "aaxis": {
             "endlinecolor": "#2a3f5f",
             "gridcolor": "white",
             "linecolor": "white",
             "minorgridcolor": "white",
             "startlinecolor": "#2a3f5f"
            },
            "baxis": {
             "endlinecolor": "#2a3f5f",
             "gridcolor": "white",
             "linecolor": "white",
             "minorgridcolor": "white",
             "startlinecolor": "#2a3f5f"
            },
            "type": "carpet"
           }
          ],
          "choropleth": [
           {
            "colorbar": {
             "outlinewidth": 0,
             "ticks": ""
            },
            "type": "choropleth"
           }
          ],
          "contour": [
           {
            "colorbar": {
             "outlinewidth": 0,
             "ticks": ""
            },
            "colorscale": [
             [
              0,
              "#0d0887"
             ],
             [
              0.1111111111111111,
              "#46039f"
             ],
             [
              0.2222222222222222,
              "#7201a8"
             ],
             [
              0.3333333333333333,
              "#9c179e"
             ],
             [
              0.4444444444444444,
              "#bd3786"
             ],
             [
              0.5555555555555556,
              "#d8576b"
             ],
             [
              0.6666666666666666,
              "#ed7953"
             ],
             [
              0.7777777777777778,
              "#fb9f3a"
             ],
             [
              0.8888888888888888,
              "#fdca26"
             ],
             [
              1,
              "#f0f921"
             ]
            ],
            "type": "contour"
           }
          ],
          "contourcarpet": [
           {
            "colorbar": {
             "outlinewidth": 0,
             "ticks": ""
            },
            "type": "contourcarpet"
           }
          ],
          "heatmap": [
           {
            "colorbar": {
             "outlinewidth": 0,
             "ticks": ""
            },
            "colorscale": [
             [
              0,
              "#0d0887"
             ],
             [
              0.1111111111111111,
              "#46039f"
             ],
             [
              0.2222222222222222,
              "#7201a8"
             ],
             [
              0.3333333333333333,
              "#9c179e"
             ],
             [
              0.4444444444444444,
              "#bd3786"
             ],
             [
              0.5555555555555556,
              "#d8576b"
             ],
             [
              0.6666666666666666,
              "#ed7953"
             ],
             [
              0.7777777777777778,
              "#fb9f3a"
             ],
             [
              0.8888888888888888,
              "#fdca26"
             ],
             [
              1,
              "#f0f921"
             ]
            ],
            "type": "heatmap"
           }
          ],
          "heatmapgl": [
           {
            "colorbar": {
             "outlinewidth": 0,
             "ticks": ""
            },
            "colorscale": [
             [
              0,
              "#0d0887"
             ],
             [
              0.1111111111111111,
              "#46039f"
             ],
             [
              0.2222222222222222,
              "#7201a8"
             ],
             [
              0.3333333333333333,
              "#9c179e"
             ],
             [
              0.4444444444444444,
              "#bd3786"
             ],
             [
              0.5555555555555556,
              "#d8576b"
             ],
             [
              0.6666666666666666,
              "#ed7953"
             ],
             [
              0.7777777777777778,
              "#fb9f3a"
             ],
             [
              0.8888888888888888,
              "#fdca26"
             ],
             [
              1,
              "#f0f921"
             ]
            ],
            "type": "heatmapgl"
           }
          ],
          "histogram": [
           {
            "marker": {
             "pattern": {
              "fillmode": "overlay",
              "size": 10,
              "solidity": 0.2
             }
            },
            "type": "histogram"
           }
          ],
          "histogram2d": [
           {
            "colorbar": {
             "outlinewidth": 0,
             "ticks": ""
            },
            "colorscale": [
             [
              0,
              "#0d0887"
             ],
             [
              0.1111111111111111,
              "#46039f"
             ],
             [
              0.2222222222222222,
              "#7201a8"
             ],
             [
              0.3333333333333333,
              "#9c179e"
             ],
             [
              0.4444444444444444,
              "#bd3786"
             ],
             [
              0.5555555555555556,
              "#d8576b"
             ],
             [
              0.6666666666666666,
              "#ed7953"
             ],
             [
              0.7777777777777778,
              "#fb9f3a"
             ],
             [
              0.8888888888888888,
              "#fdca26"
             ],
             [
              1,
              "#f0f921"
             ]
            ],
            "type": "histogram2d"
           }
          ],
          "histogram2dcontour": [
           {
            "colorbar": {
             "outlinewidth": 0,
             "ticks": ""
            },
            "colorscale": [
             [
              0,
              "#0d0887"
             ],
             [
              0.1111111111111111,
              "#46039f"
             ],
             [
              0.2222222222222222,
              "#7201a8"
             ],
             [
              0.3333333333333333,
              "#9c179e"
             ],
             [
              0.4444444444444444,
              "#bd3786"
             ],
             [
              0.5555555555555556,
              "#d8576b"
             ],
             [
              0.6666666666666666,
              "#ed7953"
             ],
             [
              0.7777777777777778,
              "#fb9f3a"
             ],
             [
              0.8888888888888888,
              "#fdca26"
             ],
             [
              1,
              "#f0f921"
             ]
            ],
            "type": "histogram2dcontour"
           }
          ],
          "mesh3d": [
           {
            "colorbar": {
             "outlinewidth": 0,
             "ticks": ""
            },
            "type": "mesh3d"
           }
          ],
          "parcoords": [
           {
            "line": {
             "colorbar": {
              "outlinewidth": 0,
              "ticks": ""
             }
            },
            "type": "parcoords"
           }
          ],
          "pie": [
           {
            "automargin": true,
            "type": "pie"
           }
          ],
          "scatter": [
           {
            "fillpattern": {
             "fillmode": "overlay",
             "size": 10,
             "solidity": 0.2
            },
            "type": "scatter"
           }
          ],
          "scatter3d": [
           {
            "line": {
             "colorbar": {
              "outlinewidth": 0,
              "ticks": ""
             }
            },
            "marker": {
             "colorbar": {
              "outlinewidth": 0,
              "ticks": ""
             }
            },
            "type": "scatter3d"
           }
          ],
          "scattercarpet": [
           {
            "marker": {
             "colorbar": {
              "outlinewidth": 0,
              "ticks": ""
             }
            },
            "type": "scattercarpet"
           }
          ],
          "scattergeo": [
           {
            "marker": {
             "colorbar": {
              "outlinewidth": 0,
              "ticks": ""
             }
            },
            "type": "scattergeo"
           }
          ],
          "scattergl": [
           {
            "marker": {
             "colorbar": {
              "outlinewidth": 0,
              "ticks": ""
             }
            },
            "type": "scattergl"
           }
          ],
          "scattermapbox": [
           {
            "marker": {
             "colorbar": {
              "outlinewidth": 0,
              "ticks": ""
             }
            },
            "type": "scattermapbox"
           }
          ],
          "scatterpolar": [
           {
            "marker": {
             "colorbar": {
              "outlinewidth": 0,
              "ticks": ""
             }
            },
            "type": "scatterpolar"
           }
          ],
          "scatterpolargl": [
           {
            "marker": {
             "colorbar": {
              "outlinewidth": 0,
              "ticks": ""
             }
            },
            "type": "scatterpolargl"
           }
          ],
          "scatterternary": [
           {
            "marker": {
             "colorbar": {
              "outlinewidth": 0,
              "ticks": ""
             }
            },
            "type": "scatterternary"
           }
          ],
          "surface": [
           {
            "colorbar": {
             "outlinewidth": 0,
             "ticks": ""
            },
            "colorscale": [
             [
              0,
              "#0d0887"
             ],
             [
              0.1111111111111111,
              "#46039f"
             ],
             [
              0.2222222222222222,
              "#7201a8"
             ],
             [
              0.3333333333333333,
              "#9c179e"
             ],
             [
              0.4444444444444444,
              "#bd3786"
             ],
             [
              0.5555555555555556,
              "#d8576b"
             ],
             [
              0.6666666666666666,
              "#ed7953"
             ],
             [
              0.7777777777777778,
              "#fb9f3a"
             ],
             [
              0.8888888888888888,
              "#fdca26"
             ],
             [
              1,
              "#f0f921"
             ]
            ],
            "type": "surface"
           }
          ],
          "table": [
           {
            "cells": {
             "fill": {
              "color": "#EBF0F8"
             },
             "line": {
              "color": "white"
             }
            },
            "header": {
             "fill": {
              "color": "#C8D4E3"
             },
             "line": {
              "color": "white"
             }
            },
            "type": "table"
           }
          ]
         },
         "layout": {
          "annotationdefaults": {
           "arrowcolor": "#2a3f5f",
           "arrowhead": 0,
           "arrowwidth": 1
          },
          "autotypenumbers": "strict",
          "coloraxis": {
           "colorbar": {
            "outlinewidth": 0,
            "ticks": ""
           }
          },
          "colorscale": {
           "diverging": [
            [
             0,
             "#8e0152"
            ],
            [
             0.1,
             "#c51b7d"
            ],
            [
             0.2,
             "#de77ae"
            ],
            [
             0.3,
             "#f1b6da"
            ],
            [
             0.4,
             "#fde0ef"
            ],
            [
             0.5,
             "#f7f7f7"
            ],
            [
             0.6,
             "#e6f5d0"
            ],
            [
             0.7,
             "#b8e186"
            ],
            [
             0.8,
             "#7fbc41"
            ],
            [
             0.9,
             "#4d9221"
            ],
            [
             1,
             "#276419"
            ]
           ],
           "sequential": [
            [
             0,
             "#0d0887"
            ],
            [
             0.1111111111111111,
             "#46039f"
            ],
            [
             0.2222222222222222,
             "#7201a8"
            ],
            [
             0.3333333333333333,
             "#9c179e"
            ],
            [
             0.4444444444444444,
             "#bd3786"
            ],
            [
             0.5555555555555556,
             "#d8576b"
            ],
            [
             0.6666666666666666,
             "#ed7953"
            ],
            [
             0.7777777777777778,
             "#fb9f3a"
            ],
            [
             0.8888888888888888,
             "#fdca26"
            ],
            [
             1,
             "#f0f921"
            ]
           ],
           "sequentialminus": [
            [
             0,
             "#0d0887"
            ],
            [
             0.1111111111111111,
             "#46039f"
            ],
            [
             0.2222222222222222,
             "#7201a8"
            ],
            [
             0.3333333333333333,
             "#9c179e"
            ],
            [
             0.4444444444444444,
             "#bd3786"
            ],
            [
             0.5555555555555556,
             "#d8576b"
            ],
            [
             0.6666666666666666,
             "#ed7953"
            ],
            [
             0.7777777777777778,
             "#fb9f3a"
            ],
            [
             0.8888888888888888,
             "#fdca26"
            ],
            [
             1,
             "#f0f921"
            ]
           ]
          },
          "colorway": [
           "#636efa",
           "#EF553B",
           "#00cc96",
           "#ab63fa",
           "#FFA15A",
           "#19d3f3",
           "#FF6692",
           "#B6E880",
           "#FF97FF",
           "#FECB52"
          ],
          "font": {
           "color": "#2a3f5f"
          },
          "geo": {
           "bgcolor": "white",
           "lakecolor": "white",
           "landcolor": "#E5ECF6",
           "showlakes": true,
           "showland": true,
           "subunitcolor": "white"
          },
          "hoverlabel": {
           "align": "left"
          },
          "hovermode": "closest",
          "mapbox": {
           "style": "light"
          },
          "paper_bgcolor": "white",
          "plot_bgcolor": "#E5ECF6",
          "polar": {
           "angularaxis": {
            "gridcolor": "white",
            "linecolor": "white",
            "ticks": ""
           },
           "bgcolor": "#E5ECF6",
           "radialaxis": {
            "gridcolor": "white",
            "linecolor": "white",
            "ticks": ""
           }
          },
          "scene": {
           "xaxis": {
            "backgroundcolor": "#E5ECF6",
            "gridcolor": "white",
            "gridwidth": 2,
            "linecolor": "white",
            "showbackground": true,
            "ticks": "",
            "zerolinecolor": "white"
           },
           "yaxis": {
            "backgroundcolor": "#E5ECF6",
            "gridcolor": "white",
            "gridwidth": 2,
            "linecolor": "white",
            "showbackground": true,
            "ticks": "",
            "zerolinecolor": "white"
           },
           "zaxis": {
            "backgroundcolor": "#E5ECF6",
            "gridcolor": "white",
            "gridwidth": 2,
            "linecolor": "white",
            "showbackground": true,
            "ticks": "",
            "zerolinecolor": "white"
           }
          },
          "shapedefaults": {
           "line": {
            "color": "#2a3f5f"
           }
          },
          "ternary": {
           "aaxis": {
            "gridcolor": "white",
            "linecolor": "white",
            "ticks": ""
           },
           "baxis": {
            "gridcolor": "white",
            "linecolor": "white",
            "ticks": ""
           },
           "bgcolor": "#E5ECF6",
           "caxis": {
            "gridcolor": "white",
            "linecolor": "white",
            "ticks": ""
           }
          },
          "title": {
           "x": 0.05
          },
          "xaxis": {
           "automargin": true,
           "gridcolor": "white",
           "linecolor": "white",
           "ticks": "",
           "title": {
            "standoff": 15
           },
           "zerolinecolor": "white",
           "zerolinewidth": 2
          },
          "yaxis": {
           "automargin": true,
           "gridcolor": "white",
           "linecolor": "white",
           "ticks": "",
           "title": {
            "standoff": 15
           },
           "zerolinecolor": "white",
           "zerolinewidth": 2
          }
         }
        },
        "width": 550,
        "xaxis": {
         "anchor": "y",
         "domain": [
          0,
          1
         ],
         "title": {
          "text": "Y_test"
         }
        },
        "yaxis": {
         "anchor": "x",
         "domain": [
          0,
          1
         ],
         "title": {
          "text": "y_pred"
         }
        }
       }
      }
     },
     "metadata": {},
     "output_type": "display_data"
    }
   ],
   "source": [
    "fig = px.scatter(\n",
    "    dfplot, x='Y_test', y='y_pred', opacity=0.65,\n",
    "    trendline='ols', trendline_color_override='darkblue',\n",
    "    color_discrete_sequence=['red'],\n",
    "    width=550, height=400\n",
    ")\n",
    "fig.show()\n"
   ]
  },
  {
   "cell_type": "code",
   "execution_count": 46,
   "metadata": {},
   "outputs": [
    {
     "data": {
      "text/plain": [
       "Index(['Abbreviation', 'GridPosition', 'Points', 'RaceCountry', 'Year',\n",
       "       'AgeAtGP', 'BestQualiTime', 'FLap', 'SDLapTime', 'AvgPitTime',\n",
       "       'PitstopNo', 'HARD', 'INTERMEDIATE', 'MEDIUM', 'SOFT', 'WET', 'Rain',\n",
       "       'AverageSpeed', 'MaxSpeed', 'MaxRPM', 'AverageThrottle',\n",
       "       'MaxThrottlePct', 'Brake', 'raceID', 'carIssue', 'driverIssue',\n",
       "       'TeamName_AlfaRomeoRacing', 'TeamName_AlphaTauri', 'TeamName_Alpine',\n",
       "       'TeamName_AstonMartin', 'TeamName_Ferrari', 'TeamName_HaasF1Team',\n",
       "       'TeamName_McLaren', 'TeamName_Mercedes', 'TeamName_RacingPoint',\n",
       "       'TeamName_RedBullRacing', 'TeamName_Renault', 'TeamName_ToroRosso',\n",
       "       'TeamName_Williams', 'Engine_Honda', 'Engine_Mercedes',\n",
       "       'Engine_RedBull', 'Engine_Renault', 'CircuitType_street'],\n",
       "      dtype='object')"
      ]
     },
     "execution_count": 46,
     "metadata": {},
     "output_type": "execute_result"
    }
   ],
   "source": [
    "df.columns"
   ]
  },
  {
   "cell_type": "code",
   "execution_count": 49,
   "metadata": {},
   "outputs": [
    {
     "name": "stdout",
     "output_type": "stream",
     "text": [
      "                     Feature  Importance\n",
      "0                   carIssue    0.387701\n",
      "1     TeamName_RedBullRacing    0.148407\n",
      "2          TeamName_Mercedes    0.102272\n",
      "3           TeamName_Ferrari    0.060412\n",
      "4               GridPosition    0.058019\n",
      "5             Engine_RedBull    0.041010\n",
      "6        TeamName_AlphaTauri    0.021501\n",
      "7                  PitstopNo    0.016065\n",
      "8   TeamName_AlfaRomeoRacing    0.012223\n",
      "9                      Brake    0.011801\n",
      "10               driverIssue    0.011037\n",
      "11                    MEDIUM    0.010452\n",
      "12           TeamName_Alpine    0.010399\n",
      "13            MaxThrottlePct    0.009881\n",
      "14                      FLap    0.009536\n",
      "15              AverageSpeed    0.008609\n",
      "16         TeamName_Williams    0.008059\n",
      "17                  MaxSpeed    0.008009\n",
      "18           Engine_Mercedes    0.007417\n",
      "19                   AgeAtGP    0.007348\n",
      "20                    MaxRPM    0.006399\n",
      "21              Engine_Honda    0.006370\n",
      "22                AvgPitTime    0.005413\n",
      "23              INTERMEDIATE    0.004489\n",
      "24             BestQualiTime    0.004448\n",
      "25           AverageThrottle    0.004442\n",
      "26                      SOFT    0.004249\n",
      "27                 SDLapTime    0.004128\n",
      "28                      HARD    0.003950\n",
      "29        CircuitType_street    0.003059\n",
      "30          TeamName_McLaren    0.002388\n",
      "31      TeamName_AstonMartin    0.000261\n",
      "32       TeamName_HaasF1Team    0.000236\n",
      "33                       WET    0.000009\n",
      "34                      Rain    0.000000\n",
      "35      TeamName_RacingPoint    0.000000\n",
      "36          TeamName_Renault    0.000000\n",
      "37        TeamName_ToroRosso    0.000000\n",
      "38            Engine_Renault    0.000000\n"
     ]
    }
   ],
   "source": [
    "importance = mrf.trained_fe_model.feature_importances_\n",
    "importance_df_after = pd.DataFrame({'Feature': x_train.columns, 'Importance': importance})\n",
    "importance_df_after = importance_df_after.sort_values('Importance', ascending=False).reset_index(drop=True)\n",
    "print(importance_df_after)\n"
   ]
  },
  {
   "cell_type": "code",
   "execution_count": 50,
   "metadata": {},
   "outputs": [
    {
     "data": {
      "text/html": [
       "<div>\n",
       "<style scoped>\n",
       "    .dataframe tbody tr th:only-of-type {\n",
       "        vertical-align: middle;\n",
       "    }\n",
       "\n",
       "    .dataframe tbody tr th {\n",
       "        vertical-align: top;\n",
       "    }\n",
       "\n",
       "    .dataframe thead th {\n",
       "        text-align: right;\n",
       "    }\n",
       "</style>\n",
       "<table border=\"1\" class=\"dataframe\">\n",
       "  <thead>\n",
       "    <tr style=\"text-align: right;\">\n",
       "      <th></th>\n",
       "      <th>Feature</th>\n",
       "      <th>Importance_x</th>\n",
       "      <th>Importance_y</th>\n",
       "    </tr>\n",
       "  </thead>\n",
       "  <tbody>\n",
       "    <tr>\n",
       "      <th>0</th>\n",
       "      <td>carIssue</td>\n",
       "      <td>0.292619</td>\n",
       "      <td>0.387701</td>\n",
       "    </tr>\n",
       "    <tr>\n",
       "      <th>1</th>\n",
       "      <td>driverIssue</td>\n",
       "      <td>0.265181</td>\n",
       "      <td>0.011037</td>\n",
       "    </tr>\n",
       "    <tr>\n",
       "      <th>2</th>\n",
       "      <td>GridPosition</td>\n",
       "      <td>0.067130</td>\n",
       "      <td>0.058019</td>\n",
       "    </tr>\n",
       "    <tr>\n",
       "      <th>3</th>\n",
       "      <td>TeamName_RedBullRacing</td>\n",
       "      <td>0.053025</td>\n",
       "      <td>0.148407</td>\n",
       "    </tr>\n",
       "    <tr>\n",
       "      <th>4</th>\n",
       "      <td>TeamName_Mercedes</td>\n",
       "      <td>0.044983</td>\n",
       "      <td>0.102272</td>\n",
       "    </tr>\n",
       "    <tr>\n",
       "      <th>5</th>\n",
       "      <td>TeamName_HaasF1Team</td>\n",
       "      <td>0.040312</td>\n",
       "      <td>0.000236</td>\n",
       "    </tr>\n",
       "    <tr>\n",
       "      <th>6</th>\n",
       "      <td>INTERMEDIATE</td>\n",
       "      <td>0.035969</td>\n",
       "      <td>0.004489</td>\n",
       "    </tr>\n",
       "    <tr>\n",
       "      <th>7</th>\n",
       "      <td>TeamName_RacingPoint</td>\n",
       "      <td>0.023159</td>\n",
       "      <td>0.000000</td>\n",
       "    </tr>\n",
       "    <tr>\n",
       "      <th>8</th>\n",
       "      <td>Engine_Renault</td>\n",
       "      <td>0.022722</td>\n",
       "      <td>0.000000</td>\n",
       "    </tr>\n",
       "    <tr>\n",
       "      <th>9</th>\n",
       "      <td>Brake</td>\n",
       "      <td>0.018041</td>\n",
       "      <td>0.011801</td>\n",
       "    </tr>\n",
       "    <tr>\n",
       "      <th>10</th>\n",
       "      <td>TeamName_McLaren</td>\n",
       "      <td>0.017095</td>\n",
       "      <td>0.002388</td>\n",
       "    </tr>\n",
       "    <tr>\n",
       "      <th>11</th>\n",
       "      <td>PitstopNo</td>\n",
       "      <td>0.016563</td>\n",
       "      <td>0.016065</td>\n",
       "    </tr>\n",
       "    <tr>\n",
       "      <th>12</th>\n",
       "      <td>TeamName_AlfaRomeoRacing</td>\n",
       "      <td>0.013401</td>\n",
       "      <td>0.012223</td>\n",
       "    </tr>\n",
       "    <tr>\n",
       "      <th>13</th>\n",
       "      <td>SOFT</td>\n",
       "      <td>0.013337</td>\n",
       "      <td>0.004249</td>\n",
       "    </tr>\n",
       "    <tr>\n",
       "      <th>14</th>\n",
       "      <td>TeamName_Ferrari</td>\n",
       "      <td>0.012296</td>\n",
       "      <td>0.060412</td>\n",
       "    </tr>\n",
       "    <tr>\n",
       "      <th>15</th>\n",
       "      <td>MaxSpeed</td>\n",
       "      <td>0.011471</td>\n",
       "      <td>0.008009</td>\n",
       "    </tr>\n",
       "    <tr>\n",
       "      <th>16</th>\n",
       "      <td>MEDIUM</td>\n",
       "      <td>0.006857</td>\n",
       "      <td>0.010452</td>\n",
       "    </tr>\n",
       "    <tr>\n",
       "      <th>17</th>\n",
       "      <td>MaxThrottlePct</td>\n",
       "      <td>0.005848</td>\n",
       "      <td>0.009881</td>\n",
       "    </tr>\n",
       "    <tr>\n",
       "      <th>18</th>\n",
       "      <td>SDLapTime</td>\n",
       "      <td>0.005528</td>\n",
       "      <td>0.004128</td>\n",
       "    </tr>\n",
       "    <tr>\n",
       "      <th>19</th>\n",
       "      <td>AvgPitTime</td>\n",
       "      <td>0.004783</td>\n",
       "      <td>0.005413</td>\n",
       "    </tr>\n",
       "    <tr>\n",
       "      <th>20</th>\n",
       "      <td>MaxRPM</td>\n",
       "      <td>0.004552</td>\n",
       "      <td>0.006399</td>\n",
       "    </tr>\n",
       "    <tr>\n",
       "      <th>21</th>\n",
       "      <td>AverageSpeed</td>\n",
       "      <td>0.003892</td>\n",
       "      <td>0.008609</td>\n",
       "    </tr>\n",
       "    <tr>\n",
       "      <th>22</th>\n",
       "      <td>HARD</td>\n",
       "      <td>0.003826</td>\n",
       "      <td>0.003950</td>\n",
       "    </tr>\n",
       "    <tr>\n",
       "      <th>23</th>\n",
       "      <td>BestQualiTime</td>\n",
       "      <td>0.003791</td>\n",
       "      <td>0.004448</td>\n",
       "    </tr>\n",
       "    <tr>\n",
       "      <th>24</th>\n",
       "      <td>FLap</td>\n",
       "      <td>0.003684</td>\n",
       "      <td>0.009536</td>\n",
       "    </tr>\n",
       "    <tr>\n",
       "      <th>25</th>\n",
       "      <td>AgeAtGP</td>\n",
       "      <td>0.003333</td>\n",
       "      <td>0.007348</td>\n",
       "    </tr>\n",
       "    <tr>\n",
       "      <th>26</th>\n",
       "      <td>AverageThrottle</td>\n",
       "      <td>0.002909</td>\n",
       "      <td>0.004442</td>\n",
       "    </tr>\n",
       "    <tr>\n",
       "      <th>27</th>\n",
       "      <td>CircuitType_street</td>\n",
       "      <td>0.001484</td>\n",
       "      <td>0.003059</td>\n",
       "    </tr>\n",
       "    <tr>\n",
       "      <th>28</th>\n",
       "      <td>TeamName_Renault</td>\n",
       "      <td>0.000630</td>\n",
       "      <td>0.000000</td>\n",
       "    </tr>\n",
       "    <tr>\n",
       "      <th>29</th>\n",
       "      <td>Engine_Mercedes</td>\n",
       "      <td>0.000629</td>\n",
       "      <td>0.007417</td>\n",
       "    </tr>\n",
       "    <tr>\n",
       "      <th>30</th>\n",
       "      <td>Engine_Honda</td>\n",
       "      <td>0.000268</td>\n",
       "      <td>0.006370</td>\n",
       "    </tr>\n",
       "    <tr>\n",
       "      <th>31</th>\n",
       "      <td>TeamName_Williams</td>\n",
       "      <td>0.000214</td>\n",
       "      <td>0.008059</td>\n",
       "    </tr>\n",
       "    <tr>\n",
       "      <th>32</th>\n",
       "      <td>Rain</td>\n",
       "      <td>0.000187</td>\n",
       "      <td>0.000000</td>\n",
       "    </tr>\n",
       "    <tr>\n",
       "      <th>33</th>\n",
       "      <td>TeamName_ToroRosso</td>\n",
       "      <td>0.000147</td>\n",
       "      <td>0.000000</td>\n",
       "    </tr>\n",
       "    <tr>\n",
       "      <th>34</th>\n",
       "      <td>TeamName_AlphaTauri</td>\n",
       "      <td>0.000090</td>\n",
       "      <td>0.021501</td>\n",
       "    </tr>\n",
       "    <tr>\n",
       "      <th>35</th>\n",
       "      <td>WET</td>\n",
       "      <td>0.000042</td>\n",
       "      <td>0.000009</td>\n",
       "    </tr>\n",
       "    <tr>\n",
       "      <th>36</th>\n",
       "      <td>TeamName_AstonMartin</td>\n",
       "      <td>0.000000</td>\n",
       "      <td>0.000261</td>\n",
       "    </tr>\n",
       "    <tr>\n",
       "      <th>37</th>\n",
       "      <td>TeamName_Alpine</td>\n",
       "      <td>0.000000</td>\n",
       "      <td>0.010399</td>\n",
       "    </tr>\n",
       "    <tr>\n",
       "      <th>38</th>\n",
       "      <td>Engine_RedBull</td>\n",
       "      <td>0.000000</td>\n",
       "      <td>0.041010</td>\n",
       "    </tr>\n",
       "  </tbody>\n",
       "</table>\n",
       "</div>"
      ],
      "text/plain": [
       "                     Feature  Importance_x  Importance_y\n",
       "0                   carIssue      0.292619      0.387701\n",
       "1                driverIssue      0.265181      0.011037\n",
       "2               GridPosition      0.067130      0.058019\n",
       "3     TeamName_RedBullRacing      0.053025      0.148407\n",
       "4          TeamName_Mercedes      0.044983      0.102272\n",
       "5        TeamName_HaasF1Team      0.040312      0.000236\n",
       "6               INTERMEDIATE      0.035969      0.004489\n",
       "7       TeamName_RacingPoint      0.023159      0.000000\n",
       "8             Engine_Renault      0.022722      0.000000\n",
       "9                      Brake      0.018041      0.011801\n",
       "10          TeamName_McLaren      0.017095      0.002388\n",
       "11                 PitstopNo      0.016563      0.016065\n",
       "12  TeamName_AlfaRomeoRacing      0.013401      0.012223\n",
       "13                      SOFT      0.013337      0.004249\n",
       "14          TeamName_Ferrari      0.012296      0.060412\n",
       "15                  MaxSpeed      0.011471      0.008009\n",
       "16                    MEDIUM      0.006857      0.010452\n",
       "17            MaxThrottlePct      0.005848      0.009881\n",
       "18                 SDLapTime      0.005528      0.004128\n",
       "19                AvgPitTime      0.004783      0.005413\n",
       "20                    MaxRPM      0.004552      0.006399\n",
       "21              AverageSpeed      0.003892      0.008609\n",
       "22                      HARD      0.003826      0.003950\n",
       "23             BestQualiTime      0.003791      0.004448\n",
       "24                      FLap      0.003684      0.009536\n",
       "25                   AgeAtGP      0.003333      0.007348\n",
       "26           AverageThrottle      0.002909      0.004442\n",
       "27        CircuitType_street      0.001484      0.003059\n",
       "28          TeamName_Renault      0.000630      0.000000\n",
       "29           Engine_Mercedes      0.000629      0.007417\n",
       "30              Engine_Honda      0.000268      0.006370\n",
       "31         TeamName_Williams      0.000214      0.008059\n",
       "32                      Rain      0.000187      0.000000\n",
       "33        TeamName_ToroRosso      0.000147      0.000000\n",
       "34       TeamName_AlphaTauri      0.000090      0.021501\n",
       "35                       WET      0.000042      0.000009\n",
       "36      TeamName_AstonMartin      0.000000      0.000261\n",
       "37           TeamName_Alpine      0.000000      0.010399\n",
       "38            Engine_RedBull      0.000000      0.041010"
      ]
     },
     "execution_count": 50,
     "metadata": {},
     "output_type": "execute_result"
    }
   ],
   "source": [
    "importance = pd.merge(importance_df_before, importance_df_after, on=\"Feature\")\n",
    "importance"
   ]
  }
 ],
 "metadata": {
  "kernelspec": {
   "display_name": "base",
   "language": "python",
   "name": "python3"
  },
  "language_info": {
   "codemirror_mode": {
    "name": "ipython",
    "version": 3
   },
   "file_extension": ".py",
   "mimetype": "text/x-python",
   "name": "python",
   "nbconvert_exporter": "python",
   "pygments_lexer": "ipython3",
   "version": "3.9.13"
  },
  "orig_nbformat": 4,
  "vscode": {
   "interpreter": {
    "hash": "5735bfa344102866903967fdbfb95794eb353dada4cd8a6f59858b1fed696402"
   }
  }
 },
 "nbformat": 4,
 "nbformat_minor": 2
}
