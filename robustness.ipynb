{
 "cells": [
  {
   "cell_type": "code",
   "execution_count": 1,
   "metadata": {},
   "outputs": [],
   "source": [
    "import pandas as pd\n",
    "from sklearn.model_selection import train_test_split\n",
    "\n",
    "from sklearn.model_selection import GridSearchCV\n",
    "from sklearn.utils import resample\n",
    "from sklearn.compose import ColumnTransformer\n",
    "from sklearn.decomposition import PCA\n",
    "import seaborn as sns\n",
    "import numpy as np\n",
    "import pickle\n",
    "from sklearn.ensemble import RandomForestRegressor\n",
    "\n",
    "from sklearn.linear_model import LinearRegression\n",
    "\n",
    "import matplotlib.pyplot as plt\n",
    "from imblearn.over_sampling import SMOTE\n",
    "from imblearn.pipeline import Pipeline\n",
    "from sklearn.preprocessing import StandardScaler\n",
    "from sklearn.linear_model import LogisticRegression\n",
    "from sklearn.ensemble import RandomForestClassifier\n",
    "from sklearn.decomposition import FactorAnalysis\n",
    "from factor_analyzer import FactorAnalyzer\n",
    "\n",
    "from sklearn.ensemble import GradientBoostingClassifier\n",
    "from sklearn.metrics import roc_auc_score\n",
    "\n",
    "%matplotlib inline\n",
    "\n",
    "from sklearn.preprocessing import OneHotEncoder\n",
    "import lightgbm as lgb\n",
    "from lightgbm import LGBMClassifier \n",
    "\n",
    "from sklearn.utils import class_weight\n",
    "from imblearn.over_sampling import SMOTE\n",
    "from imblearn.under_sampling import RandomUnderSampler\n",
    "from sklearn.decomposition import TruncatedSVD\n",
    "\n",
    "import plotly.express as px\n",
    "import plotly.graph_objs as go\n",
    "import statsmodels.formula.api as smf\n",
    "from plotly.graph_objects import Layout"
   ]
  },
  {
   "attachments": {},
   "cell_type": "markdown",
   "metadata": {},
   "source": [
    "Import the dataset and do the required pre-processing"
   ]
  },
  {
   "cell_type": "code",
   "execution_count": 2,
   "metadata": {},
   "outputs": [],
   "source": [
    "df = pd.read_csv(\"mergedData.csv\")"
   ]
  },
  {
   "cell_type": "code",
   "execution_count": 3,
   "metadata": {},
   "outputs": [],
   "source": [
    "df = df.drop(\"Unnamed: 0\", axis = 1)"
   ]
  },
  {
   "cell_type": "code",
   "execution_count": 4,
   "metadata": {},
   "outputs": [],
   "source": [
    "# Change the outcome varibale and drop Position instead of Points\n",
    "df = df.drop([\"DriverNumber\", \"Driver\", \"Position\"], axis = 1)\n",
    "aux = df"
   ]
  },
  {
   "cell_type": "code",
   "execution_count": 5,
   "metadata": {},
   "outputs": [],
   "source": [
    "# create new columns based on Status values\n",
    "df['carIssue'] = (df['Status'] == 'carIssue').astype(int)\n",
    "df['driverIssue'] = (df['Status'] == 'driverIssue').astype(int)\n",
    "df = df.drop('Status', axis=1)"
   ]
  },
  {
   "cell_type": "code",
   "execution_count": 6,
   "metadata": {},
   "outputs": [],
   "source": [
    "#df['after_2020'] = df['Year'].apply(lambda x: 1 if x > 2020 else 0)"
   ]
  },
  {
   "cell_type": "code",
   "execution_count": 7,
   "metadata": {},
   "outputs": [],
   "source": [
    "df = df.drop([\"AverageRPM\"], axis = 1)\n",
    "df = df.drop([\"AvgLapTime\"], axis = 1)\n",
    "df = df.drop([\"AvgSplitTime\"], axis = 1)"
   ]
  },
  {
   "cell_type": "code",
   "execution_count": 8,
   "metadata": {},
   "outputs": [],
   "source": [
    "df[\"RaceCountry\"] = df[\"RaceCountry\"].str.replace(\" \", \"\")\n",
    "df[\"TeamName\"] = df[\"TeamName\"].str.replace(\" \", \"\")\n",
    "df[\"Engine\"] = df[\"Engine\"].str.replace(\" \", \"\")"
   ]
  },
  {
   "cell_type": "code",
   "execution_count": 9,
   "metadata": {},
   "outputs": [],
   "source": [
    "#df.to_csv(r'plotdata_position.csv', index=True, header=True)"
   ]
  },
  {
   "cell_type": "code",
   "execution_count": 10,
   "metadata": {},
   "outputs": [],
   "source": [
    "# get a list of all categorical variables except \"Abbreviation\" and \"raceCountry\"\n",
    "cat_vars = df.select_dtypes(include=['object']).columns.tolist()\n",
    "cat_vars.remove(\"Abbreviation\")\n",
    "cat_vars.remove(\"RaceCountry\")\n",
    "\n",
    "# create dummy variables\n",
    "dummies = pd.get_dummies(df[cat_vars], drop_first=True)\n",
    "\n",
    "# drop the original categorical variables from the DataFrame\n",
    "df = df.drop(cat_vars, axis=1)\n",
    "\n",
    "# concatenate the dummy variables with the remaining variables in the DataFrame\n",
    "df = pd.concat([df, dummies], axis=1)\n"
   ]
  },
  {
   "cell_type": "code",
   "execution_count": 12,
   "metadata": {},
   "outputs": [],
   "source": [
    "# Split the data into two datasets based on the Year column\n",
    "df_before = df[df['Year'].isin([2019, 2020])]\n",
    "df_after = df[df['Year'].isin([2021, 2022])]"
   ]
  },
  {
   "attachments": {},
   "cell_type": "markdown",
   "metadata": {},
   "source": [
    "## MERF"
   ]
  },
  {
   "cell_type": "code",
   "execution_count": 13,
   "metadata": {},
   "outputs": [],
   "source": [
    "from merf import MERF"
   ]
  },
  {
   "attachments": {},
   "cell_type": "markdown",
   "metadata": {},
   "source": [
    "## Before model"
   ]
  },
  {
   "attachments": {},
   "cell_type": "markdown",
   "metadata": {},
   "source": [
    "## Train"
   ]
  },
  {
   "cell_type": "code",
   "execution_count": 17,
   "metadata": {},
   "outputs": [],
   "source": [
    "# Split the data into train and test sets based on the raceID column\n",
    "train_df = df_before[(df_before['raceID'] >= 1) & (df_before['raceID'] <= 29)]\n",
    "test_df = df_before[(df_before['raceID'] >= 30) & (df_before['raceID'] <= 37)]"
   ]
  },
  {
   "cell_type": "code",
   "execution_count": 18,
   "metadata": {},
   "outputs": [],
   "source": [
    "X_train = train_df.drop('Points', axis=1)\n",
    "Y_train = train_df['Points']\n",
    "X_test = test_df.drop('Points', axis=1)\n",
    "Y_test = test_df['Points']"
   ]
  },
  {
   "cell_type": "code",
   "execution_count": 19,
   "metadata": {},
   "outputs": [],
   "source": [
    "X_train = X_train.drop('RaceCountry', axis=1)\n",
    "X_train = X_train.drop('Year', axis=1)\n",
    "X_test = X_test.drop('RaceCountry', axis=1)\n",
    "X_test = X_test.drop('Year', axis=1)"
   ]
  },
  {
   "cell_type": "code",
   "execution_count": 20,
   "metadata": {},
   "outputs": [],
   "source": [
    "x_train = X_train.drop(['Abbreviation', 'raceID'], axis = 1)\n",
    "Z_train = X_train[['raceID']]\n",
    "clusters_train = X_train['raceID']"
   ]
  },
  {
   "cell_type": "code",
   "execution_count": 21,
   "metadata": {},
   "outputs": [
    {
     "name": "stderr",
     "output_type": "stream",
     "text": [
      "INFO     [merf.py:307] Training GLL is -1861.5024129543822 at iteration 1.\n",
      "INFO     [merf.py:307] Training GLL is -3616.8404700081323 at iteration 2.\n",
      "INFO     [merf.py:307] Training GLL is -4783.513279148445 at iteration 3.\n",
      "INFO     [merf.py:307] Training GLL is -5870.646730385381 at iteration 4.\n",
      "INFO     [merf.py:307] Training GLL is -5718.31015906151 at iteration 5.\n",
      "INFO     [merf.py:307] Training GLL is -6037.305205687128 at iteration 6.\n",
      "INFO     [merf.py:307] Training GLL is -5506.0883684281225 at iteration 7.\n",
      "INFO     [merf.py:307] Training GLL is -5230.206236134884 at iteration 8.\n",
      "INFO     [merf.py:307] Training GLL is -5460.877950088498 at iteration 9.\n",
      "INFO     [merf.py:307] Training GLL is -5558.955313751267 at iteration 10.\n",
      "INFO     [merf.py:307] Training GLL is -5321.082012432609 at iteration 11.\n",
      "INFO     [merf.py:307] Training GLL is -5449.56085553815 at iteration 12.\n",
      "INFO     [merf.py:307] Training GLL is -5394.182222631165 at iteration 13.\n",
      "INFO     [merf.py:307] Training GLL is -5090.015780484072 at iteration 14.\n",
      "INFO     [merf.py:307] Training GLL is -5507.5194156784655 at iteration 15.\n",
      "INFO     [merf.py:307] Training GLL is -5253.671956565806 at iteration 16.\n",
      "INFO     [merf.py:307] Training GLL is -5360.063226946659 at iteration 17.\n",
      "INFO     [merf.py:307] Training GLL is -6063.185180774621 at iteration 18.\n",
      "INFO     [merf.py:307] Training GLL is -5369.06409299476 at iteration 19.\n",
      "INFO     [merf.py:307] Training GLL is -5529.504163959413 at iteration 20.\n",
      "INFO     [merf.py:307] Training GLL is -5680.077896193947 at iteration 21.\n",
      "INFO     [merf.py:307] Training GLL is -6161.011912002132 at iteration 22.\n",
      "INFO     [merf.py:307] Training GLL is -5344.533942691719 at iteration 23.\n",
      "INFO     [merf.py:307] Training GLL is -5525.818195980133 at iteration 24.\n",
      "INFO     [merf.py:307] Training GLL is -5667.248669086046 at iteration 25.\n",
      "INFO     [merf.py:307] Training GLL is -6134.377645738167 at iteration 26.\n",
      "INFO     [merf.py:307] Training GLL is -5511.258831517071 at iteration 27.\n",
      "INFO     [merf.py:307] Training GLL is -5571.086622412112 at iteration 28.\n",
      "INFO     [merf.py:307] Training GLL is -5615.733115378698 at iteration 29.\n",
      "INFO     [merf.py:307] Training GLL is -5597.471538721375 at iteration 30.\n"
     ]
    },
    {
     "data": {
      "text/plain": [
       "<merf.merf.MERF at 0x7fe02a6da220>"
      ]
     },
     "execution_count": 21,
     "metadata": {},
     "output_type": "execute_result"
    }
   ],
   "source": [
    "import xgboost as xgb\n",
    "\n",
    "xgb_model = xgb.XGBRegressor(objective='reg:squarederror', max_depth=8, learning_rate=0.08, n_estimators=300)\n",
    "\n",
    "mrf = MERF(fixed_effects_model=xgb_model, max_iterations=30)\n",
    "mrf.fit(x_train, Z_train, clusters_train, Y_train)"
   ]
  },
  {
   "cell_type": "code",
   "execution_count": 22,
   "metadata": {},
   "outputs": [],
   "source": [
    "#regressor = mrf.fit(x_train, Z_train, clusters_train, Y_train)"
   ]
  },
  {
   "cell_type": "code",
   "execution_count": 23,
   "metadata": {},
   "outputs": [],
   "source": [
    "train_preds = mrf.predict(x_train, Z_train, clusters_train)"
   ]
  },
  {
   "cell_type": "code",
   "execution_count": 24,
   "metadata": {},
   "outputs": [
    {
     "name": "stdout",
     "output_type": "stream",
     "text": [
      "Test MSE: 4.012061644473455e-05\n",
      "Test RMSE: 0.006334083709956362\n",
      "Test MAE: 0.004248404697208776\n",
      "Test R-squared: 0.9999992284592496\n"
     ]
    }
   ],
   "source": [
    "from sklearn.metrics import mean_squared_error, mean_absolute_error, r2_score\n",
    "\n",
    "mse = mean_squared_error(Y_train, train_preds)\n",
    "rmse = np.sqrt(mse)\n",
    "mae = mean_absolute_error(Y_train, train_preds)\n",
    "r2 = r2_score(Y_train, train_preds)\n",
    "\n",
    "# Print the performance metrics\n",
    "print(\"Test MSE:\", mse)\n",
    "print(\"Test RMSE:\", rmse)\n",
    "print(\"Test MAE:\", mae)\n",
    "print(\"Test R-squared:\", r2)\n"
   ]
  },
  {
   "attachments": {},
   "cell_type": "markdown",
   "metadata": {},
   "source": [
    "## Test"
   ]
  },
  {
   "cell_type": "code",
   "execution_count": 25,
   "metadata": {},
   "outputs": [],
   "source": [
    "x_test = X_test.drop(['Abbreviation', 'raceID'], axis = 1)\n",
    "Z_test = X_test[['raceID']]\n",
    "clusters_test = X_test['raceID']"
   ]
  },
  {
   "cell_type": "code",
   "execution_count": 27,
   "metadata": {},
   "outputs": [],
   "source": [
    "y_pred = mrf.predict(x_test, Z_test, clusters_test)"
   ]
  },
  {
   "cell_type": "code",
   "execution_count": 28,
   "metadata": {},
   "outputs": [
    {
     "name": "stdout",
     "output_type": "stream",
     "text": [
      "Test MSE: 22.223789884044084\n",
      "Test RMSE: 4.7142114806236775\n",
      "Test MAE: 3.01737275980292\n",
      "Test R-squared: 0.5760407140938191\n"
     ]
    }
   ],
   "source": [
    "mse = mean_squared_error(Y_test, y_pred)\n",
    "rmse = np.sqrt(mse)\n",
    "mae = mean_absolute_error(Y_test, y_pred)\n",
    "r2 = r2_score(Y_test, y_pred)\n",
    "\n",
    "# Print the performance metrics\n",
    "print(\"Test MSE:\", mse)\n",
    "print(\"Test RMSE:\", rmse)\n",
    "print(\"Test MAE:\", mae)\n",
    "print(\"Test R-squared:\", r2)\n"
   ]
  },
  {
   "cell_type": "code",
   "execution_count": 31,
   "metadata": {},
   "outputs": [
    {
     "name": "stdout",
     "output_type": "stream",
     "text": [
      "                     Feature  Importance\n",
      "0                   carIssue    0.292619\n",
      "1                driverIssue    0.265181\n",
      "2               GridPosition    0.067130\n",
      "3     TeamName_RedBullRacing    0.053025\n",
      "4          TeamName_Mercedes    0.044983\n",
      "5        TeamName_HaasF1Team    0.040312\n",
      "6               INTERMEDIATE    0.035969\n",
      "7       TeamName_RacingPoint    0.023159\n",
      "8             Engine_Renault    0.022722\n",
      "9                      Brake    0.018041\n",
      "10          TeamName_McLaren    0.017095\n",
      "11                 PitstopNo    0.016563\n",
      "12  TeamName_AlfaRomeoRacing    0.013401\n",
      "13                      SOFT    0.013337\n",
      "14          TeamName_Ferrari    0.012296\n",
      "15                  MaxSpeed    0.011471\n",
      "16                    MEDIUM    0.006857\n",
      "17            MaxThrottlePct    0.005848\n",
      "18                 SDLapTime    0.005528\n",
      "19                AvgPitTime    0.004783\n",
      "20                    MaxRPM    0.004552\n",
      "21              AverageSpeed    0.003892\n",
      "22                      HARD    0.003826\n",
      "23             BestQualiTime    0.003791\n",
      "24                      FLap    0.003684\n",
      "25                   AgeAtGP    0.003333\n",
      "26           AverageThrottle    0.002909\n",
      "27        CircuitType_street    0.001484\n",
      "28          TeamName_Renault    0.000630\n",
      "29           Engine_Mercedes    0.000629\n",
      "30              Engine_Honda    0.000268\n",
      "31         TeamName_Williams    0.000214\n",
      "32                      Rain    0.000187\n",
      "33        TeamName_ToroRosso    0.000147\n",
      "34       TeamName_AlphaTauri    0.000090\n",
      "35                       WET    0.000042\n",
      "36      TeamName_AstonMartin    0.000000\n",
      "37           TeamName_Alpine    0.000000\n",
      "38            Engine_RedBull    0.000000\n"
     ]
    }
   ],
   "source": [
    "# Get feature importances\n",
    "importance = mrf.trained_fe_model.feature_importances_\n",
    "\n",
    "importance_df_before = pd.DataFrame({'Feature': x_train.columns, 'Importance': importance})\n",
    "\n",
    "importance_df_before = importance_df_before.sort_values('Importance', ascending=False).reset_index(drop=True)\n",
    "print(importance_df_before)"
   ]
  },
  {
   "attachments": {},
   "cell_type": "markdown",
   "metadata": {},
   "source": [
    "## After model"
   ]
  },
  {
   "attachments": {},
   "cell_type": "markdown",
   "metadata": {},
   "source": [
    "## Train"
   ]
  },
  {
   "cell_type": "code",
   "execution_count": 34,
   "metadata": {},
   "outputs": [],
   "source": [
    "# Split the data into train and test sets based on the raceID column\n",
    "train_df = df_after[(df_after['raceID'] >= 38) & (df_after['raceID'] <= 72)]\n",
    "test_df = df_after[(df_after['raceID'] >= 73) & (df_after['raceID'] <= 80)]"
   ]
  },
  {
   "cell_type": "code",
   "execution_count": 35,
   "metadata": {},
   "outputs": [],
   "source": [
    "X_train = train_df.drop('Points', axis=1)\n",
    "Y_train = train_df['Points']\n",
    "X_test = test_df.drop('Points', axis=1)\n",
    "Y_test = test_df['Points']"
   ]
  },
  {
   "cell_type": "code",
   "execution_count": 36,
   "metadata": {},
   "outputs": [],
   "source": [
    "X_train = X_train.drop('RaceCountry', axis=1)\n",
    "X_train = X_train.drop('Year', axis=1)\n",
    "X_test = X_test.drop('RaceCountry', axis=1)\n",
    "X_test = X_test.drop('Year', axis=1)"
   ]
  },
  {
   "cell_type": "code",
   "execution_count": 37,
   "metadata": {},
   "outputs": [],
   "source": [
    "x_train = X_train.drop(['Abbreviation', 'raceID'], axis = 1)\n",
    "Z_train = X_train[['raceID']]\n",
    "clusters_train = X_train['raceID']"
   ]
  },
  {
   "cell_type": "code",
   "execution_count": 38,
   "metadata": {},
   "outputs": [
    {
     "name": "stderr",
     "output_type": "stream",
     "text": [
      "INFO     [merf.py:307] Training GLL is -2347.464631674962 at iteration 1.\n",
      "INFO     [merf.py:307] Training GLL is -4375.735160031037 at iteration 2.\n",
      "INFO     [merf.py:307] Training GLL is -5269.977615079012 at iteration 3.\n",
      "INFO     [merf.py:307] Training GLL is -5455.436100938193 at iteration 4.\n",
      "INFO     [merf.py:307] Training GLL is -5347.266894456135 at iteration 5.\n",
      "INFO     [merf.py:307] Training GLL is -5275.112014669853 at iteration 6.\n",
      "INFO     [merf.py:307] Training GLL is -5129.744678084023 at iteration 7.\n",
      "INFO     [merf.py:307] Training GLL is -5097.595012798317 at iteration 8.\n",
      "INFO     [merf.py:307] Training GLL is -5033.559568479897 at iteration 9.\n",
      "INFO     [merf.py:307] Training GLL is -5437.538234341727 at iteration 10.\n",
      "INFO     [merf.py:307] Training GLL is -5293.973506286812 at iteration 11.\n",
      "INFO     [merf.py:307] Training GLL is -5286.794836054401 at iteration 12.\n",
      "INFO     [merf.py:307] Training GLL is -5916.858921943049 at iteration 13.\n",
      "INFO     [merf.py:307] Training GLL is -5290.406854554315 at iteration 14.\n",
      "INFO     [merf.py:307] Training GLL is -4899.145105113517 at iteration 15.\n",
      "INFO     [merf.py:307] Training GLL is -5360.360036811571 at iteration 16.\n",
      "INFO     [merf.py:307] Training GLL is -5496.141629012205 at iteration 17.\n",
      "INFO     [merf.py:307] Training GLL is -5400.045125192447 at iteration 18.\n",
      "INFO     [merf.py:307] Training GLL is -5542.835993016078 at iteration 19.\n",
      "INFO     [merf.py:307] Training GLL is -5626.110968220062 at iteration 20.\n",
      "INFO     [merf.py:307] Training GLL is -5396.181775321451 at iteration 21.\n",
      "INFO     [merf.py:307] Training GLL is -5083.873726746137 at iteration 22.\n",
      "INFO     [merf.py:307] Training GLL is -5238.5848340072225 at iteration 23.\n",
      "INFO     [merf.py:307] Training GLL is -5265.228318599821 at iteration 24.\n",
      "INFO     [merf.py:307] Training GLL is -5367.732333702008 at iteration 25.\n",
      "INFO     [merf.py:307] Training GLL is -5071.609084717307 at iteration 26.\n",
      "INFO     [merf.py:307] Training GLL is -5433.9361324983665 at iteration 27.\n",
      "INFO     [merf.py:307] Training GLL is -5586.186900150501 at iteration 28.\n",
      "INFO     [merf.py:307] Training GLL is -5208.508912524762 at iteration 29.\n",
      "INFO     [merf.py:307] Training GLL is -5110.226402414073 at iteration 30.\n"
     ]
    },
    {
     "data": {
      "text/plain": [
       "<merf.merf.MERF at 0x7fe02a6da220>"
      ]
     },
     "execution_count": 38,
     "metadata": {},
     "output_type": "execute_result"
    }
   ],
   "source": [
    "mrf.fit(x_train, Z_train, clusters_train, Y_train)"
   ]
  },
  {
   "cell_type": "code",
   "execution_count": 39,
   "metadata": {},
   "outputs": [],
   "source": [
    "train_preds = mrf.predict(x_train, Z_train, clusters_train)"
   ]
  },
  {
   "cell_type": "code",
   "execution_count": 40,
   "metadata": {},
   "outputs": [
    {
     "name": "stdout",
     "output_type": "stream",
     "text": [
      "Test MSE: 0.00038119542615666185\n",
      "Test RMSE: 0.019524226646826806\n",
      "Test MAE: 0.012267921363843979\n",
      "Test R-squared: 0.9999927536288657\n"
     ]
    }
   ],
   "source": [
    "from sklearn.metrics import mean_squared_error, mean_absolute_error, r2_score\n",
    "\n",
    "mse = mean_squared_error(Y_train, train_preds)\n",
    "rmse = np.sqrt(mse)\n",
    "mae = mean_absolute_error(Y_train, train_preds)\n",
    "r2 = r2_score(Y_train, train_preds)\n",
    "\n",
    "# Print the performance metrics\n",
    "print(\"Test MSE:\", mse)\n",
    "print(\"Test RMSE:\", rmse)\n",
    "print(\"Test MAE:\", mae)\n",
    "print(\"Test R-squared:\", r2)"
   ]
  },
  {
   "attachments": {},
   "cell_type": "markdown",
   "metadata": {},
   "source": [
    "## Test"
   ]
  },
  {
   "cell_type": "code",
   "execution_count": 41,
   "metadata": {},
   "outputs": [],
   "source": [
    "x_test = X_test.drop(['Abbreviation', 'raceID'], axis = 1)\n",
    "Z_test = X_test[['raceID']]\n",
    "clusters_test = X_test['raceID']"
   ]
  },
  {
   "cell_type": "code",
   "execution_count": 42,
   "metadata": {},
   "outputs": [],
   "source": [
    "y_pred = mrf.predict(x_test, Z_test, clusters_test)"
   ]
  },
  {
   "cell_type": "code",
   "execution_count": 43,
   "metadata": {},
   "outputs": [
    {
     "name": "stdout",
     "output_type": "stream",
     "text": [
      "Test MSE: 14.233136537110266\n",
      "Test RMSE: 3.7726829362020693\n",
      "Test MAE: 2.4835178769043376\n",
      "Test R-squared: 0.7276366429649525\n"
     ]
    }
   ],
   "source": [
    "from sklearn.metrics import mean_squared_error, mean_absolute_error, r2_score\n",
    "\n",
    "mse = mean_squared_error(Y_test, y_pred)\n",
    "rmse = np.sqrt(mse)\n",
    "mae = mean_absolute_error(Y_test, y_pred)\n",
    "r2 = r2_score(Y_test, y_pred)\n",
    "\n",
    "# Print the performance metrics\n",
    "print(\"Test MSE:\", mse)\n",
    "print(\"Test RMSE:\", rmse)\n",
    "print(\"Test MAE:\", mae)\n",
    "print(\"Test R-squared:\", r2)\n"
   ]
  },
  {
   "cell_type": "code",
   "execution_count": 49,
   "metadata": {},
   "outputs": [
    {
     "name": "stdout",
     "output_type": "stream",
     "text": [
      "                     Feature  Importance\n",
      "0                   carIssue    0.387701\n",
      "1     TeamName_RedBullRacing    0.148407\n",
      "2          TeamName_Mercedes    0.102272\n",
      "3           TeamName_Ferrari    0.060412\n",
      "4               GridPosition    0.058019\n",
      "5             Engine_RedBull    0.041010\n",
      "6        TeamName_AlphaTauri    0.021501\n",
      "7                  PitstopNo    0.016065\n",
      "8   TeamName_AlfaRomeoRacing    0.012223\n",
      "9                      Brake    0.011801\n",
      "10               driverIssue    0.011037\n",
      "11                    MEDIUM    0.010452\n",
      "12           TeamName_Alpine    0.010399\n",
      "13            MaxThrottlePct    0.009881\n",
      "14                      FLap    0.009536\n",
      "15              AverageSpeed    0.008609\n",
      "16         TeamName_Williams    0.008059\n",
      "17                  MaxSpeed    0.008009\n",
      "18           Engine_Mercedes    0.007417\n",
      "19                   AgeAtGP    0.007348\n",
      "20                    MaxRPM    0.006399\n",
      "21              Engine_Honda    0.006370\n",
      "22                AvgPitTime    0.005413\n",
      "23              INTERMEDIATE    0.004489\n",
      "24             BestQualiTime    0.004448\n",
      "25           AverageThrottle    0.004442\n",
      "26                      SOFT    0.004249\n",
      "27                 SDLapTime    0.004128\n",
      "28                      HARD    0.003950\n",
      "29        CircuitType_street    0.003059\n",
      "30          TeamName_McLaren    0.002388\n",
      "31      TeamName_AstonMartin    0.000261\n",
      "32       TeamName_HaasF1Team    0.000236\n",
      "33                       WET    0.000009\n",
      "34                      Rain    0.000000\n",
      "35      TeamName_RacingPoint    0.000000\n",
      "36          TeamName_Renault    0.000000\n",
      "37        TeamName_ToroRosso    0.000000\n",
      "38            Engine_Renault    0.000000\n"
     ]
    }
   ],
   "source": [
    "# Get feature importances\n",
    "importance = mrf.trained_fe_model.feature_importances_\n",
    "importance_df_after = pd.DataFrame({'Feature': x_train.columns, 'Importance': importance})\n",
    "importance_df_after = importance_df_after.sort_values('Importance', ascending=False).reset_index(drop=True)\n",
    "print(importance_df_after)\n"
   ]
  },
  {
   "cell_type": "code",
   "execution_count": 50,
   "metadata": {},
   "outputs": [
    {
     "data": {
      "text/html": [
       "<div>\n",
       "<style scoped>\n",
       "    .dataframe tbody tr th:only-of-type {\n",
       "        vertical-align: middle;\n",
       "    }\n",
       "\n",
       "    .dataframe tbody tr th {\n",
       "        vertical-align: top;\n",
       "    }\n",
       "\n",
       "    .dataframe thead th {\n",
       "        text-align: right;\n",
       "    }\n",
       "</style>\n",
       "<table border=\"1\" class=\"dataframe\">\n",
       "  <thead>\n",
       "    <tr style=\"text-align: right;\">\n",
       "      <th></th>\n",
       "      <th>Feature</th>\n",
       "      <th>Importance_x</th>\n",
       "      <th>Importance_y</th>\n",
       "    </tr>\n",
       "  </thead>\n",
       "  <tbody>\n",
       "    <tr>\n",
       "      <th>0</th>\n",
       "      <td>carIssue</td>\n",
       "      <td>0.292619</td>\n",
       "      <td>0.387701</td>\n",
       "    </tr>\n",
       "    <tr>\n",
       "      <th>1</th>\n",
       "      <td>driverIssue</td>\n",
       "      <td>0.265181</td>\n",
       "      <td>0.011037</td>\n",
       "    </tr>\n",
       "    <tr>\n",
       "      <th>2</th>\n",
       "      <td>GridPosition</td>\n",
       "      <td>0.067130</td>\n",
       "      <td>0.058019</td>\n",
       "    </tr>\n",
       "    <tr>\n",
       "      <th>3</th>\n",
       "      <td>TeamName_RedBullRacing</td>\n",
       "      <td>0.053025</td>\n",
       "      <td>0.148407</td>\n",
       "    </tr>\n",
       "    <tr>\n",
       "      <th>4</th>\n",
       "      <td>TeamName_Mercedes</td>\n",
       "      <td>0.044983</td>\n",
       "      <td>0.102272</td>\n",
       "    </tr>\n",
       "    <tr>\n",
       "      <th>5</th>\n",
       "      <td>TeamName_HaasF1Team</td>\n",
       "      <td>0.040312</td>\n",
       "      <td>0.000236</td>\n",
       "    </tr>\n",
       "    <tr>\n",
       "      <th>6</th>\n",
       "      <td>INTERMEDIATE</td>\n",
       "      <td>0.035969</td>\n",
       "      <td>0.004489</td>\n",
       "    </tr>\n",
       "    <tr>\n",
       "      <th>7</th>\n",
       "      <td>TeamName_RacingPoint</td>\n",
       "      <td>0.023159</td>\n",
       "      <td>0.000000</td>\n",
       "    </tr>\n",
       "    <tr>\n",
       "      <th>8</th>\n",
       "      <td>Engine_Renault</td>\n",
       "      <td>0.022722</td>\n",
       "      <td>0.000000</td>\n",
       "    </tr>\n",
       "    <tr>\n",
       "      <th>9</th>\n",
       "      <td>Brake</td>\n",
       "      <td>0.018041</td>\n",
       "      <td>0.011801</td>\n",
       "    </tr>\n",
       "    <tr>\n",
       "      <th>10</th>\n",
       "      <td>TeamName_McLaren</td>\n",
       "      <td>0.017095</td>\n",
       "      <td>0.002388</td>\n",
       "    </tr>\n",
       "    <tr>\n",
       "      <th>11</th>\n",
       "      <td>PitstopNo</td>\n",
       "      <td>0.016563</td>\n",
       "      <td>0.016065</td>\n",
       "    </tr>\n",
       "    <tr>\n",
       "      <th>12</th>\n",
       "      <td>TeamName_AlfaRomeoRacing</td>\n",
       "      <td>0.013401</td>\n",
       "      <td>0.012223</td>\n",
       "    </tr>\n",
       "    <tr>\n",
       "      <th>13</th>\n",
       "      <td>SOFT</td>\n",
       "      <td>0.013337</td>\n",
       "      <td>0.004249</td>\n",
       "    </tr>\n",
       "    <tr>\n",
       "      <th>14</th>\n",
       "      <td>TeamName_Ferrari</td>\n",
       "      <td>0.012296</td>\n",
       "      <td>0.060412</td>\n",
       "    </tr>\n",
       "    <tr>\n",
       "      <th>15</th>\n",
       "      <td>MaxSpeed</td>\n",
       "      <td>0.011471</td>\n",
       "      <td>0.008009</td>\n",
       "    </tr>\n",
       "    <tr>\n",
       "      <th>16</th>\n",
       "      <td>MEDIUM</td>\n",
       "      <td>0.006857</td>\n",
       "      <td>0.010452</td>\n",
       "    </tr>\n",
       "    <tr>\n",
       "      <th>17</th>\n",
       "      <td>MaxThrottlePct</td>\n",
       "      <td>0.005848</td>\n",
       "      <td>0.009881</td>\n",
       "    </tr>\n",
       "    <tr>\n",
       "      <th>18</th>\n",
       "      <td>SDLapTime</td>\n",
       "      <td>0.005528</td>\n",
       "      <td>0.004128</td>\n",
       "    </tr>\n",
       "    <tr>\n",
       "      <th>19</th>\n",
       "      <td>AvgPitTime</td>\n",
       "      <td>0.004783</td>\n",
       "      <td>0.005413</td>\n",
       "    </tr>\n",
       "    <tr>\n",
       "      <th>20</th>\n",
       "      <td>MaxRPM</td>\n",
       "      <td>0.004552</td>\n",
       "      <td>0.006399</td>\n",
       "    </tr>\n",
       "    <tr>\n",
       "      <th>21</th>\n",
       "      <td>AverageSpeed</td>\n",
       "      <td>0.003892</td>\n",
       "      <td>0.008609</td>\n",
       "    </tr>\n",
       "    <tr>\n",
       "      <th>22</th>\n",
       "      <td>HARD</td>\n",
       "      <td>0.003826</td>\n",
       "      <td>0.003950</td>\n",
       "    </tr>\n",
       "    <tr>\n",
       "      <th>23</th>\n",
       "      <td>BestQualiTime</td>\n",
       "      <td>0.003791</td>\n",
       "      <td>0.004448</td>\n",
       "    </tr>\n",
       "    <tr>\n",
       "      <th>24</th>\n",
       "      <td>FLap</td>\n",
       "      <td>0.003684</td>\n",
       "      <td>0.009536</td>\n",
       "    </tr>\n",
       "    <tr>\n",
       "      <th>25</th>\n",
       "      <td>AgeAtGP</td>\n",
       "      <td>0.003333</td>\n",
       "      <td>0.007348</td>\n",
       "    </tr>\n",
       "    <tr>\n",
       "      <th>26</th>\n",
       "      <td>AverageThrottle</td>\n",
       "      <td>0.002909</td>\n",
       "      <td>0.004442</td>\n",
       "    </tr>\n",
       "    <tr>\n",
       "      <th>27</th>\n",
       "      <td>CircuitType_street</td>\n",
       "      <td>0.001484</td>\n",
       "      <td>0.003059</td>\n",
       "    </tr>\n",
       "    <tr>\n",
       "      <th>28</th>\n",
       "      <td>TeamName_Renault</td>\n",
       "      <td>0.000630</td>\n",
       "      <td>0.000000</td>\n",
       "    </tr>\n",
       "    <tr>\n",
       "      <th>29</th>\n",
       "      <td>Engine_Mercedes</td>\n",
       "      <td>0.000629</td>\n",
       "      <td>0.007417</td>\n",
       "    </tr>\n",
       "    <tr>\n",
       "      <th>30</th>\n",
       "      <td>Engine_Honda</td>\n",
       "      <td>0.000268</td>\n",
       "      <td>0.006370</td>\n",
       "    </tr>\n",
       "    <tr>\n",
       "      <th>31</th>\n",
       "      <td>TeamName_Williams</td>\n",
       "      <td>0.000214</td>\n",
       "      <td>0.008059</td>\n",
       "    </tr>\n",
       "    <tr>\n",
       "      <th>32</th>\n",
       "      <td>Rain</td>\n",
       "      <td>0.000187</td>\n",
       "      <td>0.000000</td>\n",
       "    </tr>\n",
       "    <tr>\n",
       "      <th>33</th>\n",
       "      <td>TeamName_ToroRosso</td>\n",
       "      <td>0.000147</td>\n",
       "      <td>0.000000</td>\n",
       "    </tr>\n",
       "    <tr>\n",
       "      <th>34</th>\n",
       "      <td>TeamName_AlphaTauri</td>\n",
       "      <td>0.000090</td>\n",
       "      <td>0.021501</td>\n",
       "    </tr>\n",
       "    <tr>\n",
       "      <th>35</th>\n",
       "      <td>WET</td>\n",
       "      <td>0.000042</td>\n",
       "      <td>0.000009</td>\n",
       "    </tr>\n",
       "    <tr>\n",
       "      <th>36</th>\n",
       "      <td>TeamName_AstonMartin</td>\n",
       "      <td>0.000000</td>\n",
       "      <td>0.000261</td>\n",
       "    </tr>\n",
       "    <tr>\n",
       "      <th>37</th>\n",
       "      <td>TeamName_Alpine</td>\n",
       "      <td>0.000000</td>\n",
       "      <td>0.010399</td>\n",
       "    </tr>\n",
       "    <tr>\n",
       "      <th>38</th>\n",
       "      <td>Engine_RedBull</td>\n",
       "      <td>0.000000</td>\n",
       "      <td>0.041010</td>\n",
       "    </tr>\n",
       "  </tbody>\n",
       "</table>\n",
       "</div>"
      ],
      "text/plain": [
       "                     Feature  Importance_x  Importance_y\n",
       "0                   carIssue      0.292619      0.387701\n",
       "1                driverIssue      0.265181      0.011037\n",
       "2               GridPosition      0.067130      0.058019\n",
       "3     TeamName_RedBullRacing      0.053025      0.148407\n",
       "4          TeamName_Mercedes      0.044983      0.102272\n",
       "5        TeamName_HaasF1Team      0.040312      0.000236\n",
       "6               INTERMEDIATE      0.035969      0.004489\n",
       "7       TeamName_RacingPoint      0.023159      0.000000\n",
       "8             Engine_Renault      0.022722      0.000000\n",
       "9                      Brake      0.018041      0.011801\n",
       "10          TeamName_McLaren      0.017095      0.002388\n",
       "11                 PitstopNo      0.016563      0.016065\n",
       "12  TeamName_AlfaRomeoRacing      0.013401      0.012223\n",
       "13                      SOFT      0.013337      0.004249\n",
       "14          TeamName_Ferrari      0.012296      0.060412\n",
       "15                  MaxSpeed      0.011471      0.008009\n",
       "16                    MEDIUM      0.006857      0.010452\n",
       "17            MaxThrottlePct      0.005848      0.009881\n",
       "18                 SDLapTime      0.005528      0.004128\n",
       "19                AvgPitTime      0.004783      0.005413\n",
       "20                    MaxRPM      0.004552      0.006399\n",
       "21              AverageSpeed      0.003892      0.008609\n",
       "22                      HARD      0.003826      0.003950\n",
       "23             BestQualiTime      0.003791      0.004448\n",
       "24                      FLap      0.003684      0.009536\n",
       "25                   AgeAtGP      0.003333      0.007348\n",
       "26           AverageThrottle      0.002909      0.004442\n",
       "27        CircuitType_street      0.001484      0.003059\n",
       "28          TeamName_Renault      0.000630      0.000000\n",
       "29           Engine_Mercedes      0.000629      0.007417\n",
       "30              Engine_Honda      0.000268      0.006370\n",
       "31         TeamName_Williams      0.000214      0.008059\n",
       "32                      Rain      0.000187      0.000000\n",
       "33        TeamName_ToroRosso      0.000147      0.000000\n",
       "34       TeamName_AlphaTauri      0.000090      0.021501\n",
       "35                       WET      0.000042      0.000009\n",
       "36      TeamName_AstonMartin      0.000000      0.000261\n",
       "37           TeamName_Alpine      0.000000      0.010399\n",
       "38            Engine_RedBull      0.000000      0.041010"
      ]
     },
     "execution_count": 50,
     "metadata": {},
     "output_type": "execute_result"
    }
   ],
   "source": [
    "# Merge feature importances\n",
    "importance = pd.merge(importance_df_before, importance_df_after, on=\"Feature\")\n",
    "importance"
   ]
  }
 ],
 "metadata": {
  "kernelspec": {
   "display_name": "base",
   "language": "python",
   "name": "python3"
  },
  "language_info": {
   "codemirror_mode": {
    "name": "ipython",
    "version": 3
   },
   "file_extension": ".py",
   "mimetype": "text/x-python",
   "name": "python",
   "nbconvert_exporter": "python",
   "pygments_lexer": "ipython3",
   "version": "3.9.13"
  },
  "orig_nbformat": 4,
  "vscode": {
   "interpreter": {
    "hash": "5735bfa344102866903967fdbfb95794eb353dada4cd8a6f59858b1fed696402"
   }
  }
 },
 "nbformat": 4,
 "nbformat_minor": 2
}
